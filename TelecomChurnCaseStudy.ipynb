{
 "cells": [
  {
   "cell_type": "markdown",
   "metadata": {
    "id": "akjVYshWnduy"
   },
   "source": [
    "## **Business problem overview**\n",
    "\n",
    "In the telecom industry, customers are able to choose from multiple service providers and actively switch from one operator to another. In this highly competitive market, the telecommunications industry experiences an average of 15-25% annual churn rate. Given the fact that it costs 5-10 times more to acquire a new customer than to retain an existing one, customer retention has now become even more important than customer acquisition.\n",
    "\n",
    "For many incumbent operators, retaining high profitable customers is the number one business goal.\n",
    "\n",
    "To reduce customer churn, telecom companies need to predict which customers are at high risk of churn.\n",
    "\n",
    "In this project, you will analyse customer-level data of a leading telecom firm, build predictive models to identify customers at high risk of churn and identify the main indicators of churn."
   ]
  },
  {
   "cell_type": "markdown",
   "metadata": {
    "id": "MGI0qFu5ndu3"
   },
   "source": [
    "# **Data understanding and analysis**"
   ]
  },
  {
   "cell_type": "code",
   "execution_count": 1,
   "metadata": {
    "id": "ljrdzX6Yndu4"
   },
   "outputs": [],
   "source": [
    "# Importing the libraries\n",
    "import pandas as pd\n",
    "import numpy as np\n",
    "import matplotlib.pyplot as plt\n",
    "%matplotlib inline\n",
    "import seaborn as sns\n",
    "\n",
    "import warnings\n",
    "warnings.filterwarnings('ignore')"
   ]
  },
  {
   "cell_type": "code",
   "execution_count": 2,
   "metadata": {
    "colab": {
     "base_uri": "https://localhost:8080/",
     "height": 300
    },
    "id": "CSX1wSIwndu6",
    "outputId": "2fd19d68-023a-439c-81be-63d2bf2b060a"
   },
   "outputs": [
    {
     "data": {
      "text/html": [
       "<div>\n",
       "<style scoped>\n",
       "    .dataframe tbody tr th:only-of-type {\n",
       "        vertical-align: middle;\n",
       "    }\n",
       "\n",
       "    .dataframe tbody tr th {\n",
       "        vertical-align: top;\n",
       "    }\n",
       "\n",
       "    .dataframe thead th {\n",
       "        text-align: right;\n",
       "    }\n",
       "</style>\n",
       "<table border=\"1\" class=\"dataframe\">\n",
       "  <thead>\n",
       "    <tr style=\"text-align: right;\">\n",
       "      <th></th>\n",
       "      <th>mobile_number</th>\n",
       "      <th>circle_id</th>\n",
       "      <th>loc_og_t2o_mou</th>\n",
       "      <th>std_og_t2o_mou</th>\n",
       "      <th>loc_ic_t2o_mou</th>\n",
       "      <th>last_date_of_month_6</th>\n",
       "      <th>last_date_of_month_7</th>\n",
       "      <th>last_date_of_month_8</th>\n",
       "      <th>last_date_of_month_9</th>\n",
       "      <th>arpu_6</th>\n",
       "      <th>...</th>\n",
       "      <th>sachet_3g_9</th>\n",
       "      <th>fb_user_6</th>\n",
       "      <th>fb_user_7</th>\n",
       "      <th>fb_user_8</th>\n",
       "      <th>fb_user_9</th>\n",
       "      <th>aon</th>\n",
       "      <th>aug_vbc_3g</th>\n",
       "      <th>jul_vbc_3g</th>\n",
       "      <th>jun_vbc_3g</th>\n",
       "      <th>sep_vbc_3g</th>\n",
       "    </tr>\n",
       "  </thead>\n",
       "  <tbody>\n",
       "    <tr>\n",
       "      <th>0</th>\n",
       "      <td>7000842753</td>\n",
       "      <td>109</td>\n",
       "      <td>0.0</td>\n",
       "      <td>0.0</td>\n",
       "      <td>0.0</td>\n",
       "      <td>6/30/2014</td>\n",
       "      <td>7/31/2014</td>\n",
       "      <td>8/31/2014</td>\n",
       "      <td>9/30/2014</td>\n",
       "      <td>197.385</td>\n",
       "      <td>...</td>\n",
       "      <td>0</td>\n",
       "      <td>1.0</td>\n",
       "      <td>1.0</td>\n",
       "      <td>1.0</td>\n",
       "      <td>NaN</td>\n",
       "      <td>968</td>\n",
       "      <td>30.4</td>\n",
       "      <td>0.0</td>\n",
       "      <td>101.20</td>\n",
       "      <td>3.58</td>\n",
       "    </tr>\n",
       "    <tr>\n",
       "      <th>1</th>\n",
       "      <td>7001865778</td>\n",
       "      <td>109</td>\n",
       "      <td>0.0</td>\n",
       "      <td>0.0</td>\n",
       "      <td>0.0</td>\n",
       "      <td>6/30/2014</td>\n",
       "      <td>7/31/2014</td>\n",
       "      <td>8/31/2014</td>\n",
       "      <td>9/30/2014</td>\n",
       "      <td>34.047</td>\n",
       "      <td>...</td>\n",
       "      <td>0</td>\n",
       "      <td>NaN</td>\n",
       "      <td>1.0</td>\n",
       "      <td>1.0</td>\n",
       "      <td>NaN</td>\n",
       "      <td>1006</td>\n",
       "      <td>0.0</td>\n",
       "      <td>0.0</td>\n",
       "      <td>0.00</td>\n",
       "      <td>0.00</td>\n",
       "    </tr>\n",
       "    <tr>\n",
       "      <th>2</th>\n",
       "      <td>7001625959</td>\n",
       "      <td>109</td>\n",
       "      <td>0.0</td>\n",
       "      <td>0.0</td>\n",
       "      <td>0.0</td>\n",
       "      <td>6/30/2014</td>\n",
       "      <td>7/31/2014</td>\n",
       "      <td>8/31/2014</td>\n",
       "      <td>9/30/2014</td>\n",
       "      <td>167.690</td>\n",
       "      <td>...</td>\n",
       "      <td>0</td>\n",
       "      <td>NaN</td>\n",
       "      <td>NaN</td>\n",
       "      <td>NaN</td>\n",
       "      <td>1.0</td>\n",
       "      <td>1103</td>\n",
       "      <td>0.0</td>\n",
       "      <td>0.0</td>\n",
       "      <td>4.17</td>\n",
       "      <td>0.00</td>\n",
       "    </tr>\n",
       "    <tr>\n",
       "      <th>3</th>\n",
       "      <td>7001204172</td>\n",
       "      <td>109</td>\n",
       "      <td>0.0</td>\n",
       "      <td>0.0</td>\n",
       "      <td>0.0</td>\n",
       "      <td>6/30/2014</td>\n",
       "      <td>7/31/2014</td>\n",
       "      <td>8/31/2014</td>\n",
       "      <td>9/30/2014</td>\n",
       "      <td>221.338</td>\n",
       "      <td>...</td>\n",
       "      <td>0</td>\n",
       "      <td>NaN</td>\n",
       "      <td>NaN</td>\n",
       "      <td>NaN</td>\n",
       "      <td>NaN</td>\n",
       "      <td>2491</td>\n",
       "      <td>0.0</td>\n",
       "      <td>0.0</td>\n",
       "      <td>0.00</td>\n",
       "      <td>0.00</td>\n",
       "    </tr>\n",
       "    <tr>\n",
       "      <th>4</th>\n",
       "      <td>7000142493</td>\n",
       "      <td>109</td>\n",
       "      <td>0.0</td>\n",
       "      <td>0.0</td>\n",
       "      <td>0.0</td>\n",
       "      <td>6/30/2014</td>\n",
       "      <td>7/31/2014</td>\n",
       "      <td>8/31/2014</td>\n",
       "      <td>9/30/2014</td>\n",
       "      <td>261.636</td>\n",
       "      <td>...</td>\n",
       "      <td>0</td>\n",
       "      <td>0.0</td>\n",
       "      <td>NaN</td>\n",
       "      <td>NaN</td>\n",
       "      <td>NaN</td>\n",
       "      <td>1526</td>\n",
       "      <td>0.0</td>\n",
       "      <td>0.0</td>\n",
       "      <td>0.00</td>\n",
       "      <td>0.00</td>\n",
       "    </tr>\n",
       "  </tbody>\n",
       "</table>\n",
       "<p>5 rows × 226 columns</p>\n",
       "</div>"
      ],
      "text/plain": [
       "   mobile_number  circle_id  loc_og_t2o_mou  std_og_t2o_mou  loc_ic_t2o_mou  \\\n",
       "0     7000842753        109             0.0             0.0             0.0   \n",
       "1     7001865778        109             0.0             0.0             0.0   \n",
       "2     7001625959        109             0.0             0.0             0.0   \n",
       "3     7001204172        109             0.0             0.0             0.0   \n",
       "4     7000142493        109             0.0             0.0             0.0   \n",
       "\n",
       "  last_date_of_month_6 last_date_of_month_7 last_date_of_month_8  \\\n",
       "0            6/30/2014            7/31/2014            8/31/2014   \n",
       "1            6/30/2014            7/31/2014            8/31/2014   \n",
       "2            6/30/2014            7/31/2014            8/31/2014   \n",
       "3            6/30/2014            7/31/2014            8/31/2014   \n",
       "4            6/30/2014            7/31/2014            8/31/2014   \n",
       "\n",
       "  last_date_of_month_9   arpu_6  ...  sachet_3g_9  fb_user_6  fb_user_7  \\\n",
       "0            9/30/2014  197.385  ...            0        1.0        1.0   \n",
       "1            9/30/2014   34.047  ...            0        NaN        1.0   \n",
       "2            9/30/2014  167.690  ...            0        NaN        NaN   \n",
       "3            9/30/2014  221.338  ...            0        NaN        NaN   \n",
       "4            9/30/2014  261.636  ...            0        0.0        NaN   \n",
       "\n",
       "   fb_user_8  fb_user_9   aon  aug_vbc_3g  jul_vbc_3g  jun_vbc_3g  sep_vbc_3g  \n",
       "0        1.0        NaN   968        30.4         0.0      101.20        3.58  \n",
       "1        1.0        NaN  1006         0.0         0.0        0.00        0.00  \n",
       "2        NaN        1.0  1103         0.0         0.0        4.17        0.00  \n",
       "3        NaN        NaN  2491         0.0         0.0        0.00        0.00  \n",
       "4        NaN        NaN  1526         0.0         0.0        0.00        0.00  \n",
       "\n",
       "[5 rows x 226 columns]"
      ]
     },
     "execution_count": 2,
     "metadata": {},
     "output_type": "execute_result"
    }
   ],
   "source": [
    "# Reading the dataset\n",
    "df = pd.read_csv('telecom_churn_data.csv')\n",
    "df.head()"
   ]
  },
  {
   "cell_type": "code",
   "execution_count": 3,
   "metadata": {
    "colab": {
     "base_uri": "https://localhost:8080/"
    },
    "id": "A87Powggndu7",
    "outputId": "d82a743a-0585-4b1a-a187-fad3af17aea6"
   },
   "outputs": [
    {
     "data": {
      "text/plain": [
       "(99999, 226)"
      ]
     },
     "execution_count": 3,
     "metadata": {},
     "output_type": "execute_result"
    }
   ],
   "source": [
    "df.shape"
   ]
  },
  {
   "cell_type": "code",
   "execution_count": 4,
   "metadata": {
    "colab": {
     "base_uri": "https://localhost:8080/"
    },
    "id": "Ynfu-0lXndu7",
    "outputId": "99da6236-52b8-4d9b-e667-ae9c9a8fda8e"
   },
   "outputs": [
    {
     "name": "stdout",
     "output_type": "stream",
     "text": [
      "<class 'pandas.core.frame.DataFrame'>\n",
      "RangeIndex: 99999 entries, 0 to 99998\n",
      "Columns: 226 entries, mobile_number to sep_vbc_3g\n",
      "dtypes: float64(179), int64(35), object(12)\n",
      "memory usage: 172.4+ MB\n"
     ]
    }
   ],
   "source": [
    "df.info()"
   ]
  },
  {
   "cell_type": "code",
   "execution_count": 5,
   "metadata": {
    "colab": {
     "base_uri": "https://localhost:8080/",
     "height": 394
    },
    "id": "tFkvCFrtndu7",
    "outputId": "f990aaf1-68b2-4e7a-8a96-db33119ddbac"
   },
   "outputs": [
    {
     "data": {
      "text/html": [
       "<div>\n",
       "<style scoped>\n",
       "    .dataframe tbody tr th:only-of-type {\n",
       "        vertical-align: middle;\n",
       "    }\n",
       "\n",
       "    .dataframe tbody tr th {\n",
       "        vertical-align: top;\n",
       "    }\n",
       "\n",
       "    .dataframe thead th {\n",
       "        text-align: right;\n",
       "    }\n",
       "</style>\n",
       "<table border=\"1\" class=\"dataframe\">\n",
       "  <thead>\n",
       "    <tr style=\"text-align: right;\">\n",
       "      <th></th>\n",
       "      <th>mobile_number</th>\n",
       "      <th>circle_id</th>\n",
       "      <th>loc_og_t2o_mou</th>\n",
       "      <th>std_og_t2o_mou</th>\n",
       "      <th>loc_ic_t2o_mou</th>\n",
       "      <th>arpu_6</th>\n",
       "      <th>arpu_7</th>\n",
       "      <th>arpu_8</th>\n",
       "      <th>arpu_9</th>\n",
       "      <th>onnet_mou_6</th>\n",
       "      <th>...</th>\n",
       "      <th>sachet_3g_9</th>\n",
       "      <th>fb_user_6</th>\n",
       "      <th>fb_user_7</th>\n",
       "      <th>fb_user_8</th>\n",
       "      <th>fb_user_9</th>\n",
       "      <th>aon</th>\n",
       "      <th>aug_vbc_3g</th>\n",
       "      <th>jul_vbc_3g</th>\n",
       "      <th>jun_vbc_3g</th>\n",
       "      <th>sep_vbc_3g</th>\n",
       "    </tr>\n",
       "  </thead>\n",
       "  <tbody>\n",
       "    <tr>\n",
       "      <th>count</th>\n",
       "      <td>9.999900e+04</td>\n",
       "      <td>99999.0</td>\n",
       "      <td>98981.0</td>\n",
       "      <td>98981.0</td>\n",
       "      <td>98981.0</td>\n",
       "      <td>99999.000000</td>\n",
       "      <td>99999.000000</td>\n",
       "      <td>99999.000000</td>\n",
       "      <td>99999.000000</td>\n",
       "      <td>96062.000000</td>\n",
       "      <td>...</td>\n",
       "      <td>99999.000000</td>\n",
       "      <td>25153.000000</td>\n",
       "      <td>25571.000000</td>\n",
       "      <td>26339.000000</td>\n",
       "      <td>25922.000000</td>\n",
       "      <td>99999.000000</td>\n",
       "      <td>99999.000000</td>\n",
       "      <td>99999.000000</td>\n",
       "      <td>99999.000000</td>\n",
       "      <td>99999.000000</td>\n",
       "    </tr>\n",
       "    <tr>\n",
       "      <th>mean</th>\n",
       "      <td>7.001207e+09</td>\n",
       "      <td>109.0</td>\n",
       "      <td>0.0</td>\n",
       "      <td>0.0</td>\n",
       "      <td>0.0</td>\n",
       "      <td>282.987358</td>\n",
       "      <td>278.536648</td>\n",
       "      <td>279.154731</td>\n",
       "      <td>261.645069</td>\n",
       "      <td>132.395875</td>\n",
       "      <td>...</td>\n",
       "      <td>0.084581</td>\n",
       "      <td>0.914404</td>\n",
       "      <td>0.908764</td>\n",
       "      <td>0.890808</td>\n",
       "      <td>0.860968</td>\n",
       "      <td>1219.854749</td>\n",
       "      <td>68.170248</td>\n",
       "      <td>66.839062</td>\n",
       "      <td>60.021204</td>\n",
       "      <td>3.299373</td>\n",
       "    </tr>\n",
       "    <tr>\n",
       "      <th>std</th>\n",
       "      <td>6.956694e+05</td>\n",
       "      <td>0.0</td>\n",
       "      <td>0.0</td>\n",
       "      <td>0.0</td>\n",
       "      <td>0.0</td>\n",
       "      <td>328.439770</td>\n",
       "      <td>338.156291</td>\n",
       "      <td>344.474791</td>\n",
       "      <td>341.998630</td>\n",
       "      <td>297.207406</td>\n",
       "      <td>...</td>\n",
       "      <td>0.650457</td>\n",
       "      <td>0.279772</td>\n",
       "      <td>0.287950</td>\n",
       "      <td>0.311885</td>\n",
       "      <td>0.345987</td>\n",
       "      <td>954.733842</td>\n",
       "      <td>267.580450</td>\n",
       "      <td>271.201856</td>\n",
       "      <td>253.938223</td>\n",
       "      <td>32.408353</td>\n",
       "    </tr>\n",
       "    <tr>\n",
       "      <th>min</th>\n",
       "      <td>7.000000e+09</td>\n",
       "      <td>109.0</td>\n",
       "      <td>0.0</td>\n",
       "      <td>0.0</td>\n",
       "      <td>0.0</td>\n",
       "      <td>-2258.709000</td>\n",
       "      <td>-2014.045000</td>\n",
       "      <td>-945.808000</td>\n",
       "      <td>-1899.505000</td>\n",
       "      <td>0.000000</td>\n",
       "      <td>...</td>\n",
       "      <td>0.000000</td>\n",
       "      <td>0.000000</td>\n",
       "      <td>0.000000</td>\n",
       "      <td>0.000000</td>\n",
       "      <td>0.000000</td>\n",
       "      <td>180.000000</td>\n",
       "      <td>0.000000</td>\n",
       "      <td>0.000000</td>\n",
       "      <td>0.000000</td>\n",
       "      <td>0.000000</td>\n",
       "    </tr>\n",
       "    <tr>\n",
       "      <th>25%</th>\n",
       "      <td>7.000606e+09</td>\n",
       "      <td>109.0</td>\n",
       "      <td>0.0</td>\n",
       "      <td>0.0</td>\n",
       "      <td>0.0</td>\n",
       "      <td>93.411500</td>\n",
       "      <td>86.980500</td>\n",
       "      <td>84.126000</td>\n",
       "      <td>62.685000</td>\n",
       "      <td>7.380000</td>\n",
       "      <td>...</td>\n",
       "      <td>0.000000</td>\n",
       "      <td>1.000000</td>\n",
       "      <td>1.000000</td>\n",
       "      <td>1.000000</td>\n",
       "      <td>1.000000</td>\n",
       "      <td>467.000000</td>\n",
       "      <td>0.000000</td>\n",
       "      <td>0.000000</td>\n",
       "      <td>0.000000</td>\n",
       "      <td>0.000000</td>\n",
       "    </tr>\n",
       "    <tr>\n",
       "      <th>50%</th>\n",
       "      <td>7.001205e+09</td>\n",
       "      <td>109.0</td>\n",
       "      <td>0.0</td>\n",
       "      <td>0.0</td>\n",
       "      <td>0.0</td>\n",
       "      <td>197.704000</td>\n",
       "      <td>191.640000</td>\n",
       "      <td>192.080000</td>\n",
       "      <td>176.849000</td>\n",
       "      <td>34.310000</td>\n",
       "      <td>...</td>\n",
       "      <td>0.000000</td>\n",
       "      <td>1.000000</td>\n",
       "      <td>1.000000</td>\n",
       "      <td>1.000000</td>\n",
       "      <td>1.000000</td>\n",
       "      <td>863.000000</td>\n",
       "      <td>0.000000</td>\n",
       "      <td>0.000000</td>\n",
       "      <td>0.000000</td>\n",
       "      <td>0.000000</td>\n",
       "    </tr>\n",
       "    <tr>\n",
       "      <th>75%</th>\n",
       "      <td>7.001812e+09</td>\n",
       "      <td>109.0</td>\n",
       "      <td>0.0</td>\n",
       "      <td>0.0</td>\n",
       "      <td>0.0</td>\n",
       "      <td>371.060000</td>\n",
       "      <td>365.344500</td>\n",
       "      <td>369.370500</td>\n",
       "      <td>353.466500</td>\n",
       "      <td>118.740000</td>\n",
       "      <td>...</td>\n",
       "      <td>0.000000</td>\n",
       "      <td>1.000000</td>\n",
       "      <td>1.000000</td>\n",
       "      <td>1.000000</td>\n",
       "      <td>1.000000</td>\n",
       "      <td>1807.500000</td>\n",
       "      <td>0.000000</td>\n",
       "      <td>0.000000</td>\n",
       "      <td>0.000000</td>\n",
       "      <td>0.000000</td>\n",
       "    </tr>\n",
       "    <tr>\n",
       "      <th>max</th>\n",
       "      <td>7.002411e+09</td>\n",
       "      <td>109.0</td>\n",
       "      <td>0.0</td>\n",
       "      <td>0.0</td>\n",
       "      <td>0.0</td>\n",
       "      <td>27731.088000</td>\n",
       "      <td>35145.834000</td>\n",
       "      <td>33543.624000</td>\n",
       "      <td>38805.617000</td>\n",
       "      <td>7376.710000</td>\n",
       "      <td>...</td>\n",
       "      <td>49.000000</td>\n",
       "      <td>1.000000</td>\n",
       "      <td>1.000000</td>\n",
       "      <td>1.000000</td>\n",
       "      <td>1.000000</td>\n",
       "      <td>4337.000000</td>\n",
       "      <td>12916.220000</td>\n",
       "      <td>9165.600000</td>\n",
       "      <td>11166.210000</td>\n",
       "      <td>2618.570000</td>\n",
       "    </tr>\n",
       "  </tbody>\n",
       "</table>\n",
       "<p>8 rows × 214 columns</p>\n",
       "</div>"
      ],
      "text/plain": [
       "       mobile_number  circle_id  loc_og_t2o_mou  std_og_t2o_mou  \\\n",
       "count   9.999900e+04    99999.0         98981.0         98981.0   \n",
       "mean    7.001207e+09      109.0             0.0             0.0   \n",
       "std     6.956694e+05        0.0             0.0             0.0   \n",
       "min     7.000000e+09      109.0             0.0             0.0   \n",
       "25%     7.000606e+09      109.0             0.0             0.0   \n",
       "50%     7.001205e+09      109.0             0.0             0.0   \n",
       "75%     7.001812e+09      109.0             0.0             0.0   \n",
       "max     7.002411e+09      109.0             0.0             0.0   \n",
       "\n",
       "       loc_ic_t2o_mou        arpu_6        arpu_7        arpu_8        arpu_9  \\\n",
       "count         98981.0  99999.000000  99999.000000  99999.000000  99999.000000   \n",
       "mean              0.0    282.987358    278.536648    279.154731    261.645069   \n",
       "std               0.0    328.439770    338.156291    344.474791    341.998630   \n",
       "min               0.0  -2258.709000  -2014.045000   -945.808000  -1899.505000   \n",
       "25%               0.0     93.411500     86.980500     84.126000     62.685000   \n",
       "50%               0.0    197.704000    191.640000    192.080000    176.849000   \n",
       "75%               0.0    371.060000    365.344500    369.370500    353.466500   \n",
       "max               0.0  27731.088000  35145.834000  33543.624000  38805.617000   \n",
       "\n",
       "        onnet_mou_6  ...   sachet_3g_9     fb_user_6     fb_user_7  \\\n",
       "count  96062.000000  ...  99999.000000  25153.000000  25571.000000   \n",
       "mean     132.395875  ...      0.084581      0.914404      0.908764   \n",
       "std      297.207406  ...      0.650457      0.279772      0.287950   \n",
       "min        0.000000  ...      0.000000      0.000000      0.000000   \n",
       "25%        7.380000  ...      0.000000      1.000000      1.000000   \n",
       "50%       34.310000  ...      0.000000      1.000000      1.000000   \n",
       "75%      118.740000  ...      0.000000      1.000000      1.000000   \n",
       "max     7376.710000  ...     49.000000      1.000000      1.000000   \n",
       "\n",
       "          fb_user_8     fb_user_9           aon    aug_vbc_3g    jul_vbc_3g  \\\n",
       "count  26339.000000  25922.000000  99999.000000  99999.000000  99999.000000   \n",
       "mean       0.890808      0.860968   1219.854749     68.170248     66.839062   \n",
       "std        0.311885      0.345987    954.733842    267.580450    271.201856   \n",
       "min        0.000000      0.000000    180.000000      0.000000      0.000000   \n",
       "25%        1.000000      1.000000    467.000000      0.000000      0.000000   \n",
       "50%        1.000000      1.000000    863.000000      0.000000      0.000000   \n",
       "75%        1.000000      1.000000   1807.500000      0.000000      0.000000   \n",
       "max        1.000000      1.000000   4337.000000  12916.220000   9165.600000   \n",
       "\n",
       "         jun_vbc_3g    sep_vbc_3g  \n",
       "count  99999.000000  99999.000000  \n",
       "mean      60.021204      3.299373  \n",
       "std      253.938223     32.408353  \n",
       "min        0.000000      0.000000  \n",
       "25%        0.000000      0.000000  \n",
       "50%        0.000000      0.000000  \n",
       "75%        0.000000      0.000000  \n",
       "max    11166.210000   2618.570000  \n",
       "\n",
       "[8 rows x 214 columns]"
      ]
     },
     "execution_count": 5,
     "metadata": {},
     "output_type": "execute_result"
    }
   ],
   "source": [
    "df.describe()"
   ]
  },
  {
   "cell_type": "markdown",
   "metadata": {
    "id": "oDEDbyY6ndu8"
   },
   "source": [
    "## Handling missing values"
   ]
  },
  {
   "cell_type": "markdown",
   "metadata": {
    "id": "X4fp5L1Wndu8"
   },
   "source": [
    "#### Handling missing values in columns"
   ]
  },
  {
   "cell_type": "code",
   "execution_count": 6,
   "metadata": {
    "colab": {
     "base_uri": "https://localhost:8080/",
     "height": 424
    },
    "id": "fCgkM0P2ndu9",
    "outputId": "94fc2e54-ddd3-4f6f-fd8e-944a044086d4",
    "scrolled": true
   },
   "outputs": [
    {
     "data": {
      "text/html": [
       "<div>\n",
       "<style scoped>\n",
       "    .dataframe tbody tr th:only-of-type {\n",
       "        vertical-align: middle;\n",
       "    }\n",
       "\n",
       "    .dataframe tbody tr th {\n",
       "        vertical-align: top;\n",
       "    }\n",
       "\n",
       "    .dataframe thead th {\n",
       "        text-align: right;\n",
       "    }\n",
       "</style>\n",
       "<table border=\"1\" class=\"dataframe\">\n",
       "  <thead>\n",
       "    <tr style=\"text-align: right;\">\n",
       "      <th></th>\n",
       "      <th>null</th>\n",
       "    </tr>\n",
       "  </thead>\n",
       "  <tbody>\n",
       "    <tr>\n",
       "      <th>arpu_3g_6</th>\n",
       "      <td>74.85</td>\n",
       "    </tr>\n",
       "    <tr>\n",
       "      <th>night_pck_user_6</th>\n",
       "      <td>74.85</td>\n",
       "    </tr>\n",
       "    <tr>\n",
       "      <th>total_rech_data_6</th>\n",
       "      <td>74.85</td>\n",
       "    </tr>\n",
       "    <tr>\n",
       "      <th>arpu_2g_6</th>\n",
       "      <td>74.85</td>\n",
       "    </tr>\n",
       "    <tr>\n",
       "      <th>max_rech_data_6</th>\n",
       "      <td>74.85</td>\n",
       "    </tr>\n",
       "    <tr>\n",
       "      <th>...</th>\n",
       "      <td>...</td>\n",
       "    </tr>\n",
       "    <tr>\n",
       "      <th>max_rech_amt_7</th>\n",
       "      <td>0.00</td>\n",
       "    </tr>\n",
       "    <tr>\n",
       "      <th>max_rech_amt_6</th>\n",
       "      <td>0.00</td>\n",
       "    </tr>\n",
       "    <tr>\n",
       "      <th>total_rech_amt_9</th>\n",
       "      <td>0.00</td>\n",
       "    </tr>\n",
       "    <tr>\n",
       "      <th>total_rech_amt_8</th>\n",
       "      <td>0.00</td>\n",
       "    </tr>\n",
       "    <tr>\n",
       "      <th>sep_vbc_3g</th>\n",
       "      <td>0.00</td>\n",
       "    </tr>\n",
       "  </tbody>\n",
       "</table>\n",
       "<p>226 rows × 1 columns</p>\n",
       "</div>"
      ],
      "text/plain": [
       "                    null\n",
       "arpu_3g_6          74.85\n",
       "night_pck_user_6   74.85\n",
       "total_rech_data_6  74.85\n",
       "arpu_2g_6          74.85\n",
       "max_rech_data_6    74.85\n",
       "...                  ...\n",
       "max_rech_amt_7      0.00\n",
       "max_rech_amt_6      0.00\n",
       "total_rech_amt_9    0.00\n",
       "total_rech_amt_8    0.00\n",
       "sep_vbc_3g          0.00\n",
       "\n",
       "[226 rows x 1 columns]"
      ]
     },
     "execution_count": 6,
     "metadata": {},
     "output_type": "execute_result"
    }
   ],
   "source": [
    "df_miss = (round(((df.isnull().sum()/len(df.index))*100),2).to_frame('null')).sort_values('null', ascending=False)\n",
    "df_miss"
   ]
  },
  {
   "cell_type": "code",
   "execution_count": 7,
   "metadata": {
    "id": "Hv_ecp-pozAj"
   },
   "outputs": [],
   "source": [
    "#Identify columns with more than 30% missing values\n",
    "df_miss_30 = list(df_miss.index[df_miss['null'] > 30])\n"
   ]
  },
  {
   "cell_type": "code",
   "execution_count": 8,
   "metadata": {
    "id": "P1cUdLx7ndu9"
   },
   "outputs": [],
   "source": [
    "# Delete the columns having more than 30% missing values\n",
    "df = df.drop(df_miss_30, axis=1)"
   ]
  },
  {
   "cell_type": "code",
   "execution_count": 9,
   "metadata": {
    "colab": {
     "base_uri": "https://localhost:8080/"
    },
    "id": "kKSDyjl7ndu9",
    "outputId": "d84cdec8-01b6-4700-d173-541a764c707b",
    "scrolled": true
   },
   "outputs": [
    {
     "data": {
      "text/plain": [
       "(99999, 186)"
      ]
     },
     "execution_count": 9,
     "metadata": {},
     "output_type": "execute_result"
    }
   ],
   "source": [
    "df.shape"
   ]
  },
  {
   "cell_type": "markdown",
   "metadata": {
    "id": "8-Bi7Ha6ndu-"
   },
   "source": [
    "Removing unwanted columns"
   ]
  },
  {
   "cell_type": "code",
   "execution_count": 10,
   "metadata": {
    "id": "jl3mqGVUndu_"
   },
   "outputs": [],
   "source": [
    "#Dropping circle_id column as this column is same for all the data and there will be no impact of this column on the data analysis.\n",
    "df = df.drop('circle_id', axis=1)"
   ]
  },
  {
   "cell_type": "code",
   "execution_count": 11,
   "metadata": {
    "colab": {
     "base_uri": "https://localhost:8080/"
    },
    "id": "cf8BRgmdndu-",
    "outputId": "32d72a10-4dca-438a-8442-88b51083a8c5"
   },
   "outputs": [
    {
     "name": "stdout",
     "output_type": "stream",
     "text": [
      "['last_date_of_month_6', 'last_date_of_month_7', 'last_date_of_month_8', 'last_date_of_month_9', 'date_of_last_rech_6', 'date_of_last_rech_7', 'date_of_last_rech_8', 'date_of_last_rech_9']\n"
     ]
    }
   ],
   "source": [
    "# Dropping the date column as the dates does not provide a value add\n",
    "date_col = [k for k in df.columns.to_list() if 'date' in k]\n",
    "print(date_col) "
   ]
  },
  {
   "cell_type": "code",
   "execution_count": 12,
   "metadata": {
    "id": "Fjjg7xpxndu-"
   },
   "outputs": [],
   "source": [
    "# Dropping date columns \n",
    "df = df.drop(date_col, axis=1)"
   ]
  },
  {
   "cell_type": "code",
   "execution_count": 13,
   "metadata": {
    "colab": {
     "base_uri": "https://localhost:8080/"
    },
    "id": "N40Dn0zBndu_",
    "outputId": "caef1c11-5374-4e38-eed3-112fee1a4300"
   },
   "outputs": [
    {
     "data": {
      "text/plain": [
       "(99999, 177)"
      ]
     },
     "execution_count": 13,
     "metadata": {},
     "output_type": "execute_result"
    }
   ],
   "source": [
    "df.shape"
   ]
  },
  {
   "cell_type": "markdown",
   "metadata": {
    "id": "KsZsCyzHrYCH"
   },
   "source": [
    "# **Data preparation**\n",
    "The following data preparation steps are crucial for this problem:\n",
    "\n",
    "**1. Filter high-value customers:**\n",
    "Define high-value customers as follows: Those who have recharged with an amount more than or equal to X, where X is the 70th percentile of the average recharge amount in the first two months (the good phase).\n",
    "\n",
    "**2. Tag churners and remove attributes of the churn phase:**\n",
    "Now tag the churned customers (churn=1, else 0) based on the fourth month as follows: Those who have not made any calls (either incoming or outgoing) AND have not used mobile internet even once in the churn phase. The attributes you need to use to tag churners are:\n",
    "\n",
    "total_ic_mou_9\n",
    "\n",
    "total_og_mou_9\n",
    "\n",
    "vol_2g_mb_9\n",
    "\n",
    "vol_3g_mb_9\n",
    "\n",
    "\n",
    "After tagging churners, remove all the attributes corresponding to the churn phase (all attributes having ‘ _9’, etc. in their names)."
   ]
  },
  {
   "cell_type": "markdown",
   "metadata": {
    "id": "lykJr13sndu_"
   },
   "source": [
    "###1. Filter high-value customers"
   ]
  },
  {
   "cell_type": "markdown",
   "metadata": {
    "id": "qjWTgJCAndu_"
   },
   "source": [
    "Identify the  70th percentile of the average recharge amount in the first two months (the good phase).\n",
    "\n",
    "1. Create a column `avg_ra_6_7` by fidning the average recharge amount of first two months i.e.; 6 and 7. "
   ]
  },
  {
   "cell_type": "code",
   "execution_count": 14,
   "metadata": {
    "id": "ky2Ytyc6ndu_"
   },
   "outputs": [],
   "source": [
    "df['avg_ra_6_7'] = (df['total_rech_amt_6'] + df['total_rech_amt_7'])/2"
   ]
  },
  {
   "cell_type": "markdown",
   "metadata": {
    "id": "XjN_IwtfndvA"
   },
   "source": [
    "2. Identify the 70th percentile of the avg_ra_6_7 that is X"
   ]
  },
  {
   "cell_type": "code",
   "execution_count": 15,
   "metadata": {
    "colab": {
     "base_uri": "https://localhost:8080/"
    },
    "id": "lEBs67wPndvA",
    "outputId": "91c81987-2e3b-46b4-99f7-799ccb28090f"
   },
   "outputs": [
    {
     "data": {
      "text/plain": [
       "368.5"
      ]
     },
     "execution_count": 15,
     "metadata": {},
     "output_type": "execute_result"
    }
   ],
   "source": [
    "X = df['avg_ra_6_7'].quantile(0.7)\n",
    "X"
   ]
  },
  {
   "cell_type": "markdown",
   "metadata": {
    "id": "5bxaz1lwndvA"
   },
   "source": [
    "Filter the customers, who have recharged more than or equal to X."
   ]
  },
  {
   "cell_type": "code",
   "execution_count": 16,
   "metadata": {
    "colab": {
     "base_uri": "https://localhost:8080/",
     "height": 300
    },
    "id": "7lAynKXwndvA",
    "outputId": "ddc99c38-0708-4a80-89ba-84ebafba3629"
   },
   "outputs": [
    {
     "data": {
      "text/html": [
       "<div>\n",
       "<style scoped>\n",
       "    .dataframe tbody tr th:only-of-type {\n",
       "        vertical-align: middle;\n",
       "    }\n",
       "\n",
       "    .dataframe tbody tr th {\n",
       "        vertical-align: top;\n",
       "    }\n",
       "\n",
       "    .dataframe thead th {\n",
       "        text-align: right;\n",
       "    }\n",
       "</style>\n",
       "<table border=\"1\" class=\"dataframe\">\n",
       "  <thead>\n",
       "    <tr style=\"text-align: right;\">\n",
       "      <th></th>\n",
       "      <th>mobile_number</th>\n",
       "      <th>loc_og_t2o_mou</th>\n",
       "      <th>std_og_t2o_mou</th>\n",
       "      <th>loc_ic_t2o_mou</th>\n",
       "      <th>arpu_6</th>\n",
       "      <th>arpu_7</th>\n",
       "      <th>arpu_8</th>\n",
       "      <th>arpu_9</th>\n",
       "      <th>onnet_mou_6</th>\n",
       "      <th>onnet_mou_7</th>\n",
       "      <th>...</th>\n",
       "      <th>sachet_3g_6</th>\n",
       "      <th>sachet_3g_7</th>\n",
       "      <th>sachet_3g_8</th>\n",
       "      <th>sachet_3g_9</th>\n",
       "      <th>aon</th>\n",
       "      <th>aug_vbc_3g</th>\n",
       "      <th>jul_vbc_3g</th>\n",
       "      <th>jun_vbc_3g</th>\n",
       "      <th>sep_vbc_3g</th>\n",
       "      <th>avg_ra_6_7</th>\n",
       "    </tr>\n",
       "  </thead>\n",
       "  <tbody>\n",
       "    <tr>\n",
       "      <th>7</th>\n",
       "      <td>7000701601</td>\n",
       "      <td>0.0</td>\n",
       "      <td>0.0</td>\n",
       "      <td>0.0</td>\n",
       "      <td>1069.180</td>\n",
       "      <td>1349.850</td>\n",
       "      <td>3171.480</td>\n",
       "      <td>500.000</td>\n",
       "      <td>57.84</td>\n",
       "      <td>54.68</td>\n",
       "      <td>...</td>\n",
       "      <td>0</td>\n",
       "      <td>0</td>\n",
       "      <td>0</td>\n",
       "      <td>0</td>\n",
       "      <td>802</td>\n",
       "      <td>57.74</td>\n",
       "      <td>19.38</td>\n",
       "      <td>18.74</td>\n",
       "      <td>0.0</td>\n",
       "      <td>1185.0</td>\n",
       "    </tr>\n",
       "    <tr>\n",
       "      <th>8</th>\n",
       "      <td>7001524846</td>\n",
       "      <td>0.0</td>\n",
       "      <td>0.0</td>\n",
       "      <td>0.0</td>\n",
       "      <td>378.721</td>\n",
       "      <td>492.223</td>\n",
       "      <td>137.362</td>\n",
       "      <td>166.787</td>\n",
       "      <td>413.69</td>\n",
       "      <td>351.03</td>\n",
       "      <td>...</td>\n",
       "      <td>0</td>\n",
       "      <td>0</td>\n",
       "      <td>0</td>\n",
       "      <td>0</td>\n",
       "      <td>315</td>\n",
       "      <td>21.03</td>\n",
       "      <td>910.65</td>\n",
       "      <td>122.16</td>\n",
       "      <td>0.0</td>\n",
       "      <td>519.0</td>\n",
       "    </tr>\n",
       "    <tr>\n",
       "      <th>13</th>\n",
       "      <td>7002191713</td>\n",
       "      <td>0.0</td>\n",
       "      <td>0.0</td>\n",
       "      <td>0.0</td>\n",
       "      <td>492.846</td>\n",
       "      <td>205.671</td>\n",
       "      <td>593.260</td>\n",
       "      <td>322.732</td>\n",
       "      <td>501.76</td>\n",
       "      <td>108.39</td>\n",
       "      <td>...</td>\n",
       "      <td>0</td>\n",
       "      <td>0</td>\n",
       "      <td>0</td>\n",
       "      <td>0</td>\n",
       "      <td>2607</td>\n",
       "      <td>0.00</td>\n",
       "      <td>0.00</td>\n",
       "      <td>0.00</td>\n",
       "      <td>0.0</td>\n",
       "      <td>380.0</td>\n",
       "    </tr>\n",
       "    <tr>\n",
       "      <th>16</th>\n",
       "      <td>7000875565</td>\n",
       "      <td>0.0</td>\n",
       "      <td>0.0</td>\n",
       "      <td>0.0</td>\n",
       "      <td>430.975</td>\n",
       "      <td>299.869</td>\n",
       "      <td>187.894</td>\n",
       "      <td>206.490</td>\n",
       "      <td>50.51</td>\n",
       "      <td>74.01</td>\n",
       "      <td>...</td>\n",
       "      <td>0</td>\n",
       "      <td>0</td>\n",
       "      <td>0</td>\n",
       "      <td>0</td>\n",
       "      <td>511</td>\n",
       "      <td>0.00</td>\n",
       "      <td>2.45</td>\n",
       "      <td>21.89</td>\n",
       "      <td>0.0</td>\n",
       "      <td>459.0</td>\n",
       "    </tr>\n",
       "    <tr>\n",
       "      <th>17</th>\n",
       "      <td>7000187447</td>\n",
       "      <td>0.0</td>\n",
       "      <td>0.0</td>\n",
       "      <td>0.0</td>\n",
       "      <td>690.008</td>\n",
       "      <td>18.980</td>\n",
       "      <td>25.499</td>\n",
       "      <td>257.583</td>\n",
       "      <td>1185.91</td>\n",
       "      <td>9.28</td>\n",
       "      <td>...</td>\n",
       "      <td>0</td>\n",
       "      <td>0</td>\n",
       "      <td>0</td>\n",
       "      <td>0</td>\n",
       "      <td>667</td>\n",
       "      <td>0.00</td>\n",
       "      <td>0.00</td>\n",
       "      <td>0.00</td>\n",
       "      <td>0.0</td>\n",
       "      <td>408.0</td>\n",
       "    </tr>\n",
       "  </tbody>\n",
       "</table>\n",
       "<p>5 rows × 178 columns</p>\n",
       "</div>"
      ],
      "text/plain": [
       "    mobile_number  loc_og_t2o_mou  std_og_t2o_mou  loc_ic_t2o_mou    arpu_6  \\\n",
       "7      7000701601             0.0             0.0             0.0  1069.180   \n",
       "8      7001524846             0.0             0.0             0.0   378.721   \n",
       "13     7002191713             0.0             0.0             0.0   492.846   \n",
       "16     7000875565             0.0             0.0             0.0   430.975   \n",
       "17     7000187447             0.0             0.0             0.0   690.008   \n",
       "\n",
       "      arpu_7    arpu_8   arpu_9  onnet_mou_6  onnet_mou_7  ...  sachet_3g_6  \\\n",
       "7   1349.850  3171.480  500.000        57.84        54.68  ...            0   \n",
       "8    492.223   137.362  166.787       413.69       351.03  ...            0   \n",
       "13   205.671   593.260  322.732       501.76       108.39  ...            0   \n",
       "16   299.869   187.894  206.490        50.51        74.01  ...            0   \n",
       "17    18.980    25.499  257.583      1185.91         9.28  ...            0   \n",
       "\n",
       "    sachet_3g_7  sachet_3g_8  sachet_3g_9   aon  aug_vbc_3g  jul_vbc_3g  \\\n",
       "7             0            0            0   802       57.74       19.38   \n",
       "8             0            0            0   315       21.03      910.65   \n",
       "13            0            0            0  2607        0.00        0.00   \n",
       "16            0            0            0   511        0.00        2.45   \n",
       "17            0            0            0   667        0.00        0.00   \n",
       "\n",
       "    jun_vbc_3g  sep_vbc_3g  avg_ra_6_7  \n",
       "7        18.74         0.0      1185.0  \n",
       "8       122.16         0.0       519.0  \n",
       "13        0.00         0.0       380.0  \n",
       "16       21.89         0.0       459.0  \n",
       "17        0.00         0.0       408.0  \n",
       "\n",
       "[5 rows x 178 columns]"
      ]
     },
     "execution_count": 16,
     "metadata": {},
     "output_type": "execute_result"
    }
   ],
   "source": [
    "df = df[df['avg_ra_6_7'] >= X]\n",
    "df.head()"
   ]
  },
  {
   "cell_type": "code",
   "execution_count": 17,
   "metadata": {
    "colab": {
     "base_uri": "https://localhost:8080/"
    },
    "id": "-ox3iJbSndvA",
    "outputId": "0b5bf967-50fd-4721-f935-abe2510660e8"
   },
   "outputs": [
    {
     "data": {
      "text/plain": [
       "(30011, 178)"
      ]
     },
     "execution_count": 17,
     "metadata": {},
     "output_type": "execute_result"
    }
   ],
   "source": [
    "df.shape"
   ]
  },
  {
   "cell_type": "markdown",
   "metadata": {
    "id": "PUD3TGxUt7Nr"
   },
   "source": [
    "After filtering the high-value customers, there are about 30k rows."
   ]
  },
  {
   "cell_type": "markdown",
   "metadata": {
    "id": "BYrpRB5indvB"
   },
   "source": [
    "#### Handling missing values in rows"
   ]
  },
  {
   "cell_type": "code",
   "execution_count": 18,
   "metadata": {
    "colab": {
     "base_uri": "https://localhost:8080/"
    },
    "id": "FtqlJyy6ndvB",
    "outputId": "c40f234f-3d4a-484f-c8af-b3a81291cd64"
   },
   "outputs": [
    {
     "data": {
      "text/plain": [
       "(114, 178)"
      ]
     },
     "execution_count": 18,
     "metadata": {},
     "output_type": "execute_result"
    }
   ],
   "source": [
    "# Identify the rows with more than 50% missing values\n",
    "df_miss_row_50 = df[(df.isnull().sum(axis=1)) > (len(df.columns)//2)]\n",
    "df_miss_row_50.shape"
   ]
  },
  {
   "cell_type": "code",
   "execution_count": 19,
   "metadata": {
    "colab": {
     "base_uri": "https://localhost:8080/"
    },
    "id": "CSfj2g_dndvB",
    "outputId": "8cf1cdd0-4b63-432a-9693-64bda391f902"
   },
   "outputs": [
    {
     "data": {
      "text/plain": [
       "(29897, 178)"
      ]
     },
     "execution_count": 19,
     "metadata": {},
     "output_type": "execute_result"
    }
   ],
   "source": [
    "# Deleting the rows having more than 50% missing values\n",
    "df = df.drop(df_miss_row_50.index)\n",
    "df.shape"
   ]
  },
  {
   "cell_type": "code",
   "execution_count": 20,
   "metadata": {
    "colab": {
     "base_uri": "https://localhost:8080/",
     "height": 424
    },
    "id": "nyUfwN8XndvB",
    "outputId": "60fb79c1-ead9-4630-9a7a-d08bd9333a69",
    "scrolled": true
   },
   "outputs": [
    {
     "data": {
      "text/html": [
       "<div>\n",
       "<style scoped>\n",
       "    .dataframe tbody tr th:only-of-type {\n",
       "        vertical-align: middle;\n",
       "    }\n",
       "\n",
       "    .dataframe tbody tr th {\n",
       "        vertical-align: top;\n",
       "    }\n",
       "\n",
       "    .dataframe thead th {\n",
       "        text-align: right;\n",
       "    }\n",
       "</style>\n",
       "<table border=\"1\" class=\"dataframe\">\n",
       "  <thead>\n",
       "    <tr style=\"text-align: right;\">\n",
       "      <th></th>\n",
       "      <th>null</th>\n",
       "    </tr>\n",
       "  </thead>\n",
       "  <tbody>\n",
       "    <tr>\n",
       "      <th>loc_ic_mou_9</th>\n",
       "      <td>5.32</td>\n",
       "    </tr>\n",
       "    <tr>\n",
       "      <th>og_others_9</th>\n",
       "      <td>5.32</td>\n",
       "    </tr>\n",
       "    <tr>\n",
       "      <th>loc_og_t2t_mou_9</th>\n",
       "      <td>5.32</td>\n",
       "    </tr>\n",
       "    <tr>\n",
       "      <th>loc_ic_t2t_mou_9</th>\n",
       "      <td>5.32</td>\n",
       "    </tr>\n",
       "    <tr>\n",
       "      <th>loc_og_t2m_mou_9</th>\n",
       "      <td>5.32</td>\n",
       "    </tr>\n",
       "    <tr>\n",
       "      <th>...</th>\n",
       "      <td>...</td>\n",
       "    </tr>\n",
       "    <tr>\n",
       "      <th>max_rech_amt_7</th>\n",
       "      <td>0.00</td>\n",
       "    </tr>\n",
       "    <tr>\n",
       "      <th>max_rech_amt_8</th>\n",
       "      <td>0.00</td>\n",
       "    </tr>\n",
       "    <tr>\n",
       "      <th>max_rech_amt_9</th>\n",
       "      <td>0.00</td>\n",
       "    </tr>\n",
       "    <tr>\n",
       "      <th>last_day_rch_amt_6</th>\n",
       "      <td>0.00</td>\n",
       "    </tr>\n",
       "    <tr>\n",
       "      <th>avg_ra_6_7</th>\n",
       "      <td>0.00</td>\n",
       "    </tr>\n",
       "  </tbody>\n",
       "</table>\n",
       "<p>178 rows × 1 columns</p>\n",
       "</div>"
      ],
      "text/plain": [
       "                    null\n",
       "loc_ic_mou_9        5.32\n",
       "og_others_9         5.32\n",
       "loc_og_t2t_mou_9    5.32\n",
       "loc_ic_t2t_mou_9    5.32\n",
       "loc_og_t2m_mou_9    5.32\n",
       "...                  ...\n",
       "max_rech_amt_7      0.00\n",
       "max_rech_amt_8      0.00\n",
       "max_rech_amt_9      0.00\n",
       "last_day_rch_amt_6  0.00\n",
       "avg_ra_6_7          0.00\n",
       "\n",
       "[178 rows x 1 columns]"
      ]
     },
     "execution_count": 20,
     "metadata": {},
     "output_type": "execute_result"
    }
   ],
   "source": [
    "# Checking the missing values in columns again\n",
    "df_miss = (round(((df.isnull().sum()/len(df.index))*100),2).to_frame('null')).sort_values('null', ascending=False)\n",
    "df_miss"
   ]
  },
  {
   "cell_type": "markdown",
   "metadata": {
    "id": "uAoKEwiSndvB"
   },
   "source": [
    "From the above vaues, MOU for all the types of calls for the september (9) month have missing values.\n",
    "\n",
    "Identify the missing values of the MOU for September (9) and delete the records for which MOU for Sep(9) are null."
   ]
  },
  {
   "cell_type": "code",
   "execution_count": 21,
   "metadata": {
    "colab": {
     "base_uri": "https://localhost:8080/"
    },
    "id": "J4V4_bw5ndvC",
    "outputId": "a5a5199d-4881-4e79-84ea-6ed661293bbe",
    "scrolled": true
   },
   "outputs": [
    {
     "name": "stdout",
     "output_type": "stream",
     "text": [
      "['loc_ic_mou_9', 'og_others_9', 'loc_og_t2t_mou_9', 'loc_ic_t2t_mou_9', 'loc_og_t2m_mou_9', 'loc_og_t2f_mou_9', 'loc_og_t2c_mou_9', 'std_ic_t2m_mou_9', 'loc_og_mou_9', 'std_og_t2t_mou_9', 'roam_og_mou_9', 'std_ic_t2o_mou_9', 'std_og_t2m_mou_9', 'std_og_t2f_mou_9', 'spl_og_mou_9', 'std_og_t2c_mou_9', 'std_og_mou_9', 'isd_og_mou_9', 'std_ic_t2t_mou_9', 'std_ic_mou_9', 'onnet_mou_9', 'spl_ic_mou_9', 'ic_others_9', 'isd_ic_mou_9', 'loc_ic_t2f_mou_9', 'offnet_mou_9', 'loc_ic_t2m_mou_9', 'std_ic_t2f_mou_9', 'roam_ic_mou_9']\n"
     ]
    }
   ],
   "source": [
    "# List the columns of MOU Sep(9)\n",
    "print(((df_miss[df_miss['null'] == 5.32]).index).to_list())"
   ]
  },
  {
   "cell_type": "code",
   "execution_count": 22,
   "metadata": {
    "colab": {
     "base_uri": "https://localhost:8080/",
     "height": 300
    },
    "id": "y7J2MqQsndvC",
    "outputId": "b41c56d1-2765-489c-8f45-615ca332216d"
   },
   "outputs": [
    {
     "data": {
      "text/html": [
       "<div>\n",
       "<style scoped>\n",
       "    .dataframe tbody tr th:only-of-type {\n",
       "        vertical-align: middle;\n",
       "    }\n",
       "\n",
       "    .dataframe tbody tr th {\n",
       "        vertical-align: top;\n",
       "    }\n",
       "\n",
       "    .dataframe thead th {\n",
       "        text-align: right;\n",
       "    }\n",
       "</style>\n",
       "<table border=\"1\" class=\"dataframe\">\n",
       "  <thead>\n",
       "    <tr style=\"text-align: right;\">\n",
       "      <th></th>\n",
       "      <th>mobile_number</th>\n",
       "      <th>loc_og_t2o_mou</th>\n",
       "      <th>std_og_t2o_mou</th>\n",
       "      <th>loc_ic_t2o_mou</th>\n",
       "      <th>arpu_6</th>\n",
       "      <th>arpu_7</th>\n",
       "      <th>arpu_8</th>\n",
       "      <th>arpu_9</th>\n",
       "      <th>onnet_mou_6</th>\n",
       "      <th>onnet_mou_7</th>\n",
       "      <th>...</th>\n",
       "      <th>sachet_3g_6</th>\n",
       "      <th>sachet_3g_7</th>\n",
       "      <th>sachet_3g_8</th>\n",
       "      <th>sachet_3g_9</th>\n",
       "      <th>aon</th>\n",
       "      <th>aug_vbc_3g</th>\n",
       "      <th>jul_vbc_3g</th>\n",
       "      <th>jun_vbc_3g</th>\n",
       "      <th>sep_vbc_3g</th>\n",
       "      <th>avg_ra_6_7</th>\n",
       "    </tr>\n",
       "  </thead>\n",
       "  <tbody>\n",
       "    <tr>\n",
       "      <th>7</th>\n",
       "      <td>7000701601</td>\n",
       "      <td>0.0</td>\n",
       "      <td>0.0</td>\n",
       "      <td>0.0</td>\n",
       "      <td>1069.180</td>\n",
       "      <td>1349.850</td>\n",
       "      <td>3171.480</td>\n",
       "      <td>500.0</td>\n",
       "      <td>57.84</td>\n",
       "      <td>54.68</td>\n",
       "      <td>...</td>\n",
       "      <td>0</td>\n",
       "      <td>0</td>\n",
       "      <td>0</td>\n",
       "      <td>0</td>\n",
       "      <td>802</td>\n",
       "      <td>57.74</td>\n",
       "      <td>19.38</td>\n",
       "      <td>18.74</td>\n",
       "      <td>0.0</td>\n",
       "      <td>1185.0</td>\n",
       "    </tr>\n",
       "    <tr>\n",
       "      <th>97</th>\n",
       "      <td>7000589828</td>\n",
       "      <td>0.0</td>\n",
       "      <td>0.0</td>\n",
       "      <td>0.0</td>\n",
       "      <td>374.863</td>\n",
       "      <td>294.023</td>\n",
       "      <td>183.043</td>\n",
       "      <td>0.0</td>\n",
       "      <td>433.59</td>\n",
       "      <td>415.66</td>\n",
       "      <td>...</td>\n",
       "      <td>0</td>\n",
       "      <td>0</td>\n",
       "      <td>0</td>\n",
       "      <td>0</td>\n",
       "      <td>502</td>\n",
       "      <td>0.00</td>\n",
       "      <td>0.00</td>\n",
       "      <td>0.00</td>\n",
       "      <td>0.0</td>\n",
       "      <td>380.0</td>\n",
       "    </tr>\n",
       "    <tr>\n",
       "      <th>111</th>\n",
       "      <td>7001300706</td>\n",
       "      <td>0.0</td>\n",
       "      <td>0.0</td>\n",
       "      <td>0.0</td>\n",
       "      <td>596.301</td>\n",
       "      <td>146.073</td>\n",
       "      <td>0.000</td>\n",
       "      <td>0.0</td>\n",
       "      <td>55.19</td>\n",
       "      <td>3.26</td>\n",
       "      <td>...</td>\n",
       "      <td>1</td>\n",
       "      <td>0</td>\n",
       "      <td>0</td>\n",
       "      <td>0</td>\n",
       "      <td>332</td>\n",
       "      <td>0.00</td>\n",
       "      <td>0.00</td>\n",
       "      <td>0.00</td>\n",
       "      <td>0.0</td>\n",
       "      <td>441.0</td>\n",
       "    </tr>\n",
       "    <tr>\n",
       "      <th>143</th>\n",
       "      <td>7000106299</td>\n",
       "      <td>0.0</td>\n",
       "      <td>0.0</td>\n",
       "      <td>0.0</td>\n",
       "      <td>695.609</td>\n",
       "      <td>39.981</td>\n",
       "      <td>0.000</td>\n",
       "      <td>0.0</td>\n",
       "      <td>1325.91</td>\n",
       "      <td>28.61</td>\n",
       "      <td>...</td>\n",
       "      <td>0</td>\n",
       "      <td>0</td>\n",
       "      <td>0</td>\n",
       "      <td>0</td>\n",
       "      <td>264</td>\n",
       "      <td>0.00</td>\n",
       "      <td>0.00</td>\n",
       "      <td>0.00</td>\n",
       "      <td>0.0</td>\n",
       "      <td>418.0</td>\n",
       "    </tr>\n",
       "    <tr>\n",
       "      <th>188</th>\n",
       "      <td>7000340381</td>\n",
       "      <td>0.0</td>\n",
       "      <td>0.0</td>\n",
       "      <td>0.0</td>\n",
       "      <td>734.641</td>\n",
       "      <td>183.668</td>\n",
       "      <td>0.000</td>\n",
       "      <td>0.0</td>\n",
       "      <td>4.38</td>\n",
       "      <td>0.98</td>\n",
       "      <td>...</td>\n",
       "      <td>0</td>\n",
       "      <td>0</td>\n",
       "      <td>0</td>\n",
       "      <td>0</td>\n",
       "      <td>244</td>\n",
       "      <td>0.00</td>\n",
       "      <td>831.48</td>\n",
       "      <td>1223.04</td>\n",
       "      <td>0.0</td>\n",
       "      <td>492.0</td>\n",
       "    </tr>\n",
       "  </tbody>\n",
       "</table>\n",
       "<p>5 rows × 178 columns</p>\n",
       "</div>"
      ],
      "text/plain": [
       "     mobile_number  loc_og_t2o_mou  std_og_t2o_mou  loc_ic_t2o_mou    arpu_6  \\\n",
       "7       7000701601             0.0             0.0             0.0  1069.180   \n",
       "97      7000589828             0.0             0.0             0.0   374.863   \n",
       "111     7001300706             0.0             0.0             0.0   596.301   \n",
       "143     7000106299             0.0             0.0             0.0   695.609   \n",
       "188     7000340381             0.0             0.0             0.0   734.641   \n",
       "\n",
       "       arpu_7    arpu_8  arpu_9  onnet_mou_6  onnet_mou_7  ...  sachet_3g_6  \\\n",
       "7    1349.850  3171.480   500.0        57.84        54.68  ...            0   \n",
       "97    294.023   183.043     0.0       433.59       415.66  ...            0   \n",
       "111   146.073     0.000     0.0        55.19         3.26  ...            1   \n",
       "143    39.981     0.000     0.0      1325.91        28.61  ...            0   \n",
       "188   183.668     0.000     0.0         4.38         0.98  ...            0   \n",
       "\n",
       "     sachet_3g_7  sachet_3g_8  sachet_3g_9  aon  aug_vbc_3g  jul_vbc_3g  \\\n",
       "7              0            0            0  802       57.74       19.38   \n",
       "97             0            0            0  502        0.00        0.00   \n",
       "111            0            0            0  332        0.00        0.00   \n",
       "143            0            0            0  264        0.00        0.00   \n",
       "188            0            0            0  244        0.00      831.48   \n",
       "\n",
       "     jun_vbc_3g  sep_vbc_3g  avg_ra_6_7  \n",
       "7         18.74         0.0      1185.0  \n",
       "97         0.00         0.0       380.0  \n",
       "111        0.00         0.0       441.0  \n",
       "143        0.00         0.0       418.0  \n",
       "188     1223.04         0.0       492.0  \n",
       "\n",
       "[5 rows x 178 columns]"
      ]
     },
     "execution_count": 22,
     "metadata": {},
     "output_type": "execute_result"
    }
   ],
   "source": [
    "# Creating a dataframe where  MOU for Sep(9) are null\n",
    "df_null_mou_9 = df[(df['loc_og_t2m_mou_9'].isnull()) & (df['loc_ic_t2f_mou_9'].isnull()) & (df['roam_og_mou_9'].isnull()) & (df['std_ic_t2m_mou_9'].isnull()) &\n",
    "  (df['loc_og_t2t_mou_9'].isnull()) & (df['std_ic_t2t_mou_9'].isnull()) & (df['loc_og_t2f_mou_9'].isnull()) & (df['loc_ic_mou_9'].isnull()) &\n",
    "  (df['loc_og_t2c_mou_9'].isnull()) & (df['loc_og_mou_9'].isnull()) & (df['std_og_t2t_mou_9'].isnull()) & (df['roam_ic_mou_9'].isnull()) &\n",
    "  (df['loc_ic_t2m_mou_9'].isnull()) & (df['std_og_t2m_mou_9'].isnull()) & (df['loc_ic_t2t_mou_9'].isnull()) & (df['std_og_t2f_mou_9'].isnull()) & \n",
    "  (df['std_og_t2c_mou_9'].isnull()) & (df['og_others_9'].isnull()) & (df['std_og_mou_9'].isnull()) & (df['spl_og_mou_9'].isnull()) & \n",
    "  (df['std_ic_t2f_mou_9'].isnull()) & (df['isd_og_mou_9'].isnull()) & (df['std_ic_mou_9'].isnull()) & (df['offnet_mou_9'].isnull()) & \n",
    "  (df['isd_ic_mou_9'].isnull()) & (df['ic_others_9'].isnull()) & (df['std_ic_t2o_mou_9'].isnull()) & (df['onnet_mou_9'].isnull()) & \n",
    "  (df['spl_ic_mou_9'].isnull())]\n",
    "\n",
    "df_null_mou_9.head()"
   ]
  },
  {
   "cell_type": "code",
   "execution_count": 23,
   "metadata": {
    "colab": {
     "base_uri": "https://localhost:8080/"
    },
    "id": "N3CSeVflndvC",
    "outputId": "541de881-9659-45f9-cf4e-ff4d08b08c92"
   },
   "outputs": [
    {
     "data": {
      "text/plain": [
       "(1590, 178)"
      ]
     },
     "execution_count": 23,
     "metadata": {},
     "output_type": "execute_result"
    }
   ],
   "source": [
    "df_null_mou_9.shape"
   ]
  },
  {
   "cell_type": "code",
   "execution_count": 24,
   "metadata": {
    "id": "ZTj3HxWCndvD"
   },
   "outputs": [],
   "source": [
    "# Deleting the records for which MOU for Sep(9) are null\n",
    "df = df.drop(df_null_mou_9.index)"
   ]
  },
  {
   "cell_type": "code",
   "execution_count": 25,
   "metadata": {
    "colab": {
     "base_uri": "https://localhost:8080/",
     "height": 424
    },
    "id": "vouNJb5CndvD",
    "outputId": "3633ed1f-6fac-4dc4-c057-78d031f6a302",
    "scrolled": true
   },
   "outputs": [
    {
     "data": {
      "text/html": [
       "<div>\n",
       "<style scoped>\n",
       "    .dataframe tbody tr th:only-of-type {\n",
       "        vertical-align: middle;\n",
       "    }\n",
       "\n",
       "    .dataframe tbody tr th {\n",
       "        vertical-align: top;\n",
       "    }\n",
       "\n",
       "    .dataframe thead th {\n",
       "        text-align: right;\n",
       "    }\n",
       "</style>\n",
       "<table border=\"1\" class=\"dataframe\">\n",
       "  <thead>\n",
       "    <tr style=\"text-align: right;\">\n",
       "      <th></th>\n",
       "      <th>null</th>\n",
       "    </tr>\n",
       "  </thead>\n",
       "  <tbody>\n",
       "    <tr>\n",
       "      <th>isd_og_mou_8</th>\n",
       "      <td>0.55</td>\n",
       "    </tr>\n",
       "    <tr>\n",
       "      <th>roam_ic_mou_8</th>\n",
       "      <td>0.55</td>\n",
       "    </tr>\n",
       "    <tr>\n",
       "      <th>loc_og_mou_8</th>\n",
       "      <td>0.55</td>\n",
       "    </tr>\n",
       "    <tr>\n",
       "      <th>std_ic_t2o_mou_8</th>\n",
       "      <td>0.55</td>\n",
       "    </tr>\n",
       "    <tr>\n",
       "      <th>roam_og_mou_8</th>\n",
       "      <td>0.55</td>\n",
       "    </tr>\n",
       "    <tr>\n",
       "      <th>...</th>\n",
       "      <td>...</td>\n",
       "    </tr>\n",
       "    <tr>\n",
       "      <th>total_og_mou_9</th>\n",
       "      <td>0.00</td>\n",
       "    </tr>\n",
       "    <tr>\n",
       "      <th>total_og_mou_8</th>\n",
       "      <td>0.00</td>\n",
       "    </tr>\n",
       "    <tr>\n",
       "      <th>total_og_mou_7</th>\n",
       "      <td>0.00</td>\n",
       "    </tr>\n",
       "    <tr>\n",
       "      <th>total_og_mou_6</th>\n",
       "      <td>0.00</td>\n",
       "    </tr>\n",
       "    <tr>\n",
       "      <th>avg_ra_6_7</th>\n",
       "      <td>0.00</td>\n",
       "    </tr>\n",
       "  </tbody>\n",
       "</table>\n",
       "<p>178 rows × 1 columns</p>\n",
       "</div>"
      ],
      "text/plain": [
       "                  null\n",
       "isd_og_mou_8      0.55\n",
       "roam_ic_mou_8     0.55\n",
       "loc_og_mou_8      0.55\n",
       "std_ic_t2o_mou_8  0.55\n",
       "roam_og_mou_8     0.55\n",
       "...                ...\n",
       "total_og_mou_9    0.00\n",
       "total_og_mou_8    0.00\n",
       "total_og_mou_7    0.00\n",
       "total_og_mou_6    0.00\n",
       "avg_ra_6_7        0.00\n",
       "\n",
       "[178 rows x 1 columns]"
      ]
     },
     "execution_count": 25,
     "metadata": {},
     "output_type": "execute_result"
    }
   ],
   "source": [
    "# Again Cheking percent of missing values in columns\n",
    "df_miss = (round(((df.isnull().sum()/len(df.index))*100),2).to_frame('null')).sort_values('null', ascending=False)\n",
    "df_miss"
   ]
  },
  {
   "cell_type": "markdown",
   "metadata": {
    "id": "fTBkDfccndvD"
   },
   "source": [
    "From the above vaues, MOU for all the types of calls for the August (8) month have missing values.\n",
    "\n",
    "Identify the missing values of the MOU for August (8) and delete the records for which MOU for August (8) are null."
   ]
  },
  {
   "cell_type": "code",
   "execution_count": 26,
   "metadata": {
    "colab": {
     "base_uri": "https://localhost:8080/"
    },
    "id": "hrjGRX_gndvD",
    "outputId": "16889a56-2e0c-4b62-aab7-15305ac57103"
   },
   "outputs": [
    {
     "name": "stdout",
     "output_type": "stream",
     "text": [
      "['isd_og_mou_8', 'roam_ic_mou_8', 'loc_og_mou_8', 'std_ic_t2o_mou_8', 'roam_og_mou_8', 'loc_ic_t2f_mou_8', 'loc_og_t2t_mou_8', 'std_ic_t2f_mou_8', 'std_og_t2m_mou_8', 'loc_og_t2m_mou_8', 'std_og_t2t_mou_8', 'std_ic_t2m_mou_8', 'loc_og_t2f_mou_8', 'spl_og_mou_8', 'loc_ic_mou_8', 'loc_og_t2c_mou_8', 'std_ic_t2t_mou_8', 'loc_ic_t2m_mou_8', 'std_og_t2f_mou_8', 'spl_ic_mou_8', 'std_ic_mou_8', 'offnet_mou_8', 'ic_others_8', 'og_others_8', 'loc_ic_t2t_mou_8', 'onnet_mou_8', 'isd_ic_mou_8', 'std_og_t2c_mou_8', 'std_og_mou_8']\n"
     ]
    }
   ],
   "source": [
    "# Listing the columns of MOU Aug(8)\n",
    "print(((df_miss[df_miss['null'] == 0.55]).index).to_list())"
   ]
  },
  {
   "cell_type": "code",
   "execution_count": 27,
   "metadata": {
    "colab": {
     "base_uri": "https://localhost:8080/",
     "height": 300
    },
    "id": "n4BFy5bsndvD",
    "outputId": "49b85d4a-e07d-4eaf-e748-5d0fe2044960"
   },
   "outputs": [
    {
     "data": {
      "text/html": [
       "<div>\n",
       "<style scoped>\n",
       "    .dataframe tbody tr th:only-of-type {\n",
       "        vertical-align: middle;\n",
       "    }\n",
       "\n",
       "    .dataframe tbody tr th {\n",
       "        vertical-align: top;\n",
       "    }\n",
       "\n",
       "    .dataframe thead th {\n",
       "        text-align: right;\n",
       "    }\n",
       "</style>\n",
       "<table border=\"1\" class=\"dataframe\">\n",
       "  <thead>\n",
       "    <tr style=\"text-align: right;\">\n",
       "      <th></th>\n",
       "      <th>mobile_number</th>\n",
       "      <th>loc_og_t2o_mou</th>\n",
       "      <th>std_og_t2o_mou</th>\n",
       "      <th>loc_ic_t2o_mou</th>\n",
       "      <th>arpu_6</th>\n",
       "      <th>arpu_7</th>\n",
       "      <th>arpu_8</th>\n",
       "      <th>arpu_9</th>\n",
       "      <th>onnet_mou_6</th>\n",
       "      <th>onnet_mou_7</th>\n",
       "      <th>...</th>\n",
       "      <th>sachet_3g_6</th>\n",
       "      <th>sachet_3g_7</th>\n",
       "      <th>sachet_3g_8</th>\n",
       "      <th>sachet_3g_9</th>\n",
       "      <th>aon</th>\n",
       "      <th>aug_vbc_3g</th>\n",
       "      <th>jul_vbc_3g</th>\n",
       "      <th>jun_vbc_3g</th>\n",
       "      <th>sep_vbc_3g</th>\n",
       "      <th>avg_ra_6_7</th>\n",
       "    </tr>\n",
       "  </thead>\n",
       "  <tbody>\n",
       "    <tr>\n",
       "      <th>375</th>\n",
       "      <td>7002252754</td>\n",
       "      <td>0.0</td>\n",
       "      <td>0.0</td>\n",
       "      <td>0.0</td>\n",
       "      <td>580.477</td>\n",
       "      <td>111.878</td>\n",
       "      <td>0.0</td>\n",
       "      <td>378.881</td>\n",
       "      <td>249.43</td>\n",
       "      <td>39.64</td>\n",
       "      <td>...</td>\n",
       "      <td>0</td>\n",
       "      <td>0</td>\n",
       "      <td>0</td>\n",
       "      <td>0</td>\n",
       "      <td>1102</td>\n",
       "      <td>0.0</td>\n",
       "      <td>0.0</td>\n",
       "      <td>0.0</td>\n",
       "      <td>0.0</td>\n",
       "      <td>415.0</td>\n",
       "    </tr>\n",
       "    <tr>\n",
       "      <th>578</th>\n",
       "      <td>7000248548</td>\n",
       "      <td>0.0</td>\n",
       "      <td>0.0</td>\n",
       "      <td>0.0</td>\n",
       "      <td>569.612</td>\n",
       "      <td>237.289</td>\n",
       "      <td>0.0</td>\n",
       "      <td>4.440</td>\n",
       "      <td>718.01</td>\n",
       "      <td>212.73</td>\n",
       "      <td>...</td>\n",
       "      <td>0</td>\n",
       "      <td>0</td>\n",
       "      <td>0</td>\n",
       "      <td>0</td>\n",
       "      <td>274</td>\n",
       "      <td>0.0</td>\n",
       "      <td>0.0</td>\n",
       "      <td>0.0</td>\n",
       "      <td>0.0</td>\n",
       "      <td>468.5</td>\n",
       "    </tr>\n",
       "    <tr>\n",
       "      <th>788</th>\n",
       "      <td>7000636808</td>\n",
       "      <td>0.0</td>\n",
       "      <td>0.0</td>\n",
       "      <td>0.0</td>\n",
       "      <td>532.742</td>\n",
       "      <td>546.756</td>\n",
       "      <td>0.0</td>\n",
       "      <td>269.274</td>\n",
       "      <td>1173.39</td>\n",
       "      <td>891.83</td>\n",
       "      <td>...</td>\n",
       "      <td>0</td>\n",
       "      <td>0</td>\n",
       "      <td>0</td>\n",
       "      <td>0</td>\n",
       "      <td>936</td>\n",
       "      <td>0.0</td>\n",
       "      <td>0.0</td>\n",
       "      <td>0.0</td>\n",
       "      <td>0.0</td>\n",
       "      <td>604.0</td>\n",
       "    </tr>\n",
       "    <tr>\n",
       "      <th>1802</th>\n",
       "      <td>7000516213</td>\n",
       "      <td>0.0</td>\n",
       "      <td>0.0</td>\n",
       "      <td>0.0</td>\n",
       "      <td>810.455</td>\n",
       "      <td>0.000</td>\n",
       "      <td>0.0</td>\n",
       "      <td>0.000</td>\n",
       "      <td>91.33</td>\n",
       "      <td>NaN</td>\n",
       "      <td>...</td>\n",
       "      <td>0</td>\n",
       "      <td>0</td>\n",
       "      <td>0</td>\n",
       "      <td>0</td>\n",
       "      <td>755</td>\n",
       "      <td>0.0</td>\n",
       "      <td>0.0</td>\n",
       "      <td>0.0</td>\n",
       "      <td>0.0</td>\n",
       "      <td>477.5</td>\n",
       "    </tr>\n",
       "    <tr>\n",
       "      <th>4837</th>\n",
       "      <td>7002192662</td>\n",
       "      <td>0.0</td>\n",
       "      <td>0.0</td>\n",
       "      <td>0.0</td>\n",
       "      <td>649.150</td>\n",
       "      <td>149.572</td>\n",
       "      <td>0.0</td>\n",
       "      <td>0.250</td>\n",
       "      <td>1354.24</td>\n",
       "      <td>85.13</td>\n",
       "      <td>...</td>\n",
       "      <td>0</td>\n",
       "      <td>0</td>\n",
       "      <td>0</td>\n",
       "      <td>0</td>\n",
       "      <td>520</td>\n",
       "      <td>0.0</td>\n",
       "      <td>0.0</td>\n",
       "      <td>0.0</td>\n",
       "      <td>0.0</td>\n",
       "      <td>421.0</td>\n",
       "    </tr>\n",
       "  </tbody>\n",
       "</table>\n",
       "<p>5 rows × 178 columns</p>\n",
       "</div>"
      ],
      "text/plain": [
       "      mobile_number  loc_og_t2o_mou  std_og_t2o_mou  loc_ic_t2o_mou   arpu_6  \\\n",
       "375      7002252754             0.0             0.0             0.0  580.477   \n",
       "578      7000248548             0.0             0.0             0.0  569.612   \n",
       "788      7000636808             0.0             0.0             0.0  532.742   \n",
       "1802     7000516213             0.0             0.0             0.0  810.455   \n",
       "4837     7002192662             0.0             0.0             0.0  649.150   \n",
       "\n",
       "       arpu_7  arpu_8   arpu_9  onnet_mou_6  onnet_mou_7  ...  sachet_3g_6  \\\n",
       "375   111.878     0.0  378.881       249.43        39.64  ...            0   \n",
       "578   237.289     0.0    4.440       718.01       212.73  ...            0   \n",
       "788   546.756     0.0  269.274      1173.39       891.83  ...            0   \n",
       "1802    0.000     0.0    0.000        91.33          NaN  ...            0   \n",
       "4837  149.572     0.0    0.250      1354.24        85.13  ...            0   \n",
       "\n",
       "      sachet_3g_7  sachet_3g_8  sachet_3g_9   aon  aug_vbc_3g  jul_vbc_3g  \\\n",
       "375             0            0            0  1102         0.0         0.0   \n",
       "578             0            0            0   274         0.0         0.0   \n",
       "788             0            0            0   936         0.0         0.0   \n",
       "1802            0            0            0   755         0.0         0.0   \n",
       "4837            0            0            0   520         0.0         0.0   \n",
       "\n",
       "      jun_vbc_3g  sep_vbc_3g  avg_ra_6_7  \n",
       "375          0.0         0.0       415.0  \n",
       "578          0.0         0.0       468.5  \n",
       "788          0.0         0.0       604.0  \n",
       "1802         0.0         0.0       477.5  \n",
       "4837         0.0         0.0       421.0  \n",
       "\n",
       "[5 rows x 178 columns]"
      ]
     },
     "execution_count": 27,
     "metadata": {},
     "output_type": "execute_result"
    }
   ],
   "source": [
    "# Creating a dataframe with the condition, in which MOU for Aug(8) are null\n",
    "df_null_mou_8 = df[(df['loc_og_t2m_mou_8'].isnull()) & (df['loc_ic_t2f_mou_8'].isnull()) & (df['roam_og_mou_8'].isnull()) & (df['std_ic_t2m_mou_8'].isnull()) &\n",
    "  (df['loc_og_t2t_mou_8'].isnull()) & (df['std_ic_t2t_mou_8'].isnull()) & (df['loc_og_t2f_mou_8'].isnull()) & (df['loc_ic_mou_8'].isnull()) &\n",
    "  (df['loc_og_t2c_mou_8'].isnull()) & (df['loc_og_mou_8'].isnull()) & (df['std_og_t2t_mou_8'].isnull()) & (df['roam_ic_mou_8'].isnull()) &\n",
    "  (df['loc_ic_t2m_mou_8'].isnull()) & (df['std_og_t2m_mou_8'].isnull()) & (df['loc_ic_t2t_mou_8'].isnull()) & (df['std_og_t2f_mou_8'].isnull()) & \n",
    "  (df['std_og_t2c_mou_8'].isnull()) & (df['og_others_8'].isnull()) & (df['std_og_mou_8'].isnull()) & (df['spl_og_mou_8'].isnull()) & \n",
    "  (df['std_ic_t2f_mou_8'].isnull()) & (df['isd_og_mou_8'].isnull()) & (df['std_ic_mou_8'].isnull()) & (df['offnet_mou_8'].isnull()) & \n",
    "  (df['isd_ic_mou_8'].isnull()) & (df['ic_others_8'].isnull()) & (df['std_ic_t2o_mou_8'].isnull()) & (df['onnet_mou_8'].isnull()) & \n",
    "  (df['spl_ic_mou_8'].isnull())]\n",
    "\n",
    "df_null_mou_8.head()"
   ]
  },
  {
   "cell_type": "code",
   "execution_count": 28,
   "metadata": {
    "id": "anpGBS2EndvD"
   },
   "outputs": [],
   "source": [
    "# Deleting the records for which MOU for Aug(8) are null\n",
    "df = df.drop(df_null_mou_8.index)"
   ]
  },
  {
   "cell_type": "code",
   "execution_count": 29,
   "metadata": {
    "colab": {
     "base_uri": "https://localhost:8080/",
     "height": 424
    },
    "id": "qA1p-XnnndvE",
    "outputId": "d351d43e-6bee-47c1-ad29-9159119a46f0",
    "scrolled": true
   },
   "outputs": [
    {
     "data": {
      "text/html": [
       "<div>\n",
       "<style scoped>\n",
       "    .dataframe tbody tr th:only-of-type {\n",
       "        vertical-align: middle;\n",
       "    }\n",
       "\n",
       "    .dataframe tbody tr th {\n",
       "        vertical-align: top;\n",
       "    }\n",
       "\n",
       "    .dataframe thead th {\n",
       "        text-align: right;\n",
       "    }\n",
       "</style>\n",
       "<table border=\"1\" class=\"dataframe\">\n",
       "  <thead>\n",
       "    <tr style=\"text-align: right;\">\n",
       "      <th></th>\n",
       "      <th>null</th>\n",
       "    </tr>\n",
       "  </thead>\n",
       "  <tbody>\n",
       "    <tr>\n",
       "      <th>roam_ic_mou_6</th>\n",
       "      <td>0.44</td>\n",
       "    </tr>\n",
       "    <tr>\n",
       "      <th>spl_og_mou_6</th>\n",
       "      <td>0.44</td>\n",
       "    </tr>\n",
       "    <tr>\n",
       "      <th>og_others_6</th>\n",
       "      <td>0.44</td>\n",
       "    </tr>\n",
       "    <tr>\n",
       "      <th>loc_ic_t2t_mou_6</th>\n",
       "      <td>0.44</td>\n",
       "    </tr>\n",
       "    <tr>\n",
       "      <th>loc_og_t2m_mou_6</th>\n",
       "      <td>0.44</td>\n",
       "    </tr>\n",
       "    <tr>\n",
       "      <th>...</th>\n",
       "      <td>...</td>\n",
       "    </tr>\n",
       "    <tr>\n",
       "      <th>isd_og_mou_9</th>\n",
       "      <td>0.00</td>\n",
       "    </tr>\n",
       "    <tr>\n",
       "      <th>isd_og_mou_8</th>\n",
       "      <td>0.00</td>\n",
       "    </tr>\n",
       "    <tr>\n",
       "      <th>std_og_mou_9</th>\n",
       "      <td>0.00</td>\n",
       "    </tr>\n",
       "    <tr>\n",
       "      <th>std_og_mou_8</th>\n",
       "      <td>0.00</td>\n",
       "    </tr>\n",
       "    <tr>\n",
       "      <th>avg_ra_6_7</th>\n",
       "      <td>0.00</td>\n",
       "    </tr>\n",
       "  </tbody>\n",
       "</table>\n",
       "<p>178 rows × 1 columns</p>\n",
       "</div>"
      ],
      "text/plain": [
       "                  null\n",
       "roam_ic_mou_6     0.44\n",
       "spl_og_mou_6      0.44\n",
       "og_others_6       0.44\n",
       "loc_ic_t2t_mou_6  0.44\n",
       "loc_og_t2m_mou_6  0.44\n",
       "...                ...\n",
       "isd_og_mou_9      0.00\n",
       "isd_og_mou_8      0.00\n",
       "std_og_mou_9      0.00\n",
       "std_og_mou_8      0.00\n",
       "avg_ra_6_7        0.00\n",
       "\n",
       "[178 rows x 1 columns]"
      ]
     },
     "execution_count": 29,
     "metadata": {},
     "output_type": "execute_result"
    }
   ],
   "source": [
    "# Again cheking percent of missing values in columns\n",
    "df_miss = (round(((df.isnull().sum()/len(df.index))*100),2).to_frame('null')).sort_values('null', ascending=False)\n",
    "df_miss"
   ]
  },
  {
   "cell_type": "markdown",
   "metadata": {
    "id": "nKLczVFWndvE"
   },
   "source": [
    "From the above vaues, MOU for all the types of calls for the June 6 month have missing values.\n",
    "\n",
    "Identify the missing values of the MOU for June 6 and delete the records for which MOU for June 6 are null."
   ]
  },
  {
   "cell_type": "code",
   "execution_count": 30,
   "metadata": {
    "colab": {
     "base_uri": "https://localhost:8080/"
    },
    "id": "lvroGNFmndvE",
    "outputId": "92834018-59f0-423c-de98-a22e92b25cf0"
   },
   "outputs": [
    {
     "name": "stdout",
     "output_type": "stream",
     "text": [
      "['roam_ic_mou_6', 'spl_og_mou_6', 'og_others_6', 'loc_ic_t2t_mou_6', 'loc_og_t2m_mou_6', 'loc_og_t2c_mou_6', 'loc_ic_t2m_mou_6', 'isd_og_mou_6', 'loc_og_t2t_mou_6', 'std_og_t2m_mou_6', 'loc_ic_t2f_mou_6', 'ic_others_6', 'roam_og_mou_6', 'loc_ic_mou_6', 'std_og_mou_6', 'loc_og_t2f_mou_6', 'isd_ic_mou_6', 'std_ic_t2t_mou_6', 'std_ic_mou_6', 'std_og_t2t_mou_6', 'std_ic_t2o_mou_6', 'std_og_t2f_mou_6', 'std_ic_t2f_mou_6', 'spl_ic_mou_6', 'onnet_mou_6', 'std_og_t2c_mou_6', 'std_ic_t2m_mou_6', 'offnet_mou_6', 'loc_og_mou_6']\n"
     ]
    }
   ],
   "source": [
    "# Listing the columns of MOU Jun(6)\n",
    "print(((df_miss[df_miss['null'] == 0.44]).index).to_list())"
   ]
  },
  {
   "cell_type": "code",
   "execution_count": 31,
   "metadata": {
    "colab": {
     "base_uri": "https://localhost:8080/",
     "height": 300
    },
    "id": "mQZKwPh1ndvE",
    "outputId": "69c08f6d-bab4-4672-9da2-489bd3e72299"
   },
   "outputs": [
    {
     "data": {
      "text/html": [
       "<div>\n",
       "<style scoped>\n",
       "    .dataframe tbody tr th:only-of-type {\n",
       "        vertical-align: middle;\n",
       "    }\n",
       "\n",
       "    .dataframe tbody tr th {\n",
       "        vertical-align: top;\n",
       "    }\n",
       "\n",
       "    .dataframe thead th {\n",
       "        text-align: right;\n",
       "    }\n",
       "</style>\n",
       "<table border=\"1\" class=\"dataframe\">\n",
       "  <thead>\n",
       "    <tr style=\"text-align: right;\">\n",
       "      <th></th>\n",
       "      <th>mobile_number</th>\n",
       "      <th>loc_og_t2o_mou</th>\n",
       "      <th>std_og_t2o_mou</th>\n",
       "      <th>loc_ic_t2o_mou</th>\n",
       "      <th>arpu_6</th>\n",
       "      <th>arpu_7</th>\n",
       "      <th>arpu_8</th>\n",
       "      <th>arpu_9</th>\n",
       "      <th>onnet_mou_6</th>\n",
       "      <th>onnet_mou_7</th>\n",
       "      <th>...</th>\n",
       "      <th>sachet_3g_6</th>\n",
       "      <th>sachet_3g_7</th>\n",
       "      <th>sachet_3g_8</th>\n",
       "      <th>sachet_3g_9</th>\n",
       "      <th>aon</th>\n",
       "      <th>aug_vbc_3g</th>\n",
       "      <th>jul_vbc_3g</th>\n",
       "      <th>jun_vbc_3g</th>\n",
       "      <th>sep_vbc_3g</th>\n",
       "      <th>avg_ra_6_7</th>\n",
       "    </tr>\n",
       "  </thead>\n",
       "  <tbody>\n",
       "    <tr>\n",
       "      <th>77</th>\n",
       "      <td>7001328263</td>\n",
       "      <td>0.0</td>\n",
       "      <td>0.0</td>\n",
       "      <td>0.0</td>\n",
       "      <td>30.000</td>\n",
       "      <td>82.378</td>\n",
       "      <td>674.950</td>\n",
       "      <td>158.710</td>\n",
       "      <td>NaN</td>\n",
       "      <td>34.23</td>\n",
       "      <td>...</td>\n",
       "      <td>0</td>\n",
       "      <td>0</td>\n",
       "      <td>0</td>\n",
       "      <td>0</td>\n",
       "      <td>1894</td>\n",
       "      <td>0.00</td>\n",
       "      <td>0.00</td>\n",
       "      <td>0.00</td>\n",
       "      <td>0.00</td>\n",
       "      <td>577.0</td>\n",
       "    </tr>\n",
       "    <tr>\n",
       "      <th>364</th>\n",
       "      <td>7002168045</td>\n",
       "      <td>0.0</td>\n",
       "      <td>0.0</td>\n",
       "      <td>0.0</td>\n",
       "      <td>0.000</td>\n",
       "      <td>792.112</td>\n",
       "      <td>989.368</td>\n",
       "      <td>923.040</td>\n",
       "      <td>NaN</td>\n",
       "      <td>433.49</td>\n",
       "      <td>...</td>\n",
       "      <td>0</td>\n",
       "      <td>0</td>\n",
       "      <td>1</td>\n",
       "      <td>0</td>\n",
       "      <td>424</td>\n",
       "      <td>0.00</td>\n",
       "      <td>0.00</td>\n",
       "      <td>0.00</td>\n",
       "      <td>0.00</td>\n",
       "      <td>485.0</td>\n",
       "    </tr>\n",
       "    <tr>\n",
       "      <th>423</th>\n",
       "      <td>7000635248</td>\n",
       "      <td>0.0</td>\n",
       "      <td>0.0</td>\n",
       "      <td>0.0</td>\n",
       "      <td>213.802</td>\n",
       "      <td>304.194</td>\n",
       "      <td>149.710</td>\n",
       "      <td>329.643</td>\n",
       "      <td>NaN</td>\n",
       "      <td>0.00</td>\n",
       "      <td>...</td>\n",
       "      <td>0</td>\n",
       "      <td>0</td>\n",
       "      <td>0</td>\n",
       "      <td>0</td>\n",
       "      <td>945</td>\n",
       "      <td>73.55</td>\n",
       "      <td>266.94</td>\n",
       "      <td>63.04</td>\n",
       "      <td>0.00</td>\n",
       "      <td>421.5</td>\n",
       "    </tr>\n",
       "    <tr>\n",
       "      <th>934</th>\n",
       "      <td>7002152278</td>\n",
       "      <td>0.0</td>\n",
       "      <td>0.0</td>\n",
       "      <td>0.0</td>\n",
       "      <td>48.000</td>\n",
       "      <td>764.152</td>\n",
       "      <td>500.030</td>\n",
       "      <td>194.400</td>\n",
       "      <td>NaN</td>\n",
       "      <td>14.24</td>\n",
       "      <td>...</td>\n",
       "      <td>0</td>\n",
       "      <td>0</td>\n",
       "      <td>2</td>\n",
       "      <td>1</td>\n",
       "      <td>490</td>\n",
       "      <td>188.83</td>\n",
       "      <td>215.00</td>\n",
       "      <td>0.00</td>\n",
       "      <td>24.18</td>\n",
       "      <td>651.0</td>\n",
       "    </tr>\n",
       "    <tr>\n",
       "      <th>1187</th>\n",
       "      <td>7000486275</td>\n",
       "      <td>0.0</td>\n",
       "      <td>0.0</td>\n",
       "      <td>0.0</td>\n",
       "      <td>0.000</td>\n",
       "      <td>757.170</td>\n",
       "      <td>995.719</td>\n",
       "      <td>0.000</td>\n",
       "      <td>NaN</td>\n",
       "      <td>1366.71</td>\n",
       "      <td>...</td>\n",
       "      <td>0</td>\n",
       "      <td>0</td>\n",
       "      <td>0</td>\n",
       "      <td>0</td>\n",
       "      <td>737</td>\n",
       "      <td>0.00</td>\n",
       "      <td>0.00</td>\n",
       "      <td>0.00</td>\n",
       "      <td>0.00</td>\n",
       "      <td>441.5</td>\n",
       "    </tr>\n",
       "  </tbody>\n",
       "</table>\n",
       "<p>5 rows × 178 columns</p>\n",
       "</div>"
      ],
      "text/plain": [
       "      mobile_number  loc_og_t2o_mou  std_og_t2o_mou  loc_ic_t2o_mou   arpu_6  \\\n",
       "77       7001328263             0.0             0.0             0.0   30.000   \n",
       "364      7002168045             0.0             0.0             0.0    0.000   \n",
       "423      7000635248             0.0             0.0             0.0  213.802   \n",
       "934      7002152278             0.0             0.0             0.0   48.000   \n",
       "1187     7000486275             0.0             0.0             0.0    0.000   \n",
       "\n",
       "       arpu_7   arpu_8   arpu_9  onnet_mou_6  onnet_mou_7  ...  sachet_3g_6  \\\n",
       "77     82.378  674.950  158.710          NaN        34.23  ...            0   \n",
       "364   792.112  989.368  923.040          NaN       433.49  ...            0   \n",
       "423   304.194  149.710  329.643          NaN         0.00  ...            0   \n",
       "934   764.152  500.030  194.400          NaN        14.24  ...            0   \n",
       "1187  757.170  995.719    0.000          NaN      1366.71  ...            0   \n",
       "\n",
       "      sachet_3g_7  sachet_3g_8  sachet_3g_9   aon  aug_vbc_3g  jul_vbc_3g  \\\n",
       "77              0            0            0  1894        0.00        0.00   \n",
       "364             0            1            0   424        0.00        0.00   \n",
       "423             0            0            0   945       73.55      266.94   \n",
       "934             0            2            1   490      188.83      215.00   \n",
       "1187            0            0            0   737        0.00        0.00   \n",
       "\n",
       "      jun_vbc_3g  sep_vbc_3g  avg_ra_6_7  \n",
       "77          0.00        0.00       577.0  \n",
       "364         0.00        0.00       485.0  \n",
       "423        63.04        0.00       421.5  \n",
       "934         0.00       24.18       651.0  \n",
       "1187        0.00        0.00       441.5  \n",
       "\n",
       "[5 rows x 178 columns]"
      ]
     },
     "execution_count": 31,
     "metadata": {},
     "output_type": "execute_result"
    }
   ],
   "source": [
    "# Creating a dataframe with the condition, in which MOU for Jun(6) are null\n",
    "df_null_mou_6 = df[(df['loc_og_t2m_mou_6'].isnull()) & (df['loc_ic_t2f_mou_6'].isnull()) & (df['roam_og_mou_6'].isnull()) & (df['std_ic_t2m_mou_6'].isnull()) &\n",
    "  (df['loc_og_t2t_mou_6'].isnull()) & (df['std_ic_t2t_mou_6'].isnull()) & (df['loc_og_t2f_mou_6'].isnull()) & (df['loc_ic_mou_6'].isnull()) &\n",
    "  (df['loc_og_t2c_mou_6'].isnull()) & (df['loc_og_mou_6'].isnull()) & (df['std_og_t2t_mou_6'].isnull()) & (df['roam_ic_mou_6'].isnull()) &\n",
    "  (df['loc_ic_t2m_mou_6'].isnull()) & (df['std_og_t2m_mou_6'].isnull()) & (df['loc_ic_t2t_mou_6'].isnull()) & (df['std_og_t2f_mou_6'].isnull()) & \n",
    "  (df['std_og_t2c_mou_6'].isnull()) & (df['og_others_6'].isnull()) & (df['std_og_mou_6'].isnull()) & (df['spl_og_mou_6'].isnull()) & \n",
    "  (df['std_ic_t2f_mou_6'].isnull()) & (df['isd_og_mou_6'].isnull()) & (df['std_ic_mou_6'].isnull()) & (df['offnet_mou_6'].isnull()) & \n",
    "  (df['isd_ic_mou_6'].isnull()) & (df['ic_others_6'].isnull()) & (df['std_ic_t2o_mou_6'].isnull()) & (df['onnet_mou_6'].isnull()) & \n",
    "  (df['spl_ic_mou_6'].isnull())]\n",
    "\n",
    "df_null_mou_6.head()"
   ]
  },
  {
   "cell_type": "code",
   "execution_count": 32,
   "metadata": {
    "id": "sZzd3S0RndvF"
   },
   "outputs": [],
   "source": [
    "# Deleting the records for which MOU for Jun(6) are null\n",
    "df = df.drop(df_null_mou_6.index)"
   ]
  },
  {
   "cell_type": "code",
   "execution_count": 33,
   "metadata": {
    "colab": {
     "base_uri": "https://localhost:8080/",
     "height": 424
    },
    "id": "u2dndtZzndvF",
    "outputId": "3eec716a-c229-4ce9-fb20-a0b0e735b9ca",
    "scrolled": true
   },
   "outputs": [
    {
     "data": {
      "text/html": [
       "<div>\n",
       "<style scoped>\n",
       "    .dataframe tbody tr th:only-of-type {\n",
       "        vertical-align: middle;\n",
       "    }\n",
       "\n",
       "    .dataframe tbody tr th {\n",
       "        vertical-align: top;\n",
       "    }\n",
       "\n",
       "    .dataframe thead th {\n",
       "        text-align: right;\n",
       "    }\n",
       "</style>\n",
       "<table border=\"1\" class=\"dataframe\">\n",
       "  <thead>\n",
       "    <tr style=\"text-align: right;\">\n",
       "      <th></th>\n",
       "      <th>null</th>\n",
       "    </tr>\n",
       "  </thead>\n",
       "  <tbody>\n",
       "    <tr>\n",
       "      <th>loc_ic_t2f_mou_7</th>\n",
       "      <td>0.12</td>\n",
       "    </tr>\n",
       "    <tr>\n",
       "      <th>isd_ic_mou_7</th>\n",
       "      <td>0.12</td>\n",
       "    </tr>\n",
       "    <tr>\n",
       "      <th>loc_og_t2f_mou_7</th>\n",
       "      <td>0.12</td>\n",
       "    </tr>\n",
       "    <tr>\n",
       "      <th>loc_og_t2c_mou_7</th>\n",
       "      <td>0.12</td>\n",
       "    </tr>\n",
       "    <tr>\n",
       "      <th>loc_og_mou_7</th>\n",
       "      <td>0.12</td>\n",
       "    </tr>\n",
       "    <tr>\n",
       "      <th>...</th>\n",
       "      <td>...</td>\n",
       "    </tr>\n",
       "    <tr>\n",
       "      <th>spl_og_mou_6</th>\n",
       "      <td>0.00</td>\n",
       "    </tr>\n",
       "    <tr>\n",
       "      <th>spl_og_mou_8</th>\n",
       "      <td>0.00</td>\n",
       "    </tr>\n",
       "    <tr>\n",
       "      <th>spl_og_mou_9</th>\n",
       "      <td>0.00</td>\n",
       "    </tr>\n",
       "    <tr>\n",
       "      <th>og_others_6</th>\n",
       "      <td>0.00</td>\n",
       "    </tr>\n",
       "    <tr>\n",
       "      <th>avg_ra_6_7</th>\n",
       "      <td>0.00</td>\n",
       "    </tr>\n",
       "  </tbody>\n",
       "</table>\n",
       "<p>178 rows × 1 columns</p>\n",
       "</div>"
      ],
      "text/plain": [
       "                  null\n",
       "loc_ic_t2f_mou_7  0.12\n",
       "isd_ic_mou_7      0.12\n",
       "loc_og_t2f_mou_7  0.12\n",
       "loc_og_t2c_mou_7  0.12\n",
       "loc_og_mou_7      0.12\n",
       "...                ...\n",
       "spl_og_mou_6      0.00\n",
       "spl_og_mou_8      0.00\n",
       "spl_og_mou_9      0.00\n",
       "og_others_6       0.00\n",
       "avg_ra_6_7        0.00\n",
       "\n",
       "[178 rows x 1 columns]"
      ]
     },
     "execution_count": 33,
     "metadata": {},
     "output_type": "execute_result"
    }
   ],
   "source": [
    "# Again cheking percent of missing values in columns\n",
    "df_miss = (round(((df.isnull().sum()/len(df.index))*100),2).to_frame('null')).sort_values('null', ascending=False)\n",
    "df_miss"
   ]
  },
  {
   "cell_type": "markdown",
   "metadata": {
    "id": "FO_X0EgLndvF"
   },
   "source": [
    "From the above vaues, MOU for all the types of calls for the July (7) month have missing values.\n",
    "\n",
    "Identify the missing values of the MOU for July (7) and delete the records for which MOU for August (8) are null."
   ]
  },
  {
   "cell_type": "code",
   "execution_count": 34,
   "metadata": {
    "colab": {
     "base_uri": "https://localhost:8080/"
    },
    "id": "GzofjAaCndvF",
    "outputId": "afd0ee07-53e2-4d70-9a01-5a6217e0577b"
   },
   "outputs": [
    {
     "name": "stdout",
     "output_type": "stream",
     "text": [
      "['loc_ic_t2f_mou_7', 'isd_ic_mou_7', 'loc_og_t2f_mou_7', 'loc_og_t2c_mou_7', 'loc_og_mou_7', 'std_og_t2t_mou_7', 'std_og_t2f_mou_7', 'std_og_t2c_mou_7', 'std_og_mou_7', 'ic_others_7', 'isd_og_mou_7', 'spl_og_mou_7', 'loc_og_t2t_mou_7', 'og_others_7', 'spl_ic_mou_7', 'loc_ic_t2t_mou_7', 'std_ic_mou_7', 'loc_ic_t2m_mou_7', 'std_ic_t2o_mou_7', 'std_ic_t2f_mou_7', 'loc_ic_mou_7', 'std_ic_t2t_mou_7', 'loc_og_t2m_mou_7', 'std_og_t2m_mou_7', 'std_ic_t2m_mou_7', 'roam_ic_mou_7', 'onnet_mou_7', 'roam_og_mou_7', 'offnet_mou_7']\n"
     ]
    }
   ],
   "source": [
    "# Listing the columns of MOU Jul(7)\n",
    "print(((df_miss[df_miss['null'] == 0.12]).index).to_list())"
   ]
  },
  {
   "cell_type": "code",
   "execution_count": 35,
   "metadata": {
    "colab": {
     "base_uri": "https://localhost:8080/",
     "height": 300
    },
    "id": "0oFAxITgndvF",
    "outputId": "696633a4-245f-48e1-8f59-a77d7cf1ff10"
   },
   "outputs": [
    {
     "data": {
      "text/html": [
       "<div>\n",
       "<style scoped>\n",
       "    .dataframe tbody tr th:only-of-type {\n",
       "        vertical-align: middle;\n",
       "    }\n",
       "\n",
       "    .dataframe tbody tr th {\n",
       "        vertical-align: top;\n",
       "    }\n",
       "\n",
       "    .dataframe thead th {\n",
       "        text-align: right;\n",
       "    }\n",
       "</style>\n",
       "<table border=\"1\" class=\"dataframe\">\n",
       "  <thead>\n",
       "    <tr style=\"text-align: right;\">\n",
       "      <th></th>\n",
       "      <th>mobile_number</th>\n",
       "      <th>loc_og_t2o_mou</th>\n",
       "      <th>std_og_t2o_mou</th>\n",
       "      <th>loc_ic_t2o_mou</th>\n",
       "      <th>arpu_6</th>\n",
       "      <th>arpu_7</th>\n",
       "      <th>arpu_8</th>\n",
       "      <th>arpu_9</th>\n",
       "      <th>onnet_mou_6</th>\n",
       "      <th>onnet_mou_7</th>\n",
       "      <th>...</th>\n",
       "      <th>sachet_3g_6</th>\n",
       "      <th>sachet_3g_7</th>\n",
       "      <th>sachet_3g_8</th>\n",
       "      <th>sachet_3g_9</th>\n",
       "      <th>aon</th>\n",
       "      <th>aug_vbc_3g</th>\n",
       "      <th>jul_vbc_3g</th>\n",
       "      <th>jun_vbc_3g</th>\n",
       "      <th>sep_vbc_3g</th>\n",
       "      <th>avg_ra_6_7</th>\n",
       "    </tr>\n",
       "  </thead>\n",
       "  <tbody>\n",
       "    <tr>\n",
       "      <th>5616</th>\n",
       "      <td>7001238202</td>\n",
       "      <td>0.0</td>\n",
       "      <td>0.0</td>\n",
       "      <td>0.0</td>\n",
       "      <td>760.815</td>\n",
       "      <td>531.088</td>\n",
       "      <td>992.818</td>\n",
       "      <td>1144.676</td>\n",
       "      <td>324.91</td>\n",
       "      <td>NaN</td>\n",
       "      <td>...</td>\n",
       "      <td>0</td>\n",
       "      <td>0</td>\n",
       "      <td>0</td>\n",
       "      <td>0</td>\n",
       "      <td>576</td>\n",
       "      <td>63.38</td>\n",
       "      <td>0.0</td>\n",
       "      <td>0.0</td>\n",
       "      <td>163.39</td>\n",
       "      <td>778.0</td>\n",
       "    </tr>\n",
       "    <tr>\n",
       "      <th>9451</th>\n",
       "      <td>7001477649</td>\n",
       "      <td>0.0</td>\n",
       "      <td>0.0</td>\n",
       "      <td>0.0</td>\n",
       "      <td>1129.566</td>\n",
       "      <td>0.000</td>\n",
       "      <td>128.252</td>\n",
       "      <td>802.648</td>\n",
       "      <td>11.89</td>\n",
       "      <td>NaN</td>\n",
       "      <td>...</td>\n",
       "      <td>0</td>\n",
       "      <td>0</td>\n",
       "      <td>0</td>\n",
       "      <td>0</td>\n",
       "      <td>672</td>\n",
       "      <td>0.00</td>\n",
       "      <td>0.0</td>\n",
       "      <td>0.0</td>\n",
       "      <td>0.00</td>\n",
       "      <td>603.0</td>\n",
       "    </tr>\n",
       "    <tr>\n",
       "      <th>9955</th>\n",
       "      <td>7001658068</td>\n",
       "      <td>0.0</td>\n",
       "      <td>0.0</td>\n",
       "      <td>0.0</td>\n",
       "      <td>925.028</td>\n",
       "      <td>189.000</td>\n",
       "      <td>789.761</td>\n",
       "      <td>445.707</td>\n",
       "      <td>46.39</td>\n",
       "      <td>NaN</td>\n",
       "      <td>...</td>\n",
       "      <td>0</td>\n",
       "      <td>0</td>\n",
       "      <td>0</td>\n",
       "      <td>0</td>\n",
       "      <td>3107</td>\n",
       "      <td>0.00</td>\n",
       "      <td>0.0</td>\n",
       "      <td>0.0</td>\n",
       "      <td>0.00</td>\n",
       "      <td>692.5</td>\n",
       "    </tr>\n",
       "    <tr>\n",
       "      <th>10724</th>\n",
       "      <td>7001391499</td>\n",
       "      <td>0.0</td>\n",
       "      <td>0.0</td>\n",
       "      <td>0.0</td>\n",
       "      <td>894.818</td>\n",
       "      <td>85.000</td>\n",
       "      <td>207.040</td>\n",
       "      <td>363.314</td>\n",
       "      <td>117.21</td>\n",
       "      <td>NaN</td>\n",
       "      <td>...</td>\n",
       "      <td>0</td>\n",
       "      <td>0</td>\n",
       "      <td>0</td>\n",
       "      <td>0</td>\n",
       "      <td>2664</td>\n",
       "      <td>0.00</td>\n",
       "      <td>0.0</td>\n",
       "      <td>0.0</td>\n",
       "      <td>0.00</td>\n",
       "      <td>510.0</td>\n",
       "    </tr>\n",
       "    <tr>\n",
       "      <th>12107</th>\n",
       "      <td>7000131738</td>\n",
       "      <td>0.0</td>\n",
       "      <td>0.0</td>\n",
       "      <td>0.0</td>\n",
       "      <td>1803.475</td>\n",
       "      <td>0.000</td>\n",
       "      <td>0.600</td>\n",
       "      <td>25.243</td>\n",
       "      <td>1742.61</td>\n",
       "      <td>NaN</td>\n",
       "      <td>...</td>\n",
       "      <td>0</td>\n",
       "      <td>0</td>\n",
       "      <td>0</td>\n",
       "      <td>0</td>\n",
       "      <td>219</td>\n",
       "      <td>0.00</td>\n",
       "      <td>0.0</td>\n",
       "      <td>0.0</td>\n",
       "      <td>0.00</td>\n",
       "      <td>995.0</td>\n",
       "    </tr>\n",
       "  </tbody>\n",
       "</table>\n",
       "<p>5 rows × 178 columns</p>\n",
       "</div>"
      ],
      "text/plain": [
       "       mobile_number  loc_og_t2o_mou  std_og_t2o_mou  loc_ic_t2o_mou  \\\n",
       "5616      7001238202             0.0             0.0             0.0   \n",
       "9451      7001477649             0.0             0.0             0.0   \n",
       "9955      7001658068             0.0             0.0             0.0   \n",
       "10724     7001391499             0.0             0.0             0.0   \n",
       "12107     7000131738             0.0             0.0             0.0   \n",
       "\n",
       "         arpu_6   arpu_7   arpu_8    arpu_9  onnet_mou_6  onnet_mou_7  ...  \\\n",
       "5616    760.815  531.088  992.818  1144.676       324.91          NaN  ...   \n",
       "9451   1129.566    0.000  128.252   802.648        11.89          NaN  ...   \n",
       "9955    925.028  189.000  789.761   445.707        46.39          NaN  ...   \n",
       "10724   894.818   85.000  207.040   363.314       117.21          NaN  ...   \n",
       "12107  1803.475    0.000    0.600    25.243      1742.61          NaN  ...   \n",
       "\n",
       "       sachet_3g_6  sachet_3g_7  sachet_3g_8  sachet_3g_9   aon  aug_vbc_3g  \\\n",
       "5616             0            0            0            0   576       63.38   \n",
       "9451             0            0            0            0   672        0.00   \n",
       "9955             0            0            0            0  3107        0.00   \n",
       "10724            0            0            0            0  2664        0.00   \n",
       "12107            0            0            0            0   219        0.00   \n",
       "\n",
       "       jul_vbc_3g  jun_vbc_3g  sep_vbc_3g  avg_ra_6_7  \n",
       "5616          0.0         0.0      163.39       778.0  \n",
       "9451          0.0         0.0        0.00       603.0  \n",
       "9955          0.0         0.0        0.00       692.5  \n",
       "10724         0.0         0.0        0.00       510.0  \n",
       "12107         0.0         0.0        0.00       995.0  \n",
       "\n",
       "[5 rows x 178 columns]"
      ]
     },
     "execution_count": 35,
     "metadata": {},
     "output_type": "execute_result"
    }
   ],
   "source": [
    "# Creating a dataframe with the condition, in which MOU for Jul(7) are null\n",
    "df_null_mou_7 = df[(df['loc_og_t2m_mou_7'].isnull()) & (df['loc_ic_t2f_mou_7'].isnull()) & (df['roam_og_mou_7'].isnull()) & (df['std_ic_t2m_mou_7'].isnull()) &\n",
    "  (df['loc_og_t2t_mou_7'].isnull()) & (df['std_ic_t2t_mou_7'].isnull()) & (df['loc_og_t2f_mou_7'].isnull()) & (df['loc_ic_mou_7'].isnull()) &\n",
    "  (df['loc_og_t2c_mou_7'].isnull()) & (df['loc_og_mou_7'].isnull()) & (df['std_og_t2t_mou_7'].isnull()) & (df['roam_ic_mou_7'].isnull()) &\n",
    "  (df['loc_ic_t2m_mou_7'].isnull()) & (df['std_og_t2m_mou_7'].isnull()) & (df['loc_ic_t2t_mou_7'].isnull()) & (df['std_og_t2f_mou_7'].isnull()) & \n",
    "  (df['std_og_t2c_mou_7'].isnull()) & (df['og_others_7'].isnull()) & (df['std_og_mou_7'].isnull()) & (df['spl_og_mou_7'].isnull()) & \n",
    "  (df['std_ic_t2f_mou_7'].isnull()) & (df['isd_og_mou_7'].isnull()) & (df['std_ic_mou_7'].isnull()) & (df['offnet_mou_7'].isnull()) & \n",
    "  (df['isd_ic_mou_7'].isnull()) & (df['ic_others_7'].isnull()) & (df['std_ic_t2o_mou_7'].isnull()) & (df['onnet_mou_7'].isnull()) & \n",
    "  (df['spl_ic_mou_7'].isnull())]\n",
    "\n",
    "df_null_mou_7.head()"
   ]
  },
  {
   "cell_type": "code",
   "execution_count": 36,
   "metadata": {
    "id": "OBHKFw4kndvG"
   },
   "outputs": [],
   "source": [
    "# Deleting the records for which MOU for Jul(7) are null\n",
    "df = df.drop(df_null_mou_7.index)"
   ]
  },
  {
   "cell_type": "code",
   "execution_count": 37,
   "metadata": {
    "colab": {
     "base_uri": "https://localhost:8080/",
     "height": 424
    },
    "id": "FkI6jEYwndvG",
    "outputId": "b63cec0c-b9f0-4585-e669-124d0a64fa67",
    "scrolled": true
   },
   "outputs": [
    {
     "data": {
      "text/html": [
       "<div>\n",
       "<style scoped>\n",
       "    .dataframe tbody tr th:only-of-type {\n",
       "        vertical-align: middle;\n",
       "    }\n",
       "\n",
       "    .dataframe tbody tr th {\n",
       "        vertical-align: top;\n",
       "    }\n",
       "\n",
       "    .dataframe thead th {\n",
       "        text-align: right;\n",
       "    }\n",
       "</style>\n",
       "<table border=\"1\" class=\"dataframe\">\n",
       "  <thead>\n",
       "    <tr style=\"text-align: right;\">\n",
       "      <th></th>\n",
       "      <th>null</th>\n",
       "    </tr>\n",
       "  </thead>\n",
       "  <tbody>\n",
       "    <tr>\n",
       "      <th>mobile_number</th>\n",
       "      <td>0.0</td>\n",
       "    </tr>\n",
       "    <tr>\n",
       "      <th>total_rech_num_7</th>\n",
       "      <td>0.0</td>\n",
       "    </tr>\n",
       "    <tr>\n",
       "      <th>std_ic_mou_7</th>\n",
       "      <td>0.0</td>\n",
       "    </tr>\n",
       "    <tr>\n",
       "      <th>std_ic_mou_8</th>\n",
       "      <td>0.0</td>\n",
       "    </tr>\n",
       "    <tr>\n",
       "      <th>std_ic_mou_9</th>\n",
       "      <td>0.0</td>\n",
       "    </tr>\n",
       "    <tr>\n",
       "      <th>...</th>\n",
       "      <td>...</td>\n",
       "    </tr>\n",
       "    <tr>\n",
       "      <th>std_og_mou_7</th>\n",
       "      <td>0.0</td>\n",
       "    </tr>\n",
       "    <tr>\n",
       "      <th>std_og_mou_8</th>\n",
       "      <td>0.0</td>\n",
       "    </tr>\n",
       "    <tr>\n",
       "      <th>std_og_mou_9</th>\n",
       "      <td>0.0</td>\n",
       "    </tr>\n",
       "    <tr>\n",
       "      <th>isd_og_mou_6</th>\n",
       "      <td>0.0</td>\n",
       "    </tr>\n",
       "    <tr>\n",
       "      <th>avg_ra_6_7</th>\n",
       "      <td>0.0</td>\n",
       "    </tr>\n",
       "  </tbody>\n",
       "</table>\n",
       "<p>178 rows × 1 columns</p>\n",
       "</div>"
      ],
      "text/plain": [
       "                  null\n",
       "mobile_number      0.0\n",
       "total_rech_num_7   0.0\n",
       "std_ic_mou_7       0.0\n",
       "std_ic_mou_8       0.0\n",
       "std_ic_mou_9       0.0\n",
       "...                ...\n",
       "std_og_mou_7       0.0\n",
       "std_og_mou_8       0.0\n",
       "std_og_mou_9       0.0\n",
       "isd_og_mou_6       0.0\n",
       "avg_ra_6_7         0.0\n",
       "\n",
       "[178 rows x 1 columns]"
      ]
     },
     "execution_count": 37,
     "metadata": {},
     "output_type": "execute_result"
    }
   ],
   "source": [
    "# Again cheking percent of missing values in columns\n",
    "df_miss = (round(((df.isnull().sum()/len(df.index))*100),2).to_frame('null')).sort_values('null', ascending=False)\n",
    "df_miss"
   ]
  },
  {
   "cell_type": "markdown",
   "metadata": {
    "id": "dqqeo10gndvG"
   },
   "source": [
    "The missing values are not present the data anymore."
   ]
  },
  {
   "cell_type": "code",
   "execution_count": 38,
   "metadata": {
    "colab": {
     "base_uri": "https://localhost:8080/"
    },
    "id": "XlgkCa6QndvG",
    "outputId": "5cb21336-dd68-4b71-8f85-e99e52bb5e86"
   },
   "outputs": [
    {
     "data": {
      "text/plain": [
       "(27991, 178)"
      ]
     },
     "execution_count": 38,
     "metadata": {},
     "output_type": "execute_result"
    }
   ],
   "source": [
    "df.shape"
   ]
  },
  {
   "cell_type": "markdown",
   "metadata": {
    "id": "6jqu3-NCndvH"
   },
   "source": [
    "## 2. Tag churners and remove attributes of the churn phase"
   ]
  },
  {
   "cell_type": "markdown",
   "metadata": {
    "id": "ss8JoE_XndvH"
   },
   "source": [
    "Now tag the churned customers (churn=1, else 0) based on the fourth month as follows: \n",
    "Those who have not made any calls (either incoming or outgoing) AND have not used mobile internet even once in the churn phase. \n",
    "\n",
    "The attributes you need to use to tag churners are:\n",
    "\n",
    "total_ic_mou_9\n",
    "\n",
    "total_og_mou_9\n",
    "\n",
    "vol_2g_mb_9\n",
    "\n",
    "vol_3g_mb_9"
   ]
  },
  {
   "cell_type": "code",
   "execution_count": 39,
   "metadata": {
    "id": "OA9tRecSndvH"
   },
   "outputs": [],
   "source": [
    "df['churn'] = np.where((df['total_ic_mou_9']==0) & (df['total_og_mou_9']==0) & (df['vol_2g_mb_9']==0) & (df['vol_3g_mb_9']==0), 1, 0)"
   ]
  },
  {
   "cell_type": "code",
   "execution_count": 40,
   "metadata": {
    "colab": {
     "base_uri": "https://localhost:8080/",
     "height": 300
    },
    "id": "EkiX7YOtndvH",
    "outputId": "ff8f7c60-5296-4add-d628-c52594d2db25"
   },
   "outputs": [
    {
     "data": {
      "text/html": [
       "<div>\n",
       "<style scoped>\n",
       "    .dataframe tbody tr th:only-of-type {\n",
       "        vertical-align: middle;\n",
       "    }\n",
       "\n",
       "    .dataframe tbody tr th {\n",
       "        vertical-align: top;\n",
       "    }\n",
       "\n",
       "    .dataframe thead th {\n",
       "        text-align: right;\n",
       "    }\n",
       "</style>\n",
       "<table border=\"1\" class=\"dataframe\">\n",
       "  <thead>\n",
       "    <tr style=\"text-align: right;\">\n",
       "      <th></th>\n",
       "      <th>mobile_number</th>\n",
       "      <th>loc_og_t2o_mou</th>\n",
       "      <th>std_og_t2o_mou</th>\n",
       "      <th>loc_ic_t2o_mou</th>\n",
       "      <th>arpu_6</th>\n",
       "      <th>arpu_7</th>\n",
       "      <th>arpu_8</th>\n",
       "      <th>arpu_9</th>\n",
       "      <th>onnet_mou_6</th>\n",
       "      <th>onnet_mou_7</th>\n",
       "      <th>...</th>\n",
       "      <th>sachet_3g_7</th>\n",
       "      <th>sachet_3g_8</th>\n",
       "      <th>sachet_3g_9</th>\n",
       "      <th>aon</th>\n",
       "      <th>aug_vbc_3g</th>\n",
       "      <th>jul_vbc_3g</th>\n",
       "      <th>jun_vbc_3g</th>\n",
       "      <th>sep_vbc_3g</th>\n",
       "      <th>avg_ra_6_7</th>\n",
       "      <th>churn</th>\n",
       "    </tr>\n",
       "  </thead>\n",
       "  <tbody>\n",
       "    <tr>\n",
       "      <th>8</th>\n",
       "      <td>7001524846</td>\n",
       "      <td>0.0</td>\n",
       "      <td>0.0</td>\n",
       "      <td>0.0</td>\n",
       "      <td>378.721</td>\n",
       "      <td>492.223</td>\n",
       "      <td>137.362</td>\n",
       "      <td>166.787</td>\n",
       "      <td>413.69</td>\n",
       "      <td>351.03</td>\n",
       "      <td>...</td>\n",
       "      <td>0</td>\n",
       "      <td>0</td>\n",
       "      <td>0</td>\n",
       "      <td>315</td>\n",
       "      <td>21.03</td>\n",
       "      <td>910.65</td>\n",
       "      <td>122.16</td>\n",
       "      <td>0.0</td>\n",
       "      <td>519.0</td>\n",
       "      <td>0</td>\n",
       "    </tr>\n",
       "    <tr>\n",
       "      <th>13</th>\n",
       "      <td>7002191713</td>\n",
       "      <td>0.0</td>\n",
       "      <td>0.0</td>\n",
       "      <td>0.0</td>\n",
       "      <td>492.846</td>\n",
       "      <td>205.671</td>\n",
       "      <td>593.260</td>\n",
       "      <td>322.732</td>\n",
       "      <td>501.76</td>\n",
       "      <td>108.39</td>\n",
       "      <td>...</td>\n",
       "      <td>0</td>\n",
       "      <td>0</td>\n",
       "      <td>0</td>\n",
       "      <td>2607</td>\n",
       "      <td>0.00</td>\n",
       "      <td>0.00</td>\n",
       "      <td>0.00</td>\n",
       "      <td>0.0</td>\n",
       "      <td>380.0</td>\n",
       "      <td>0</td>\n",
       "    </tr>\n",
       "    <tr>\n",
       "      <th>16</th>\n",
       "      <td>7000875565</td>\n",
       "      <td>0.0</td>\n",
       "      <td>0.0</td>\n",
       "      <td>0.0</td>\n",
       "      <td>430.975</td>\n",
       "      <td>299.869</td>\n",
       "      <td>187.894</td>\n",
       "      <td>206.490</td>\n",
       "      <td>50.51</td>\n",
       "      <td>74.01</td>\n",
       "      <td>...</td>\n",
       "      <td>0</td>\n",
       "      <td>0</td>\n",
       "      <td>0</td>\n",
       "      <td>511</td>\n",
       "      <td>0.00</td>\n",
       "      <td>2.45</td>\n",
       "      <td>21.89</td>\n",
       "      <td>0.0</td>\n",
       "      <td>459.0</td>\n",
       "      <td>0</td>\n",
       "    </tr>\n",
       "    <tr>\n",
       "      <th>17</th>\n",
       "      <td>7000187447</td>\n",
       "      <td>0.0</td>\n",
       "      <td>0.0</td>\n",
       "      <td>0.0</td>\n",
       "      <td>690.008</td>\n",
       "      <td>18.980</td>\n",
       "      <td>25.499</td>\n",
       "      <td>257.583</td>\n",
       "      <td>1185.91</td>\n",
       "      <td>9.28</td>\n",
       "      <td>...</td>\n",
       "      <td>0</td>\n",
       "      <td>0</td>\n",
       "      <td>0</td>\n",
       "      <td>667</td>\n",
       "      <td>0.00</td>\n",
       "      <td>0.00</td>\n",
       "      <td>0.00</td>\n",
       "      <td>0.0</td>\n",
       "      <td>408.0</td>\n",
       "      <td>0</td>\n",
       "    </tr>\n",
       "    <tr>\n",
       "      <th>21</th>\n",
       "      <td>7002124215</td>\n",
       "      <td>0.0</td>\n",
       "      <td>0.0</td>\n",
       "      <td>0.0</td>\n",
       "      <td>514.453</td>\n",
       "      <td>597.753</td>\n",
       "      <td>637.760</td>\n",
       "      <td>578.596</td>\n",
       "      <td>102.41</td>\n",
       "      <td>132.11</td>\n",
       "      <td>...</td>\n",
       "      <td>0</td>\n",
       "      <td>0</td>\n",
       "      <td>0</td>\n",
       "      <td>720</td>\n",
       "      <td>0.00</td>\n",
       "      <td>0.00</td>\n",
       "      <td>0.00</td>\n",
       "      <td>0.0</td>\n",
       "      <td>640.0</td>\n",
       "      <td>0</td>\n",
       "    </tr>\n",
       "  </tbody>\n",
       "</table>\n",
       "<p>5 rows × 179 columns</p>\n",
       "</div>"
      ],
      "text/plain": [
       "    mobile_number  loc_og_t2o_mou  std_og_t2o_mou  loc_ic_t2o_mou   arpu_6  \\\n",
       "8      7001524846             0.0             0.0             0.0  378.721   \n",
       "13     7002191713             0.0             0.0             0.0  492.846   \n",
       "16     7000875565             0.0             0.0             0.0  430.975   \n",
       "17     7000187447             0.0             0.0             0.0  690.008   \n",
       "21     7002124215             0.0             0.0             0.0  514.453   \n",
       "\n",
       "     arpu_7   arpu_8   arpu_9  onnet_mou_6  onnet_mou_7  ...  sachet_3g_7  \\\n",
       "8   492.223  137.362  166.787       413.69       351.03  ...            0   \n",
       "13  205.671  593.260  322.732       501.76       108.39  ...            0   \n",
       "16  299.869  187.894  206.490        50.51        74.01  ...            0   \n",
       "17   18.980   25.499  257.583      1185.91         9.28  ...            0   \n",
       "21  597.753  637.760  578.596       102.41       132.11  ...            0   \n",
       "\n",
       "    sachet_3g_8  sachet_3g_9   aon  aug_vbc_3g  jul_vbc_3g  jun_vbc_3g  \\\n",
       "8             0            0   315       21.03      910.65      122.16   \n",
       "13            0            0  2607        0.00        0.00        0.00   \n",
       "16            0            0   511        0.00        2.45       21.89   \n",
       "17            0            0   667        0.00        0.00        0.00   \n",
       "21            0            0   720        0.00        0.00        0.00   \n",
       "\n",
       "    sep_vbc_3g  avg_ra_6_7  churn  \n",
       "8          0.0       519.0      0  \n",
       "13         0.0       380.0      0  \n",
       "16         0.0       459.0      0  \n",
       "17         0.0       408.0      0  \n",
       "21         0.0       640.0      0  \n",
       "\n",
       "[5 rows x 179 columns]"
      ]
     },
     "execution_count": 40,
     "metadata": {},
     "output_type": "execute_result"
    }
   ],
   "source": [
    "df.head()"
   ]
  },
  {
   "cell_type": "markdown",
   "metadata": {
    "id": "nLTI5vg5ndvH"
   },
   "source": [
    "After tagging churners, removing all the attributes corresponding to the churn phase (all attributes having ‘ _9’, etc. in their names)"
   ]
  },
  {
   "cell_type": "code",
   "execution_count": 41,
   "metadata": {
    "colab": {
     "base_uri": "https://localhost:8080/"
    },
    "id": "Kb4QO17KndvI",
    "outputId": "933fbd23-137a-4a2a-f461-41c15913cb1d"
   },
   "outputs": [
    {
     "name": "stdout",
     "output_type": "stream",
     "text": [
      "['arpu_9', 'onnet_mou_9', 'offnet_mou_9', 'roam_ic_mou_9', 'roam_og_mou_9', 'loc_og_t2t_mou_9', 'loc_og_t2m_mou_9', 'loc_og_t2f_mou_9', 'loc_og_t2c_mou_9', 'loc_og_mou_9', 'std_og_t2t_mou_9', 'std_og_t2m_mou_9', 'std_og_t2f_mou_9', 'std_og_t2c_mou_9', 'std_og_mou_9', 'isd_og_mou_9', 'spl_og_mou_9', 'og_others_9', 'total_og_mou_9', 'loc_ic_t2t_mou_9', 'loc_ic_t2m_mou_9', 'loc_ic_t2f_mou_9', 'loc_ic_mou_9', 'std_ic_t2t_mou_9', 'std_ic_t2m_mou_9', 'std_ic_t2f_mou_9', 'std_ic_t2o_mou_9', 'std_ic_mou_9', 'total_ic_mou_9', 'spl_ic_mou_9', 'isd_ic_mou_9', 'ic_others_9', 'total_rech_num_9', 'total_rech_amt_9', 'max_rech_amt_9', 'last_day_rch_amt_9', 'vol_2g_mb_9', 'vol_3g_mb_9', 'monthly_2g_9', 'sachet_2g_9', 'monthly_3g_9', 'sachet_3g_9']\n"
     ]
    }
   ],
   "source": [
    "# List the columns for churn month(9)\n",
    "att_9 = [col for col in df.columns.to_list() if '_9' in col]\n",
    "print(att_9)"
   ]
  },
  {
   "cell_type": "code",
   "execution_count": 42,
   "metadata": {
    "id": "M2qi6E1QndvI"
   },
   "outputs": [],
   "source": [
    "# Deleting the churn month columns\n",
    "df = df.drop(att_9, axis=1)"
   ]
  },
  {
   "cell_type": "code",
   "execution_count": 43,
   "metadata": {
    "id": "MI7EkYejndvI"
   },
   "outputs": [],
   "source": [
    "# Dropping sep_vbc_3g column as september is an _9 attribute\n",
    "df = df.drop('sep_vbc_3g', axis=1)"
   ]
  },
  {
   "cell_type": "markdown",
   "metadata": {
    "id": "SFcynoIVndvI"
   },
   "source": [
    "#### Churn rate percentage"
   ]
  },
  {
   "cell_type": "code",
   "execution_count": 44,
   "metadata": {
    "colab": {
     "base_uri": "https://localhost:8080/"
    },
    "id": "eRhBGnLvndvI",
    "outputId": "c3cc564b-eedd-4053-cd76-9dffa21465bb"
   },
   "outputs": [
    {
     "data": {
      "text/plain": [
       "3.39"
      ]
     },
     "execution_count": 44,
     "metadata": {},
     "output_type": "execute_result"
    }
   ],
   "source": [
    "round(100*(df['churn'].mean()),2)"
   ]
  },
  {
   "cell_type": "markdown",
   "metadata": {
    "id": "M6t4-5S6ndvJ"
   },
   "source": [
    "The rate of churn is typically low (about 5-10%, this is called class-imbalance) - we will use techniques to handle class imbalance later."
   ]
  },
  {
   "cell_type": "markdown",
   "metadata": {
    "id": "btPDDFBWndvJ"
   },
   "source": [
    "## Datatype conversion"
   ]
  },
  {
   "cell_type": "markdown",
   "metadata": {
    "id": "Rn_J4CGqndvJ"
   },
   "source": [
    "In the final dataset except mobile_number and churn columns all other columns are numeric types. Hence, converting mobile_number and churn datatypes to object."
   ]
  },
  {
   "cell_type": "code",
   "execution_count": 45,
   "metadata": {
    "id": "StT6PtvnndvJ"
   },
   "outputs": [],
   "source": [
    "df['mobile_number'] = df['mobile_number'].astype(object)\n",
    "df['churn'] = df['churn'].astype(object)"
   ]
  },
  {
   "cell_type": "code",
   "execution_count": 46,
   "metadata": {
    "colab": {
     "base_uri": "https://localhost:8080/"
    },
    "id": "6pwWQ9P0ndvJ",
    "outputId": "b391a69e-d7bd-4583-b04e-f783d3c16cc9"
   },
   "outputs": [
    {
     "name": "stdout",
     "output_type": "stream",
     "text": [
      "<class 'pandas.core.frame.DataFrame'>\n",
      "Int64Index: 27991 entries, 8 to 99997\n",
      "Columns: 136 entries, mobile_number to churn\n",
      "dtypes: float64(109), int64(25), object(2)\n",
      "memory usage: 29.3+ MB\n"
     ]
    }
   ],
   "source": [
    "df.info()"
   ]
  },
  {
   "cell_type": "code",
   "execution_count": 47,
   "metadata": {
    "colab": {
     "base_uri": "https://localhost:8080/"
    },
    "id": "FP10234WndvJ",
    "outputId": "7b3fb4bc-8931-49ad-ade2-882c235c6111"
   },
   "outputs": [
    {
     "name": "stdout",
     "output_type": "stream",
     "text": [
      "Index(['loc_og_t2o_mou', 'std_og_t2o_mou', 'loc_ic_t2o_mou', 'arpu_6',\n",
      "       'arpu_7', 'arpu_8', 'onnet_mou_6', 'onnet_mou_7', 'onnet_mou_8',\n",
      "       'offnet_mou_6',\n",
      "       ...\n",
      "       'monthly_3g_7', 'monthly_3g_8', 'sachet_3g_6', 'sachet_3g_7',\n",
      "       'sachet_3g_8', 'aon', 'aug_vbc_3g', 'jul_vbc_3g', 'jun_vbc_3g',\n",
      "       'avg_ra_6_7'],\n",
      "      dtype='object', length=134)\n"
     ]
    }
   ],
   "source": [
    "# Listing of only the numeric columns\n",
    "numeric_col = df.select_dtypes(exclude=['object']).columns\n",
    "print(numeric_col)"
   ]
  },
  {
   "cell_type": "code",
   "execution_count": 48,
   "metadata": {
    "colab": {
     "base_uri": "https://localhost:8080/"
    },
    "id": "yRBlqhRFndvK",
    "outputId": "a953af78-5fc2-4a65-aa69-19a3809c7222"
   },
   "outputs": [
    {
     "data": {
      "text/plain": [
       "(27705, 136)"
      ]
     },
     "execution_count": 48,
     "metadata": {},
     "output_type": "execute_result"
    }
   ],
   "source": [
    "# Removal of outliers that is lying below 10th and above 90th percentile\n",
    "for col in numeric_col: \n",
    "    q1 = df[col].quantile(0.10)\n",
    "    q3 = df[col].quantile(0.90)\n",
    "    iqr = q3-q1\n",
    "    range_low  = q1-1.5*iqr\n",
    "    range_high = q3+1.5*iqr\n",
    "    # Assigning the filtered dataset into data\n",
    "    data = df.loc[(df[col] > range_low) & (df[col] < range_high)]\n",
    "\n",
    "data.shape"
   ]
  },
  {
   "cell_type": "markdown",
   "metadata": {
    "id": "tq6RHpwcndvK"
   },
   "source": [
    "### Derivation of new features"
   ]
  },
  {
   "cell_type": "code",
   "execution_count": 49,
   "metadata": {
    "colab": {
     "base_uri": "https://localhost:8080/"
    },
    "id": "ndtadPIhndvK",
    "outputId": "cdb31acf-04e0-4796-aaf4-9fc3870a9f24"
   },
   "outputs": [
    {
     "data": {
      "text/plain": [
       "['total_og_mou_6',\n",
       " 'total_og_mou_7',\n",
       " 'total_og_mou_8',\n",
       " 'total_ic_mou_6',\n",
       " 'total_ic_mou_7',\n",
       " 'total_ic_mou_8',\n",
       " 'total_rech_num_6',\n",
       " 'total_rech_num_7',\n",
       " 'total_rech_num_8',\n",
       " 'total_rech_amt_6',\n",
       " 'total_rech_amt_7',\n",
       " 'total_rech_amt_8']"
      ]
     },
     "execution_count": 49,
     "metadata": {},
     "output_type": "execute_result"
    }
   ],
   "source": [
    "# Listing the columns of total mou, rech_num and rech_amt\n",
    "[total for total in data.columns.to_list() if 'total' in total]"
   ]
  },
  {
   "cell_type": "markdown",
   "metadata": {
    "id": "H8xBQ5xxndvK"
   },
   "source": [
    "#### Derivation of new column `decrease_mou_action`\n",
    "This column `decrease_mou_action` indicates whether the minutes of usage of the customer has decreased in the action phase when compared to the good phase."
   ]
  },
  {
   "cell_type": "code",
   "execution_count": 50,
   "metadata": {
    "id": "2dEvXpkindvK"
   },
   "outputs": [],
   "source": [
    "# Total mou at good phase including incoming and outgoing\n",
    "data['total_mou_good_phase'] = (data['total_og_mou_6'] + data['total_ic_mou_6'])"
   ]
  },
  {
   "cell_type": "code",
   "execution_count": 51,
   "metadata": {
    "id": "zdRB1KjGndvK"
   },
   "outputs": [],
   "source": [
    "# Avg. mou at action phase\n",
    "# Taking average as there are two months(7 and 8) included in action phase\n",
    "data['avg_mou_action_phase'] = (data['total_og_mou_7'] + data['total_og_mou_8'] + data['total_ic_mou_7'] + data['total_ic_mou_8'])/2"
   ]
  },
  {
   "cell_type": "code",
   "execution_count": 52,
   "metadata": {
    "id": "_o530n4UndvK"
   },
   "outputs": [],
   "source": [
    "# Difference between avg_mou_good and avg_mou_action\n",
    "data['diff_mou_good_action'] = data['avg_mou_action_phase'] - data['total_mou_good_phase']"
   ]
  },
  {
   "cell_type": "code",
   "execution_count": 53,
   "metadata": {
    "id": "RFULWUd6ndvL"
   },
   "outputs": [],
   "source": [
    "# Checking whether the mou has decreased in action phase\n",
    "data['decrease_mou_action'] = np.where((data['diff_mou_good_action'] < 0), 1, 0)"
   ]
  },
  {
   "cell_type": "code",
   "execution_count": 54,
   "metadata": {
    "colab": {
     "base_uri": "https://localhost:8080/",
     "height": 300
    },
    "id": "w9uZ-t7VndvL",
    "outputId": "46e9ee9a-4048-4ecf-f93a-28f59e75a497"
   },
   "outputs": [
    {
     "data": {
      "text/html": [
       "<div>\n",
       "<style scoped>\n",
       "    .dataframe tbody tr th:only-of-type {\n",
       "        vertical-align: middle;\n",
       "    }\n",
       "\n",
       "    .dataframe tbody tr th {\n",
       "        vertical-align: top;\n",
       "    }\n",
       "\n",
       "    .dataframe thead th {\n",
       "        text-align: right;\n",
       "    }\n",
       "</style>\n",
       "<table border=\"1\" class=\"dataframe\">\n",
       "  <thead>\n",
       "    <tr style=\"text-align: right;\">\n",
       "      <th></th>\n",
       "      <th>mobile_number</th>\n",
       "      <th>loc_og_t2o_mou</th>\n",
       "      <th>std_og_t2o_mou</th>\n",
       "      <th>loc_ic_t2o_mou</th>\n",
       "      <th>arpu_6</th>\n",
       "      <th>arpu_7</th>\n",
       "      <th>arpu_8</th>\n",
       "      <th>onnet_mou_6</th>\n",
       "      <th>onnet_mou_7</th>\n",
       "      <th>onnet_mou_8</th>\n",
       "      <th>...</th>\n",
       "      <th>aon</th>\n",
       "      <th>aug_vbc_3g</th>\n",
       "      <th>jul_vbc_3g</th>\n",
       "      <th>jun_vbc_3g</th>\n",
       "      <th>avg_ra_6_7</th>\n",
       "      <th>churn</th>\n",
       "      <th>total_mou_good_phase</th>\n",
       "      <th>avg_mou_action_phase</th>\n",
       "      <th>diff_mou_good_action</th>\n",
       "      <th>decrease_mou_action</th>\n",
       "    </tr>\n",
       "  </thead>\n",
       "  <tbody>\n",
       "    <tr>\n",
       "      <th>8</th>\n",
       "      <td>7001524846</td>\n",
       "      <td>0.0</td>\n",
       "      <td>0.0</td>\n",
       "      <td>0.0</td>\n",
       "      <td>378.721</td>\n",
       "      <td>492.223</td>\n",
       "      <td>137.362</td>\n",
       "      <td>413.69</td>\n",
       "      <td>351.03</td>\n",
       "      <td>35.08</td>\n",
       "      <td>...</td>\n",
       "      <td>315</td>\n",
       "      <td>21.03</td>\n",
       "      <td>910.65</td>\n",
       "      <td>122.16</td>\n",
       "      <td>519.0</td>\n",
       "      <td>0</td>\n",
       "      <td>612.22</td>\n",
       "      <td>324.125</td>\n",
       "      <td>-288.095</td>\n",
       "      <td>1</td>\n",
       "    </tr>\n",
       "    <tr>\n",
       "      <th>13</th>\n",
       "      <td>7002191713</td>\n",
       "      <td>0.0</td>\n",
       "      <td>0.0</td>\n",
       "      <td>0.0</td>\n",
       "      <td>492.846</td>\n",
       "      <td>205.671</td>\n",
       "      <td>593.260</td>\n",
       "      <td>501.76</td>\n",
       "      <td>108.39</td>\n",
       "      <td>534.24</td>\n",
       "      <td>...</td>\n",
       "      <td>2607</td>\n",
       "      <td>0.00</td>\n",
       "      <td>0.00</td>\n",
       "      <td>0.00</td>\n",
       "      <td>380.0</td>\n",
       "      <td>0</td>\n",
       "      <td>1875.70</td>\n",
       "      <td>1262.390</td>\n",
       "      <td>-613.310</td>\n",
       "      <td>1</td>\n",
       "    </tr>\n",
       "    <tr>\n",
       "      <th>16</th>\n",
       "      <td>7000875565</td>\n",
       "      <td>0.0</td>\n",
       "      <td>0.0</td>\n",
       "      <td>0.0</td>\n",
       "      <td>430.975</td>\n",
       "      <td>299.869</td>\n",
       "      <td>187.894</td>\n",
       "      <td>50.51</td>\n",
       "      <td>74.01</td>\n",
       "      <td>70.61</td>\n",
       "      <td>...</td>\n",
       "      <td>511</td>\n",
       "      <td>0.00</td>\n",
       "      <td>2.45</td>\n",
       "      <td>21.89</td>\n",
       "      <td>459.0</td>\n",
       "      <td>0</td>\n",
       "      <td>711.67</td>\n",
       "      <td>597.705</td>\n",
       "      <td>-113.965</td>\n",
       "      <td>1</td>\n",
       "    </tr>\n",
       "    <tr>\n",
       "      <th>17</th>\n",
       "      <td>7000187447</td>\n",
       "      <td>0.0</td>\n",
       "      <td>0.0</td>\n",
       "      <td>0.0</td>\n",
       "      <td>690.008</td>\n",
       "      <td>18.980</td>\n",
       "      <td>25.499</td>\n",
       "      <td>1185.91</td>\n",
       "      <td>9.28</td>\n",
       "      <td>7.79</td>\n",
       "      <td>...</td>\n",
       "      <td>667</td>\n",
       "      <td>0.00</td>\n",
       "      <td>0.00</td>\n",
       "      <td>0.00</td>\n",
       "      <td>408.0</td>\n",
       "      <td>0</td>\n",
       "      <td>1341.41</td>\n",
       "      <td>1.560</td>\n",
       "      <td>-1339.850</td>\n",
       "      <td>1</td>\n",
       "    </tr>\n",
       "    <tr>\n",
       "      <th>21</th>\n",
       "      <td>7002124215</td>\n",
       "      <td>0.0</td>\n",
       "      <td>0.0</td>\n",
       "      <td>0.0</td>\n",
       "      <td>514.453</td>\n",
       "      <td>597.753</td>\n",
       "      <td>637.760</td>\n",
       "      <td>102.41</td>\n",
       "      <td>132.11</td>\n",
       "      <td>85.14</td>\n",
       "      <td>...</td>\n",
       "      <td>720</td>\n",
       "      <td>0.00</td>\n",
       "      <td>0.00</td>\n",
       "      <td>0.00</td>\n",
       "      <td>640.0</td>\n",
       "      <td>0</td>\n",
       "      <td>1067.43</td>\n",
       "      <td>1245.130</td>\n",
       "      <td>177.700</td>\n",
       "      <td>0</td>\n",
       "    </tr>\n",
       "  </tbody>\n",
       "</table>\n",
       "<p>5 rows × 140 columns</p>\n",
       "</div>"
      ],
      "text/plain": [
       "   mobile_number  loc_og_t2o_mou  std_og_t2o_mou  loc_ic_t2o_mou   arpu_6  \\\n",
       "8     7001524846             0.0             0.0             0.0  378.721   \n",
       "13    7002191713             0.0             0.0             0.0  492.846   \n",
       "16    7000875565             0.0             0.0             0.0  430.975   \n",
       "17    7000187447             0.0             0.0             0.0  690.008   \n",
       "21    7002124215             0.0             0.0             0.0  514.453   \n",
       "\n",
       "     arpu_7   arpu_8  onnet_mou_6  onnet_mou_7  onnet_mou_8  ...   aon  \\\n",
       "8   492.223  137.362       413.69       351.03        35.08  ...   315   \n",
       "13  205.671  593.260       501.76       108.39       534.24  ...  2607   \n",
       "16  299.869  187.894        50.51        74.01        70.61  ...   511   \n",
       "17   18.980   25.499      1185.91         9.28         7.79  ...   667   \n",
       "21  597.753  637.760       102.41       132.11        85.14  ...   720   \n",
       "\n",
       "    aug_vbc_3g  jul_vbc_3g  jun_vbc_3g  avg_ra_6_7  churn  \\\n",
       "8        21.03      910.65      122.16       519.0      0   \n",
       "13        0.00        0.00        0.00       380.0      0   \n",
       "16        0.00        2.45       21.89       459.0      0   \n",
       "17        0.00        0.00        0.00       408.0      0   \n",
       "21        0.00        0.00        0.00       640.0      0   \n",
       "\n",
       "    total_mou_good_phase  avg_mou_action_phase  diff_mou_good_action  \\\n",
       "8                 612.22               324.125              -288.095   \n",
       "13               1875.70              1262.390              -613.310   \n",
       "16                711.67               597.705              -113.965   \n",
       "17               1341.41                 1.560             -1339.850   \n",
       "21               1067.43              1245.130               177.700   \n",
       "\n",
       "    decrease_mou_action  \n",
       "8                     1  \n",
       "13                    1  \n",
       "16                    1  \n",
       "17                    1  \n",
       "21                    0  \n",
       "\n",
       "[5 rows x 140 columns]"
      ]
     },
     "execution_count": 54,
     "metadata": {},
     "output_type": "execute_result"
    }
   ],
   "source": [
    "data.head()"
   ]
  },
  {
   "cell_type": "markdown",
   "metadata": {
    "id": "3phuuOzZndvL"
   },
   "source": [
    "#### Deriving new column `decrease_rech_num_action`\n",
    "This column indicates whether the number of recharge of the customer has decreased in the action phase than the good phase."
   ]
  },
  {
   "cell_type": "code",
   "execution_count": 55,
   "metadata": {
    "id": "XeM1fhzUndvL"
   },
   "outputs": [],
   "source": [
    "# Avg rech number at action phase\n",
    "data['avg_rech_num_action'] = (data['total_rech_num_7'] + data['total_rech_num_8'])/2"
   ]
  },
  {
   "cell_type": "code",
   "execution_count": 56,
   "metadata": {
    "id": "betH-akXndvL"
   },
   "outputs": [],
   "source": [
    "# Difference total_rech_num_6 and avg_rech_action\n",
    "data['diff_rech_num'] = data['avg_rech_num_action'] - data['total_rech_num_6']"
   ]
  },
  {
   "cell_type": "code",
   "execution_count": 57,
   "metadata": {
    "id": "8s4D3Ni1ndvL"
   },
   "outputs": [],
   "source": [
    "# Checking if rech_num has decreased in action phase\n",
    "data['decrease_rech_num_action'] = np.where((data['diff_rech_num'] < 0), 1, 0)"
   ]
  },
  {
   "cell_type": "code",
   "execution_count": 58,
   "metadata": {
    "colab": {
     "base_uri": "https://localhost:8080/",
     "height": 300
    },
    "id": "eONY_-4RndvL",
    "outputId": "a3faa23b-802a-4577-86cd-1945a3369aeb"
   },
   "outputs": [
    {
     "data": {
      "text/html": [
       "<div>\n",
       "<style scoped>\n",
       "    .dataframe tbody tr th:only-of-type {\n",
       "        vertical-align: middle;\n",
       "    }\n",
       "\n",
       "    .dataframe tbody tr th {\n",
       "        vertical-align: top;\n",
       "    }\n",
       "\n",
       "    .dataframe thead th {\n",
       "        text-align: right;\n",
       "    }\n",
       "</style>\n",
       "<table border=\"1\" class=\"dataframe\">\n",
       "  <thead>\n",
       "    <tr style=\"text-align: right;\">\n",
       "      <th></th>\n",
       "      <th>mobile_number</th>\n",
       "      <th>loc_og_t2o_mou</th>\n",
       "      <th>std_og_t2o_mou</th>\n",
       "      <th>loc_ic_t2o_mou</th>\n",
       "      <th>arpu_6</th>\n",
       "      <th>arpu_7</th>\n",
       "      <th>arpu_8</th>\n",
       "      <th>onnet_mou_6</th>\n",
       "      <th>onnet_mou_7</th>\n",
       "      <th>onnet_mou_8</th>\n",
       "      <th>...</th>\n",
       "      <th>jun_vbc_3g</th>\n",
       "      <th>avg_ra_6_7</th>\n",
       "      <th>churn</th>\n",
       "      <th>total_mou_good_phase</th>\n",
       "      <th>avg_mou_action_phase</th>\n",
       "      <th>diff_mou_good_action</th>\n",
       "      <th>decrease_mou_action</th>\n",
       "      <th>avg_rech_num_action</th>\n",
       "      <th>diff_rech_num</th>\n",
       "      <th>decrease_rech_num_action</th>\n",
       "    </tr>\n",
       "  </thead>\n",
       "  <tbody>\n",
       "    <tr>\n",
       "      <th>8</th>\n",
       "      <td>7001524846</td>\n",
       "      <td>0.0</td>\n",
       "      <td>0.0</td>\n",
       "      <td>0.0</td>\n",
       "      <td>378.721</td>\n",
       "      <td>492.223</td>\n",
       "      <td>137.362</td>\n",
       "      <td>413.69</td>\n",
       "      <td>351.03</td>\n",
       "      <td>35.08</td>\n",
       "      <td>...</td>\n",
       "      <td>122.16</td>\n",
       "      <td>519.0</td>\n",
       "      <td>0</td>\n",
       "      <td>612.22</td>\n",
       "      <td>324.125</td>\n",
       "      <td>-288.095</td>\n",
       "      <td>1</td>\n",
       "      <td>17.5</td>\n",
       "      <td>-1.5</td>\n",
       "      <td>1</td>\n",
       "    </tr>\n",
       "    <tr>\n",
       "      <th>13</th>\n",
       "      <td>7002191713</td>\n",
       "      <td>0.0</td>\n",
       "      <td>0.0</td>\n",
       "      <td>0.0</td>\n",
       "      <td>492.846</td>\n",
       "      <td>205.671</td>\n",
       "      <td>593.260</td>\n",
       "      <td>501.76</td>\n",
       "      <td>108.39</td>\n",
       "      <td>534.24</td>\n",
       "      <td>...</td>\n",
       "      <td>0.00</td>\n",
       "      <td>380.0</td>\n",
       "      <td>0</td>\n",
       "      <td>1875.70</td>\n",
       "      <td>1262.390</td>\n",
       "      <td>-613.310</td>\n",
       "      <td>1</td>\n",
       "      <td>7.5</td>\n",
       "      <td>1.5</td>\n",
       "      <td>0</td>\n",
       "    </tr>\n",
       "    <tr>\n",
       "      <th>16</th>\n",
       "      <td>7000875565</td>\n",
       "      <td>0.0</td>\n",
       "      <td>0.0</td>\n",
       "      <td>0.0</td>\n",
       "      <td>430.975</td>\n",
       "      <td>299.869</td>\n",
       "      <td>187.894</td>\n",
       "      <td>50.51</td>\n",
       "      <td>74.01</td>\n",
       "      <td>70.61</td>\n",
       "      <td>...</td>\n",
       "      <td>21.89</td>\n",
       "      <td>459.0</td>\n",
       "      <td>0</td>\n",
       "      <td>711.67</td>\n",
       "      <td>597.705</td>\n",
       "      <td>-113.965</td>\n",
       "      <td>1</td>\n",
       "      <td>4.0</td>\n",
       "      <td>-6.0</td>\n",
       "      <td>1</td>\n",
       "    </tr>\n",
       "    <tr>\n",
       "      <th>17</th>\n",
       "      <td>7000187447</td>\n",
       "      <td>0.0</td>\n",
       "      <td>0.0</td>\n",
       "      <td>0.0</td>\n",
       "      <td>690.008</td>\n",
       "      <td>18.980</td>\n",
       "      <td>25.499</td>\n",
       "      <td>1185.91</td>\n",
       "      <td>9.28</td>\n",
       "      <td>7.79</td>\n",
       "      <td>...</td>\n",
       "      <td>0.00</td>\n",
       "      <td>408.0</td>\n",
       "      <td>0</td>\n",
       "      <td>1341.41</td>\n",
       "      <td>1.560</td>\n",
       "      <td>-1339.850</td>\n",
       "      <td>1</td>\n",
       "      <td>3.0</td>\n",
       "      <td>-16.0</td>\n",
       "      <td>1</td>\n",
       "    </tr>\n",
       "    <tr>\n",
       "      <th>21</th>\n",
       "      <td>7002124215</td>\n",
       "      <td>0.0</td>\n",
       "      <td>0.0</td>\n",
       "      <td>0.0</td>\n",
       "      <td>514.453</td>\n",
       "      <td>597.753</td>\n",
       "      <td>637.760</td>\n",
       "      <td>102.41</td>\n",
       "      <td>132.11</td>\n",
       "      <td>85.14</td>\n",
       "      <td>...</td>\n",
       "      <td>0.00</td>\n",
       "      <td>640.0</td>\n",
       "      <td>0</td>\n",
       "      <td>1067.43</td>\n",
       "      <td>1245.130</td>\n",
       "      <td>177.700</td>\n",
       "      <td>0</td>\n",
       "      <td>26.5</td>\n",
       "      <td>4.5</td>\n",
       "      <td>0</td>\n",
       "    </tr>\n",
       "  </tbody>\n",
       "</table>\n",
       "<p>5 rows × 143 columns</p>\n",
       "</div>"
      ],
      "text/plain": [
       "   mobile_number  loc_og_t2o_mou  std_og_t2o_mou  loc_ic_t2o_mou   arpu_6  \\\n",
       "8     7001524846             0.0             0.0             0.0  378.721   \n",
       "13    7002191713             0.0             0.0             0.0  492.846   \n",
       "16    7000875565             0.0             0.0             0.0  430.975   \n",
       "17    7000187447             0.0             0.0             0.0  690.008   \n",
       "21    7002124215             0.0             0.0             0.0  514.453   \n",
       "\n",
       "     arpu_7   arpu_8  onnet_mou_6  onnet_mou_7  onnet_mou_8  ...  jun_vbc_3g  \\\n",
       "8   492.223  137.362       413.69       351.03        35.08  ...      122.16   \n",
       "13  205.671  593.260       501.76       108.39       534.24  ...        0.00   \n",
       "16  299.869  187.894        50.51        74.01        70.61  ...       21.89   \n",
       "17   18.980   25.499      1185.91         9.28         7.79  ...        0.00   \n",
       "21  597.753  637.760       102.41       132.11        85.14  ...        0.00   \n",
       "\n",
       "    avg_ra_6_7  churn  total_mou_good_phase  avg_mou_action_phase  \\\n",
       "8        519.0      0                612.22               324.125   \n",
       "13       380.0      0               1875.70              1262.390   \n",
       "16       459.0      0                711.67               597.705   \n",
       "17       408.0      0               1341.41                 1.560   \n",
       "21       640.0      0               1067.43              1245.130   \n",
       "\n",
       "    diff_mou_good_action  decrease_mou_action  avg_rech_num_action  \\\n",
       "8               -288.095                    1                 17.5   \n",
       "13              -613.310                    1                  7.5   \n",
       "16              -113.965                    1                  4.0   \n",
       "17             -1339.850                    1                  3.0   \n",
       "21               177.700                    0                 26.5   \n",
       "\n",
       "    diff_rech_num  decrease_rech_num_action  \n",
       "8            -1.5                         1  \n",
       "13            1.5                         0  \n",
       "16           -6.0                         1  \n",
       "17          -16.0                         1  \n",
       "21            4.5                         0  \n",
       "\n",
       "[5 rows x 143 columns]"
      ]
     },
     "execution_count": 58,
     "metadata": {},
     "output_type": "execute_result"
    }
   ],
   "source": [
    "data.head()"
   ]
  },
  {
   "cell_type": "markdown",
   "metadata": {
    "id": "pyTCgxzvndvL"
   },
   "source": [
    "#### Deriving new column `decrease_rech_amt_action`\n",
    "This column indicates whether the amount of recharge of the customer has decreased in the action phase than the good phase."
   ]
  },
  {
   "cell_type": "code",
   "execution_count": 59,
   "metadata": {
    "id": "d4zHEHUKndvL"
   },
   "outputs": [],
   "source": [
    "# Avg rech_amt in action phase\n",
    "data['avg_rech_amt_action'] = (data['total_rech_amt_7'] + data['total_rech_amt_8'])/2"
   ]
  },
  {
   "cell_type": "code",
   "execution_count": 60,
   "metadata": {
    "id": "4rXKyPC7ndvM"
   },
   "outputs": [],
   "source": [
    "# Difference of action phase rech amt and good phase rech amt\n",
    "data['diff_rech_amt'] = data['avg_rech_amt_action'] - data['total_rech_amt_6']"
   ]
  },
  {
   "cell_type": "code",
   "execution_count": 61,
   "metadata": {
    "id": "q6hGIbTDndvM"
   },
   "outputs": [],
   "source": [
    "# Checking if rech_amt has decreased in action phase\n",
    "data['decrease_rech_amt_action'] = np.where((data['diff_rech_amt'] < 0), 1, 0) "
   ]
  },
  {
   "cell_type": "code",
   "execution_count": 62,
   "metadata": {
    "colab": {
     "base_uri": "https://localhost:8080/",
     "height": 300
    },
    "id": "BNbXos4JndvM",
    "outputId": "ba1bf454-5609-4d4a-bdc0-3d1afbb6bb8e"
   },
   "outputs": [
    {
     "data": {
      "text/html": [
       "<div>\n",
       "<style scoped>\n",
       "    .dataframe tbody tr th:only-of-type {\n",
       "        vertical-align: middle;\n",
       "    }\n",
       "\n",
       "    .dataframe tbody tr th {\n",
       "        vertical-align: top;\n",
       "    }\n",
       "\n",
       "    .dataframe thead th {\n",
       "        text-align: right;\n",
       "    }\n",
       "</style>\n",
       "<table border=\"1\" class=\"dataframe\">\n",
       "  <thead>\n",
       "    <tr style=\"text-align: right;\">\n",
       "      <th></th>\n",
       "      <th>mobile_number</th>\n",
       "      <th>loc_og_t2o_mou</th>\n",
       "      <th>std_og_t2o_mou</th>\n",
       "      <th>loc_ic_t2o_mou</th>\n",
       "      <th>arpu_6</th>\n",
       "      <th>arpu_7</th>\n",
       "      <th>arpu_8</th>\n",
       "      <th>onnet_mou_6</th>\n",
       "      <th>onnet_mou_7</th>\n",
       "      <th>onnet_mou_8</th>\n",
       "      <th>...</th>\n",
       "      <th>total_mou_good_phase</th>\n",
       "      <th>avg_mou_action_phase</th>\n",
       "      <th>diff_mou_good_action</th>\n",
       "      <th>decrease_mou_action</th>\n",
       "      <th>avg_rech_num_action</th>\n",
       "      <th>diff_rech_num</th>\n",
       "      <th>decrease_rech_num_action</th>\n",
       "      <th>avg_rech_amt_action</th>\n",
       "      <th>diff_rech_amt</th>\n",
       "      <th>decrease_rech_amt_action</th>\n",
       "    </tr>\n",
       "  </thead>\n",
       "  <tbody>\n",
       "    <tr>\n",
       "      <th>8</th>\n",
       "      <td>7001524846</td>\n",
       "      <td>0.0</td>\n",
       "      <td>0.0</td>\n",
       "      <td>0.0</td>\n",
       "      <td>378.721</td>\n",
       "      <td>492.223</td>\n",
       "      <td>137.362</td>\n",
       "      <td>413.69</td>\n",
       "      <td>351.03</td>\n",
       "      <td>35.08</td>\n",
       "      <td>...</td>\n",
       "      <td>612.22</td>\n",
       "      <td>324.125</td>\n",
       "      <td>-288.095</td>\n",
       "      <td>1</td>\n",
       "      <td>17.5</td>\n",
       "      <td>-1.5</td>\n",
       "      <td>1</td>\n",
       "      <td>360.5</td>\n",
       "      <td>-76.5</td>\n",
       "      <td>1</td>\n",
       "    </tr>\n",
       "    <tr>\n",
       "      <th>13</th>\n",
       "      <td>7002191713</td>\n",
       "      <td>0.0</td>\n",
       "      <td>0.0</td>\n",
       "      <td>0.0</td>\n",
       "      <td>492.846</td>\n",
       "      <td>205.671</td>\n",
       "      <td>593.260</td>\n",
       "      <td>501.76</td>\n",
       "      <td>108.39</td>\n",
       "      <td>534.24</td>\n",
       "      <td>...</td>\n",
       "      <td>1875.70</td>\n",
       "      <td>1262.390</td>\n",
       "      <td>-613.310</td>\n",
       "      <td>1</td>\n",
       "      <td>7.5</td>\n",
       "      <td>1.5</td>\n",
       "      <td>0</td>\n",
       "      <td>485.0</td>\n",
       "      <td>-22.0</td>\n",
       "      <td>1</td>\n",
       "    </tr>\n",
       "    <tr>\n",
       "      <th>16</th>\n",
       "      <td>7000875565</td>\n",
       "      <td>0.0</td>\n",
       "      <td>0.0</td>\n",
       "      <td>0.0</td>\n",
       "      <td>430.975</td>\n",
       "      <td>299.869</td>\n",
       "      <td>187.894</td>\n",
       "      <td>50.51</td>\n",
       "      <td>74.01</td>\n",
       "      <td>70.61</td>\n",
       "      <td>...</td>\n",
       "      <td>711.67</td>\n",
       "      <td>597.705</td>\n",
       "      <td>-113.965</td>\n",
       "      <td>1</td>\n",
       "      <td>4.0</td>\n",
       "      <td>-6.0</td>\n",
       "      <td>1</td>\n",
       "      <td>254.0</td>\n",
       "      <td>-316.0</td>\n",
       "      <td>1</td>\n",
       "    </tr>\n",
       "    <tr>\n",
       "      <th>17</th>\n",
       "      <td>7000187447</td>\n",
       "      <td>0.0</td>\n",
       "      <td>0.0</td>\n",
       "      <td>0.0</td>\n",
       "      <td>690.008</td>\n",
       "      <td>18.980</td>\n",
       "      <td>25.499</td>\n",
       "      <td>1185.91</td>\n",
       "      <td>9.28</td>\n",
       "      <td>7.79</td>\n",
       "      <td>...</td>\n",
       "      <td>1341.41</td>\n",
       "      <td>1.560</td>\n",
       "      <td>-1339.850</td>\n",
       "      <td>1</td>\n",
       "      <td>3.0</td>\n",
       "      <td>-16.0</td>\n",
       "      <td>1</td>\n",
       "      <td>15.0</td>\n",
       "      <td>-801.0</td>\n",
       "      <td>1</td>\n",
       "    </tr>\n",
       "    <tr>\n",
       "      <th>21</th>\n",
       "      <td>7002124215</td>\n",
       "      <td>0.0</td>\n",
       "      <td>0.0</td>\n",
       "      <td>0.0</td>\n",
       "      <td>514.453</td>\n",
       "      <td>597.753</td>\n",
       "      <td>637.760</td>\n",
       "      <td>102.41</td>\n",
       "      <td>132.11</td>\n",
       "      <td>85.14</td>\n",
       "      <td>...</td>\n",
       "      <td>1067.43</td>\n",
       "      <td>1245.130</td>\n",
       "      <td>177.700</td>\n",
       "      <td>0</td>\n",
       "      <td>26.5</td>\n",
       "      <td>4.5</td>\n",
       "      <td>0</td>\n",
       "      <td>699.0</td>\n",
       "      <td>99.0</td>\n",
       "      <td>0</td>\n",
       "    </tr>\n",
       "  </tbody>\n",
       "</table>\n",
       "<p>5 rows × 146 columns</p>\n",
       "</div>"
      ],
      "text/plain": [
       "   mobile_number  loc_og_t2o_mou  std_og_t2o_mou  loc_ic_t2o_mou   arpu_6  \\\n",
       "8     7001524846             0.0             0.0             0.0  378.721   \n",
       "13    7002191713             0.0             0.0             0.0  492.846   \n",
       "16    7000875565             0.0             0.0             0.0  430.975   \n",
       "17    7000187447             0.0             0.0             0.0  690.008   \n",
       "21    7002124215             0.0             0.0             0.0  514.453   \n",
       "\n",
       "     arpu_7   arpu_8  onnet_mou_6  onnet_mou_7  onnet_mou_8  ...  \\\n",
       "8   492.223  137.362       413.69       351.03        35.08  ...   \n",
       "13  205.671  593.260       501.76       108.39       534.24  ...   \n",
       "16  299.869  187.894        50.51        74.01        70.61  ...   \n",
       "17   18.980   25.499      1185.91         9.28         7.79  ...   \n",
       "21  597.753  637.760       102.41       132.11        85.14  ...   \n",
       "\n",
       "    total_mou_good_phase  avg_mou_action_phase  diff_mou_good_action  \\\n",
       "8                 612.22               324.125              -288.095   \n",
       "13               1875.70              1262.390              -613.310   \n",
       "16                711.67               597.705              -113.965   \n",
       "17               1341.41                 1.560             -1339.850   \n",
       "21               1067.43              1245.130               177.700   \n",
       "\n",
       "    decrease_mou_action  avg_rech_num_action  diff_rech_num  \\\n",
       "8                     1                 17.5           -1.5   \n",
       "13                    1                  7.5            1.5   \n",
       "16                    1                  4.0           -6.0   \n",
       "17                    1                  3.0          -16.0   \n",
       "21                    0                 26.5            4.5   \n",
       "\n",
       "    decrease_rech_num_action  avg_rech_amt_action  diff_rech_amt  \\\n",
       "8                          1                360.5          -76.5   \n",
       "13                         0                485.0          -22.0   \n",
       "16                         1                254.0         -316.0   \n",
       "17                         1                 15.0         -801.0   \n",
       "21                         0                699.0           99.0   \n",
       "\n",
       "    decrease_rech_amt_action  \n",
       "8                          1  \n",
       "13                         1  \n",
       "16                         1  \n",
       "17                         1  \n",
       "21                         0  \n",
       "\n",
       "[5 rows x 146 columns]"
      ]
     },
     "execution_count": 62,
     "metadata": {},
     "output_type": "execute_result"
    }
   ],
   "source": [
    "data.head()"
   ]
  },
  {
   "cell_type": "markdown",
   "metadata": {
    "id": "MD6oHBVBndvM"
   },
   "source": [
    "#### Deriving new column `decrease_arpu_action`\n",
    "This column indicates whether the average revenue per customer has decreased in the action phase than the good phase."
   ]
  },
  {
   "cell_type": "code",
   "execution_count": 63,
   "metadata": {
    "id": "_iN9ObU4ndvM"
   },
   "outputs": [],
   "source": [
    "# ARUP in action phase\n",
    "data['avg_arpu_action'] = (data['arpu_7'] + data['arpu_8'])/2"
   ]
  },
  {
   "cell_type": "code",
   "execution_count": 64,
   "metadata": {
    "id": "izU9_8TTndvM"
   },
   "outputs": [],
   "source": [
    "# Difference of good and action phase ARPU\n",
    "data['diff_arpu'] = data['avg_arpu_action'] - data['arpu_6']"
   ]
  },
  {
   "cell_type": "code",
   "execution_count": 65,
   "metadata": {
    "id": "6jryt5eGndvM"
   },
   "outputs": [],
   "source": [
    "# Checking whether the arpu has decreased on the action month\n",
    "data['decrease_arpu_action'] = np.where(data['diff_arpu'] < 0, 1, 0)"
   ]
  },
  {
   "cell_type": "code",
   "execution_count": 66,
   "metadata": {
    "colab": {
     "base_uri": "https://localhost:8080/",
     "height": 300
    },
    "id": "vdefqbmrndvN",
    "outputId": "5f785947-f0d9-46f1-c809-e6ad50833880"
   },
   "outputs": [
    {
     "data": {
      "text/html": [
       "<div>\n",
       "<style scoped>\n",
       "    .dataframe tbody tr th:only-of-type {\n",
       "        vertical-align: middle;\n",
       "    }\n",
       "\n",
       "    .dataframe tbody tr th {\n",
       "        vertical-align: top;\n",
       "    }\n",
       "\n",
       "    .dataframe thead th {\n",
       "        text-align: right;\n",
       "    }\n",
       "</style>\n",
       "<table border=\"1\" class=\"dataframe\">\n",
       "  <thead>\n",
       "    <tr style=\"text-align: right;\">\n",
       "      <th></th>\n",
       "      <th>mobile_number</th>\n",
       "      <th>loc_og_t2o_mou</th>\n",
       "      <th>std_og_t2o_mou</th>\n",
       "      <th>loc_ic_t2o_mou</th>\n",
       "      <th>arpu_6</th>\n",
       "      <th>arpu_7</th>\n",
       "      <th>arpu_8</th>\n",
       "      <th>onnet_mou_6</th>\n",
       "      <th>onnet_mou_7</th>\n",
       "      <th>onnet_mou_8</th>\n",
       "      <th>...</th>\n",
       "      <th>decrease_mou_action</th>\n",
       "      <th>avg_rech_num_action</th>\n",
       "      <th>diff_rech_num</th>\n",
       "      <th>decrease_rech_num_action</th>\n",
       "      <th>avg_rech_amt_action</th>\n",
       "      <th>diff_rech_amt</th>\n",
       "      <th>decrease_rech_amt_action</th>\n",
       "      <th>avg_arpu_action</th>\n",
       "      <th>diff_arpu</th>\n",
       "      <th>decrease_arpu_action</th>\n",
       "    </tr>\n",
       "  </thead>\n",
       "  <tbody>\n",
       "    <tr>\n",
       "      <th>8</th>\n",
       "      <td>7001524846</td>\n",
       "      <td>0.0</td>\n",
       "      <td>0.0</td>\n",
       "      <td>0.0</td>\n",
       "      <td>378.721</td>\n",
       "      <td>492.223</td>\n",
       "      <td>137.362</td>\n",
       "      <td>413.69</td>\n",
       "      <td>351.03</td>\n",
       "      <td>35.08</td>\n",
       "      <td>...</td>\n",
       "      <td>1</td>\n",
       "      <td>17.5</td>\n",
       "      <td>-1.5</td>\n",
       "      <td>1</td>\n",
       "      <td>360.5</td>\n",
       "      <td>-76.5</td>\n",
       "      <td>1</td>\n",
       "      <td>314.7925</td>\n",
       "      <td>-63.9285</td>\n",
       "      <td>1</td>\n",
       "    </tr>\n",
       "    <tr>\n",
       "      <th>13</th>\n",
       "      <td>7002191713</td>\n",
       "      <td>0.0</td>\n",
       "      <td>0.0</td>\n",
       "      <td>0.0</td>\n",
       "      <td>492.846</td>\n",
       "      <td>205.671</td>\n",
       "      <td>593.260</td>\n",
       "      <td>501.76</td>\n",
       "      <td>108.39</td>\n",
       "      <td>534.24</td>\n",
       "      <td>...</td>\n",
       "      <td>1</td>\n",
       "      <td>7.5</td>\n",
       "      <td>1.5</td>\n",
       "      <td>0</td>\n",
       "      <td>485.0</td>\n",
       "      <td>-22.0</td>\n",
       "      <td>1</td>\n",
       "      <td>399.4655</td>\n",
       "      <td>-93.3805</td>\n",
       "      <td>1</td>\n",
       "    </tr>\n",
       "    <tr>\n",
       "      <th>16</th>\n",
       "      <td>7000875565</td>\n",
       "      <td>0.0</td>\n",
       "      <td>0.0</td>\n",
       "      <td>0.0</td>\n",
       "      <td>430.975</td>\n",
       "      <td>299.869</td>\n",
       "      <td>187.894</td>\n",
       "      <td>50.51</td>\n",
       "      <td>74.01</td>\n",
       "      <td>70.61</td>\n",
       "      <td>...</td>\n",
       "      <td>1</td>\n",
       "      <td>4.0</td>\n",
       "      <td>-6.0</td>\n",
       "      <td>1</td>\n",
       "      <td>254.0</td>\n",
       "      <td>-316.0</td>\n",
       "      <td>1</td>\n",
       "      <td>243.8815</td>\n",
       "      <td>-187.0935</td>\n",
       "      <td>1</td>\n",
       "    </tr>\n",
       "    <tr>\n",
       "      <th>17</th>\n",
       "      <td>7000187447</td>\n",
       "      <td>0.0</td>\n",
       "      <td>0.0</td>\n",
       "      <td>0.0</td>\n",
       "      <td>690.008</td>\n",
       "      <td>18.980</td>\n",
       "      <td>25.499</td>\n",
       "      <td>1185.91</td>\n",
       "      <td>9.28</td>\n",
       "      <td>7.79</td>\n",
       "      <td>...</td>\n",
       "      <td>1</td>\n",
       "      <td>3.0</td>\n",
       "      <td>-16.0</td>\n",
       "      <td>1</td>\n",
       "      <td>15.0</td>\n",
       "      <td>-801.0</td>\n",
       "      <td>1</td>\n",
       "      <td>22.2395</td>\n",
       "      <td>-667.7685</td>\n",
       "      <td>1</td>\n",
       "    </tr>\n",
       "    <tr>\n",
       "      <th>21</th>\n",
       "      <td>7002124215</td>\n",
       "      <td>0.0</td>\n",
       "      <td>0.0</td>\n",
       "      <td>0.0</td>\n",
       "      <td>514.453</td>\n",
       "      <td>597.753</td>\n",
       "      <td>637.760</td>\n",
       "      <td>102.41</td>\n",
       "      <td>132.11</td>\n",
       "      <td>85.14</td>\n",
       "      <td>...</td>\n",
       "      <td>0</td>\n",
       "      <td>26.5</td>\n",
       "      <td>4.5</td>\n",
       "      <td>0</td>\n",
       "      <td>699.0</td>\n",
       "      <td>99.0</td>\n",
       "      <td>0</td>\n",
       "      <td>617.7565</td>\n",
       "      <td>103.3035</td>\n",
       "      <td>0</td>\n",
       "    </tr>\n",
       "  </tbody>\n",
       "</table>\n",
       "<p>5 rows × 149 columns</p>\n",
       "</div>"
      ],
      "text/plain": [
       "   mobile_number  loc_og_t2o_mou  std_og_t2o_mou  loc_ic_t2o_mou   arpu_6  \\\n",
       "8     7001524846             0.0             0.0             0.0  378.721   \n",
       "13    7002191713             0.0             0.0             0.0  492.846   \n",
       "16    7000875565             0.0             0.0             0.0  430.975   \n",
       "17    7000187447             0.0             0.0             0.0  690.008   \n",
       "21    7002124215             0.0             0.0             0.0  514.453   \n",
       "\n",
       "     arpu_7   arpu_8  onnet_mou_6  onnet_mou_7  onnet_mou_8  ...  \\\n",
       "8   492.223  137.362       413.69       351.03        35.08  ...   \n",
       "13  205.671  593.260       501.76       108.39       534.24  ...   \n",
       "16  299.869  187.894        50.51        74.01        70.61  ...   \n",
       "17   18.980   25.499      1185.91         9.28         7.79  ...   \n",
       "21  597.753  637.760       102.41       132.11        85.14  ...   \n",
       "\n",
       "    decrease_mou_action  avg_rech_num_action  diff_rech_num  \\\n",
       "8                     1                 17.5           -1.5   \n",
       "13                    1                  7.5            1.5   \n",
       "16                    1                  4.0           -6.0   \n",
       "17                    1                  3.0          -16.0   \n",
       "21                    0                 26.5            4.5   \n",
       "\n",
       "    decrease_rech_num_action  avg_rech_amt_action  diff_rech_amt  \\\n",
       "8                          1                360.5          -76.5   \n",
       "13                         0                485.0          -22.0   \n",
       "16                         1                254.0         -316.0   \n",
       "17                         1                 15.0         -801.0   \n",
       "21                         0                699.0           99.0   \n",
       "\n",
       "    decrease_rech_amt_action  avg_arpu_action  diff_arpu  decrease_arpu_action  \n",
       "8                          1         314.7925   -63.9285                     1  \n",
       "13                         1         399.4655   -93.3805                     1  \n",
       "16                         1         243.8815  -187.0935                     1  \n",
       "17                         1          22.2395  -667.7685                     1  \n",
       "21                         0         617.7565   103.3035                     0  \n",
       "\n",
       "[5 rows x 149 columns]"
      ]
     },
     "execution_count": 66,
     "metadata": {},
     "output_type": "execute_result"
    }
   ],
   "source": [
    "data.head()"
   ]
  },
  {
   "cell_type": "markdown",
   "metadata": {
    "id": "U6mpwpEHndvN"
   },
   "source": [
    "#### Deriving new column `decrease_vbc_action`\n",
    "This column indicates whether the volume based cost of the customer has decreased in the action phase than the good phase."
   ]
  },
  {
   "cell_type": "code",
   "execution_count": 67,
   "metadata": {
    "id": "tVZay1evndvN"
   },
   "outputs": [],
   "source": [
    "# VBC in action phase\n",
    "data['avg_vbc_3g_action'] = (data['jul_vbc_3g'] + data['aug_vbc_3g'])/2"
   ]
  },
  {
   "cell_type": "code",
   "execution_count": 68,
   "metadata": {
    "id": "yal9SAsDndvN"
   },
   "outputs": [],
   "source": [
    "# Difference of good and action phase VBC\n",
    "data['diff_vbc'] = data['avg_vbc_3g_action'] - data['jun_vbc_3g']"
   ]
  },
  {
   "cell_type": "code",
   "execution_count": 69,
   "metadata": {
    "id": "VfyNwcvCndvN"
   },
   "outputs": [],
   "source": [
    "# Checking whether the VBC has decreased on the action month\n",
    "data['decrease_vbc_action'] = np.where(data['diff_vbc'] < 0 , 1, 0)"
   ]
  },
  {
   "cell_type": "code",
   "execution_count": 70,
   "metadata": {
    "colab": {
     "base_uri": "https://localhost:8080/",
     "height": 300
    },
    "id": "tGE7SccpndvN",
    "outputId": "1596f02a-dada-475a-a79e-d3ca2052de0d"
   },
   "outputs": [
    {
     "data": {
      "text/html": [
       "<div>\n",
       "<style scoped>\n",
       "    .dataframe tbody tr th:only-of-type {\n",
       "        vertical-align: middle;\n",
       "    }\n",
       "\n",
       "    .dataframe tbody tr th {\n",
       "        vertical-align: top;\n",
       "    }\n",
       "\n",
       "    .dataframe thead th {\n",
       "        text-align: right;\n",
       "    }\n",
       "</style>\n",
       "<table border=\"1\" class=\"dataframe\">\n",
       "  <thead>\n",
       "    <tr style=\"text-align: right;\">\n",
       "      <th></th>\n",
       "      <th>mobile_number</th>\n",
       "      <th>loc_og_t2o_mou</th>\n",
       "      <th>std_og_t2o_mou</th>\n",
       "      <th>loc_ic_t2o_mou</th>\n",
       "      <th>arpu_6</th>\n",
       "      <th>arpu_7</th>\n",
       "      <th>arpu_8</th>\n",
       "      <th>onnet_mou_6</th>\n",
       "      <th>onnet_mou_7</th>\n",
       "      <th>onnet_mou_8</th>\n",
       "      <th>...</th>\n",
       "      <th>decrease_rech_num_action</th>\n",
       "      <th>avg_rech_amt_action</th>\n",
       "      <th>diff_rech_amt</th>\n",
       "      <th>decrease_rech_amt_action</th>\n",
       "      <th>avg_arpu_action</th>\n",
       "      <th>diff_arpu</th>\n",
       "      <th>decrease_arpu_action</th>\n",
       "      <th>avg_vbc_3g_action</th>\n",
       "      <th>diff_vbc</th>\n",
       "      <th>decrease_vbc_action</th>\n",
       "    </tr>\n",
       "  </thead>\n",
       "  <tbody>\n",
       "    <tr>\n",
       "      <th>8</th>\n",
       "      <td>7001524846</td>\n",
       "      <td>0.0</td>\n",
       "      <td>0.0</td>\n",
       "      <td>0.0</td>\n",
       "      <td>378.721</td>\n",
       "      <td>492.223</td>\n",
       "      <td>137.362</td>\n",
       "      <td>413.69</td>\n",
       "      <td>351.03</td>\n",
       "      <td>35.08</td>\n",
       "      <td>...</td>\n",
       "      <td>1</td>\n",
       "      <td>360.5</td>\n",
       "      <td>-76.5</td>\n",
       "      <td>1</td>\n",
       "      <td>314.7925</td>\n",
       "      <td>-63.9285</td>\n",
       "      <td>1</td>\n",
       "      <td>465.840</td>\n",
       "      <td>343.680</td>\n",
       "      <td>0</td>\n",
       "    </tr>\n",
       "    <tr>\n",
       "      <th>13</th>\n",
       "      <td>7002191713</td>\n",
       "      <td>0.0</td>\n",
       "      <td>0.0</td>\n",
       "      <td>0.0</td>\n",
       "      <td>492.846</td>\n",
       "      <td>205.671</td>\n",
       "      <td>593.260</td>\n",
       "      <td>501.76</td>\n",
       "      <td>108.39</td>\n",
       "      <td>534.24</td>\n",
       "      <td>...</td>\n",
       "      <td>0</td>\n",
       "      <td>485.0</td>\n",
       "      <td>-22.0</td>\n",
       "      <td>1</td>\n",
       "      <td>399.4655</td>\n",
       "      <td>-93.3805</td>\n",
       "      <td>1</td>\n",
       "      <td>0.000</td>\n",
       "      <td>0.000</td>\n",
       "      <td>0</td>\n",
       "    </tr>\n",
       "    <tr>\n",
       "      <th>16</th>\n",
       "      <td>7000875565</td>\n",
       "      <td>0.0</td>\n",
       "      <td>0.0</td>\n",
       "      <td>0.0</td>\n",
       "      <td>430.975</td>\n",
       "      <td>299.869</td>\n",
       "      <td>187.894</td>\n",
       "      <td>50.51</td>\n",
       "      <td>74.01</td>\n",
       "      <td>70.61</td>\n",
       "      <td>...</td>\n",
       "      <td>1</td>\n",
       "      <td>254.0</td>\n",
       "      <td>-316.0</td>\n",
       "      <td>1</td>\n",
       "      <td>243.8815</td>\n",
       "      <td>-187.0935</td>\n",
       "      <td>1</td>\n",
       "      <td>1.225</td>\n",
       "      <td>-20.665</td>\n",
       "      <td>1</td>\n",
       "    </tr>\n",
       "    <tr>\n",
       "      <th>17</th>\n",
       "      <td>7000187447</td>\n",
       "      <td>0.0</td>\n",
       "      <td>0.0</td>\n",
       "      <td>0.0</td>\n",
       "      <td>690.008</td>\n",
       "      <td>18.980</td>\n",
       "      <td>25.499</td>\n",
       "      <td>1185.91</td>\n",
       "      <td>9.28</td>\n",
       "      <td>7.79</td>\n",
       "      <td>...</td>\n",
       "      <td>1</td>\n",
       "      <td>15.0</td>\n",
       "      <td>-801.0</td>\n",
       "      <td>1</td>\n",
       "      <td>22.2395</td>\n",
       "      <td>-667.7685</td>\n",
       "      <td>1</td>\n",
       "      <td>0.000</td>\n",
       "      <td>0.000</td>\n",
       "      <td>0</td>\n",
       "    </tr>\n",
       "    <tr>\n",
       "      <th>21</th>\n",
       "      <td>7002124215</td>\n",
       "      <td>0.0</td>\n",
       "      <td>0.0</td>\n",
       "      <td>0.0</td>\n",
       "      <td>514.453</td>\n",
       "      <td>597.753</td>\n",
       "      <td>637.760</td>\n",
       "      <td>102.41</td>\n",
       "      <td>132.11</td>\n",
       "      <td>85.14</td>\n",
       "      <td>...</td>\n",
       "      <td>0</td>\n",
       "      <td>699.0</td>\n",
       "      <td>99.0</td>\n",
       "      <td>0</td>\n",
       "      <td>617.7565</td>\n",
       "      <td>103.3035</td>\n",
       "      <td>0</td>\n",
       "      <td>0.000</td>\n",
       "      <td>0.000</td>\n",
       "      <td>0</td>\n",
       "    </tr>\n",
       "  </tbody>\n",
       "</table>\n",
       "<p>5 rows × 152 columns</p>\n",
       "</div>"
      ],
      "text/plain": [
       "   mobile_number  loc_og_t2o_mou  std_og_t2o_mou  loc_ic_t2o_mou   arpu_6  \\\n",
       "8     7001524846             0.0             0.0             0.0  378.721   \n",
       "13    7002191713             0.0             0.0             0.0  492.846   \n",
       "16    7000875565             0.0             0.0             0.0  430.975   \n",
       "17    7000187447             0.0             0.0             0.0  690.008   \n",
       "21    7002124215             0.0             0.0             0.0  514.453   \n",
       "\n",
       "     arpu_7   arpu_8  onnet_mou_6  onnet_mou_7  onnet_mou_8  ...  \\\n",
       "8   492.223  137.362       413.69       351.03        35.08  ...   \n",
       "13  205.671  593.260       501.76       108.39       534.24  ...   \n",
       "16  299.869  187.894        50.51        74.01        70.61  ...   \n",
       "17   18.980   25.499      1185.91         9.28         7.79  ...   \n",
       "21  597.753  637.760       102.41       132.11        85.14  ...   \n",
       "\n",
       "    decrease_rech_num_action  avg_rech_amt_action  diff_rech_amt  \\\n",
       "8                          1                360.5          -76.5   \n",
       "13                         0                485.0          -22.0   \n",
       "16                         1                254.0         -316.0   \n",
       "17                         1                 15.0         -801.0   \n",
       "21                         0                699.0           99.0   \n",
       "\n",
       "    decrease_rech_amt_action  avg_arpu_action  diff_arpu  \\\n",
       "8                          1         314.7925   -63.9285   \n",
       "13                         1         399.4655   -93.3805   \n",
       "16                         1         243.8815  -187.0935   \n",
       "17                         1          22.2395  -667.7685   \n",
       "21                         0         617.7565   103.3035   \n",
       "\n",
       "    decrease_arpu_action  avg_vbc_3g_action  diff_vbc  decrease_vbc_action  \n",
       "8                      1            465.840   343.680                    0  \n",
       "13                     1              0.000     0.000                    0  \n",
       "16                     1              1.225   -20.665                    1  \n",
       "17                     1              0.000     0.000                    0  \n",
       "21                     0              0.000     0.000                    0  \n",
       "\n",
       "[5 rows x 152 columns]"
      ]
     },
     "execution_count": 70,
     "metadata": {},
     "output_type": "execute_result"
    }
   ],
   "source": [
    "data.head()"
   ]
  },
  {
   "cell_type": "markdown",
   "metadata": {
    "id": "uEGKhbPEndvN"
   },
   "source": [
    "## EDA"
   ]
  },
  {
   "cell_type": "markdown",
   "metadata": {
    "id": "c7wBGAZ6ndvN"
   },
   "source": [
    "### Univariate analysis"
   ]
  },
  {
   "cell_type": "markdown",
   "metadata": {
    "id": "e6ae639OndvN"
   },
   "source": [
    "##### Churn rate on the basis whether the customer decreased her/his MOU in action month"
   ]
  },
  {
   "cell_type": "code",
   "execution_count": 71,
   "metadata": {
    "id": "Qd2ou5bundvO"
   },
   "outputs": [],
   "source": [
    "# Converting churn column to int in order to do an aggfunc in the pivot table\n",
    "data['churn'] = data['churn'].astype('int64')"
   ]
  },
  {
   "cell_type": "code",
   "execution_count": 72,
   "metadata": {
    "colab": {
     "base_uri": "https://localhost:8080/",
     "height": 444
    },
    "id": "KymOIgHKndvO",
    "outputId": "4f54a175-5032-430d-8c08-d397fd4dbe53",
    "scrolled": true
   },
   "outputs": [
    {
     "data": {
      "image/png": "[encoded data removed]",
      "text/plain": [
       "<Figure size 432x288 with 1 Axes>"
      ]
     },
     "metadata": {
      "needs_background": "light"
     },
     "output_type": "display_data"
    }
   ],
   "source": [
    "data.pivot_table(values='churn', index='decrease_mou_action', aggfunc='mean').plot.bar()\n",
    "plt.ylabel('churn rate')\n",
    "plt.show()"
   ]
  },
  {
   "cell_type": "markdown",
   "metadata": {
    "id": "qqn0b9yMndvO"
   },
   "source": [
    "***Analysis***\n",
    "\n",
    "From the above table, the churn rate is more for the customers, whose minutes of usage(mou) is decreased in the action phase when compared to the good phase. "
   ]
  },
  {
   "cell_type": "markdown",
   "metadata": {
    "id": "WapKO8H9ndvO"
   },
   "source": [
    "##### Churn rate on the basis whether the customer decreased her/his number of recharge in action month"
   ]
  },
  {
   "cell_type": "code",
   "execution_count": 73,
   "metadata": {
    "colab": {
     "base_uri": "https://localhost:8080/",
     "height": 444
    },
    "id": "l0IWwrZDndvO",
    "outputId": "95b938b1-2462-48a0-cbc1-ce451e81963b",
    "scrolled": true
   },
   "outputs": [
    {
     "data": {
      "image/png": "[encoded data removed]",
      "text/plain": [
       "<Figure size 432x288 with 1 Axes>"
      ]
     },
     "metadata": {
      "needs_background": "light"
     },
     "output_type": "display_data"
    }
   ],
   "source": [
    "data.pivot_table(values='churn', index='decrease_rech_num_action', aggfunc='mean').plot.bar()\n",
    "plt.ylabel('churn rate')\n",
    "plt.show()"
   ]
  },
  {
   "cell_type": "markdown",
   "metadata": {
    "id": "Xm9XonJTndvO"
   },
   "source": [
    "***Analysis***\n",
    "\n",
    "As expected, the churn rate is more for the customers, whose number of recharge in the action phase is lesser than the number in good phase."
   ]
  },
  {
   "cell_type": "markdown",
   "metadata": {
    "id": "me4QVghMndvO"
   },
   "source": [
    "##### Churn rate on the basis whether the customer decreased her/his amount of recharge in action month"
   ]
  },
  {
   "cell_type": "code",
   "execution_count": 74,
   "metadata": {
    "colab": {
     "base_uri": "https://localhost:8080/",
     "height": 444
    },
    "id": "2QQsZxRGndvO",
    "outputId": "1fac1957-5c32-42af-86d4-bbbb41be99ec"
   },
   "outputs": [
    {
     "data": {
      "image/png": "[encoded data removed]",
      "text/plain": [
       "<Figure size 432x288 with 1 Axes>"
      ]
     },
     "metadata": {
      "needs_background": "light"
     },
     "output_type": "display_data"
    }
   ],
   "source": [
    "data.pivot_table(values='churn', index='decrease_rech_amt_action', aggfunc='mean').plot.bar()\n",
    "plt.ylabel('churn rate')\n",
    "plt.show()"
   ]
  },
  {
   "cell_type": "markdown",
   "metadata": {
    "id": "0NrZrjEQndvP"
   },
   "source": [
    "***Analysis***\n",
    "\n",
    "Here also we see the same behaviour. The churn rate is more for the customers, whose amount of recharge in the action phase is lesser than the amount in good phase."
   ]
  },
  {
   "cell_type": "markdown",
   "metadata": {
    "id": "xOLK_LyGndvP"
   },
   "source": [
    "##### Churn rate on the basis whether the customer decreased her/his volume based cost in action month"
   ]
  },
  {
   "cell_type": "code",
   "execution_count": 75,
   "metadata": {
    "colab": {
     "base_uri": "https://localhost:8080/",
     "height": 444
    },
    "id": "wuY0euPfndvP",
    "outputId": "27d438b7-5e8e-494f-aad3-cbba4d80157c",
    "scrolled": true
   },
   "outputs": [
    {
     "data": {
      "image/png": "[encoded data removed]",
      "text/plain": [
       "<Figure size 432x288 with 1 Axes>"
      ]
     },
     "metadata": {
      "needs_background": "light"
     },
     "output_type": "display_data"
    }
   ],
   "source": [
    "data.pivot_table(values='churn', index='decrease_vbc_action', aggfunc='mean').plot.bar()\n",
    "plt.ylabel('churn rate')\n",
    "plt.show()"
   ]
  },
  {
   "cell_type": "markdown",
   "metadata": {
    "id": "4kzv8VTkndvP"
   },
   "source": [
    "***Analysis***\n",
    "\n",
    "Here we see the expected result. The churn rate is more for the customers, whose volume based cost in action month is increased. That means the customers do not do the monthly recharge more when they are in the action phase."
   ]
  },
  {
   "cell_type": "markdown",
   "metadata": {
    "id": "OwgJkhcAndvP"
   },
   "source": [
    "##### Analysis of the average revenue per customer (churn and not churn) in the action phase"
   ]
  },
  {
   "cell_type": "code",
   "execution_count": 76,
   "metadata": {
    "id": "aRCyPXAKndvP"
   },
   "outputs": [],
   "source": [
    "# Creating churn dataframe\n",
    "data_churn = data[data['churn'] == 1]\n",
    "# Creating not churn dataframe\n",
    "data_non_churn = data[data['churn'] == 0]"
   ]
  },
  {
   "cell_type": "code",
   "execution_count": 77,
   "metadata": {
    "colab": {
     "base_uri": "https://localhost:8080/",
     "height": 466
    },
    "id": "GDduXz4ondvP",
    "outputId": "b8d92c9c-241a-4c94-d589-d1d7bb2d31ec",
    "scrolled": true
   },
   "outputs": [
    {
     "data": {
      "text/plain": [
       "[Text(0.5, 0, 'Action phase ARPU')]"
      ]
     },
     "execution_count": 77,
     "metadata": {},
     "output_type": "execute_result"
    },
    {
     "data": {
      "image/png": "[encoded data removed]",
      "text/plain": [
       "<Figure size 432x288 with 1 Axes>"
      ]
     },
     "metadata": {
      "needs_background": "light"
     },
     "output_type": "display_data"
    }
   ],
   "source": [
    "# Distribution plot\n",
    "ax = sns.distplot(data_churn['avg_arpu_action'],label='churn',hist=False)\n",
    "ax = sns.distplot(data_non_churn['avg_arpu_action'],label='not churn',hist=False)\n",
    "ax.set(xlabel='Action phase ARPU')"
   ]
  },
  {
   "cell_type": "markdown",
   "metadata": {
    "id": "OxshIlfRndvP"
   },
   "source": [
    "Average revenue per user (ARPU) for the churned customers is mostly densed on the 0 to 900. The higher ARPU customers are less likely to be churned.\n",
    "\n",
    "ARPU for the not churned customers is mostly densed on the 0 to 1000. "
   ]
  },
  {
   "cell_type": "markdown",
   "metadata": {
    "id": "uThWndxindvQ"
   },
   "source": [
    "##### Analysis of the minutes of usage MOU (churn and not churn) in the action phase"
   ]
  },
  {
   "cell_type": "code",
   "execution_count": 78,
   "metadata": {
    "colab": {
     "base_uri": "https://localhost:8080/",
     "height": 469
    },
    "id": "O3JGbjyondvQ",
    "outputId": "52d60625-2fe8-41ac-8345-f9fa0e7be225",
    "scrolled": true
   },
   "outputs": [
    {
     "data": {
      "text/plain": [
       "[Text(0.5, 0, 'Action phase MOU')]"
      ]
     },
     "execution_count": 78,
     "metadata": {},
     "output_type": "execute_result"
    },
    {
     "data": {
      "image/png": "[encoded data removed]",
      "text/plain": [
       "<Figure size 432x288 with 1 Axes>"
      ]
     },
     "metadata": {
      "needs_background": "light"
     },
     "output_type": "display_data"
    }
   ],
   "source": [
    "# Distribution plot\n",
    "ax = sns.distplot(data_churn['total_mou_good_phase'],label='churn',hist=False)\n",
    "ax = sns.distplot(data_non_churn['total_mou_good_phase'],label='non churn',hist=False)\n",
    "ax.set(xlabel='Action phase MOU')"
   ]
  },
  {
   "cell_type": "markdown",
   "metadata": {
    "id": "TTWTWhTHndvQ"
   },
   "source": [
    "Minutes of usage(MOU) of the churn customers is mostly populated on the 0 to 2500 range. Higher the MOU, lesser the churn probability."
   ]
  },
  {
   "cell_type": "markdown",
   "metadata": {
    "id": "f49660XRndvQ"
   },
   "source": [
    "### Bivariate analysis"
   ]
  },
  {
   "cell_type": "markdown",
   "metadata": {
    "id": "5FYBw7HFndvQ"
   },
   "source": [
    "##### Analysis of churn rate by the decreasing recharge amount and number of recharge in the action phase"
   ]
  },
  {
   "cell_type": "code",
   "execution_count": 79,
   "metadata": {
    "colab": {
     "base_uri": "https://localhost:8080/",
     "height": 444
    },
    "id": "wPWENP7dndvQ",
    "outputId": "da714ee3-0286-4f1d-f881-378db61a4723",
    "scrolled": false
   },
   "outputs": [
    {
     "data": {
      "image/png": "[encoded data removed]",
      "text/plain": [
       "<Figure size 432x288 with 1 Axes>"
      ]
     },
     "metadata": {
      "needs_background": "light"
     },
     "output_type": "display_data"
    }
   ],
   "source": [
    "data.pivot_table(values='churn', index='decrease_rech_amt_action', columns='decrease_rech_num_action', aggfunc='mean').plot.bar()\n",
    "plt.ylabel('churn rate')\n",
    "plt.show()"
   ]
  },
  {
   "cell_type": "markdown",
   "metadata": {
    "id": "MIWViLeendvQ"
   },
   "source": [
    "***Analysis***\n",
    "\n",
    "We can see from the above plot, that the churn rate is more for the customers, whose recharge amount as well as number of recharge have decreased in the action phase than the good phase."
   ]
  },
  {
   "cell_type": "markdown",
   "metadata": {
    "id": "YqH8-md0ndvQ"
   },
   "source": [
    "##### Analysis of churn rate by the decreasing recharge amount and volume based cost in the action phase"
   ]
  },
  {
   "cell_type": "code",
   "execution_count": 80,
   "metadata": {
    "colab": {
     "base_uri": "https://localhost:8080/",
     "height": 444
    },
    "id": "VwjwH7n4ndvQ",
    "outputId": "85165a4e-0d52-4632-bc91-91982213d9b9",
    "scrolled": false
   },
   "outputs": [
    {
     "data": {
      "image/png": "[encoded data removed]",
      "text/plain": [
       "<Figure size 432x288 with 1 Axes>"
      ]
     },
     "metadata": {
      "needs_background": "light"
     },
     "output_type": "display_data"
    }
   ],
   "source": [
    "data.pivot_table(values='churn', index='decrease_rech_amt_action', columns='decrease_vbc_action', aggfunc='mean').plot.bar()\n",
    "plt.ylabel('churn rate')\n",
    "plt.show()"
   ]
  },
  {
   "cell_type": "markdown",
   "metadata": {
    "id": "L2JhsUaAndvR"
   },
   "source": [
    "***Analysis***\n",
    "\n",
    "Here, also we can see that the churn rate is more for the customers, whose recharge amount is decreased along with the volume based cost is increased in the action month."
   ]
  },
  {
   "cell_type": "markdown",
   "metadata": {
    "id": "2F4qyJxmndvR"
   },
   "source": [
    "#### Dropping few derived columns, which are not required in further analysis"
   ]
  },
  {
   "cell_type": "code",
   "execution_count": 81,
   "metadata": {
    "id": "mKIX_mesndvR"
   },
   "outputs": [],
   "source": [
    "data = data.drop(['total_mou_good_phase','avg_mou_action_phase','diff_mou_good_action','avg_rech_num_action','diff_rech_num','avg_rech_amt_action',\n",
    "                 'diff_rech_amt','avg_arpu_action','diff_arpu','avg_vbc_3g_action','diff_vbc','avg_ra_6_7'], axis=1)"
   ]
  },
  {
   "cell_type": "markdown",
   "metadata": {
    "id": "Jf0K6Ja3ndvR"
   },
   "source": [
    "## Train-Test Split"
   ]
  },
  {
   "cell_type": "code",
   "execution_count": 82,
   "metadata": {
    "id": "VH8EvMeGndvR"
   },
   "outputs": [],
   "source": [
    "# Import library\n",
    "from sklearn.model_selection import train_test_split"
   ]
  },
  {
   "cell_type": "code",
   "execution_count": 83,
   "metadata": {
    "id": "VnJhkOO-ndvS"
   },
   "outputs": [],
   "source": [
    "# Putting feature variables into X\n",
    "X = data.drop(['mobile_number','churn'], axis=1)"
   ]
  },
  {
   "cell_type": "code",
   "execution_count": 84,
   "metadata": {
    "id": "O2WumnNmndvS"
   },
   "outputs": [],
   "source": [
    "# Putting target variable to y\n",
    "y = data['churn']"
   ]
  },
  {
   "cell_type": "code",
   "execution_count": 85,
   "metadata": {
    "id": "GfMNsimendvS"
   },
   "outputs": [],
   "source": [
    "# Splitting data into train and test set 80:20\n",
    "X_train, X_test, y_train, y_test = train_test_split(X, y, train_size=0.8, test_size=0.2, random_state=100)"
   ]
  },
  {
   "cell_type": "markdown",
   "metadata": {
    "id": "vFf9LaefndvS"
   },
   "source": [
    "### Dealing with data imbalance"
   ]
  },
  {
   "cell_type": "markdown",
   "metadata": {
    "id": "wgHUri5NndvS"
   },
   "source": [
    "\n",
    "As seen before, The rate of churn is typically low 3.39 (about 5-10%, this is called class-imbalance) - we will use SMOTE(Synthetic Minority Oversampling Technique) to handle class imbalance.\n",
    "\n",
    "Therefore, creating synthetic samples by doing upsampling "
   ]
  },
  {
   "cell_type": "code",
   "execution_count": 86,
   "metadata": {
    "id": "gT06lTKPndvS"
   },
   "outputs": [],
   "source": [
    "# Imporing SMOTE\n",
    "from imblearn import under_sampling, over_sampling\n",
    "from imblearn.over_sampling import SMOTE"
   ]
  },
  {
   "cell_type": "code",
   "execution_count": 87,
   "metadata": {
    "id": "pNwZmMTsndvS"
   },
   "outputs": [],
   "source": [
    "# Instantiate SMOTE\n",
    "sm = SMOTE(random_state=27)"
   ]
  },
  {
   "cell_type": "code",
   "execution_count": 88,
   "metadata": {
    "id": "xzK9fOFWndvS"
   },
   "outputs": [],
   "source": [
    "# Fittign SMOTE to the train set\n",
    "X_train, y_train = sm.fit_resample(X_train, y_train)"
   ]
  },
  {
   "cell_type": "markdown",
   "metadata": {
    "id": "zPChDmh_ndvS"
   },
   "source": [
    "### Feature Scaling"
   ]
  },
  {
   "cell_type": "code",
   "execution_count": 89,
   "metadata": {
    "id": "e3OI8HV1ndvT"
   },
   "outputs": [],
   "source": [
    "# Standardization method\n",
    "from sklearn.preprocessing import StandardScaler"
   ]
  },
  {
   "cell_type": "code",
   "execution_count": 90,
   "metadata": {
    "id": "uWkCEPo-ndvT"
   },
   "outputs": [],
   "source": [
    "# Instantiate the Scaler\n",
    "scaler = StandardScaler()"
   ]
  },
  {
   "cell_type": "code",
   "execution_count": 91,
   "metadata": {
    "id": "SPmoYbsRndvT"
   },
   "outputs": [],
   "source": [
    "# List of the numeric columns\n",
    "cols_scale = X_train.columns.to_list()\n",
    "# Removing the derived binary columns \n",
    "cols_scale.remove('decrease_mou_action')\n",
    "cols_scale.remove('decrease_rech_num_action')\n",
    "cols_scale.remove('decrease_rech_amt_action')\n",
    "cols_scale.remove('decrease_arpu_action')\n",
    "cols_scale.remove('decrease_vbc_action')"
   ]
  },
  {
   "cell_type": "code",
   "execution_count": 92,
   "metadata": {
    "id": "sDT0UP5ZndvT"
   },
   "outputs": [],
   "source": [
    "# Fit the data into scaler and transform\n",
    "X_train[cols_scale] = scaler.fit_transform(X_train[cols_scale])"
   ]
  },
  {
   "cell_type": "code",
   "execution_count": 93,
   "metadata": {
    "colab": {
     "base_uri": "https://localhost:8080/",
     "height": 300
    },
    "id": "Pb4RS07dndvT",
    "outputId": "dad751f8-5be2-4830-c6f5-5a4af34b8423"
   },
   "outputs": [
    {
     "data": {
      "text/html": [
       "<div>\n",
       "<style scoped>\n",
       "    .dataframe tbody tr th:only-of-type {\n",
       "        vertical-align: middle;\n",
       "    }\n",
       "\n",
       "    .dataframe tbody tr th {\n",
       "        vertical-align: top;\n",
       "    }\n",
       "\n",
       "    .dataframe thead th {\n",
       "        text-align: right;\n",
       "    }\n",
       "</style>\n",
       "<table border=\"1\" class=\"dataframe\">\n",
       "  <thead>\n",
       "    <tr style=\"text-align: right;\">\n",
       "      <th></th>\n",
       "      <th>loc_og_t2o_mou</th>\n",
       "      <th>std_og_t2o_mou</th>\n",
       "      <th>loc_ic_t2o_mou</th>\n",
       "      <th>arpu_6</th>\n",
       "      <th>arpu_7</th>\n",
       "      <th>arpu_8</th>\n",
       "      <th>onnet_mou_6</th>\n",
       "      <th>onnet_mou_7</th>\n",
       "      <th>onnet_mou_8</th>\n",
       "      <th>offnet_mou_6</th>\n",
       "      <th>...</th>\n",
       "      <th>sachet_3g_8</th>\n",
       "      <th>aon</th>\n",
       "      <th>aug_vbc_3g</th>\n",
       "      <th>jul_vbc_3g</th>\n",
       "      <th>jun_vbc_3g</th>\n",
       "      <th>decrease_mou_action</th>\n",
       "      <th>decrease_rech_num_action</th>\n",
       "      <th>decrease_rech_amt_action</th>\n",
       "      <th>decrease_arpu_action</th>\n",
       "      <th>decrease_vbc_action</th>\n",
       "    </tr>\n",
       "  </thead>\n",
       "  <tbody>\n",
       "    <tr>\n",
       "      <th>0</th>\n",
       "      <td>0.0</td>\n",
       "      <td>0.0</td>\n",
       "      <td>0.0</td>\n",
       "      <td>0.140777</td>\n",
       "      <td>-0.522792</td>\n",
       "      <td>-0.276289</td>\n",
       "      <td>0.106540</td>\n",
       "      <td>-0.662084</td>\n",
       "      <td>-0.465777</td>\n",
       "      <td>-0.211202</td>\n",
       "      <td>...</td>\n",
       "      <td>-0.113882</td>\n",
       "      <td>-0.361238</td>\n",
       "      <td>-0.236209</td>\n",
       "      <td>-0.265392</td>\n",
       "      <td>0.110582</td>\n",
       "      <td>1</td>\n",
       "      <td>1</td>\n",
       "      <td>1</td>\n",
       "      <td>1</td>\n",
       "      <td>1</td>\n",
       "    </tr>\n",
       "    <tr>\n",
       "      <th>1</th>\n",
       "      <td>0.0</td>\n",
       "      <td>0.0</td>\n",
       "      <td>0.0</td>\n",
       "      <td>-1.427243</td>\n",
       "      <td>4.428047</td>\n",
       "      <td>3.254270</td>\n",
       "      <td>-0.658491</td>\n",
       "      <td>-0.236590</td>\n",
       "      <td>-0.004450</td>\n",
       "      <td>-0.776075</td>\n",
       "      <td>...</td>\n",
       "      <td>-0.113882</td>\n",
       "      <td>-0.790173</td>\n",
       "      <td>-0.255884</td>\n",
       "      <td>-0.265392</td>\n",
       "      <td>-0.259366</td>\n",
       "      <td>0</td>\n",
       "      <td>0</td>\n",
       "      <td>0</td>\n",
       "      <td>0</td>\n",
       "      <td>0</td>\n",
       "    </tr>\n",
       "    <tr>\n",
       "      <th>2</th>\n",
       "      <td>0.0</td>\n",
       "      <td>0.0</td>\n",
       "      <td>0.0</td>\n",
       "      <td>-0.222751</td>\n",
       "      <td>0.543206</td>\n",
       "      <td>0.809117</td>\n",
       "      <td>-0.601239</td>\n",
       "      <td>-0.599206</td>\n",
       "      <td>-0.331043</td>\n",
       "      <td>-0.363395</td>\n",
       "      <td>...</td>\n",
       "      <td>2.526725</td>\n",
       "      <td>1.571302</td>\n",
       "      <td>3.307334</td>\n",
       "      <td>2.691063</td>\n",
       "      <td>1.700218</td>\n",
       "      <td>1</td>\n",
       "      <td>0</td>\n",
       "      <td>0</td>\n",
       "      <td>0</td>\n",
       "      <td>0</td>\n",
       "    </tr>\n",
       "    <tr>\n",
       "      <th>3</th>\n",
       "      <td>0.0</td>\n",
       "      <td>0.0</td>\n",
       "      <td>0.0</td>\n",
       "      <td>-0.911173</td>\n",
       "      <td>0.842273</td>\n",
       "      <td>0.731302</td>\n",
       "      <td>-0.702232</td>\n",
       "      <td>-0.650471</td>\n",
       "      <td>-0.458464</td>\n",
       "      <td>-0.789784</td>\n",
       "      <td>...</td>\n",
       "      <td>-0.113882</td>\n",
       "      <td>-0.951024</td>\n",
       "      <td>-0.255884</td>\n",
       "      <td>-0.265392</td>\n",
       "      <td>-0.259366</td>\n",
       "      <td>0</td>\n",
       "      <td>0</td>\n",
       "      <td>0</td>\n",
       "      <td>0</td>\n",
       "      <td>0</td>\n",
       "    </tr>\n",
       "    <tr>\n",
       "      <th>4</th>\n",
       "      <td>0.0</td>\n",
       "      <td>0.0</td>\n",
       "      <td>0.0</td>\n",
       "      <td>0.271356</td>\n",
       "      <td>0.247684</td>\n",
       "      <td>1.256421</td>\n",
       "      <td>-0.356392</td>\n",
       "      <td>-0.180394</td>\n",
       "      <td>0.114727</td>\n",
       "      <td>0.899204</td>\n",
       "      <td>...</td>\n",
       "      <td>-0.113882</td>\n",
       "      <td>-0.519757</td>\n",
       "      <td>-0.255884</td>\n",
       "      <td>-0.265392</td>\n",
       "      <td>-0.259366</td>\n",
       "      <td>0</td>\n",
       "      <td>0</td>\n",
       "      <td>0</td>\n",
       "      <td>0</td>\n",
       "      <td>0</td>\n",
       "    </tr>\n",
       "  </tbody>\n",
       "</table>\n",
       "<p>5 rows × 138 columns</p>\n",
       "</div>"
      ],
      "text/plain": [
       "   loc_og_t2o_mou  std_og_t2o_mou  loc_ic_t2o_mou    arpu_6    arpu_7  \\\n",
       "0             0.0             0.0             0.0  0.140777 -0.522792   \n",
       "1             0.0             0.0             0.0 -1.427243  4.428047   \n",
       "2             0.0             0.0             0.0 -0.222751  0.543206   \n",
       "3             0.0             0.0             0.0 -0.911173  0.842273   \n",
       "4             0.0             0.0             0.0  0.271356  0.247684   \n",
       "\n",
       "     arpu_8  onnet_mou_6  onnet_mou_7  onnet_mou_8  offnet_mou_6  ...  \\\n",
       "0 -0.276289     0.106540    -0.662084    -0.465777     -0.211202  ...   \n",
       "1  3.254270    -0.658491    -0.236590    -0.004450     -0.776075  ...   \n",
       "2  0.809117    -0.601239    -0.599206    -0.331043     -0.363395  ...   \n",
       "3  0.731302    -0.702232    -0.650471    -0.458464     -0.789784  ...   \n",
       "4  1.256421    -0.356392    -0.180394     0.114727      0.899204  ...   \n",
       "\n",
       "   sachet_3g_8       aon  aug_vbc_3g  jul_vbc_3g  jun_vbc_3g  \\\n",
       "0    -0.113882 -0.361238   -0.236209   -0.265392    0.110582   \n",
       "1    -0.113882 -0.790173   -0.255884   -0.265392   -0.259366   \n",
       "2     2.526725  1.571302    3.307334    2.691063    1.700218   \n",
       "3    -0.113882 -0.951024   -0.255884   -0.265392   -0.259366   \n",
       "4    -0.113882 -0.519757   -0.255884   -0.265392   -0.259366   \n",
       "\n",
       "   decrease_mou_action  decrease_rech_num_action  decrease_rech_amt_action  \\\n",
       "0                    1                         1                         1   \n",
       "1                    0                         0                         0   \n",
       "2                    1                         0                         0   \n",
       "3                    0                         0                         0   \n",
       "4                    0                         0                         0   \n",
       "\n",
       "   decrease_arpu_action  decrease_vbc_action  \n",
       "0                     1                    1  \n",
       "1                     0                    0  \n",
       "2                     0                    0  \n",
       "3                     0                    0  \n",
       "4                     0                    0  \n",
       "\n",
       "[5 rows x 138 columns]"
      ]
     },
     "execution_count": 93,
     "metadata": {},
     "output_type": "execute_result"
    }
   ],
   "source": [
    "X_train.head()"
   ]
  },
  {
   "cell_type": "markdown",
   "metadata": {
    "id": "7XNxLUyYndvT"
   },
   "source": [
    "##### Scaling the test set\n",
    "We don't fit scaler on the test set. We only transform the test set."
   ]
  },
  {
   "cell_type": "code",
   "execution_count": 94,
   "metadata": {
    "colab": {
     "base_uri": "https://localhost:8080/",
     "height": 300
    },
    "id": "UW_oSKuJndvT",
    "outputId": "0c317b15-4411-4996-d45f-1ada7367e5d1"
   },
   "outputs": [
    {
     "data": {
      "text/html": [
       "<div>\n",
       "<style scoped>\n",
       "    .dataframe tbody tr th:only-of-type {\n",
       "        vertical-align: middle;\n",
       "    }\n",
       "\n",
       "    .dataframe tbody tr th {\n",
       "        vertical-align: top;\n",
       "    }\n",
       "\n",
       "    .dataframe thead th {\n",
       "        text-align: right;\n",
       "    }\n",
       "</style>\n",
       "<table border=\"1\" class=\"dataframe\">\n",
       "  <thead>\n",
       "    <tr style=\"text-align: right;\">\n",
       "      <th></th>\n",
       "      <th>loc_og_t2o_mou</th>\n",
       "      <th>std_og_t2o_mou</th>\n",
       "      <th>loc_ic_t2o_mou</th>\n",
       "      <th>arpu_6</th>\n",
       "      <th>arpu_7</th>\n",
       "      <th>arpu_8</th>\n",
       "      <th>onnet_mou_6</th>\n",
       "      <th>onnet_mou_7</th>\n",
       "      <th>onnet_mou_8</th>\n",
       "      <th>offnet_mou_6</th>\n",
       "      <th>...</th>\n",
       "      <th>sachet_3g_8</th>\n",
       "      <th>aon</th>\n",
       "      <th>aug_vbc_3g</th>\n",
       "      <th>jul_vbc_3g</th>\n",
       "      <th>jun_vbc_3g</th>\n",
       "      <th>decrease_mou_action</th>\n",
       "      <th>decrease_rech_num_action</th>\n",
       "      <th>decrease_rech_amt_action</th>\n",
       "      <th>decrease_arpu_action</th>\n",
       "      <th>decrease_vbc_action</th>\n",
       "    </tr>\n",
       "  </thead>\n",
       "  <tbody>\n",
       "    <tr>\n",
       "      <th>5704</th>\n",
       "      <td>0.0</td>\n",
       "      <td>0.0</td>\n",
       "      <td>0.0</td>\n",
       "      <td>0.244310</td>\n",
       "      <td>-0.268832</td>\n",
       "      <td>1.005890</td>\n",
       "      <td>-0.725286</td>\n",
       "      <td>-0.690223</td>\n",
       "      <td>-0.476634</td>\n",
       "      <td>0.483540</td>\n",
       "      <td>...</td>\n",
       "      <td>2.526725</td>\n",
       "      <td>0.225051</td>\n",
       "      <td>0.018023</td>\n",
       "      <td>0.194794</td>\n",
       "      <td>-0.259366</td>\n",
       "      <td>0</td>\n",
       "      <td>0</td>\n",
       "      <td>1</td>\n",
       "      <td>1</td>\n",
       "      <td>0</td>\n",
       "    </tr>\n",
       "    <tr>\n",
       "      <th>64892</th>\n",
       "      <td>0.0</td>\n",
       "      <td>0.0</td>\n",
       "      <td>0.0</td>\n",
       "      <td>0.048359</td>\n",
       "      <td>-0.779609</td>\n",
       "      <td>-0.157969</td>\n",
       "      <td>-0.734066</td>\n",
       "      <td>-0.698072</td>\n",
       "      <td>-0.502219</td>\n",
       "      <td>-0.358555</td>\n",
       "      <td>...</td>\n",
       "      <td>-0.113882</td>\n",
       "      <td>0.622516</td>\n",
       "      <td>2.423668</td>\n",
       "      <td>2.357564</td>\n",
       "      <td>5.861151</td>\n",
       "      <td>1</td>\n",
       "      <td>1</td>\n",
       "      <td>1</td>\n",
       "      <td>1</td>\n",
       "      <td>1</td>\n",
       "    </tr>\n",
       "    <tr>\n",
       "      <th>39613</th>\n",
       "      <td>0.0</td>\n",
       "      <td>0.0</td>\n",
       "      <td>0.0</td>\n",
       "      <td>0.545470</td>\n",
       "      <td>0.184388</td>\n",
       "      <td>1.403349</td>\n",
       "      <td>-0.537110</td>\n",
       "      <td>-0.521615</td>\n",
       "      <td>-0.206890</td>\n",
       "      <td>0.694901</td>\n",
       "      <td>...</td>\n",
       "      <td>-0.113882</td>\n",
       "      <td>2.966507</td>\n",
       "      <td>-0.255884</td>\n",
       "      <td>-0.265392</td>\n",
       "      <td>-0.259366</td>\n",
       "      <td>1</td>\n",
       "      <td>1</td>\n",
       "      <td>1</td>\n",
       "      <td>0</td>\n",
       "      <td>0</td>\n",
       "    </tr>\n",
       "    <tr>\n",
       "      <th>93118</th>\n",
       "      <td>0.0</td>\n",
       "      <td>0.0</td>\n",
       "      <td>0.0</td>\n",
       "      <td>0.641508</td>\n",
       "      <td>0.816632</td>\n",
       "      <td>-0.211023</td>\n",
       "      <td>-0.058843</td>\n",
       "      <td>0.029897</td>\n",
       "      <td>-0.155872</td>\n",
       "      <td>-0.148197</td>\n",
       "      <td>...</td>\n",
       "      <td>-0.113882</td>\n",
       "      <td>1.742643</td>\n",
       "      <td>-0.255884</td>\n",
       "      <td>-0.265392</td>\n",
       "      <td>-0.259366</td>\n",
       "      <td>1</td>\n",
       "      <td>0</td>\n",
       "      <td>1</td>\n",
       "      <td>1</td>\n",
       "      <td>0</td>\n",
       "    </tr>\n",
       "    <tr>\n",
       "      <th>81235</th>\n",
       "      <td>0.0</td>\n",
       "      <td>0.0</td>\n",
       "      <td>0.0</td>\n",
       "      <td>3.878627</td>\n",
       "      <td>0.911619</td>\n",
       "      <td>2.745295</td>\n",
       "      <td>4.117829</td>\n",
       "      <td>1.452446</td>\n",
       "      <td>2.809582</td>\n",
       "      <td>-0.002634</td>\n",
       "      <td>...</td>\n",
       "      <td>1.206422</td>\n",
       "      <td>-0.244679</td>\n",
       "      <td>-0.255884</td>\n",
       "      <td>-0.265392</td>\n",
       "      <td>-0.259366</td>\n",
       "      <td>1</td>\n",
       "      <td>1</td>\n",
       "      <td>1</td>\n",
       "      <td>1</td>\n",
       "      <td>0</td>\n",
       "    </tr>\n",
       "  </tbody>\n",
       "</table>\n",
       "<p>5 rows × 138 columns</p>\n",
       "</div>"
      ],
      "text/plain": [
       "       loc_og_t2o_mou  std_og_t2o_mou  loc_ic_t2o_mou    arpu_6    arpu_7  \\\n",
       "5704              0.0             0.0             0.0  0.244310 -0.268832   \n",
       "64892             0.0             0.0             0.0  0.048359 -0.779609   \n",
       "39613             0.0             0.0             0.0  0.545470  0.184388   \n",
       "93118             0.0             0.0             0.0  0.641508  0.816632   \n",
       "81235             0.0             0.0             0.0  3.878627  0.911619   \n",
       "\n",
       "         arpu_8  onnet_mou_6  onnet_mou_7  onnet_mou_8  offnet_mou_6  ...  \\\n",
       "5704   1.005890    -0.725286    -0.690223    -0.476634      0.483540  ...   \n",
       "64892 -0.157969    -0.734066    -0.698072    -0.502219     -0.358555  ...   \n",
       "39613  1.403349    -0.537110    -0.521615    -0.206890      0.694901  ...   \n",
       "93118 -0.211023    -0.058843     0.029897    -0.155872     -0.148197  ...   \n",
       "81235  2.745295     4.117829     1.452446     2.809582     -0.002634  ...   \n",
       "\n",
       "       sachet_3g_8       aon  aug_vbc_3g  jul_vbc_3g  jun_vbc_3g  \\\n",
       "5704      2.526725  0.225051    0.018023    0.194794   -0.259366   \n",
       "64892    -0.113882  0.622516    2.423668    2.357564    5.861151   \n",
       "39613    -0.113882  2.966507   -0.255884   -0.265392   -0.259366   \n",
       "93118    -0.113882  1.742643   -0.255884   -0.265392   -0.259366   \n",
       "81235     1.206422 -0.244679   -0.255884   -0.265392   -0.259366   \n",
       "\n",
       "       decrease_mou_action  decrease_rech_num_action  \\\n",
       "5704                     0                         0   \n",
       "64892                    1                         1   \n",
       "39613                    1                         1   \n",
       "93118                    1                         0   \n",
       "81235                    1                         1   \n",
       "\n",
       "       decrease_rech_amt_action  decrease_arpu_action  decrease_vbc_action  \n",
       "5704                          1                     1                    0  \n",
       "64892                         1                     1                    1  \n",
       "39613                         1                     0                    0  \n",
       "93118                         1                     1                    0  \n",
       "81235                         1                     1                    0  \n",
       "\n",
       "[5 rows x 138 columns]"
      ]
     },
     "execution_count": 94,
     "metadata": {},
     "output_type": "execute_result"
    }
   ],
   "source": [
    "# Transform the test set\n",
    "X_test[cols_scale] = scaler.transform(X_test[cols_scale])\n",
    "X_test.head()"
   ]
  },
  {
   "cell_type": "markdown",
   "metadata": {
    "id": "NdtA3YbtndvT"
   },
   "source": [
    "# Model with PCA"
   ]
  },
  {
   "cell_type": "code",
   "execution_count": 95,
   "metadata": {
    "id": "XPgFAM20ndvU"
   },
   "outputs": [],
   "source": [
    "#Import PCA\n",
    "from sklearn.decomposition import PCA"
   ]
  },
  {
   "cell_type": "code",
   "execution_count": 96,
   "metadata": {
    "id": "p8pk9p_DndvU"
   },
   "outputs": [],
   "source": [
    "# Instantiate PCA\n",
    "pca = PCA(random_state=42)"
   ]
  },
  {
   "cell_type": "code",
   "execution_count": 97,
   "metadata": {
    "colab": {
     "base_uri": "https://localhost:8080/",
     "height": 75
    },
    "id": "6INPrbocndvU",
    "outputId": "f805cdd8-0632-43aa-f3d4-9cde21ab2bcd"
   },
   "outputs": [
    {
     "data": {
      "text/plain": [
       "PCA(random_state=42)"
      ]
     },
     "execution_count": 97,
     "metadata": {},
     "output_type": "execute_result"
    }
   ],
   "source": [
    "# Fit train set on PCA\n",
    "pca.fit(X_train)"
   ]
  },
  {
   "cell_type": "code",
   "execution_count": 98,
   "metadata": {
    "colab": {
     "base_uri": "https://localhost:8080/"
    },
    "id": "B0KK53oxndvU",
    "outputId": "d2bfc4ee-8cd3-4da5-8b6e-3cdfa64805c5"
   },
   "outputs": [
    {
     "data": {
      "text/plain": [
       "array([[-7.50315936e-20, -4.16333634e-17, -1.11022302e-16, ...,\n",
       "        -2.59799614e-02, -2.57740516e-02,  1.40032998e-02],\n",
       "       [-1.61507486e-19, -5.55111512e-17,  2.22044605e-16, ...,\n",
       "        -1.16737642e-02, -9.94022864e-03, -1.42598315e-02],\n",
       "       [ 1.91332162e-19,  5.55111512e-17, -2.77555756e-17, ...,\n",
       "        -4.18532955e-02, -4.28357226e-02,  2.46812846e-02],\n",
       "       ...,\n",
       "       [ 0.00000000e+00, -1.44980720e-01,  8.57134629e-02, ...,\n",
       "         3.15064343e-16, -1.35638700e-16, -1.16214614e-16],\n",
       "       [ 9.99999772e-01,  5.11621004e-04,  2.69983549e-04, ...,\n",
       "         3.33837926e-19,  3.59063946e-19, -1.94324181e-17],\n",
       "       [ 0.00000000e+00,  2.43352997e-02,  8.70715525e-02, ...,\n",
       "         3.04356571e-17, -2.71490851e-17, -3.59955121e-17]])"
      ]
     },
     "execution_count": 98,
     "metadata": {},
     "output_type": "execute_result"
    }
   ],
   "source": [
    "# Principal components\n",
    "pca.components_"
   ]
  },
  {
   "cell_type": "code",
   "execution_count": 99,
   "metadata": {
    "colab": {
     "base_uri": "https://localhost:8080/"
    },
    "id": "u1vgtLc8ndvU",
    "outputId": "d23d113f-b670-464a-8564-703bae9cb4dd"
   },
   "outputs": [
    {
     "name": "stdout",
     "output_type": "stream",
     "text": [
      "[0.11213256 0.19426234 0.24575583 0.28953571 0.32841891 0.36623473\n",
      " 0.40173361 0.43144425 0.45702167 0.48194328 0.50480575 0.52673812\n",
      " 0.54724457 0.5670202  0.58530008 0.60304258 0.6190213  0.63473458\n",
      " 0.64927873 0.66341423 0.67712828 0.69025011 0.7020618  0.71278516\n",
      " 0.72309435 0.73290234 0.74255604 0.75209676 0.76151565 0.77010093\n",
      " 0.77861315 0.7866115  0.79429496 0.80173555 0.80878909 0.81538157\n",
      " 0.82193734 0.8283476  0.83472622 0.84089758 0.84687761 0.85280024\n",
      " 0.85840083 0.86374029 0.86901646 0.87418749 0.87891437 0.88341796\n",
      " 0.887723   0.89186057 0.89588256 0.89966074 0.90339384 0.90704071\n",
      " 0.91060084 0.91411689 0.91752343 0.92076319 0.92395413 0.92705111\n",
      " 0.93001239 0.93296077 0.93580029 0.93862291 0.94138851 0.9441162\n",
      " 0.94678675 0.94937767 0.95188405 0.95433786 0.95665036 0.95893735\n",
      " 0.96116409 0.96323063 0.96526039 0.967203   0.96912626 0.97100138\n",
      " 0.97284931 0.9746657  0.97639261 0.97806622 0.97972617 0.98133794\n",
      " 0.98290963 0.98446566 0.98601222 0.98753485 0.98877905 0.98998795\n",
      " 0.99114751 0.99224606 0.99321228 0.99407803 0.9949224  0.99573799\n",
      " 0.99652652 0.99717502 0.99776401 0.99831985 0.99880793 0.99912289\n",
      " 0.99942656 0.99969174 0.99985313 0.99994737 0.99998103 0.99999839\n",
      " 0.99999963 0.99999989 1.         1.         1.         1.\n",
      " 1.         1.         1.         1.         1.         1.\n",
      " 1.         1.         1.         1.         1.         1.\n",
      " 1.         1.         1.         1.         1.         1.\n",
      " 1.         1.         1.         1.         1.         1.        ]\n"
     ]
    }
   ],
   "source": [
    "# Cumuliative varinace of the PCs\n",
    "variance_cumu = np.cumsum(pca.explained_variance_ratio_)\n",
    "print(variance_cumu)"
   ]
  },
  {
   "cell_type": "code",
   "execution_count": 100,
   "metadata": {
    "colab": {
     "base_uri": "https://localhost:8080/",
     "height": 559
    },
    "id": "KCMUM07_ndvU",
    "outputId": "62a8bda5-9547-47ec-e78e-c3f2d7ccc82e"
   },
   "outputs": [
    {
     "data": {
      "text/plain": [
       "Text(0, 0.5, 'Cumulative Variance')"
      ]
     },
     "execution_count": 100,
     "metadata": {},
     "output_type": "execute_result"
    },
    {
     "data": {
      "image/png": "[encoded data removed]",
      "text/plain": [
       "<Figure size 720x432 with 1 Axes>"
      ]
     },
     "metadata": {
      "needs_background": "light"
     },
     "output_type": "display_data"
    }
   ],
   "source": [
    "# Plotting scree plot\n",
    "fig = plt.figure(figsize = (10,6))\n",
    "plt.plot(variance_cumu)\n",
    "plt.xlabel('Number of Components')\n",
    "plt.ylabel('Cumulative Variance')"
   ]
  },
  {
   "cell_type": "markdown",
   "metadata": {
    "id": "cssBmJPAndvV"
   },
   "source": [
    "We can see that `60 components` explain amost more than 90% variance of the data. So, we will perform PCA with 60 components."
   ]
  },
  {
   "cell_type": "markdown",
   "metadata": {
    "id": "fqqoYXInndvV"
   },
   "source": [
    "##### Performing PCA with 60 components"
   ]
  },
  {
   "cell_type": "code",
   "execution_count": 101,
   "metadata": {
    "id": "wVptZZ7CndvV"
   },
   "outputs": [],
   "source": [
    "# Importing incremental PCA\n",
    "from sklearn.decomposition import IncrementalPCA"
   ]
  },
  {
   "cell_type": "code",
   "execution_count": 102,
   "metadata": {
    "id": "8sSTC0IPndvV"
   },
   "outputs": [],
   "source": [
    "# Instantiate PCA with 60 components\n",
    "pca_final = IncrementalPCA(n_components=60)"
   ]
  },
  {
   "cell_type": "code",
   "execution_count": 103,
   "metadata": {
    "id": "mmwSrygjndvV"
   },
   "outputs": [],
   "source": [
    "# Fit and transform the X_train\n",
    "X_train_pca = pca_final.fit_transform(X_train)"
   ]
  },
  {
   "cell_type": "markdown",
   "metadata": {
    "id": "-KbM7OdCndvV"
   },
   "source": [
    "##### Applying transformation on the test set\n",
    "We are only doing Transform in the test set not the Fit-Transform. Because the Fitting is already done on the train set. So, we just have to do the transformation with the already fitted data on the train set."
   ]
  },
  {
   "cell_type": "code",
   "execution_count": 104,
   "metadata": {
    "id": "oy5qqIvVndvV"
   },
   "outputs": [],
   "source": [
    "X_test_pca = pca_final.transform(X_test)"
   ]
  },
  {
   "cell_type": "markdown",
   "metadata": {
    "id": "iBraP43DndvW"
   },
   "source": [
    "#### Emphasize Sensitivity/Recall than Accuracy\n",
    "\n",
    "We are more focused on higher Sensitivity/Recall score than the accuracy.\n",
    "\n",
    "Beacuse we need to care more about churn cases than the not churn cases. The main goal is to reatin the customers, who have the possiblity to churn. There should not be a problem, if we consider few not churn customers as churn customers and provide them some incentives for retaining them. Hence, the sensitivity score is more important here."
   ]
  },
  {
   "cell_type": "markdown",
   "metadata": {
    "id": "nt8OXR-pndvW"
   },
   "source": [
    "## Logistic regression with PCA"
   ]
  },
  {
   "cell_type": "code",
   "execution_count": 105,
   "metadata": {
    "id": "J8FU0gqcndvW"
   },
   "outputs": [],
   "source": [
    "# Importing scikit logistic regression module\n",
    "from sklearn.linear_model import LogisticRegression"
   ]
  },
  {
   "cell_type": "code",
   "execution_count": 106,
   "metadata": {
    "id": "uhTkVMNpndvW"
   },
   "outputs": [],
   "source": [
    "# Impoting metrics\n",
    "from sklearn import metrics\n",
    "from sklearn.metrics import confusion_matrix"
   ]
  },
  {
   "cell_type": "markdown",
   "metadata": {
    "id": "s5pxMRt2ndvW"
   },
   "source": [
    "#### Tuning hyperparameter  C\n",
    "C is the the inverse of regularization strength in Logistic Regression. Higher values of C correspond to less regularization."
   ]
  },
  {
   "cell_type": "code",
   "execution_count": 107,
   "metadata": {
    "id": "sTjGsgecndvW"
   },
   "outputs": [],
   "source": [
    "# Importing libraries for cross validation\n",
    "from sklearn.model_selection import KFold\n",
    "from sklearn.model_selection import cross_val_score\n",
    "from sklearn.model_selection import GridSearchCV"
   ]
  },
  {
   "cell_type": "code",
   "execution_count": 108,
   "metadata": {
    "colab": {
     "base_uri": "https://localhost:8080/",
     "height": 135
    },
    "id": "9mfzvobbndvW",
    "outputId": "1b893cb1-047a-4a0a-b462-0e03ecb5285e"
   },
   "outputs": [
    {
     "name": "stdout",
     "output_type": "stream",
     "text": [
      "Fitting 5 folds for each of 6 candidates, totalling 30 fits\n"
     ]
    },
    {
     "data": {
      "text/plain": [
       "GridSearchCV(cv=KFold(n_splits=5, random_state=4, shuffle=True),\n",
       "             estimator=LogisticRegression(),\n",
       "             param_grid={'C': [0.01, 0.1, 1, 10, 100, 1000]},\n",
       "             return_train_score=True, scoring='recall', verbose=1)"
      ]
     },
     "execution_count": 108,
     "metadata": {},
     "output_type": "execute_result"
    }
   ],
   "source": [
    "# Creating KFold object with 5 splits\n",
    "folds = KFold(n_splits=5, shuffle=True, random_state=4)\n",
    "\n",
    "# Specify params\n",
    "params = {\"C\": [0.01, 0.1, 1, 10, 100, 1000]}\n",
    "\n",
    "# Specifing score as recall as we are more focused on acheiving the higher sensitivity than the accuracy\n",
    "model_cv = GridSearchCV(estimator = LogisticRegression(),\n",
    "                        param_grid = params, \n",
    "                        scoring= 'recall', \n",
    "                        cv = folds, \n",
    "                        verbose = 1,\n",
    "                        return_train_score=True) \n",
    "\n",
    "# Fit the model\n",
    "model_cv.fit(X_train_pca, y_train)"
   ]
  },
  {
   "cell_type": "code",
   "execution_count": 109,
   "metadata": {
    "colab": {
     "base_uri": "https://localhost:8080/",
     "height": 418
    },
    "id": "Yx8UK0AZndvW",
    "outputId": "2120fdeb-8353-46f0-91b2-6b5776133d09"
   },
   "outputs": [
    {
     "data": {
      "text/html": [
       "<div>\n",
       "<style scoped>\n",
       "    .dataframe tbody tr th:only-of-type {\n",
       "        vertical-align: middle;\n",
       "    }\n",
       "\n",
       "    .dataframe tbody tr th {\n",
       "        vertical-align: top;\n",
       "    }\n",
       "\n",
       "    .dataframe thead th {\n",
       "        text-align: right;\n",
       "    }\n",
       "</style>\n",
       "<table border=\"1\" class=\"dataframe\">\n",
       "  <thead>\n",
       "    <tr style=\"text-align: right;\">\n",
       "      <th></th>\n",
       "      <th>mean_fit_time</th>\n",
       "      <th>std_fit_time</th>\n",
       "      <th>mean_score_time</th>\n",
       "      <th>std_score_time</th>\n",
       "      <th>param_C</th>\n",
       "      <th>params</th>\n",
       "      <th>split0_test_score</th>\n",
       "      <th>split1_test_score</th>\n",
       "      <th>split2_test_score</th>\n",
       "      <th>split3_test_score</th>\n",
       "      <th>...</th>\n",
       "      <th>mean_test_score</th>\n",
       "      <th>std_test_score</th>\n",
       "      <th>rank_test_score</th>\n",
       "      <th>split0_train_score</th>\n",
       "      <th>split1_train_score</th>\n",
       "      <th>split2_train_score</th>\n",
       "      <th>split3_train_score</th>\n",
       "      <th>split4_train_score</th>\n",
       "      <th>mean_train_score</th>\n",
       "      <th>std_train_score</th>\n",
       "    </tr>\n",
       "  </thead>\n",
       "  <tbody>\n",
       "    <tr>\n",
       "      <th>0</th>\n",
       "      <td>0.212868</td>\n",
       "      <td>0.018303</td>\n",
       "      <td>0.003003</td>\n",
       "      <td>0.000005</td>\n",
       "      <td>0.01</td>\n",
       "      <td>{'C': 0.01}</td>\n",
       "      <td>0.900071</td>\n",
       "      <td>0.897759</td>\n",
       "      <td>0.895814</td>\n",
       "      <td>0.906425</td>\n",
       "      <td>...</td>\n",
       "      <td>0.897524</td>\n",
       "      <td>0.006134</td>\n",
       "      <td>5</td>\n",
       "      <td>0.901116</td>\n",
       "      <td>0.898256</td>\n",
       "      <td>0.899387</td>\n",
       "      <td>0.895440</td>\n",
       "      <td>0.897971</td>\n",
       "      <td>0.898434</td>\n",
       "      <td>0.001861</td>\n",
       "    </tr>\n",
       "    <tr>\n",
       "      <th>1</th>\n",
       "      <td>0.358436</td>\n",
       "      <td>0.006818</td>\n",
       "      <td>0.002802</td>\n",
       "      <td>0.000397</td>\n",
       "      <td>0.1</td>\n",
       "      <td>{'C': 0.1}</td>\n",
       "      <td>0.898177</td>\n",
       "      <td>0.896359</td>\n",
       "      <td>0.894651</td>\n",
       "      <td>0.905959</td>\n",
       "      <td>...</td>\n",
       "      <td>0.896910</td>\n",
       "      <td>0.005390</td>\n",
       "      <td>6</td>\n",
       "      <td>0.901174</td>\n",
       "      <td>0.898431</td>\n",
       "      <td>0.899270</td>\n",
       "      <td>0.896725</td>\n",
       "      <td>0.899257</td>\n",
       "      <td>0.898971</td>\n",
       "      <td>0.001440</td>\n",
       "    </tr>\n",
       "    <tr>\n",
       "      <th>2</th>\n",
       "      <td>0.374562</td>\n",
       "      <td>0.021149</td>\n",
       "      <td>0.003001</td>\n",
       "      <td>0.000006</td>\n",
       "      <td>1</td>\n",
       "      <td>{'C': 1}</td>\n",
       "      <td>0.898650</td>\n",
       "      <td>0.898693</td>\n",
       "      <td>0.895581</td>\n",
       "      <td>0.905028</td>\n",
       "      <td>...</td>\n",
       "      <td>0.897656</td>\n",
       "      <td>0.004783</td>\n",
       "      <td>4</td>\n",
       "      <td>0.901988</td>\n",
       "      <td>0.898606</td>\n",
       "      <td>0.898861</td>\n",
       "      <td>0.898184</td>\n",
       "      <td>0.899199</td>\n",
       "      <td>0.899368</td>\n",
       "      <td>0.001351</td>\n",
       "    </tr>\n",
       "    <tr>\n",
       "      <th>3</th>\n",
       "      <td>0.422579</td>\n",
       "      <td>0.050043</td>\n",
       "      <td>0.003601</td>\n",
       "      <td>0.000796</td>\n",
       "      <td>10</td>\n",
       "      <td>{'C': 10}</td>\n",
       "      <td>0.898887</td>\n",
       "      <td>0.898459</td>\n",
       "      <td>0.896744</td>\n",
       "      <td>0.904562</td>\n",
       "      <td>...</td>\n",
       "      <td>0.897704</td>\n",
       "      <td>0.004719</td>\n",
       "      <td>3</td>\n",
       "      <td>0.902511</td>\n",
       "      <td>0.898956</td>\n",
       "      <td>0.898394</td>\n",
       "      <td>0.898476</td>\n",
       "      <td>0.899550</td>\n",
       "      <td>0.899577</td>\n",
       "      <td>0.001524</td>\n",
       "    </tr>\n",
       "    <tr>\n",
       "      <th>4</th>\n",
       "      <td>0.484571</td>\n",
       "      <td>0.038878</td>\n",
       "      <td>0.003505</td>\n",
       "      <td>0.000443</td>\n",
       "      <td>100</td>\n",
       "      <td>{'C': 100}</td>\n",
       "      <td>0.899597</td>\n",
       "      <td>0.898226</td>\n",
       "      <td>0.896977</td>\n",
       "      <td>0.904330</td>\n",
       "      <td>...</td>\n",
       "      <td>0.897892</td>\n",
       "      <td>0.004528</td>\n",
       "      <td>1</td>\n",
       "      <td>0.902628</td>\n",
       "      <td>0.898722</td>\n",
       "      <td>0.898569</td>\n",
       "      <td>0.898593</td>\n",
       "      <td>0.899608</td>\n",
       "      <td>0.899624</td>\n",
       "      <td>0.001550</td>\n",
       "    </tr>\n",
       "    <tr>\n",
       "      <th>5</th>\n",
       "      <td>0.539669</td>\n",
       "      <td>0.069588</td>\n",
       "      <td>0.003623</td>\n",
       "      <td>0.000589</td>\n",
       "      <td>1000</td>\n",
       "      <td>{'C': 1000}</td>\n",
       "      <td>0.899597</td>\n",
       "      <td>0.898226</td>\n",
       "      <td>0.896977</td>\n",
       "      <td>0.904330</td>\n",
       "      <td>...</td>\n",
       "      <td>0.897892</td>\n",
       "      <td>0.004528</td>\n",
       "      <td>1</td>\n",
       "      <td>0.902628</td>\n",
       "      <td>0.898839</td>\n",
       "      <td>0.898686</td>\n",
       "      <td>0.898593</td>\n",
       "      <td>0.899608</td>\n",
       "      <td>0.899671</td>\n",
       "      <td>0.001521</td>\n",
       "    </tr>\n",
       "  </tbody>\n",
       "</table>\n",
       "<p>6 rows × 21 columns</p>\n",
       "</div>"
      ],
      "text/plain": [
       "   mean_fit_time  std_fit_time  mean_score_time  std_score_time param_C  \\\n",
       "0       0.212868      0.018303         0.003003        0.000005    0.01   \n",
       "1       0.358436      0.006818         0.002802        0.000397     0.1   \n",
       "2       0.374562      0.021149         0.003001        0.000006       1   \n",
       "3       0.422579      0.050043         0.003601        0.000796      10   \n",
       "4       0.484571      0.038878         0.003505        0.000443     100   \n",
       "5       0.539669      0.069588         0.003623        0.000589    1000   \n",
       "\n",
       "        params  split0_test_score  split1_test_score  split2_test_score  \\\n",
       "0  {'C': 0.01}           0.900071           0.897759           0.895814   \n",
       "1   {'C': 0.1}           0.898177           0.896359           0.894651   \n",
       "2     {'C': 1}           0.898650           0.898693           0.895581   \n",
       "3    {'C': 10}           0.898887           0.898459           0.896744   \n",
       "4   {'C': 100}           0.899597           0.898226           0.896977   \n",
       "5  {'C': 1000}           0.899597           0.898226           0.896977   \n",
       "\n",
       "   split3_test_score  ...  mean_test_score  std_test_score  rank_test_score  \\\n",
       "0           0.906425  ...         0.897524        0.006134                5   \n",
       "1           0.905959  ...         0.896910        0.005390                6   \n",
       "2           0.905028  ...         0.897656        0.004783                4   \n",
       "3           0.904562  ...         0.897704        0.004719                3   \n",
       "4           0.904330  ...         0.897892        0.004528                1   \n",
       "5           0.904330  ...         0.897892        0.004528                1   \n",
       "\n",
       "   split0_train_score  split1_train_score  split2_train_score  \\\n",
       "0            0.901116            0.898256            0.899387   \n",
       "1            0.901174            0.898431            0.899270   \n",
       "2            0.901988            0.898606            0.898861   \n",
       "3            0.902511            0.898956            0.898394   \n",
       "4            0.902628            0.898722            0.898569   \n",
       "5            0.902628            0.898839            0.898686   \n",
       "\n",
       "   split3_train_score  split4_train_score  mean_train_score  std_train_score  \n",
       "0            0.895440            0.897971          0.898434         0.001861  \n",
       "1            0.896725            0.899257          0.898971         0.001440  \n",
       "2            0.898184            0.899199          0.899368         0.001351  \n",
       "3            0.898476            0.899550          0.899577         0.001524  \n",
       "4            0.898593            0.899608          0.899624         0.001550  \n",
       "5            0.898593            0.899608          0.899671         0.001521  \n",
       "\n",
       "[6 rows x 21 columns]"
      ]
     },
     "execution_count": 109,
     "metadata": {},
     "output_type": "execute_result"
    }
   ],
   "source": [
    "# results of grid search CV\n",
    "cv_results = pd.DataFrame(model_cv.cv_results_)\n",
    "cv_results"
   ]
  },
  {
   "cell_type": "code",
   "execution_count": 110,
   "metadata": {
    "colab": {
     "base_uri": "https://localhost:8080/",
     "height": 546
    },
    "id": "SxJRciHdndvW",
    "outputId": "71987161-d44c-47f6-b029-700f88072435"
   },
   "outputs": [
    {
     "data": {
      "image/png": "[encoded data removed]",
      "text/plain": [
       "<Figure size 576x432 with 1 Axes>"
      ]
     },
     "metadata": {
      "needs_background": "light"
     },
     "output_type": "display_data"
    }
   ],
   "source": [
    "# plot of C versus train and validation scores\n",
    "\n",
    "plt.figure(figsize=(8, 6))\n",
    "plt.plot(cv_results['param_C'], cv_results['mean_test_score'])\n",
    "plt.plot(cv_results['param_C'], cv_results['mean_train_score'])\n",
    "plt.xlabel('C')\n",
    "plt.ylabel('sensitivity')\n",
    "plt.legend(['test result', 'train result'], loc='upper left')\n",
    "plt.xscale('log')"
   ]
  },
  {
   "cell_type": "code",
   "execution_count": 111,
   "metadata": {
    "colab": {
     "base_uri": "https://localhost:8080/"
    },
    "id": "N5k0cRBendvX",
    "outputId": "4624963b-86dc-4de8-878f-d0aa0c692303"
   },
   "outputs": [
    {
     "name": "stdout",
     "output_type": "stream",
     "text": [
      " The highest test sensitivity is 0.8978916608693863 at C = 100\n"
     ]
    }
   ],
   "source": [
    "# Best score with best C\n",
    "best_score = model_cv.best_score_\n",
    "best_C = model_cv.best_params_['C']\n",
    "\n",
    "print(\" The highest test sensitivity is {0} at C = {1}\".format(best_score, best_C))"
   ]
  },
  {
   "cell_type": "markdown",
   "metadata": {
    "id": "5WhDmLM5ndvX"
   },
   "source": [
    "#### Logistic regression with optimal C"
   ]
  },
  {
   "cell_type": "code",
   "execution_count": 112,
   "metadata": {
    "id": "1vMh4NTTndvX"
   },
   "outputs": [],
   "source": [
    "# Instantiate the model with best C\n",
    "logistic_pca = LogisticRegression(C=best_C)"
   ]
  },
  {
   "cell_type": "code",
   "execution_count": 113,
   "metadata": {
    "id": "vKgBAoxkndvX"
   },
   "outputs": [],
   "source": [
    "# Fit the model on the train set\n",
    "log_pca_model = logistic_pca.fit(X_train_pca, y_train)"
   ]
  },
  {
   "cell_type": "markdown",
   "metadata": {
    "id": "_RUFspIQndvX"
   },
   "source": [
    "##### Prediction on the train set"
   ]
  },
  {
   "cell_type": "code",
   "execution_count": 114,
   "metadata": {
    "id": "KI4mHQXEndvX"
   },
   "outputs": [],
   "source": [
    "# Predictions on the train set\n",
    "y_train_pred = log_pca_model.predict(X_train_pca)"
   ]
  },
  {
   "cell_type": "code",
   "execution_count": 115,
   "metadata": {
    "colab": {
     "base_uri": "https://localhost:8080/"
    },
    "id": "4whw3uwtndvX",
    "outputId": "f84d21f5-cedf-492c-e780-d30b5f6cc555"
   },
   "outputs": [
    {
     "name": "stdout",
     "output_type": "stream",
     "text": [
      "[[17908  3517]\n",
      " [ 2154 19271]]\n"
     ]
    }
   ],
   "source": [
    "# Confusion matrix\n",
    "confusion = metrics.confusion_matrix(y_train, y_train_pred)\n",
    "print(confusion)"
   ]
  },
  {
   "cell_type": "code",
   "execution_count": 116,
   "metadata": {
    "id": "Yy2hUeVandvY"
   },
   "outputs": [],
   "source": [
    "TP = confusion[1,1] # true positive \n",
    "TN = confusion[0,0] # true negatives\n",
    "FP = confusion[0,1] # false positives\n",
    "FN = confusion[1,0] # false negatives"
   ]
  },
  {
   "cell_type": "code",
   "execution_count": 117,
   "metadata": {
    "colab": {
     "base_uri": "https://localhost:8080/"
    },
    "id": "bT0Ec4sendvY",
    "outputId": "6f1ca12e-81ed-476c-94bd-06e9a25aa10a"
   },
   "outputs": [
    {
     "name": "stdout",
     "output_type": "stream",
     "text": [
      "Accuracy:- 0.8676546091015169\n",
      "Sensitivity:- 0.899463243873979\n",
      "Specificity:- 0.8358459743290548\n"
     ]
    }
   ],
   "source": [
    "# Accuracy\n",
    "print(\"Accuracy:-\",metrics.accuracy_score(y_train, y_train_pred))\n",
    "\n",
    "# Sensitivity\n",
    "print(\"Sensitivity:-\",TP / float(TP+FN))\n",
    "\n",
    "# Specificity\n",
    "print(\"Specificity:-\", TN / float(TN+FP))"
   ]
  },
  {
   "cell_type": "markdown",
   "metadata": {
    "id": "uglIsUOmndvY"
   },
   "source": [
    "##### Prediction on the test set"
   ]
  },
  {
   "cell_type": "code",
   "execution_count": 118,
   "metadata": {
    "id": "YoWpVLbJndvY"
   },
   "outputs": [],
   "source": [
    "# Prediction on the test set\n",
    "y_test_pred = log_pca_model.predict(X_test_pca)"
   ]
  },
  {
   "cell_type": "code",
   "execution_count": 119,
   "metadata": {
    "colab": {
     "base_uri": "https://localhost:8080/"
    },
    "id": "Sd6kS3LcndvY",
    "outputId": "cfa13d95-a018-4a07-9b06-188076be9223"
   },
   "outputs": [
    {
     "name": "stdout",
     "output_type": "stream",
     "text": [
      "[[4452  896]\n",
      " [  36  157]]\n"
     ]
    }
   ],
   "source": [
    "# Confusion matrix\n",
    "confusion = metrics.confusion_matrix(y_test, y_test_pred)\n",
    "print(confusion)"
   ]
  },
  {
   "cell_type": "code",
   "execution_count": 120,
   "metadata": {
    "id": "GlXNy7Q5ndvY"
   },
   "outputs": [],
   "source": [
    "TP = confusion[1,1] # true positive \n",
    "TN = confusion[0,0] # true negatives\n",
    "FP = confusion[0,1] # false positives\n",
    "FN = confusion[1,0] # false negatives"
   ]
  },
  {
   "cell_type": "code",
   "execution_count": 121,
   "metadata": {
    "colab": {
     "base_uri": "https://localhost:8080/"
    },
    "id": "WTlegiUWndvY",
    "outputId": "a012b6ac-b2ce-472f-95df-8125e2ba354c"
   },
   "outputs": [
    {
     "name": "stdout",
     "output_type": "stream",
     "text": [
      "Accuracy:- 0.8317993142032124\n",
      "Sensitivity:- 0.8134715025906736\n",
      "Specificity:- 0.8324607329842932\n"
     ]
    }
   ],
   "source": [
    "# Accuracy\n",
    "print(\"Accuracy:-\",metrics.accuracy_score(y_test, y_test_pred))\n",
    "\n",
    "# Sensitivity\n",
    "print(\"Sensitivity:-\",TP / float(TP+FN))\n",
    "\n",
    "# Specificity\n",
    "print(\"Specificity:-\", TN / float(TN+FP))"
   ]
  },
  {
   "cell_type": "markdown",
   "metadata": {
    "id": "Y4qxQqvDndvY"
   },
   "source": [
    "***Model summary***\n",
    "\n",
    "- Train set\n",
    "\n",
    "Accuracy:- 0.87\n",
    "\n",
    "Sensitivity:- 0.89\n",
    "\n",
    "Specificity:- 0.84\n",
    "\n",
    "\n",
    "- Test set\n",
    "\n",
    "Accuracy:- 0.84\n",
    "\n",
    "Sensitivity:- 0.82\n",
    "\n",
    "Specificity:- 0.84\n",
    "\n",
    "    \n",
    "Overall, the model is performing well in the test set, what it had learnt from the train set."
   ]
  },
  {
   "cell_type": "markdown",
   "metadata": {
    "id": "zwSokugFndvZ"
   },
   "source": [
    "## Support Vector Machine(SVM) with PCA"
   ]
  },
  {
   "cell_type": "code",
   "execution_count": 122,
   "metadata": {
    "id": "x4HXr5UindvZ"
   },
   "outputs": [],
   "source": [
    "# Importing SVC\n",
    "from sklearn.svm import SVC"
   ]
  },
  {
   "cell_type": "markdown",
   "metadata": {
    "id": "x806H0eQndvZ"
   },
   "source": [
    "#### Hyperparameter tuning\n",
    "\n",
    "C:- Regularization parameter.\n",
    "\n",
    "gamma:- Handles non linear classifications."
   ]
  },
  {
   "cell_type": "code",
   "execution_count": 123,
   "metadata": {
    "colab": {
     "base_uri": "https://localhost:8080/",
     "height": 135
    },
    "id": "5eYpi7qzndvZ",
    "outputId": "cdf07f51-90c3-4285-df2e-00c883bf06de"
   },
   "outputs": [
    {
     "name": "stdout",
     "output_type": "stream",
     "text": [
      "Fitting 3 folds for each of 12 candidates, totalling 36 fits\n"
     ]
    },
    {
     "data": {
      "text/plain": [
       "GridSearchCV(cv=3, estimator=SVC(),\n",
       "             param_grid=[{'C': [1, 10, 100, 1000],\n",
       "                          'gamma': [0.01, 0.001, 0.0001]}],\n",
       "             return_train_score=True, scoring='accuracy', verbose=1)"
      ]
     },
     "execution_count": 123,
     "metadata": {},
     "output_type": "execute_result"
    }
   ],
   "source": [
    "# specify range of hyperparameters\n",
    "\n",
    "hyper_params = [ {'gamma': [1e-2, 1e-3, 1e-4],\n",
    "                     'C': [1, 10, 100, 1000]}]\n",
    "\n",
    "\n",
    "# specify model with RBF kernel\n",
    "model = SVC(kernel=\"rbf\")\n",
    "\n",
    "# set up GridSearchCV()\n",
    "model_cv = GridSearchCV(estimator = model, \n",
    "                        param_grid = hyper_params, \n",
    "                        scoring= 'accuracy', \n",
    "                        cv = 3, \n",
    "                        verbose = 1,\n",
    "                        return_train_score=True)      \n",
    "\n",
    "# fit the model\n",
    "model_cv.fit(X_train_pca, y_train)                  \n"
   ]
  },
  {
   "cell_type": "code",
   "execution_count": 124,
   "metadata": {
    "colab": {
     "base_uri": "https://localhost:8080/",
     "height": 958
    },
    "id": "xZYIaoYundvZ",
    "outputId": "ccb118a8-0519-4994-d1a7-2d37e47410ca"
   },
   "outputs": [
    {
     "data": {
      "text/html": [
       "<div>\n",
       "<style scoped>\n",
       "    .dataframe tbody tr th:only-of-type {\n",
       "        vertical-align: middle;\n",
       "    }\n",
       "\n",
       "    .dataframe tbody tr th {\n",
       "        vertical-align: top;\n",
       "    }\n",
       "\n",
       "    .dataframe thead th {\n",
       "        text-align: right;\n",
       "    }\n",
       "</style>\n",
       "<table border=\"1\" class=\"dataframe\">\n",
       "  <thead>\n",
       "    <tr style=\"text-align: right;\">\n",
       "      <th></th>\n",
       "      <th>mean_fit_time</th>\n",
       "      <th>std_fit_time</th>\n",
       "      <th>mean_score_time</th>\n",
       "      <th>std_score_time</th>\n",
       "      <th>param_C</th>\n",
       "      <th>param_gamma</th>\n",
       "      <th>params</th>\n",
       "      <th>split0_test_score</th>\n",
       "      <th>split1_test_score</th>\n",
       "      <th>split2_test_score</th>\n",
       "      <th>mean_test_score</th>\n",
       "      <th>std_test_score</th>\n",
       "      <th>rank_test_score</th>\n",
       "      <th>split0_train_score</th>\n",
       "      <th>split1_train_score</th>\n",
       "      <th>split2_train_score</th>\n",
       "      <th>mean_train_score</th>\n",
       "      <th>std_train_score</th>\n",
       "    </tr>\n",
       "  </thead>\n",
       "  <tbody>\n",
       "    <tr>\n",
       "      <th>0</th>\n",
       "      <td>17.568813</td>\n",
       "      <td>0.960626</td>\n",
       "      <td>8.751496</td>\n",
       "      <td>0.144813</td>\n",
       "      <td>1</td>\n",
       "      <td>0.01</td>\n",
       "      <td>{'C': 1, 'gamma': 0.01}</td>\n",
       "      <td>0.944903</td>\n",
       "      <td>0.941679</td>\n",
       "      <td>0.940699</td>\n",
       "      <td>0.942427</td>\n",
       "      <td>0.001796</td>\n",
       "      <td>5</td>\n",
       "      <td>0.947210</td>\n",
       "      <td>0.947247</td>\n",
       "      <td>0.947702</td>\n",
       "      <td>0.947386</td>\n",
       "      <td>0.000224</td>\n",
       "    </tr>\n",
       "    <tr>\n",
       "      <th>1</th>\n",
       "      <td>22.580476</td>\n",
       "      <td>0.174617</td>\n",
       "      <td>11.741560</td>\n",
       "      <td>0.109467</td>\n",
       "      <td>1</td>\n",
       "      <td>0.001</td>\n",
       "      <td>{'C': 1, 'gamma': 0.001}</td>\n",
       "      <td>0.883366</td>\n",
       "      <td>0.884268</td>\n",
       "      <td>0.884058</td>\n",
       "      <td>0.883897</td>\n",
       "      <td>0.000385</td>\n",
       "      <td>10</td>\n",
       "      <td>0.883813</td>\n",
       "      <td>0.886757</td>\n",
       "      <td>0.885707</td>\n",
       "      <td>0.885426</td>\n",
       "      <td>0.001218</td>\n",
       "    </tr>\n",
       "    <tr>\n",
       "      <th>2</th>\n",
       "      <td>29.862149</td>\n",
       "      <td>0.868317</td>\n",
       "      <td>15.437792</td>\n",
       "      <td>0.214854</td>\n",
       "      <td>1</td>\n",
       "      <td>0.0001</td>\n",
       "      <td>{'C': 1, 'gamma': 0.0001}</td>\n",
       "      <td>0.858513</td>\n",
       "      <td>0.858433</td>\n",
       "      <td>0.859133</td>\n",
       "      <td>0.858693</td>\n",
       "      <td>0.000313</td>\n",
       "      <td>12</td>\n",
       "      <td>0.858993</td>\n",
       "      <td>0.859908</td>\n",
       "      <td>0.859173</td>\n",
       "      <td>0.859358</td>\n",
       "      <td>0.000396</td>\n",
       "    </tr>\n",
       "    <tr>\n",
       "      <th>3</th>\n",
       "      <td>17.080423</td>\n",
       "      <td>0.303669</td>\n",
       "      <td>5.772804</td>\n",
       "      <td>0.104608</td>\n",
       "      <td>10</td>\n",
       "      <td>0.01</td>\n",
       "      <td>{'C': 10, 'gamma': 0.01}</td>\n",
       "      <td>0.967026</td>\n",
       "      <td>0.965413</td>\n",
       "      <td>0.965063</td>\n",
       "      <td>0.965834</td>\n",
       "      <td>0.000855</td>\n",
       "      <td>3</td>\n",
       "      <td>0.975040</td>\n",
       "      <td>0.973536</td>\n",
       "      <td>0.974306</td>\n",
       "      <td>0.974294</td>\n",
       "      <td>0.000614</td>\n",
       "    </tr>\n",
       "    <tr>\n",
       "      <th>4</th>\n",
       "      <td>17.595330</td>\n",
       "      <td>0.472895</td>\n",
       "      <td>9.501448</td>\n",
       "      <td>0.203652</td>\n",
       "      <td>10</td>\n",
       "      <td>0.001</td>\n",
       "      <td>{'C': 10, 'gamma': 0.001}</td>\n",
       "      <td>0.910459</td>\n",
       "      <td>0.911433</td>\n",
       "      <td>0.908073</td>\n",
       "      <td>0.909988</td>\n",
       "      <td>0.001412</td>\n",
       "      <td>7</td>\n",
       "      <td>0.913709</td>\n",
       "      <td>0.911891</td>\n",
       "      <td>0.912381</td>\n",
       "      <td>0.912660</td>\n",
       "      <td>0.000768</td>\n",
       "    </tr>\n",
       "    <tr>\n",
       "      <th>5</th>\n",
       "      <td>21.536309</td>\n",
       "      <td>0.931657</td>\n",
       "      <td>12.019490</td>\n",
       "      <td>0.281360</td>\n",
       "      <td>10</td>\n",
       "      <td>0.0001</td>\n",
       "      <td>{'C': 10, 'gamma': 0.0001}</td>\n",
       "      <td>0.870414</td>\n",
       "      <td>0.869355</td>\n",
       "      <td>0.872786</td>\n",
       "      <td>0.870852</td>\n",
       "      <td>0.001434</td>\n",
       "      <td>11</td>\n",
       "      <td>0.871421</td>\n",
       "      <td>0.873875</td>\n",
       "      <td>0.870690</td>\n",
       "      <td>0.871995</td>\n",
       "      <td>0.001362</td>\n",
       "    </tr>\n",
       "    <tr>\n",
       "      <th>6</th>\n",
       "      <td>19.952152</td>\n",
       "      <td>2.477302</td>\n",
       "      <td>3.681712</td>\n",
       "      <td>0.042882</td>\n",
       "      <td>100</td>\n",
       "      <td>0.01</td>\n",
       "      <td>{'C': 100, 'gamma': 0.01}</td>\n",
       "      <td>0.973397</td>\n",
       "      <td>0.976686</td>\n",
       "      <td>0.975775</td>\n",
       "      <td>0.975286</td>\n",
       "      <td>0.001387</td>\n",
       "      <td>2</td>\n",
       "      <td>0.991318</td>\n",
       "      <td>0.990444</td>\n",
       "      <td>0.990198</td>\n",
       "      <td>0.990653</td>\n",
       "      <td>0.000481</td>\n",
       "    </tr>\n",
       "    <tr>\n",
       "      <th>7</th>\n",
       "      <td>22.110022</td>\n",
       "      <td>0.995179</td>\n",
       "      <td>7.747013</td>\n",
       "      <td>0.207179</td>\n",
       "      <td>100</td>\n",
       "      <td>0.001</td>\n",
       "      <td>{'C': 100, 'gamma': 0.001}</td>\n",
       "      <td>0.935662</td>\n",
       "      <td>0.935518</td>\n",
       "      <td>0.934608</td>\n",
       "      <td>0.935263</td>\n",
       "      <td>0.000467</td>\n",
       "      <td>6</td>\n",
       "      <td>0.941819</td>\n",
       "      <td>0.942066</td>\n",
       "      <td>0.941681</td>\n",
       "      <td>0.941855</td>\n",
       "      <td>0.000159</td>\n",
       "    </tr>\n",
       "    <tr>\n",
       "      <th>8</th>\n",
       "      <td>22.116212</td>\n",
       "      <td>1.192325</td>\n",
       "      <td>11.312936</td>\n",
       "      <td>0.065845</td>\n",
       "      <td>100</td>\n",
       "      <td>0.0001</td>\n",
       "      <td>{'C': 100, 'gamma': 0.0001}</td>\n",
       "      <td>0.884906</td>\n",
       "      <td>0.886438</td>\n",
       "      <td>0.886718</td>\n",
       "      <td>0.886021</td>\n",
       "      <td>0.000797</td>\n",
       "      <td>9</td>\n",
       "      <td>0.886368</td>\n",
       "      <td>0.888893</td>\n",
       "      <td>0.888543</td>\n",
       "      <td>0.887935</td>\n",
       "      <td>0.001117</td>\n",
       "    </tr>\n",
       "    <tr>\n",
       "      <th>9</th>\n",
       "      <td>36.517025</td>\n",
       "      <td>3.046742</td>\n",
       "      <td>3.084876</td>\n",
       "      <td>0.104610</td>\n",
       "      <td>1000</td>\n",
       "      <td>0.01</td>\n",
       "      <td>{'C': 1000, 'gamma': 0.01}</td>\n",
       "      <td>0.972277</td>\n",
       "      <td>0.977876</td>\n",
       "      <td>0.976336</td>\n",
       "      <td>0.975496</td>\n",
       "      <td>0.002362</td>\n",
       "      <td>1</td>\n",
       "      <td>0.998425</td>\n",
       "      <td>0.998495</td>\n",
       "      <td>0.998495</td>\n",
       "      <td>0.998471</td>\n",
       "      <td>0.000033</td>\n",
       "    </tr>\n",
       "    <tr>\n",
       "      <th>10</th>\n",
       "      <td>46.457248</td>\n",
       "      <td>0.527179</td>\n",
       "      <td>5.897350</td>\n",
       "      <td>0.322309</td>\n",
       "      <td>1000</td>\n",
       "      <td>0.001</td>\n",
       "      <td>{'C': 1000, 'gamma': 0.001}</td>\n",
       "      <td>0.955965</td>\n",
       "      <td>0.955121</td>\n",
       "      <td>0.955472</td>\n",
       "      <td>0.955519</td>\n",
       "      <td>0.000346</td>\n",
       "      <td>4</td>\n",
       "      <td>0.965623</td>\n",
       "      <td>0.965345</td>\n",
       "      <td>0.966465</td>\n",
       "      <td>0.965811</td>\n",
       "      <td>0.000476</td>\n",
       "    </tr>\n",
       "    <tr>\n",
       "      <th>11</th>\n",
       "      <td>27.802591</td>\n",
       "      <td>0.114935</td>\n",
       "      <td>9.211382</td>\n",
       "      <td>0.102355</td>\n",
       "      <td>1000</td>\n",
       "      <td>0.0001</td>\n",
       "      <td>{'C': 1000, 'gamma': 0.0001}</td>\n",
       "      <td>0.908499</td>\n",
       "      <td>0.910943</td>\n",
       "      <td>0.907302</td>\n",
       "      <td>0.908915</td>\n",
       "      <td>0.001515</td>\n",
       "      <td>8</td>\n",
       "      <td>0.912868</td>\n",
       "      <td>0.910806</td>\n",
       "      <td>0.911996</td>\n",
       "      <td>0.911890</td>\n",
       "      <td>0.000845</td>\n",
       "    </tr>\n",
       "  </tbody>\n",
       "</table>\n",
       "</div>"
      ],
      "text/plain": [
       "    mean_fit_time  std_fit_time  mean_score_time  std_score_time param_C  \\\n",
       "0       17.568813      0.960626         8.751496        0.144813       1   \n",
       "1       22.580476      0.174617        11.741560        0.109467       1   \n",
       "2       29.862149      0.868317        15.437792        0.214854       1   \n",
       "3       17.080423      0.303669         5.772804        0.104608      10   \n",
       "4       17.595330      0.472895         9.501448        0.203652      10   \n",
       "5       21.536309      0.931657        12.019490        0.281360      10   \n",
       "6       19.952152      2.477302         3.681712        0.042882     100   \n",
       "7       22.110022      0.995179         7.747013        0.207179     100   \n",
       "8       22.116212      1.192325        11.312936        0.065845     100   \n",
       "9       36.517025      3.046742         3.084876        0.104610    1000   \n",
       "10      46.457248      0.527179         5.897350        0.322309    1000   \n",
       "11      27.802591      0.114935         9.211382        0.102355    1000   \n",
       "\n",
       "   param_gamma                        params  split0_test_score  \\\n",
       "0         0.01       {'C': 1, 'gamma': 0.01}           0.944903   \n",
       "1        0.001      {'C': 1, 'gamma': 0.001}           0.883366   \n",
       "2       0.0001     {'C': 1, 'gamma': 0.0001}           0.858513   \n",
       "3         0.01      {'C': 10, 'gamma': 0.01}           0.967026   \n",
       "4        0.001     {'C': 10, 'gamma': 0.001}           0.910459   \n",
       "5       0.0001    {'C': 10, 'gamma': 0.0001}           0.870414   \n",
       "6         0.01     {'C': 100, 'gamma': 0.01}           0.973397   \n",
       "7        0.001    {'C': 100, 'gamma': 0.001}           0.935662   \n",
       "8       0.0001   {'C': 100, 'gamma': 0.0001}           0.884906   \n",
       "9         0.01    {'C': 1000, 'gamma': 0.01}           0.972277   \n",
       "10       0.001   {'C': 1000, 'gamma': 0.001}           0.955965   \n",
       "11      0.0001  {'C': 1000, 'gamma': 0.0001}           0.908499   \n",
       "\n",
       "    split1_test_score  split2_test_score  mean_test_score  std_test_score  \\\n",
       "0            0.941679           0.940699         0.942427        0.001796   \n",
       "1            0.884268           0.884058         0.883897        0.000385   \n",
       "2            0.858433           0.859133         0.858693        0.000313   \n",
       "3            0.965413           0.965063         0.965834        0.000855   \n",
       "4            0.911433           0.908073         0.909988        0.001412   \n",
       "5            0.869355           0.872786         0.870852        0.001434   \n",
       "6            0.976686           0.975775         0.975286        0.001387   \n",
       "7            0.935518           0.934608         0.935263        0.000467   \n",
       "8            0.886438           0.886718         0.886021        0.000797   \n",
       "9            0.977876           0.976336         0.975496        0.002362   \n",
       "10           0.955121           0.955472         0.955519        0.000346   \n",
       "11           0.910943           0.907302         0.908915        0.001515   \n",
       "\n",
       "    rank_test_score  split0_train_score  split1_train_score  \\\n",
       "0                 5            0.947210            0.947247   \n",
       "1                10            0.883813            0.886757   \n",
       "2                12            0.858993            0.859908   \n",
       "3                 3            0.975040            0.973536   \n",
       "4                 7            0.913709            0.911891   \n",
       "5                11            0.871421            0.873875   \n",
       "6                 2            0.991318            0.990444   \n",
       "7                 6            0.941819            0.942066   \n",
       "8                 9            0.886368            0.888893   \n",
       "9                 1            0.998425            0.998495   \n",
       "10                4            0.965623            0.965345   \n",
       "11                8            0.912868            0.910806   \n",
       "\n",
       "    split2_train_score  mean_train_score  std_train_score  \n",
       "0             0.947702          0.947386         0.000224  \n",
       "1             0.885707          0.885426         0.001218  \n",
       "2             0.859173          0.859358         0.000396  \n",
       "3             0.974306          0.974294         0.000614  \n",
       "4             0.912381          0.912660         0.000768  \n",
       "5             0.870690          0.871995         0.001362  \n",
       "6             0.990198          0.990653         0.000481  \n",
       "7             0.941681          0.941855         0.000159  \n",
       "8             0.888543          0.887935         0.001117  \n",
       "9             0.998495          0.998471         0.000033  \n",
       "10            0.966465          0.965811         0.000476  \n",
       "11            0.911996          0.911890         0.000845  "
      ]
     },
     "execution_count": 124,
     "metadata": {},
     "output_type": "execute_result"
    }
   ],
   "source": [
    "# cv results\n",
    "cv_results = pd.DataFrame(model_cv.cv_results_)\n",
    "cv_results"
   ]
  },
  {
   "cell_type": "markdown",
   "metadata": {
    "id": "0njcU5olndvZ"
   },
   "source": [
    "##### Plotting the accuracy with various C and gamma values"
   ]
  },
  {
   "cell_type": "code",
   "execution_count": 125,
   "metadata": {
    "colab": {
     "base_uri": "https://localhost:8080/",
     "height": 569
    },
    "id": "Bncp6ZIondvZ",
    "outputId": "2a5cf999-47e9-458d-f4b9-65915edb4bcb"
   },
   "outputs": [
    {
     "data": {
      "image/png": "[encoded data removed]",
      "text/plain": [
       "<Figure size 1152x432 with 3 Axes>"
      ]
     },
     "metadata": {
      "needs_background": "light"
     },
     "output_type": "display_data"
    }
   ],
   "source": [
    "# converting C to numeric type for plotting on x-axis\n",
    "cv_results['param_C'] = cv_results['param_C'].astype('int')\n",
    "\n",
    "# # plotting\n",
    "plt.figure(figsize=(16,6))\n",
    "\n",
    "# subplot 1/3\n",
    "plt.subplot(131)\n",
    "gamma_01 = cv_results[cv_results['param_gamma']==0.01]\n",
    "\n",
    "plt.plot(gamma_01[\"param_C\"], gamma_01[\"mean_test_score\"])\n",
    "plt.plot(gamma_01[\"param_C\"], gamma_01[\"mean_train_score\"])\n",
    "plt.xlabel('C')\n",
    "plt.ylabel('Accuracy')\n",
    "plt.title(\"Gamma=0.01\")\n",
    "plt.ylim([0.80, 1])\n",
    "plt.legend(['test accuracy', 'train accuracy'], loc='upper left')\n",
    "plt.xscale('log')\n",
    "\n",
    "# subplot 2/3\n",
    "plt.subplot(132)\n",
    "gamma_001 = cv_results[cv_results['param_gamma']==0.001]\n",
    "\n",
    "plt.plot(gamma_001[\"param_C\"], gamma_001[\"mean_test_score\"])\n",
    "plt.plot(gamma_001[\"param_C\"], gamma_001[\"mean_train_score\"])\n",
    "plt.xlabel('C')\n",
    "plt.ylabel('Accuracy')\n",
    "plt.title(\"Gamma=0.001\")\n",
    "plt.ylim([0.80, 1])\n",
    "plt.legend(['test accuracy', 'train accuracy'], loc='upper left')\n",
    "plt.xscale('log')\n",
    "\n",
    "\n",
    "# subplot 3/3\n",
    "plt.subplot(133)\n",
    "gamma_0001 = cv_results[cv_results['param_gamma']==0.0001]\n",
    "\n",
    "plt.plot(gamma_0001[\"param_C\"], gamma_0001[\"mean_test_score\"])\n",
    "plt.plot(gamma_0001[\"param_C\"], gamma_0001[\"mean_train_score\"])\n",
    "plt.xlabel('C')\n",
    "plt.ylabel('Accuracy')\n",
    "plt.title(\"Gamma=0.0001\")\n",
    "plt.ylim([0.80, 1])\n",
    "plt.legend(['test accuracy', 'train accuracy'], loc='upper left')\n",
    "plt.xscale('log')\n",
    "\n"
   ]
  },
  {
   "cell_type": "code",
   "execution_count": 126,
   "metadata": {
    "colab": {
     "base_uri": "https://localhost:8080/"
    },
    "id": "o_nwUXsnndva",
    "outputId": "d7b01c40-6670-4275-ab2f-ef56828168bd"
   },
   "outputs": [
    {
     "name": "stdout",
     "output_type": "stream",
     "text": [
      "The best test score is 0.9754959911159373 corresponding to hyperparameters {'C': 1000, 'gamma': 0.01}\n"
     ]
    }
   ],
   "source": [
    "# Printing the best score \n",
    "best_score = model_cv.best_score_\n",
    "best_hyperparams = model_cv.best_params_\n",
    "\n",
    "print(\"The best test score is {0} corresponding to hyperparameters {1}\".format(best_score, best_hyperparams))"
   ]
  },
  {
   "cell_type": "markdown",
   "metadata": {
    "id": "p90azb6cndva"
   },
   "source": [
    "From the above plot, we can see that higher value of gamma leads to overfitting the model. With the lowest value of gamma (0.0001) we have train and test accuracy almost same.\n",
    "\n",
    "Also, at C=100 we have a good accuracy and the train and test scores are comparable.\n",
    "\n",
    "Though sklearn suggests the optimal scores mentioned above (gamma=0.01, C=1000), one could argue that it is better to choose a simpler, more non-linear model with gamma=0.0001. This is because the optimal values mentioned here are calculated based on the average test accuracy (but not considering subjective parameters such as model complexity).\n",
    "\n",
    "We can achieve comparable average test accuracy (~90%) with gamma=0.0001 as well, though we'll have to increase the cost C for that. So to achieve high accuracy, there's a tradeoff between:\n",
    "- High gamma (i.e. high non-linearity) and average value of C\n",
    "- Low gamma (i.e. less non-linearity) and high value of C\n",
    "\n",
    "We argue that the model will be simpler if it has as less non-linearity as possible, so we choose gamma=0.0001 and a high C=100."
   ]
  },
  {
   "cell_type": "markdown",
   "metadata": {
    "id": "qzo5j9ZSndva"
   },
   "source": [
    "##### Build the model with optimal hyperparameters"
   ]
  },
  {
   "cell_type": "code",
   "execution_count": 127,
   "metadata": {
    "colab": {
     "base_uri": "https://localhost:8080/",
     "height": 75
    },
    "id": "m3zbFze7ndva",
    "outputId": "140498f1-a2ad-4eff-cf73-bb9c4f4bf8e5"
   },
   "outputs": [
    {
     "data": {
      "text/plain": [
       "SVC(C=100, gamma=0.0001)"
      ]
     },
     "execution_count": 127,
     "metadata": {},
     "output_type": "execute_result"
    }
   ],
   "source": [
    "# Building the model with optimal hyperparameters\n",
    "svm_pca_model = SVC(C=100, gamma=0.0001, kernel=\"rbf\")\n",
    "\n",
    "svm_pca_model.fit(X_train_pca, y_train)"
   ]
  },
  {
   "cell_type": "markdown",
   "metadata": {
    "id": "3JqO8AJfndva"
   },
   "source": [
    "##### Prediction on the train set"
   ]
  },
  {
   "cell_type": "code",
   "execution_count": 128,
   "metadata": {
    "id": "p1M-WAthndva"
   },
   "outputs": [],
   "source": [
    "# Predictions on the train set\n",
    "y_train_pred = svm_pca_model.predict(X_train_pca)"
   ]
  },
  {
   "cell_type": "code",
   "execution_count": 129,
   "metadata": {
    "colab": {
     "base_uri": "https://localhost:8080/"
    },
    "id": "Y35cnYBLndva",
    "outputId": "e6661f09-fe08-4c33-a81b-680adba82796"
   },
   "outputs": [
    {
     "name": "stdout",
     "output_type": "stream",
     "text": [
      "[[18376  3049]\n",
      " [ 1585 19840]]\n"
     ]
    }
   ],
   "source": [
    "# Confusion matrix\n",
    "confusion = metrics.confusion_matrix(y_train, y_train_pred)\n",
    "print(confusion)"
   ]
  },
  {
   "cell_type": "code",
   "execution_count": 130,
   "metadata": {
    "id": "N3rKR8mRndva"
   },
   "outputs": [],
   "source": [
    "TP = confusion[1,1] # true positive \n",
    "TN = confusion[0,0] # true negatives\n",
    "FP = confusion[0,1] # false positives\n",
    "FN = confusion[1,0] # false negatives"
   ]
  },
  {
   "cell_type": "code",
   "execution_count": 131,
   "metadata": {
    "colab": {
     "base_uri": "https://localhost:8080/"
    },
    "id": "XaG5N0wOndvb",
    "outputId": "52fe0e02-18ac-4fe1-e187-dedd819f2cac"
   },
   "outputs": [
    {
     "name": "stdout",
     "output_type": "stream",
     "text": [
      "Accuracy:- 0.891855309218203\n",
      "Sensitivity:- 0.9260210035005835\n",
      "Specificity:- 0.8576896149358226\n"
     ]
    }
   ],
   "source": [
    "# Accuracy\n",
    "print(\"Accuracy:-\",metrics.accuracy_score(y_train, y_train_pred))\n",
    "\n",
    "# Sensitivity\n",
    "print(\"Sensitivity:-\",TP / float(TP+FN))\n",
    "\n",
    "# Specificity\n",
    "print(\"Specificity:-\", TN / float(TN+FP))"
   ]
  },
  {
   "cell_type": "markdown",
   "metadata": {
    "id": "bXfd0KJcndvb"
   },
   "source": [
    "##### Prediction on the test set"
   ]
  },
  {
   "cell_type": "code",
   "execution_count": 132,
   "metadata": {
    "id": "x-DrXGf5ndvb"
   },
   "outputs": [],
   "source": [
    "# Prediction on the test set\n",
    "y_test_pred = svm_pca_model.predict(X_test_pca)"
   ]
  },
  {
   "cell_type": "code",
   "execution_count": 133,
   "metadata": {
    "colab": {
     "base_uri": "https://localhost:8080/"
    },
    "id": "DpkkNMe0ndvb",
    "outputId": "9aaa5380-b9e8-476e-a704-8b96a3d08cb1"
   },
   "outputs": [
    {
     "name": "stdout",
     "output_type": "stream",
     "text": [
      "[[4557  791]\n",
      " [  36  157]]\n"
     ]
    }
   ],
   "source": [
    "# Confusion matrix\n",
    "confusion = metrics.confusion_matrix(y_test, y_test_pred)\n",
    "print(confusion)"
   ]
  },
  {
   "cell_type": "code",
   "execution_count": 134,
   "metadata": {
    "id": "lrGTI3pandvb"
   },
   "outputs": [],
   "source": [
    "TP = confusion[1,1] # true positive \n",
    "TN = confusion[0,0] # true negatives\n",
    "FP = confusion[0,1] # false positives\n",
    "FN = confusion[1,0] # false negatives"
   ]
  },
  {
   "cell_type": "code",
   "execution_count": 135,
   "metadata": {
    "colab": {
     "base_uri": "https://localhost:8080/"
    },
    "id": "w2Thpwmgndvb",
    "outputId": "a16dc26d-26d6-45c3-fe1a-fe22562c997b"
   },
   "outputs": [
    {
     "name": "stdout",
     "output_type": "stream",
     "text": [
      "Accuracy:- 0.8507489622811767\n",
      "Sensitivity:- 0.8134715025906736\n",
      "Specificity:- 0.8520942408376964\n"
     ]
    }
   ],
   "source": [
    "# Accuracy\n",
    "print(\"Accuracy:-\",metrics.accuracy_score(y_test, y_test_pred))\n",
    "\n",
    "# Sensitivity\n",
    "print(\"Sensitivity:-\",TP / float(TP+FN))\n",
    "\n",
    "# Specificity\n",
    "print(\"Specificity:-\", TN / float(TN+FP))"
   ]
  },
  {
   "cell_type": "markdown",
   "metadata": {
    "id": "ehlgxauqndvb"
   },
   "source": [
    "***Model summary***\n",
    "\n",
    "- Train set\n",
    "    - Accuracy = 0.89\n",
    "    - Sensitivity = 0.91\n",
    "    - Specificity = 0.87\n",
    "- Test set\n",
    "    - Accuracy = 0.86\n",
    "    - Sensitivity = 0.78\n",
    "    - Specificity = 0.86"
   ]
  },
  {
   "cell_type": "markdown",
   "metadata": {
    "id": "8YPgsjd-ndvb"
   },
   "source": [
    "## Decision tree with PCA"
   ]
  },
  {
   "cell_type": "code",
   "execution_count": 136,
   "metadata": {
    "id": "-woDGowwndvc"
   },
   "outputs": [],
   "source": [
    "# Importing decision tree classifier\n",
    "from sklearn.tree import DecisionTreeClassifier"
   ]
  },
  {
   "cell_type": "markdown",
   "metadata": {
    "id": "-ZL7rAR-ndvc"
   },
   "source": [
    "##### Hyperparameter tuning"
   ]
  },
  {
   "cell_type": "code",
   "execution_count": 137,
   "metadata": {
    "colab": {
     "base_uri": "https://localhost:8080/",
     "height": 135
    },
    "id": "ZozB637fndvc",
    "outputId": "c4b9fb2b-8073-4ab7-b83d-81e857ff1912"
   },
   "outputs": [
    {
     "name": "stdout",
     "output_type": "stream",
     "text": [
      "Fitting 5 folds for each of 8 candidates, totalling 40 fits\n"
     ]
    },
    {
     "data": {
      "text/plain": [
       "GridSearchCV(cv=5, estimator=DecisionTreeClassifier(),\n",
       "             param_grid={'max_depth': range(5, 15, 5),\n",
       "                         'min_samples_leaf': range(50, 150, 50),\n",
       "                         'min_samples_split': range(50, 150, 50)},\n",
       "             scoring='recall', verbose=1)"
      ]
     },
     "execution_count": 137,
     "metadata": {},
     "output_type": "execute_result"
    }
   ],
   "source": [
    "# Create the parameter grid \n",
    "param_grid = {\n",
    "    'max_depth': range(5, 15, 5),\n",
    "    'min_samples_leaf': range(50, 150, 50),\n",
    "    'min_samples_split': range(50, 150, 50),\n",
    "}\n",
    "\n",
    "\n",
    "# Instantiate the grid search model\n",
    "dtree = DecisionTreeClassifier()\n",
    "\n",
    "grid_search = GridSearchCV(estimator = dtree, \n",
    "                           param_grid = param_grid, \n",
    "                           scoring= 'recall',\n",
    "                           cv = 5, \n",
    "                           verbose = 1)\n",
    "\n",
    "# Fit the grid search to the data\n",
    "grid_search.fit(X_train_pca,y_train)"
   ]
  },
  {
   "cell_type": "code",
   "execution_count": 138,
   "metadata": {
    "colab": {
     "base_uri": "https://localhost:8080/",
     "height": 642
    },
    "id": "IOsks0fFndvc",
    "outputId": "bf0b6c7f-a740-4529-fb19-7024ff972dcc"
   },
   "outputs": [
    {
     "data": {
      "text/html": [
       "<div>\n",
       "<style scoped>\n",
       "    .dataframe tbody tr th:only-of-type {\n",
       "        vertical-align: middle;\n",
       "    }\n",
       "\n",
       "    .dataframe tbody tr th {\n",
       "        vertical-align: top;\n",
       "    }\n",
       "\n",
       "    .dataframe thead th {\n",
       "        text-align: right;\n",
       "    }\n",
       "</style>\n",
       "<table border=\"1\" class=\"dataframe\">\n",
       "  <thead>\n",
       "    <tr style=\"text-align: right;\">\n",
       "      <th></th>\n",
       "      <th>mean_fit_time</th>\n",
       "      <th>std_fit_time</th>\n",
       "      <th>mean_score_time</th>\n",
       "      <th>std_score_time</th>\n",
       "      <th>param_max_depth</th>\n",
       "      <th>param_min_samples_leaf</th>\n",
       "      <th>param_min_samples_split</th>\n",
       "      <th>params</th>\n",
       "      <th>split0_test_score</th>\n",
       "      <th>split1_test_score</th>\n",
       "      <th>split2_test_score</th>\n",
       "      <th>split3_test_score</th>\n",
       "      <th>split4_test_score</th>\n",
       "      <th>mean_test_score</th>\n",
       "      <th>std_test_score</th>\n",
       "      <th>rank_test_score</th>\n",
       "    </tr>\n",
       "  </thead>\n",
       "  <tbody>\n",
       "    <tr>\n",
       "      <th>0</th>\n",
       "      <td>1.018523</td>\n",
       "      <td>0.021483</td>\n",
       "      <td>0.003400</td>\n",
       "      <td>0.000490</td>\n",
       "      <td>5</td>\n",
       "      <td>50</td>\n",
       "      <td>50</td>\n",
       "      <td>{'max_depth': 5, 'min_samples_leaf': 50, 'min_...</td>\n",
       "      <td>0.862310</td>\n",
       "      <td>0.855776</td>\n",
       "      <td>0.878413</td>\n",
       "      <td>0.875379</td>\n",
       "      <td>0.855309</td>\n",
       "      <td>0.865438</td>\n",
       "      <td>0.009725</td>\n",
       "      <td>5</td>\n",
       "    </tr>\n",
       "    <tr>\n",
       "      <th>1</th>\n",
       "      <td>0.993662</td>\n",
       "      <td>0.013757</td>\n",
       "      <td>0.003400</td>\n",
       "      <td>0.000491</td>\n",
       "      <td>5</td>\n",
       "      <td>50</td>\n",
       "      <td>100</td>\n",
       "      <td>{'max_depth': 5, 'min_samples_leaf': 50, 'min_...</td>\n",
       "      <td>0.862310</td>\n",
       "      <td>0.855776</td>\n",
       "      <td>0.878413</td>\n",
       "      <td>0.875379</td>\n",
       "      <td>0.855309</td>\n",
       "      <td>0.865438</td>\n",
       "      <td>0.009725</td>\n",
       "      <td>5</td>\n",
       "    </tr>\n",
       "    <tr>\n",
       "      <th>2</th>\n",
       "      <td>0.981577</td>\n",
       "      <td>0.014328</td>\n",
       "      <td>0.003400</td>\n",
       "      <td>0.000489</td>\n",
       "      <td>5</td>\n",
       "      <td>100</td>\n",
       "      <td>50</td>\n",
       "      <td>{'max_depth': 5, 'min_samples_leaf': 100, 'min...</td>\n",
       "      <td>0.858110</td>\n",
       "      <td>0.855309</td>\n",
       "      <td>0.875846</td>\n",
       "      <td>0.869078</td>\n",
       "      <td>0.849008</td>\n",
       "      <td>0.861470</td>\n",
       "      <td>0.009686</td>\n",
       "      <td>7</td>\n",
       "    </tr>\n",
       "    <tr>\n",
       "      <th>3</th>\n",
       "      <td>0.977850</td>\n",
       "      <td>0.002112</td>\n",
       "      <td>0.003400</td>\n",
       "      <td>0.000489</td>\n",
       "      <td>5</td>\n",
       "      <td>100</td>\n",
       "      <td>100</td>\n",
       "      <td>{'max_depth': 5, 'min_samples_leaf': 100, 'min...</td>\n",
       "      <td>0.858110</td>\n",
       "      <td>0.855309</td>\n",
       "      <td>0.875846</td>\n",
       "      <td>0.869078</td>\n",
       "      <td>0.849008</td>\n",
       "      <td>0.861470</td>\n",
       "      <td>0.009686</td>\n",
       "      <td>7</td>\n",
       "    </tr>\n",
       "    <tr>\n",
       "      <th>4</th>\n",
       "      <td>1.667331</td>\n",
       "      <td>0.023722</td>\n",
       "      <td>0.003200</td>\n",
       "      <td>0.000400</td>\n",
       "      <td>10</td>\n",
       "      <td>50</td>\n",
       "      <td>50</td>\n",
       "      <td>{'max_depth': 10, 'min_samples_leaf': 50, 'min...</td>\n",
       "      <td>0.886114</td>\n",
       "      <td>0.894516</td>\n",
       "      <td>0.903851</td>\n",
       "      <td>0.905484</td>\n",
       "      <td>0.913652</td>\n",
       "      <td>0.900723</td>\n",
       "      <td>0.009503</td>\n",
       "      <td>1</td>\n",
       "    </tr>\n",
       "    <tr>\n",
       "      <th>5</th>\n",
       "      <td>1.688604</td>\n",
       "      <td>0.021397</td>\n",
       "      <td>0.003600</td>\n",
       "      <td>0.000490</td>\n",
       "      <td>10</td>\n",
       "      <td>50</td>\n",
       "      <td>100</td>\n",
       "      <td>{'max_depth': 10, 'min_samples_leaf': 50, 'min...</td>\n",
       "      <td>0.886114</td>\n",
       "      <td>0.894516</td>\n",
       "      <td>0.903851</td>\n",
       "      <td>0.905484</td>\n",
       "      <td>0.913652</td>\n",
       "      <td>0.900723</td>\n",
       "      <td>0.009503</td>\n",
       "      <td>1</td>\n",
       "    </tr>\n",
       "    <tr>\n",
       "      <th>6</th>\n",
       "      <td>1.673849</td>\n",
       "      <td>0.077748</td>\n",
       "      <td>0.003505</td>\n",
       "      <td>0.000639</td>\n",
       "      <td>10</td>\n",
       "      <td>100</td>\n",
       "      <td>50</td>\n",
       "      <td>{'max_depth': 10, 'min_samples_leaf': 100, 'mi...</td>\n",
       "      <td>0.889615</td>\n",
       "      <td>0.869778</td>\n",
       "      <td>0.875613</td>\n",
       "      <td>0.891949</td>\n",
       "      <td>0.884247</td>\n",
       "      <td>0.882240</td>\n",
       "      <td>0.008389</td>\n",
       "      <td>3</td>\n",
       "    </tr>\n",
       "    <tr>\n",
       "      <th>7</th>\n",
       "      <td>1.621319</td>\n",
       "      <td>0.011435</td>\n",
       "      <td>0.003800</td>\n",
       "      <td>0.000400</td>\n",
       "      <td>10</td>\n",
       "      <td>100</td>\n",
       "      <td>100</td>\n",
       "      <td>{'max_depth': 10, 'min_samples_leaf': 100, 'mi...</td>\n",
       "      <td>0.889615</td>\n",
       "      <td>0.869778</td>\n",
       "      <td>0.875613</td>\n",
       "      <td>0.891949</td>\n",
       "      <td>0.883781</td>\n",
       "      <td>0.882147</td>\n",
       "      <td>0.008369</td>\n",
       "      <td>4</td>\n",
       "    </tr>\n",
       "  </tbody>\n",
       "</table>\n",
       "</div>"
      ],
      "text/plain": [
       "   mean_fit_time  std_fit_time  mean_score_time  std_score_time  \\\n",
       "0       1.018523      0.021483         0.003400        0.000490   \n",
       "1       0.993662      0.013757         0.003400        0.000491   \n",
       "2       0.981577      0.014328         0.003400        0.000489   \n",
       "3       0.977850      0.002112         0.003400        0.000489   \n",
       "4       1.667331      0.023722         0.003200        0.000400   \n",
       "5       1.688604      0.021397         0.003600        0.000490   \n",
       "6       1.673849      0.077748         0.003505        0.000639   \n",
       "7       1.621319      0.011435         0.003800        0.000400   \n",
       "\n",
       "  param_max_depth param_min_samples_leaf param_min_samples_split  \\\n",
       "0               5                     50                      50   \n",
       "1               5                     50                     100   \n",
       "2               5                    100                      50   \n",
       "3               5                    100                     100   \n",
       "4              10                     50                      50   \n",
       "5              10                     50                     100   \n",
       "6              10                    100                      50   \n",
       "7              10                    100                     100   \n",
       "\n",
       "                                              params  split0_test_score  \\\n",
       "0  {'max_depth': 5, 'min_samples_leaf': 50, 'min_...           0.862310   \n",
       "1  {'max_depth': 5, 'min_samples_leaf': 50, 'min_...           0.862310   \n",
       "2  {'max_depth': 5, 'min_samples_leaf': 100, 'min...           0.858110   \n",
       "3  {'max_depth': 5, 'min_samples_leaf': 100, 'min...           0.858110   \n",
       "4  {'max_depth': 10, 'min_samples_leaf': 50, 'min...           0.886114   \n",
       "5  {'max_depth': 10, 'min_samples_leaf': 50, 'min...           0.886114   \n",
       "6  {'max_depth': 10, 'min_samples_leaf': 100, 'mi...           0.889615   \n",
       "7  {'max_depth': 10, 'min_samples_leaf': 100, 'mi...           0.889615   \n",
       "\n",
       "   split1_test_score  split2_test_score  split3_test_score  split4_test_score  \\\n",
       "0           0.855776           0.878413           0.875379           0.855309   \n",
       "1           0.855776           0.878413           0.875379           0.855309   \n",
       "2           0.855309           0.875846           0.869078           0.849008   \n",
       "3           0.855309           0.875846           0.869078           0.849008   \n",
       "4           0.894516           0.903851           0.905484           0.913652   \n",
       "5           0.894516           0.903851           0.905484           0.913652   \n",
       "6           0.869778           0.875613           0.891949           0.884247   \n",
       "7           0.869778           0.875613           0.891949           0.883781   \n",
       "\n",
       "   mean_test_score  std_test_score  rank_test_score  \n",
       "0         0.865438        0.009725                5  \n",
       "1         0.865438        0.009725                5  \n",
       "2         0.861470        0.009686                7  \n",
       "3         0.861470        0.009686                7  \n",
       "4         0.900723        0.009503                1  \n",
       "5         0.900723        0.009503                1  \n",
       "6         0.882240        0.008389                3  \n",
       "7         0.882147        0.008369                4  "
      ]
     },
     "execution_count": 138,
     "metadata": {},
     "output_type": "execute_result"
    }
   ],
   "source": [
    "# cv results\n",
    "cv_results = pd.DataFrame(grid_search.cv_results_)\n",
    "cv_results"
   ]
  },
  {
   "cell_type": "code",
   "execution_count": 139,
   "metadata": {
    "colab": {
     "base_uri": "https://localhost:8080/"
    },
    "id": "TjYtHpNYndvc",
    "outputId": "cba9b9c7-8198-49d3-bb68-e2c857709cc3"
   },
   "outputs": [
    {
     "name": "stdout",
     "output_type": "stream",
     "text": [
      "Best sensitivity:- 0.9007234539089849\n",
      "DecisionTreeClassifier(max_depth=10, min_samples_leaf=50, min_samples_split=50)\n"
     ]
    }
   ],
   "source": [
    "# Printing the optimal sensitivity score and hyperparameters\n",
    "print(\"Best sensitivity:-\", grid_search.best_score_)\n",
    "print(grid_search.best_estimator_)"
   ]
  },
  {
   "cell_type": "markdown",
   "metadata": {
    "id": "fI-tG_R5ndvc"
   },
   "source": [
    "##### Model with optimal hyperparameters"
   ]
  },
  {
   "cell_type": "code",
   "execution_count": 140,
   "metadata": {
    "colab": {
     "base_uri": "https://localhost:8080/",
     "height": 92
    },
    "id": "K8Xi8oMondvc",
    "outputId": "35bd5389-fa2c-44e9-e7ff-a4e1599e2716"
   },
   "outputs": [
    {
     "data": {
      "text/plain": [
       "DecisionTreeClassifier(max_depth=10, min_samples_leaf=50, min_samples_split=50,\n",
       "                       random_state=100)"
      ]
     },
     "execution_count": 140,
     "metadata": {},
     "output_type": "execute_result"
    }
   ],
   "source": [
    "# Model with optimal hyperparameters\n",
    "dt_pca_model = DecisionTreeClassifier(criterion = \"gini\", \n",
    "                                  random_state = 100,\n",
    "                                  max_depth=10, \n",
    "                                  min_samples_leaf=50,\n",
    "                                  min_samples_split=50)\n",
    "\n",
    "dt_pca_model.fit(X_train_pca, y_train)"
   ]
  },
  {
   "cell_type": "markdown",
   "metadata": {
    "id": "cNAT29gJndvc"
   },
   "source": [
    "##### Prediction on the train set"
   ]
  },
  {
   "cell_type": "code",
   "execution_count": 141,
   "metadata": {
    "id": "JYG4Rb0Kndvd"
   },
   "outputs": [],
   "source": [
    "# Predictions on the train set\n",
    "y_train_pred = dt_pca_model.predict(X_train_pca)"
   ]
  },
  {
   "cell_type": "code",
   "execution_count": 142,
   "metadata": {
    "colab": {
     "base_uri": "https://localhost:8080/"
    },
    "id": "7S6yASXMndvd",
    "outputId": "0c541659-30ec-41cf-80da-1e3d1c397295"
   },
   "outputs": [
    {
     "name": "stdout",
     "output_type": "stream",
     "text": [
      "[[18913  2512]\n",
      " [ 1763 19662]]\n"
     ]
    }
   ],
   "source": [
    "# Confusion matrix\n",
    "confusion = metrics.confusion_matrix(y_train, y_train_pred)\n",
    "print(confusion)"
   ]
  },
  {
   "cell_type": "code",
   "execution_count": 143,
   "metadata": {
    "id": "ZcebMH6Wndvd"
   },
   "outputs": [],
   "source": [
    "TP = confusion[1,1] # true positive \n",
    "TN = confusion[0,0] # true negatives\n",
    "FP = confusion[0,1] # false positives\n",
    "FN = confusion[1,0] # false negatives"
   ]
  },
  {
   "cell_type": "code",
   "execution_count": 144,
   "metadata": {
    "colab": {
     "base_uri": "https://localhost:8080/"
    },
    "id": "VnIWS-JRndvd",
    "outputId": "831605be-b936-4256-931d-90009f05580e"
   },
   "outputs": [
    {
     "name": "stdout",
     "output_type": "stream",
     "text": [
      "Accuracy:- 0.9002333722287048\n",
      "Sensitivity:- 0.9177129521586931\n",
      "Specificity:- 0.8827537922987164\n"
     ]
    }
   ],
   "source": [
    "# Accuracy\n",
    "print(\"Accuracy:-\",metrics.accuracy_score(y_train, y_train_pred))\n",
    "\n",
    "# Sensitivity\n",
    "print(\"Sensitivity:-\",TP / float(TP+FN))\n",
    "\n",
    "# Specificity\n",
    "print(\"Specificity:-\", TN / float(TN+FP))"
   ]
  },
  {
   "cell_type": "markdown",
   "metadata": {
    "id": "QkoCRHf9ndvg"
   },
   "source": [
    "##### Prediction on the test set"
   ]
  },
  {
   "cell_type": "code",
   "execution_count": 145,
   "metadata": {
    "id": "23WPWE79ndvg"
   },
   "outputs": [],
   "source": [
    "# Prediction on the test set\n",
    "y_test_pred = dt_pca_model.predict(X_test_pca)"
   ]
  },
  {
   "cell_type": "code",
   "execution_count": 146,
   "metadata": {
    "colab": {
     "base_uri": "https://localhost:8080/"
    },
    "id": "Sp1cIbW2ndvh",
    "outputId": "92dafaf5-69b8-4c05-9d84-58f606ce739a"
   },
   "outputs": [
    {
     "name": "stdout",
     "output_type": "stream",
     "text": [
      "[[4632  716]\n",
      " [  58  135]]\n"
     ]
    }
   ],
   "source": [
    "# Confusion matrix\n",
    "confusion = metrics.confusion_matrix(y_test, y_test_pred)\n",
    "print(confusion)"
   ]
  },
  {
   "cell_type": "code",
   "execution_count": 147,
   "metadata": {
    "id": "2xcsKTJLndvh"
   },
   "outputs": [],
   "source": [
    "TP = confusion[1,1] # true positive \n",
    "TN = confusion[0,0] # true negatives\n",
    "FP = confusion[0,1] # false positives\n",
    "FN = confusion[1,0] # false negatives"
   ]
  },
  {
   "cell_type": "code",
   "execution_count": 148,
   "metadata": {
    "colab": {
     "base_uri": "https://localhost:8080/"
    },
    "id": "joJR07SEndvh",
    "outputId": "f70b9e2d-502a-43b2-c149-2889c8bc40da"
   },
   "outputs": [
    {
     "name": "stdout",
     "output_type": "stream",
     "text": [
      "Accuracy:- 0.8603140227395777\n",
      "Sensitivity:- 0.6994818652849741\n",
      "Specificity:- 0.8661181750186986\n"
     ]
    }
   ],
   "source": [
    "# Accuracy\n",
    "print(\"Accuracy:-\",metrics.accuracy_score(y_test, y_test_pred))\n",
    "\n",
    "# Sensitivity\n",
    "print(\"Sensitivity:-\",TP / float(TP+FN))\n",
    "\n",
    "# Specificity\n",
    "print(\"Specificity:-\", TN / float(TN+FP))"
   ]
  },
  {
   "cell_type": "markdown",
   "metadata": {
    "id": "k7GCQKTdndvh"
   },
   "source": [
    "***Model summary***\n",
    "\n",
    "- Train set\n",
    "    - Accuracy = 0.91\n",
    "    - Sensitivity = 0.92\n",
    "    - Specificity = 0.89\n",
    "- Test set\n",
    "    - Accuracy = 0.86\n",
    "    - Sensitivity = 0.72\n",
    "    - Specificity = 0.86\n",
    "    \n",
    "    \n",
    "We can see from the model performance that the Sesitivity has been decreased while evaluating the model on the test set. However, the accuracy and specificity is quite good in the test set."
   ]
  },
  {
   "cell_type": "markdown",
   "metadata": {
    "id": "KpS8ZyZandvh"
   },
   "source": [
    "## Random forest with PCA"
   ]
  },
  {
   "cell_type": "code",
   "execution_count": 149,
   "metadata": {
    "id": "TjtEYtVNndvh"
   },
   "outputs": [],
   "source": [
    "# Importing random forest classifier\n",
    "from sklearn.ensemble import RandomForestClassifier"
   ]
  },
  {
   "cell_type": "markdown",
   "metadata": {
    "id": "Xotpel0Qndvh"
   },
   "source": [
    "##### Hyperparameter tuning"
   ]
  },
  {
   "cell_type": "code",
   "execution_count": 150,
   "metadata": {
    "colab": {
     "base_uri": "https://localhost:8080/",
     "height": 135
    },
    "id": "vWYHSh9Jndvi",
    "outputId": "3f6d1fd9-b496-4741-b3f2-d3d7c9eb12e0"
   },
   "outputs": [
    {
     "name": "stdout",
     "output_type": "stream",
     "text": [
      "Fitting 3 folds for each of 24 candidates, totalling 72 fits\n"
     ]
    },
    {
     "data": {
      "text/plain": [
       "GridSearchCV(cv=3, estimator=RandomForestClassifier(), n_jobs=-1,\n",
       "             param_grid={'max_depth': range(5, 10, 5), 'max_features': [10, 20],\n",
       "                         'min_samples_leaf': range(50, 150, 50),\n",
       "                         'min_samples_split': range(50, 150, 50),\n",
       "                         'n_estimators': [100, 200, 300]},\n",
       "             return_train_score=True, verbose=1)"
      ]
     },
     "execution_count": 150,
     "metadata": {},
     "output_type": "execute_result"
    }
   ],
   "source": [
    "param_grid = {\n",
    "    'max_depth': range(5,10,5),\n",
    "    'min_samples_leaf': range(50, 150, 50),\n",
    "    'min_samples_split': range(50, 150, 50),\n",
    "    'n_estimators': [100,200,300], \n",
    "    'max_features': [10, 20]\n",
    "}\n",
    "# Create a based model\n",
    "rf = RandomForestClassifier()\n",
    "# Instantiate the grid search model\n",
    "grid_search = GridSearchCV(estimator = rf, \n",
    "                           param_grid = param_grid, \n",
    "                           cv = 3,\n",
    "                           n_jobs = -1,\n",
    "                           verbose = 1, \n",
    "                           return_train_score=True)\n",
    "\n",
    "# Fit the model\n",
    "grid_search.fit(X_train_pca, y_train)\n"
   ]
  },
  {
   "cell_type": "code",
   "execution_count": 151,
   "metadata": {
    "colab": {
     "base_uri": "https://localhost:8080/"
    },
    "id": "uajImLwcndvi",
    "outputId": "47bc1689-668b-4a68-dd89-3edd03a73925"
   },
   "outputs": [
    {
     "name": "stdout",
     "output_type": "stream",
     "text": [
      "We can get accuracy of 0.8447141188506951 using {'max_depth': 5, 'max_features': 20, 'min_samples_leaf': 50, 'min_samples_split': 50, 'n_estimators': 200}\n"
     ]
    }
   ],
   "source": [
    "# printing the optimal accuracy score and hyperparameters\n",
    "print('We can get accuracy of',grid_search.best_score_,'using',grid_search.best_params_)"
   ]
  },
  {
   "cell_type": "markdown",
   "metadata": {
    "id": "0wc-f1Rundvi"
   },
   "source": [
    "##### Model with optimal hyperparameters"
   ]
  },
  {
   "cell_type": "code",
   "execution_count": 152,
   "metadata": {
    "id": "XQlD3BpUndvi"
   },
   "outputs": [],
   "source": [
    "# model with the best hyperparameters\n",
    "\n",
    "rfc_model = RandomForestClassifier(bootstrap=True,\n",
    "                             max_depth=5,\n",
    "                             min_samples_leaf=50, \n",
    "                             min_samples_split=100,\n",
    "                             max_features=20,\n",
    "                             n_estimators=300)"
   ]
  },
  {
   "cell_type": "code",
   "execution_count": 153,
   "metadata": {
    "colab": {
     "base_uri": "https://localhost:8080/",
     "height": 92
    },
    "id": "QvdS6UU5ndvi",
    "outputId": "3a175dc1-b18e-4455-8716-f75eb192c8b9"
   },
   "outputs": [
    {
     "data": {
      "text/plain": [
       "RandomForestClassifier(max_depth=5, max_features=20, min_samples_leaf=50,\n",
       "                       min_samples_split=100, n_estimators=300)"
      ]
     },
     "execution_count": 153,
     "metadata": {},
     "output_type": "execute_result"
    }
   ],
   "source": [
    "# Fit the model\n",
    "rfc_model.fit(X_train_pca, y_train)"
   ]
  },
  {
   "cell_type": "markdown",
   "metadata": {
    "id": "-jtCIx5Xndvi"
   },
   "source": [
    "##### Prediction on the train set"
   ]
  },
  {
   "cell_type": "code",
   "execution_count": 154,
   "metadata": {
    "id": "pQGeVqzcndvi"
   },
   "outputs": [],
   "source": [
    "# Predictions on the train set\n",
    "y_train_pred = rfc_model.predict(X_train_pca)"
   ]
  },
  {
   "cell_type": "code",
   "execution_count": 155,
   "metadata": {
    "colab": {
     "base_uri": "https://localhost:8080/"
    },
    "id": "8nxr4dkDndvi",
    "outputId": "6381f3c3-ec4a-4378-ff87-4be830036da8"
   },
   "outputs": [
    {
     "name": "stdout",
     "output_type": "stream",
     "text": [
      "[[17337  4088]\n",
      " [ 2421 19004]]\n"
     ]
    }
   ],
   "source": [
    "# Confusion matrix\n",
    "confusion = metrics.confusion_matrix(y_train, y_train_pred)\n",
    "print(confusion)"
   ]
  },
  {
   "cell_type": "code",
   "execution_count": 156,
   "metadata": {
    "id": "zEmv5rtTndvj"
   },
   "outputs": [],
   "source": [
    "TP = confusion[1,1] # true positive \n",
    "TN = confusion[0,0] # true negatives\n",
    "FP = confusion[0,1] # false positives\n",
    "FN = confusion[1,0] # false negatives"
   ]
  },
  {
   "cell_type": "code",
   "execution_count": 157,
   "metadata": {
    "colab": {
     "base_uri": "https://localhost:8080/"
    },
    "id": "IvI8y3JZndvj",
    "outputId": "05698574-287d-446e-86d2-0888d94b5bf7"
   },
   "outputs": [
    {
     "name": "stdout",
     "output_type": "stream",
     "text": [
      "Accuracy:- 0.848098016336056\n",
      "Sensitivity:- 0.8870011668611435\n",
      "Specificity:- 0.8091948658109684\n"
     ]
    }
   ],
   "source": [
    "# Accuracy\n",
    "print(\"Accuracy:-\",metrics.accuracy_score(y_train, y_train_pred))\n",
    "\n",
    "# Sensitivity\n",
    "print(\"Sensitivity:-\",TP / float(TP+FN))\n",
    "\n",
    "# Specificity\n",
    "print(\"Specificity:-\", TN / float(TN+FP))"
   ]
  },
  {
   "cell_type": "markdown",
   "metadata": {
    "id": "VnS2crVqndvj"
   },
   "source": [
    "##### Prediction on the test set"
   ]
  },
  {
   "cell_type": "code",
   "execution_count": 158,
   "metadata": {
    "id": "29ZAuWwDndvj"
   },
   "outputs": [],
   "source": [
    "# Prediction on the test set\n",
    "y_test_pred = rfc_model.predict(X_test_pca)"
   ]
  },
  {
   "cell_type": "code",
   "execution_count": 159,
   "metadata": {
    "colab": {
     "base_uri": "https://localhost:8080/"
    },
    "id": "9ajddbYUndvj",
    "outputId": "01cdda39-969d-4926-fc94-02ae86eb3b46"
   },
   "outputs": [
    {
     "name": "stdout",
     "output_type": "stream",
     "text": [
      "[[4280 1068]\n",
      " [  46  147]]\n"
     ]
    }
   ],
   "source": [
    "# Confusion matrix\n",
    "confusion = metrics.confusion_matrix(y_test, y_test_pred)\n",
    "print(confusion)"
   ]
  },
  {
   "cell_type": "code",
   "execution_count": 160,
   "metadata": {
    "id": "J5MmcCyYndvj"
   },
   "outputs": [],
   "source": [
    "TP = confusion[1,1] # true positive \n",
    "TN = confusion[0,0] # true negatives\n",
    "FP = confusion[0,1] # false positives\n",
    "FN = confusion[1,0] # false negatives"
   ]
  },
  {
   "cell_type": "code",
   "execution_count": 161,
   "metadata": {
    "colab": {
     "base_uri": "https://localhost:8080/"
    },
    "id": "F-wHHAk7ndvj",
    "outputId": "236c467a-4880-481e-93a2-9ca2610783d9"
   },
   "outputs": [
    {
     "name": "stdout",
     "output_type": "stream",
     "text": [
      "Accuracy:- 0.798953257534741\n",
      "Sensitivity:- 0.7616580310880829\n",
      "Specificity:- 0.8002991772625281\n"
     ]
    }
   ],
   "source": [
    "# Accuracy\n",
    "print(\"Accuracy:-\",metrics.accuracy_score(y_test, y_test_pred))\n",
    "\n",
    "# Sensitivity\n",
    "print(\"Sensitivity:-\",TP / float(TP+FN))\n",
    "\n",
    "# Specificity\n",
    "print(\"Specificity:-\", TN / float(TN+FP))"
   ]
  },
  {
   "cell_type": "markdown",
   "metadata": {
    "id": "xK1GjAPOndvj"
   },
   "source": [
    "***Model summary***\n",
    "\n",
    "- Train set\n",
    "    - Accuracy = 0.88\n",
    "    - Sensitivity = 0.89\n",
    "    - Specificity = 0.86\n",
    "- Test set\n",
    "    - Accuracy = 0.84\n",
    "    - Sensitivity = 0.73\n",
    "    - Specificity = 0.85\n",
    "    \n",
    "    \n",
    "We can see from the model performance that the Sensitivity has been decreased while evaluating the model on the test set. However, the accuracy and specificity is quite good in the test set."
   ]
  },
  {
   "cell_type": "markdown",
   "metadata": {
    "id": "qzQODVnmndvk"
   },
   "source": [
    "### Final conclusion with PCA\n",
    "After trying several models we can see that for achieving the best sensitivity which was our ultimate goal  the classic Logistic regression or the SVM models preforms well. For both the models the sensitivity was approx. 90%. Also we have good accuracy of approx. 88%."
   ]
  },
  {
   "cell_type": "markdown",
   "metadata": {
    "id": "b1lUflC4ndvk"
   },
   "source": [
    "# Without PCA"
   ]
  },
  {
   "cell_type": "markdown",
   "metadata": {
    "id": "LlF2IkGFndvk"
   },
   "source": [
    "## Logistic regression with No PCA"
   ]
  },
  {
   "cell_type": "code",
   "execution_count": 162,
   "metadata": {
    "id": "OQZOwPYgndvk"
   },
   "outputs": [],
   "source": [
    "##### Importing stats model\n",
    "import statsmodels.api as sm"
   ]
  },
  {
   "cell_type": "code",
   "execution_count": 163,
   "metadata": {
    "id": "4UzR6I6lndvk"
   },
   "outputs": [],
   "source": [
    "# Instantiate the model\n",
    "# Adding the constant to X_train\n",
    "log_no_pca = sm.GLM(y_train,(sm.add_constant(X_train)), family=sm.families.Binomial())"
   ]
  },
  {
   "cell_type": "code",
   "execution_count": 164,
   "metadata": {
    "id": "yzCtIk0jndvk"
   },
   "outputs": [],
   "source": [
    "# Fit the model\n",
    "log_no_pca = log_no_pca.fit().summary()"
   ]
  },
  {
   "cell_type": "code",
   "execution_count": 165,
   "metadata": {
    "colab": {
     "base_uri": "https://localhost:8080/",
     "height": 1000
    },
    "id": "GC7Rxx8Xndvk",
    "outputId": "7bd35d3e-d688-4cf5-ac4e-c27501ce6020"
   },
   "outputs": [
    {
     "data": {
      "text/html": [
       "<table class=\"simpletable\">\n",
       "<caption>Generalized Linear Model Regression Results</caption>\n",
       "<tr>\n",
       "  <th>Dep. Variable:</th>         <td>churn</td>      <th>  No. Observations:  </th>  <td> 42850</td> \n",
       "</tr>\n",
       "<tr>\n",
       "  <th>Model:</th>                  <td>GLM</td>       <th>  Df Residuals:      </th>  <td> 42720</td> \n",
       "</tr>\n",
       "<tr>\n",
       "  <th>Model Family:</th>        <td>Binomial</td>     <th>  Df Model:          </th>  <td>   129</td> \n",
       "</tr>\n",
       "<tr>\n",
       "  <th>Link Function:</th>         <td>Logit</td>      <th>  Scale:             </th> <td>  1.0000</td>\n",
       "</tr>\n",
       "<tr>\n",
       "  <th>Method:</th>                <td>IRLS</td>       <th>  Log-Likelihood:    </th> <td>     nan</td>\n",
       "</tr>\n",
       "<tr>\n",
       "  <th>Date:</th>            <td>Sat, 30 Mar 2024</td> <th>  Deviance:          </th> <td>  23572.</td>\n",
       "</tr>\n",
       "<tr>\n",
       "  <th>Time:</th>                <td>11:14:38</td>     <th>  Pearson chi2:      </th> <td>3.71e+05</td>\n",
       "</tr>\n",
       "<tr>\n",
       "  <th>No. Iterations:</th>         <td>100</td>       <th>  Pseudo R-squ. (CS):</th>  <td>   nan</td> \n",
       "</tr>\n",
       "<tr>\n",
       "  <th>Covariance Type:</th>     <td>nonrobust</td>    <th>                     </th>     <td> </td>   \n",
       "</tr>\n",
       "</table>\n",
       "<table class=\"simpletable\">\n",
       "<tr>\n",
       "              <td></td>                <th>coef</th>     <th>std err</th>      <th>z</th>      <th>P>|z|</th>  <th>[0.025</th>    <th>0.975]</th>  \n",
       "</tr>\n",
       "<tr>\n",
       "  <th>const</th>                    <td>  -90.6375</td> <td> 4452.242</td> <td>   -0.020</td> <td> 0.984</td> <td>-8816.872</td> <td> 8635.597</td>\n",
       "</tr>\n",
       "<tr>\n",
       "  <th>loc_og_t2o_mou</th>           <td> -3.08e-06</td> <td>    0.000</td> <td>   -0.022</td> <td> 0.982</td> <td>   -0.000</td> <td>    0.000</td>\n",
       "</tr>\n",
       "<tr>\n",
       "  <th>std_og_t2o_mou</th>           <td>-2.063e-06</td> <td>    0.000</td> <td>   -0.014</td> <td> 0.989</td> <td>   -0.000</td> <td>    0.000</td>\n",
       "</tr>\n",
       "<tr>\n",
       "  <th>loc_ic_t2o_mou</th>           <td>-9.631e-06</td> <td>    0.000</td> <td>   -0.021</td> <td> 0.983</td> <td>   -0.001</td> <td>    0.001</td>\n",
       "</tr>\n",
       "<tr>\n",
       "  <th>arpu_6</th>                   <td>   -0.0338</td> <td>    0.081</td> <td>   -0.418</td> <td> 0.676</td> <td>   -0.192</td> <td>    0.125</td>\n",
       "</tr>\n",
       "<tr>\n",
       "  <th>arpu_7</th>                   <td>    0.0855</td> <td>    0.086</td> <td>    0.995</td> <td> 0.320</td> <td>   -0.083</td> <td>    0.254</td>\n",
       "</tr>\n",
       "<tr>\n",
       "  <th>arpu_8</th>                   <td>    0.0909</td> <td>    0.110</td> <td>    0.828</td> <td> 0.408</td> <td>   -0.124</td> <td>    0.306</td>\n",
       "</tr>\n",
       "<tr>\n",
       "  <th>onnet_mou_6</th>              <td>   15.5140</td> <td>    3.577</td> <td>    4.337</td> <td> 0.000</td> <td>    8.504</td> <td>   22.524</td>\n",
       "</tr>\n",
       "<tr>\n",
       "  <th>onnet_mou_7</th>              <td>   -4.3249</td> <td>    1.811</td> <td>   -2.388</td> <td> 0.017</td> <td>   -7.875</td> <td>   -0.774</td>\n",
       "</tr>\n",
       "<tr>\n",
       "  <th>onnet_mou_8</th>              <td>    2.3520</td> <td>    1.827</td> <td>    1.287</td> <td> 0.198</td> <td>   -1.229</td> <td>    5.933</td>\n",
       "</tr>\n",
       "<tr>\n",
       "  <th>offnet_mou_6</th>             <td>   15.0883</td> <td>    3.365</td> <td>    4.484</td> <td> 0.000</td> <td>    8.494</td> <td>   21.683</td>\n",
       "</tr>\n",
       "<tr>\n",
       "  <th>offnet_mou_7</th>             <td>   -1.7627</td> <td>    1.716</td> <td>   -1.027</td> <td> 0.304</td> <td>   -5.126</td> <td>    1.601</td>\n",
       "</tr>\n",
       "<tr>\n",
       "  <th>offnet_mou_8</th>             <td>   -0.5503</td> <td>    1.885</td> <td>   -0.292</td> <td> 0.770</td> <td>   -4.244</td> <td>    3.144</td>\n",
       "</tr>\n",
       "<tr>\n",
       "  <th>roam_ic_mou_6</th>            <td>    0.1622</td> <td>    0.036</td> <td>    4.487</td> <td> 0.000</td> <td>    0.091</td> <td>    0.233</td>\n",
       "</tr>\n",
       "<tr>\n",
       "  <th>roam_ic_mou_7</th>            <td>   -0.0099</td> <td>    0.052</td> <td>   -0.189</td> <td> 0.850</td> <td>   -0.112</td> <td>    0.092</td>\n",
       "</tr>\n",
       "<tr>\n",
       "  <th>roam_ic_mou_8</th>            <td>    0.2041</td> <td>    0.044</td> <td>    4.662</td> <td> 0.000</td> <td>    0.118</td> <td>    0.290</td>\n",
       "</tr>\n",
       "<tr>\n",
       "  <th>roam_og_mou_6</th>            <td>   -5.1508</td> <td>    1.132</td> <td>   -4.549</td> <td> 0.000</td> <td>   -7.370</td> <td>   -2.932</td>\n",
       "</tr>\n",
       "<tr>\n",
       "  <th>roam_og_mou_7</th>            <td>    0.8855</td> <td>    0.473</td> <td>    1.873</td> <td> 0.061</td> <td>   -0.041</td> <td>    1.812</td>\n",
       "</tr>\n",
       "<tr>\n",
       "  <th>roam_og_mou_8</th>            <td>    0.0929</td> <td>    0.531</td> <td>    0.175</td> <td> 0.861</td> <td>   -0.948</td> <td>    1.134</td>\n",
       "</tr>\n",
       "<tr>\n",
       "  <th>loc_og_t2t_mou_6</th>         <td>-3303.0832</td> <td>  656.615</td> <td>   -5.030</td> <td> 0.000</td> <td>-4590.024</td> <td>-2016.142</td>\n",
       "</tr>\n",
       "<tr>\n",
       "  <th>loc_og_t2t_mou_7</th>         <td>-1474.6161</td> <td>  680.014</td> <td>   -2.169</td> <td> 0.030</td> <td>-2807.419</td> <td> -141.813</td>\n",
       "</tr>\n",
       "<tr>\n",
       "  <th>loc_og_t2t_mou_8</th>         <td> 5516.0876</td> <td>  628.351</td> <td>    8.779</td> <td> 0.000</td> <td> 4284.542</td> <td> 6747.633</td>\n",
       "</tr>\n",
       "<tr>\n",
       "  <th>loc_og_t2m_mou_6</th>         <td>-3342.7075</td> <td>  664.372</td> <td>   -5.031</td> <td> 0.000</td> <td>-4644.852</td> <td>-2040.563</td>\n",
       "</tr>\n",
       "<tr>\n",
       "  <th>loc_og_t2m_mou_7</th>         <td>-1392.1067</td> <td>  641.322</td> <td>   -2.171</td> <td> 0.030</td> <td>-2649.075</td> <td> -135.139</td>\n",
       "</tr>\n",
       "<tr>\n",
       "  <th>loc_og_t2m_mou_8</th>         <td> 5887.3427</td> <td>  670.474</td> <td>    8.781</td> <td> 0.000</td> <td> 4573.238</td> <td> 7201.447</td>\n",
       "</tr>\n",
       "<tr>\n",
       "  <th>loc_og_t2f_mou_6</th>         <td> -285.2471</td> <td>   56.730</td> <td>   -5.028</td> <td> 0.000</td> <td> -396.436</td> <td> -174.058</td>\n",
       "</tr>\n",
       "<tr>\n",
       "  <th>loc_og_t2f_mou_7</th>         <td> -123.0164</td> <td>   56.696</td> <td>   -2.170</td> <td> 0.030</td> <td> -234.138</td> <td>  -11.895</td>\n",
       "</tr>\n",
       "<tr>\n",
       "  <th>loc_og_t2f_mou_8</th>         <td>  487.3958</td> <td>   55.536</td> <td>    8.776</td> <td> 0.000</td> <td>  378.548</td> <td>  596.243</td>\n",
       "</tr>\n",
       "<tr>\n",
       "  <th>loc_og_t2c_mou_6</th>         <td>    0.0433</td> <td>    0.022</td> <td>    1.971</td> <td> 0.049</td> <td>    0.000</td> <td>    0.086</td>\n",
       "</tr>\n",
       "<tr>\n",
       "  <th>loc_og_t2c_mou_7</th>         <td>    0.0099</td> <td>    0.021</td> <td>    0.462</td> <td> 0.644</td> <td>   -0.032</td> <td>    0.052</td>\n",
       "</tr>\n",
       "<tr>\n",
       "  <th>loc_og_t2c_mou_8</th>         <td>    0.0673</td> <td>    0.023</td> <td>    2.980</td> <td> 0.003</td> <td>    0.023</td> <td>    0.111</td>\n",
       "</tr>\n",
       "<tr>\n",
       "  <th>loc_og_mou_6</th>             <td> 3756.6102</td> <td> 1269.528</td> <td>    2.959</td> <td> 0.003</td> <td> 1268.380</td> <td> 6244.840</td>\n",
       "</tr>\n",
       "<tr>\n",
       "  <th>loc_og_mou_7</th>             <td> 5686.6260</td> <td> 1330.779</td> <td>    4.273</td> <td> 0.000</td> <td> 3078.348</td> <td> 8294.904</td>\n",
       "</tr>\n",
       "<tr>\n",
       "  <th>loc_og_mou_8</th>             <td> -265.7536</td> <td> 1351.526</td> <td>   -0.197</td> <td> 0.844</td> <td>-2914.696</td> <td> 2383.189</td>\n",
       "</tr>\n",
       "<tr>\n",
       "  <th>std_og_t2t_mou_6</th>         <td>-1.309e+04</td> <td> 1867.608</td> <td>   -7.009</td> <td> 0.000</td> <td>-1.68e+04</td> <td>-9429.311</td>\n",
       "</tr>\n",
       "<tr>\n",
       "  <th>std_og_t2t_mou_7</th>         <td>-9674.3998</td> <td> 1822.532</td> <td>   -5.308</td> <td> 0.000</td> <td>-1.32e+04</td> <td>-6102.303</td>\n",
       "</tr>\n",
       "<tr>\n",
       "  <th>std_og_t2t_mou_8</th>         <td> 5854.7918</td> <td> 1510.527</td> <td>    3.876</td> <td> 0.000</td> <td> 2894.213</td> <td> 8815.371</td>\n",
       "</tr>\n",
       "<tr>\n",
       "  <th>std_og_t2m_mou_6</th>         <td>-1.214e+04</td> <td> 1732.558</td> <td>   -7.009</td> <td> 0.000</td> <td>-1.55e+04</td> <td>-8748.260</td>\n",
       "</tr>\n",
       "<tr>\n",
       "  <th>std_og_t2m_mou_7</th>         <td>-9439.1294</td> <td> 1777.871</td> <td>   -5.309</td> <td> 0.000</td> <td>-1.29e+04</td> <td>-5954.566</td>\n",
       "</tr>\n",
       "<tr>\n",
       "  <th>std_og_t2m_mou_8</th>         <td> 5966.0464</td> <td> 1538.574</td> <td>    3.878</td> <td> 0.000</td> <td> 2950.497</td> <td> 8981.596</td>\n",
       "</tr>\n",
       "<tr>\n",
       "  <th>std_og_t2f_mou_6</th>         <td> -255.4260</td> <td>   36.403</td> <td>   -7.017</td> <td> 0.000</td> <td> -326.775</td> <td> -184.077</td>\n",
       "</tr>\n",
       "<tr>\n",
       "  <th>std_og_t2f_mou_7</th>         <td> -213.6015</td> <td>   40.270</td> <td>   -5.304</td> <td> 0.000</td> <td> -292.530</td> <td> -134.673</td>\n",
       "</tr>\n",
       "<tr>\n",
       "  <th>std_og_t2f_mou_8</th>         <td>  142.4566</td> <td>   36.769</td> <td>    3.874</td> <td> 0.000</td> <td>   70.391</td> <td>  214.523</td>\n",
       "</tr>\n",
       "<tr>\n",
       "  <th>std_og_t2c_mou_6</th>         <td> 8.329e-06</td> <td>    0.000</td> <td>    0.020</td> <td> 0.984</td> <td>   -0.001</td> <td>    0.001</td>\n",
       "</tr>\n",
       "<tr>\n",
       "  <th>std_og_t2c_mou_7</th>         <td>-7.681e-06</td> <td>    0.000</td> <td>   -0.021</td> <td> 0.983</td> <td>   -0.001</td> <td>    0.001</td>\n",
       "</tr>\n",
       "<tr>\n",
       "  <th>std_og_t2c_mou_8</th>         <td> 3.308e-06</td> <td>    0.000</td> <td>    0.021</td> <td> 0.983</td> <td>   -0.000</td> <td>    0.000</td>\n",
       "</tr>\n",
       "<tr>\n",
       "  <th>std_og_mou_6</th>             <td> 1.446e+04</td> <td> 2967.405</td> <td>    4.873</td> <td> 0.000</td> <td> 8644.702</td> <td> 2.03e+04</td>\n",
       "</tr>\n",
       "<tr>\n",
       "  <th>std_og_mou_7</th>             <td> 2.105e+04</td> <td> 3104.376</td> <td>    6.782</td> <td> 0.000</td> <td>  1.5e+04</td> <td> 2.71e+04</td>\n",
       "</tr>\n",
       "<tr>\n",
       "  <th>std_og_mou_8</th>             <td> 7815.2301</td> <td> 2768.567</td> <td>    2.823</td> <td> 0.005</td> <td> 2388.938</td> <td> 1.32e+04</td>\n",
       "</tr>\n",
       "<tr>\n",
       "  <th>isd_og_mou_6</th>             <td>  -51.5643</td> <td>   29.694</td> <td>   -1.737</td> <td> 0.082</td> <td> -109.763</td> <td>    6.634</td>\n",
       "</tr>\n",
       "<tr>\n",
       "  <th>isd_og_mou_7</th>             <td>   94.2319</td> <td>   27.795</td> <td>    3.390</td> <td> 0.001</td> <td>   39.755</td> <td>  148.708</td>\n",
       "</tr>\n",
       "<tr>\n",
       "  <th>isd_og_mou_8</th>             <td>  320.5612</td> <td>   34.145</td> <td>    9.388</td> <td> 0.000</td> <td>  253.637</td> <td>  387.485</td>\n",
       "</tr>\n",
       "<tr>\n",
       "  <th>spl_og_mou_6</th>             <td>  -83.1563</td> <td>   47.794</td> <td>   -1.740</td> <td> 0.082</td> <td> -176.830</td> <td>   10.518</td>\n",
       "</tr>\n",
       "<tr>\n",
       "  <th>spl_og_mou_7</th>             <td>  229.8647</td> <td>   67.736</td> <td>    3.394</td> <td> 0.001</td> <td>   97.106</td> <td>  362.624</td>\n",
       "</tr>\n",
       "<tr>\n",
       "  <th>spl_og_mou_8</th>             <td>  523.1523</td> <td>   55.607</td> <td>    9.408</td> <td> 0.000</td> <td>  414.164</td> <td>  632.140</td>\n",
       "</tr>\n",
       "<tr>\n",
       "  <th>og_others_6</th>              <td>  -10.0918</td> <td>    5.820</td> <td>   -1.734</td> <td> 0.083</td> <td>  -21.499</td> <td>    1.315</td>\n",
       "</tr>\n",
       "<tr>\n",
       "  <th>og_others_7</th>              <td>   15.6445</td> <td>    4.906</td> <td>    3.189</td> <td> 0.001</td> <td>    6.030</td> <td>   25.259</td>\n",
       "</tr>\n",
       "<tr>\n",
       "  <th>og_others_8</th>              <td>-6547.0967</td> <td> 3.24e+05</td> <td>   -0.020</td> <td> 0.984</td> <td>-6.42e+05</td> <td> 6.29e+05</td>\n",
       "</tr>\n",
       "<tr>\n",
       "  <th>total_og_mou_6</th>           <td> 3406.4845</td> <td> 1972.111</td> <td>    1.727</td> <td> 0.084</td> <td> -458.782</td> <td> 7271.751</td>\n",
       "</tr>\n",
       "<tr>\n",
       "  <th>total_og_mou_7</th>           <td>-7829.6842</td> <td> 2307.849</td> <td>   -3.393</td> <td> 0.001</td> <td>-1.24e+04</td> <td>-3306.384</td>\n",
       "</tr>\n",
       "<tr>\n",
       "  <th>total_og_mou_8</th>           <td>-1.894e+04</td> <td> 2012.488</td> <td>   -9.410</td> <td> 0.000</td> <td>-2.29e+04</td> <td> -1.5e+04</td>\n",
       "</tr>\n",
       "<tr>\n",
       "  <th>loc_ic_t2t_mou_6</th>         <td> -471.9773</td> <td>  401.871</td> <td>   -1.174</td> <td> 0.240</td> <td>-1259.630</td> <td>  315.676</td>\n",
       "</tr>\n",
       "<tr>\n",
       "  <th>loc_ic_t2t_mou_7</th>         <td> 2043.3877</td> <td>  441.331</td> <td>    4.630</td> <td> 0.000</td> <td> 1178.395</td> <td> 2908.381</td>\n",
       "</tr>\n",
       "<tr>\n",
       "  <th>loc_ic_t2t_mou_8</th>         <td> 6411.9575</td> <td>  417.817</td> <td>   15.346</td> <td> 0.000</td> <td> 5593.051</td> <td> 7230.864</td>\n",
       "</tr>\n",
       "<tr>\n",
       "  <th>loc_ic_t2m_mou_6</th>         <td> -662.3488</td> <td>  564.062</td> <td>   -1.174</td> <td> 0.240</td> <td>-1767.889</td> <td>  443.191</td>\n",
       "</tr>\n",
       "<tr>\n",
       "  <th>loc_ic_t2m_mou_7</th>         <td> 2751.4909</td> <td>  594.183</td> <td>    4.631</td> <td> 0.000</td> <td> 1586.914</td> <td> 3916.068</td>\n",
       "</tr>\n",
       "<tr>\n",
       "  <th>loc_ic_t2m_mou_8</th>         <td> 9239.7787</td> <td>  602.097</td> <td>   15.346</td> <td> 0.000</td> <td> 8059.691</td> <td> 1.04e+04</td>\n",
       "</tr>\n",
       "<tr>\n",
       "  <th>loc_ic_t2f_mou_6</th>         <td> -130.8739</td> <td>  111.354</td> <td>   -1.175</td> <td> 0.240</td> <td> -349.124</td> <td>   87.376</td>\n",
       "</tr>\n",
       "<tr>\n",
       "  <th>loc_ic_t2f_mou_7</th>         <td>  595.9804</td> <td>  128.752</td> <td>    4.629</td> <td> 0.000</td> <td>  343.632</td> <td>  848.329</td>\n",
       "</tr>\n",
       "<tr>\n",
       "  <th>loc_ic_t2f_mou_8</th>         <td> 1755.6353</td> <td>  114.422</td> <td>   15.344</td> <td> 0.000</td> <td> 1531.372</td> <td> 1979.898</td>\n",
       "</tr>\n",
       "<tr>\n",
       "  <th>loc_ic_mou_6</th>             <td>-1472.8328</td> <td> 1057.008</td> <td>   -1.393</td> <td> 0.163</td> <td>-3544.530</td> <td>  598.864</td>\n",
       "</tr>\n",
       "<tr>\n",
       "  <th>loc_ic_mou_7</th>             <td>-2703.8485</td> <td> 1116.349</td> <td>   -2.422</td> <td> 0.015</td> <td>-4891.852</td> <td> -515.845</td>\n",
       "</tr>\n",
       "<tr>\n",
       "  <th>loc_ic_mou_8</th>             <td> 3460.9186</td> <td> 1136.546</td> <td>    3.045</td> <td> 0.002</td> <td> 1233.329</td> <td> 5688.508</td>\n",
       "</tr>\n",
       "<tr>\n",
       "  <th>std_ic_t2t_mou_6</th>         <td>-2047.5720</td> <td>  316.718</td> <td>   -6.465</td> <td> 0.000</td> <td>-2668.328</td> <td>-1426.816</td>\n",
       "</tr>\n",
       "<tr>\n",
       "  <th>std_ic_t2t_mou_7</th>         <td> -414.5423</td> <td>  317.630</td> <td>   -1.305</td> <td> 0.192</td> <td>-1037.087</td> <td>  208.002</td>\n",
       "</tr>\n",
       "<tr>\n",
       "  <th>std_ic_t2t_mou_8</th>         <td> -551.6220</td> <td>  227.125</td> <td>   -2.429</td> <td> 0.015</td> <td> -996.778</td> <td> -106.466</td>\n",
       "</tr>\n",
       "<tr>\n",
       "  <th>std_ic_t2m_mou_6</th>         <td>-2117.6495</td> <td>  327.555</td> <td>   -6.465</td> <td> 0.000</td> <td>-2759.645</td> <td>-1475.654</td>\n",
       "</tr>\n",
       "<tr>\n",
       "  <th>std_ic_t2m_mou_7</th>         <td> -425.3599</td> <td>  325.751</td> <td>   -1.306</td> <td> 0.192</td> <td>-1063.821</td> <td>  213.101</td>\n",
       "</tr>\n",
       "<tr>\n",
       "  <th>std_ic_t2m_mou_8</th>         <td> -844.6571</td> <td>  348.055</td> <td>   -2.427</td> <td> 0.015</td> <td>-1526.831</td> <td> -162.483</td>\n",
       "</tr>\n",
       "<tr>\n",
       "  <th>std_ic_t2f_mou_6</th>         <td> -364.6832</td> <td>   56.423</td> <td>   -6.463</td> <td> 0.000</td> <td> -475.271</td> <td> -254.096</td>\n",
       "</tr>\n",
       "<tr>\n",
       "  <th>std_ic_t2f_mou_7</th>         <td>  -79.5937</td> <td>   61.118</td> <td>   -1.302</td> <td> 0.193</td> <td> -199.383</td> <td>   40.196</td>\n",
       "</tr>\n",
       "<tr>\n",
       "  <th>std_ic_t2f_mou_8</th>         <td> -138.8482</td> <td>   56.916</td> <td>   -2.440</td> <td> 0.015</td> <td> -250.401</td> <td>  -27.295</td>\n",
       "</tr>\n",
       "<tr>\n",
       "  <th>std_ic_t2o_mou_6</th>         <td>-4.293e-06</td> <td>    0.000</td> <td>   -0.020</td> <td> 0.984</td> <td>   -0.000</td> <td>    0.000</td>\n",
       "</tr>\n",
       "<tr>\n",
       "  <th>std_ic_t2o_mou_7</th>         <td>-1.866e-06</td> <td> 9.51e-05</td> <td>   -0.020</td> <td> 0.984</td> <td>   -0.000</td> <td>    0.000</td>\n",
       "</tr>\n",
       "<tr>\n",
       "  <th>std_ic_t2o_mou_8</th>         <td> -3.85e-07</td> <td> 2.83e-05</td> <td>   -0.014</td> <td> 0.989</td> <td>-5.59e-05</td> <td> 5.51e-05</td>\n",
       "</tr>\n",
       "<tr>\n",
       "  <th>std_ic_mou_6</th>             <td> 1980.4874</td> <td>  602.843</td> <td>    3.285</td> <td> 0.001</td> <td>  798.936</td> <td> 3162.038</td>\n",
       "</tr>\n",
       "<tr>\n",
       "  <th>std_ic_mou_7</th>             <td> 1297.3752</td> <td>  611.897</td> <td>    2.120</td> <td> 0.034</td> <td>   98.079</td> <td> 2496.671</td>\n",
       "</tr>\n",
       "<tr>\n",
       "  <th>std_ic_mou_8</th>             <td> 8343.5527</td> <td>  569.391</td> <td>   14.653</td> <td> 0.000</td> <td> 7227.567</td> <td> 9459.538</td>\n",
       "</tr>\n",
       "<tr>\n",
       "  <th>total_ic_mou_6</th>           <td> 2863.3999</td> <td>  943.145</td> <td>    3.036</td> <td> 0.002</td> <td> 1014.869</td> <td> 4711.931</td>\n",
       "</tr>\n",
       "<tr>\n",
       "  <th>total_ic_mou_7</th>           <td>-1538.9309</td> <td> 1008.449</td> <td>   -1.526</td> <td> 0.127</td> <td>-3515.454</td> <td>  437.592</td>\n",
       "</tr>\n",
       "<tr>\n",
       "  <th>total_ic_mou_8</th>           <td>-1.982e+04</td> <td> 1035.291</td> <td>  -19.148</td> <td> 0.000</td> <td>-2.19e+04</td> <td>-1.78e+04</td>\n",
       "</tr>\n",
       "<tr>\n",
       "  <th>spl_ic_mou_6</th>             <td>   -1.5370</td> <td>    0.563</td> <td>   -2.732</td> <td> 0.006</td> <td>   -2.640</td> <td>   -0.434</td>\n",
       "</tr>\n",
       "<tr>\n",
       "  <th>spl_ic_mou_7</th>             <td>    0.5832</td> <td>    0.518</td> <td>    1.127</td> <td> 0.260</td> <td>   -0.431</td> <td>    1.598</td>\n",
       "</tr>\n",
       "<tr>\n",
       "  <th>spl_ic_mou_8</th>             <td>    5.2079</td> <td>    0.295</td> <td>   17.667</td> <td> 0.000</td> <td>    4.630</td> <td>    5.786</td>\n",
       "</tr>\n",
       "<tr>\n",
       "  <th>isd_ic_mou_6</th>             <td> -483.9996</td> <td>  159.379</td> <td>   -3.037</td> <td> 0.002</td> <td> -796.376</td> <td> -171.623</td>\n",
       "</tr>\n",
       "<tr>\n",
       "  <th>isd_ic_mou_7</th>             <td>  274.3301</td> <td>  179.708</td> <td>    1.527</td> <td> 0.127</td> <td>  -77.892</td> <td>  626.552</td>\n",
       "</tr>\n",
       "<tr>\n",
       "  <th>isd_ic_mou_8</th>             <td> 3507.8652</td> <td>  183.198</td> <td>   19.148</td> <td> 0.000</td> <td> 3148.803</td> <td> 3866.928</td>\n",
       "</tr>\n",
       "<tr>\n",
       "  <th>ic_others_6</th>              <td>  -81.0654</td> <td>   26.658</td> <td>   -3.041</td> <td> 0.002</td> <td> -133.315</td> <td>  -28.816</td>\n",
       "</tr>\n",
       "<tr>\n",
       "  <th>ic_others_7</th>              <td>   42.4586</td> <td>   27.841</td> <td>    1.525</td> <td> 0.127</td> <td>  -12.108</td> <td>   97.025</td>\n",
       "</tr>\n",
       "<tr>\n",
       "  <th>ic_others_8</th>              <td>  550.1211</td> <td>   28.779</td> <td>   19.115</td> <td> 0.000</td> <td>  493.716</td> <td>  606.527</td>\n",
       "</tr>\n",
       "<tr>\n",
       "  <th>total_rech_num_6</th>         <td>    0.0224</td> <td>    0.035</td> <td>    0.638</td> <td> 0.524</td> <td>   -0.046</td> <td>    0.091</td>\n",
       "</tr>\n",
       "<tr>\n",
       "  <th>total_rech_num_7</th>         <td>    0.0726</td> <td>    0.040</td> <td>    1.805</td> <td> 0.071</td> <td>   -0.006</td> <td>    0.151</td>\n",
       "</tr>\n",
       "<tr>\n",
       "  <th>total_rech_num_8</th>         <td>   -0.6403</td> <td>    0.041</td> <td>  -15.693</td> <td> 0.000</td> <td>   -0.720</td> <td>   -0.560</td>\n",
       "</tr>\n",
       "<tr>\n",
       "  <th>total_rech_amt_6</th>         <td>    0.6131</td> <td>    0.082</td> <td>    7.463</td> <td> 0.000</td> <td>    0.452</td> <td>    0.774</td>\n",
       "</tr>\n",
       "<tr>\n",
       "  <th>total_rech_amt_7</th>         <td>   -0.2171</td> <td>    0.080</td> <td>   -2.703</td> <td> 0.007</td> <td>   -0.374</td> <td>   -0.060</td>\n",
       "</tr>\n",
       "<tr>\n",
       "  <th>total_rech_amt_8</th>         <td>    0.2183</td> <td>    0.114</td> <td>    1.912</td> <td> 0.056</td> <td>   -0.005</td> <td>    0.442</td>\n",
       "</tr>\n",
       "<tr>\n",
       "  <th>max_rech_amt_6</th>           <td>   -0.2237</td> <td>    0.037</td> <td>   -6.050</td> <td> 0.000</td> <td>   -0.296</td> <td>   -0.151</td>\n",
       "</tr>\n",
       "<tr>\n",
       "  <th>max_rech_amt_7</th>           <td>   -0.0587</td> <td>    0.036</td> <td>   -1.644</td> <td> 0.100</td> <td>   -0.129</td> <td>    0.011</td>\n",
       "</tr>\n",
       "<tr>\n",
       "  <th>max_rech_amt_8</th>           <td>    0.1475</td> <td>    0.043</td> <td>    3.397</td> <td> 0.001</td> <td>    0.062</td> <td>    0.233</td>\n",
       "</tr>\n",
       "<tr>\n",
       "  <th>last_day_rch_amt_6</th>       <td>   -0.1756</td> <td>    0.029</td> <td>   -6.042</td> <td> 0.000</td> <td>   -0.233</td> <td>   -0.119</td>\n",
       "</tr>\n",
       "<tr>\n",
       "  <th>last_day_rch_amt_7</th>       <td>    0.0028</td> <td>    0.029</td> <td>    0.098</td> <td> 0.922</td> <td>   -0.054</td> <td>    0.059</td>\n",
       "</tr>\n",
       "<tr>\n",
       "  <th>last_day_rch_amt_8</th>       <td>   -0.5102</td> <td>    0.033</td> <td>  -15.442</td> <td> 0.000</td> <td>   -0.575</td> <td>   -0.445</td>\n",
       "</tr>\n",
       "<tr>\n",
       "  <th>vol_2g_mb_6</th>              <td>    0.1398</td> <td>    0.030</td> <td>    4.719</td> <td> 0.000</td> <td>    0.082</td> <td>    0.198</td>\n",
       "</tr>\n",
       "<tr>\n",
       "  <th>vol_2g_mb_7</th>              <td>    0.0299</td> <td>    0.032</td> <td>    0.926</td> <td> 0.355</td> <td>   -0.033</td> <td>    0.093</td>\n",
       "</tr>\n",
       "<tr>\n",
       "  <th>vol_2g_mb_8</th>              <td>    0.0882</td> <td>    0.034</td> <td>    2.576</td> <td> 0.010</td> <td>    0.021</td> <td>    0.155</td>\n",
       "</tr>\n",
       "<tr>\n",
       "  <th>vol_3g_mb_6</th>              <td>    0.3625</td> <td>    0.044</td> <td>    8.187</td> <td> 0.000</td> <td>    0.276</td> <td>    0.449</td>\n",
       "</tr>\n",
       "<tr>\n",
       "  <th>vol_3g_mb_7</th>              <td>    0.4089</td> <td>    0.056</td> <td>    7.279</td> <td> 0.000</td> <td>    0.299</td> <td>    0.519</td>\n",
       "</tr>\n",
       "<tr>\n",
       "  <th>vol_3g_mb_8</th>              <td>   -0.1838</td> <td>    0.068</td> <td>   -2.698</td> <td> 0.007</td> <td>   -0.317</td> <td>   -0.050</td>\n",
       "</tr>\n",
       "<tr>\n",
       "  <th>monthly_2g_6</th>             <td>   -0.6068</td> <td>    0.045</td> <td>  -13.501</td> <td> 0.000</td> <td>   -0.695</td> <td>   -0.519</td>\n",
       "</tr>\n",
       "<tr>\n",
       "  <th>monthly_2g_7</th>             <td>   -0.4095</td> <td>    0.042</td> <td>   -9.832</td> <td> 0.000</td> <td>   -0.491</td> <td>   -0.328</td>\n",
       "</tr>\n",
       "<tr>\n",
       "  <th>monthly_2g_8</th>             <td>   -0.6420</td> <td>    0.059</td> <td>  -10.903</td> <td> 0.000</td> <td>   -0.757</td> <td>   -0.527</td>\n",
       "</tr>\n",
       "<tr>\n",
       "  <th>sachet_2g_6</th>              <td>   -0.0239</td> <td>    0.031</td> <td>   -0.773</td> <td> 0.440</td> <td>   -0.085</td> <td>    0.037</td>\n",
       "</tr>\n",
       "<tr>\n",
       "  <th>sachet_2g_7</th>              <td>   -0.2143</td> <td>    0.033</td> <td>   -6.458</td> <td> 0.000</td> <td>   -0.279</td> <td>   -0.149</td>\n",
       "</tr>\n",
       "<tr>\n",
       "  <th>sachet_2g_8</th>              <td>   -0.2391</td> <td>    0.032</td> <td>   -7.504</td> <td> 0.000</td> <td>   -0.302</td> <td>   -0.177</td>\n",
       "</tr>\n",
       "<tr>\n",
       "  <th>monthly_3g_6</th>             <td>   -0.3220</td> <td>    0.046</td> <td>   -6.991</td> <td> 0.000</td> <td>   -0.412</td> <td>   -0.232</td>\n",
       "</tr>\n",
       "<tr>\n",
       "  <th>monthly_3g_7</th>             <td>   -0.5808</td> <td>    0.052</td> <td>  -11.072</td> <td> 0.000</td> <td>   -0.684</td> <td>   -0.478</td>\n",
       "</tr>\n",
       "<tr>\n",
       "  <th>monthly_3g_8</th>             <td>   -0.8650</td> <td>    0.078</td> <td>  -11.054</td> <td> 0.000</td> <td>   -1.018</td> <td>   -0.712</td>\n",
       "</tr>\n",
       "<tr>\n",
       "  <th>sachet_3g_6</th>              <td>   -0.0281</td> <td>    0.032</td> <td>   -0.870</td> <td> 0.384</td> <td>   -0.091</td> <td>    0.035</td>\n",
       "</tr>\n",
       "<tr>\n",
       "  <th>sachet_3g_7</th>              <td>   -0.0829</td> <td>    0.042</td> <td>   -1.959</td> <td> 0.050</td> <td>   -0.166</td> <td> 3.57e-05</td>\n",
       "</tr>\n",
       "<tr>\n",
       "  <th>sachet_3g_8</th>              <td>   -0.1553</td> <td>    0.048</td> <td>   -3.218</td> <td> 0.001</td> <td>   -0.250</td> <td>   -0.061</td>\n",
       "</tr>\n",
       "<tr>\n",
       "  <th>aon</th>                      <td>   -0.1564</td> <td>    0.022</td> <td>   -7.266</td> <td> 0.000</td> <td>   -0.199</td> <td>   -0.114</td>\n",
       "</tr>\n",
       "<tr>\n",
       "  <th>aug_vbc_3g</th>               <td>   -0.1966</td> <td>    0.057</td> <td>   -3.432</td> <td> 0.001</td> <td>   -0.309</td> <td>   -0.084</td>\n",
       "</tr>\n",
       "<tr>\n",
       "  <th>jul_vbc_3g</th>               <td>   -0.0522</td> <td>    0.047</td> <td>   -1.115</td> <td> 0.265</td> <td>   -0.144</td> <td>    0.040</td>\n",
       "</tr>\n",
       "<tr>\n",
       "  <th>jun_vbc_3g</th>               <td>    0.2365</td> <td>    0.047</td> <td>    4.999</td> <td> 0.000</td> <td>    0.144</td> <td>    0.329</td>\n",
       "</tr>\n",
       "<tr>\n",
       "  <th>decrease_mou_action</th>      <td>   -0.4990</td> <td>    0.053</td> <td>   -9.460</td> <td> 0.000</td> <td>   -0.602</td> <td>   -0.396</td>\n",
       "</tr>\n",
       "<tr>\n",
       "  <th>decrease_rech_num_action</th> <td>   -1.0229</td> <td>    0.048</td> <td>  -21.433</td> <td> 0.000</td> <td>   -1.116</td> <td>   -0.929</td>\n",
       "</tr>\n",
       "<tr>\n",
       "  <th>decrease_rech_amt_action</th> <td>   -0.3065</td> <td>    0.065</td> <td>   -4.718</td> <td> 0.000</td> <td>   -0.434</td> <td>   -0.179</td>\n",
       "</tr>\n",
       "<tr>\n",
       "  <th>decrease_arpu_action</th>     <td>   -0.1797</td> <td>    0.067</td> <td>   -2.700</td> <td> 0.007</td> <td>   -0.310</td> <td>   -0.049</td>\n",
       "</tr>\n",
       "<tr>\n",
       "  <th>decrease_vbc_action</th>      <td>   -1.7538</td> <td>    0.130</td> <td>  -13.521</td> <td> 0.000</td> <td>   -2.008</td> <td>   -1.500</td>\n",
       "</tr>\n",
       "</table>"
      ],
      "text/plain": [
       "<class 'statsmodels.iolib.summary.Summary'>\n",
       "\"\"\"\n",
       "                 Generalized Linear Model Regression Results                  \n",
       "==============================================================================\n",
       "Dep. Variable:                  churn   No. Observations:                42850\n",
       "Model:                            GLM   Df Residuals:                    42720\n",
       "Model Family:                Binomial   Df Model:                          129\n",
       "Link Function:                  Logit   Scale:                          1.0000\n",
       "Method:                          IRLS   Log-Likelihood:                    nan\n",
       "Date:                Sat, 30 Mar 2024   Deviance:                       23572.\n",
       "Time:                        11:14:38   Pearson chi2:                 3.71e+05\n",
       "No. Iterations:                   100   Pseudo R-squ. (CS):                nan\n",
       "Covariance Type:            nonrobust                                         \n",
       "============================================================================================\n",
       "                               coef    std err          z      P>|z|      [0.025      0.975]\n",
       "--------------------------------------------------------------------------------------------\n",
       "const                      -90.6375   4452.242     -0.020      0.984   -8816.872    8635.597\n",
       "loc_og_t2o_mou            -3.08e-06      0.000     -0.022      0.982      -0.000       0.000\n",
       "std_og_t2o_mou           -2.063e-06      0.000     -0.014      0.989      -0.000       0.000\n",
       "loc_ic_t2o_mou           -9.631e-06      0.000     -0.021      0.983      -0.001       0.001\n",
       "arpu_6                      -0.0338      0.081     -0.418      0.676      -0.192       0.125\n",
       "arpu_7                       0.0855      0.086      0.995      0.320      -0.083       0.254\n",
       "arpu_8                       0.0909      0.110      0.828      0.408      -0.124       0.306\n",
       "onnet_mou_6                 15.5140      3.577      4.337      0.000       8.504      22.524\n",
       "onnet_mou_7                 -4.3249      1.811     -2.388      0.017      -7.875      -0.774\n",
       "onnet_mou_8                  2.3520      1.827      1.287      0.198      -1.229       5.933\n",
       "offnet_mou_6                15.0883      3.365      4.484      0.000       8.494      21.683\n",
       "offnet_mou_7                -1.7627      1.716     -1.027      0.304      -5.126       1.601\n",
       "offnet_mou_8                -0.5503      1.885     -0.292      0.770      -4.244       3.144\n",
       "roam_ic_mou_6                0.1622      0.036      4.487      0.000       0.091       0.233\n",
       "roam_ic_mou_7               -0.0099      0.052     -0.189      0.850      -0.112       0.092\n",
       "roam_ic_mou_8                0.2041      0.044      4.662      0.000       0.118       0.290\n",
       "roam_og_mou_6               -5.1508      1.132     -4.549      0.000      -7.370      -2.932\n",
       "roam_og_mou_7                0.8855      0.473      1.873      0.061      -0.041       1.812\n",
       "roam_og_mou_8                0.0929      0.531      0.175      0.861      -0.948       1.134\n",
       "loc_og_t2t_mou_6         -3303.0832    656.615     -5.030      0.000   -4590.024   -2016.142\n",
       "loc_og_t2t_mou_7         -1474.6161    680.014     -2.169      0.030   -2807.419    -141.813\n",
       "loc_og_t2t_mou_8          5516.0876    628.351      8.779      0.000    4284.542    6747.633\n",
       "loc_og_t2m_mou_6         -3342.7075    664.372     -5.031      0.000   -4644.852   -2040.563\n",
       "loc_og_t2m_mou_7         -1392.1067    641.322     -2.171      0.030   -2649.075    -135.139\n",
       "loc_og_t2m_mou_8          5887.3427    670.474      8.781      0.000    4573.238    7201.447\n",
       "loc_og_t2f_mou_6          -285.2471     56.730     -5.028      0.000    -396.436    -174.058\n",
       "loc_og_t2f_mou_7          -123.0164     56.696     -2.170      0.030    -234.138     -11.895\n",
       "loc_og_t2f_mou_8           487.3958     55.536      8.776      0.000     378.548     596.243\n",
       "loc_og_t2c_mou_6             0.0433      0.022      1.971      0.049       0.000       0.086\n",
       "loc_og_t2c_mou_7             0.0099      0.021      0.462      0.644      -0.032       0.052\n",
       "loc_og_t2c_mou_8             0.0673      0.023      2.980      0.003       0.023       0.111\n",
       "loc_og_mou_6              3756.6102   1269.528      2.959      0.003    1268.380    6244.840\n",
       "loc_og_mou_7              5686.6260   1330.779      4.273      0.000    3078.348    8294.904\n",
       "loc_og_mou_8              -265.7536   1351.526     -0.197      0.844   -2914.696    2383.189\n",
       "std_og_t2t_mou_6         -1.309e+04   1867.608     -7.009      0.000   -1.68e+04   -9429.311\n",
       "std_og_t2t_mou_7         -9674.3998   1822.532     -5.308      0.000   -1.32e+04   -6102.303\n",
       "std_og_t2t_mou_8          5854.7918   1510.527      3.876      0.000    2894.213    8815.371\n",
       "std_og_t2m_mou_6         -1.214e+04   1732.558     -7.009      0.000   -1.55e+04   -8748.260\n",
       "std_og_t2m_mou_7         -9439.1294   1777.871     -5.309      0.000   -1.29e+04   -5954.566\n",
       "std_og_t2m_mou_8          5966.0464   1538.574      3.878      0.000    2950.497    8981.596\n",
       "std_og_t2f_mou_6          -255.4260     36.403     -7.017      0.000    -326.775    -184.077\n",
       "std_og_t2f_mou_7          -213.6015     40.270     -5.304      0.000    -292.530    -134.673\n",
       "std_og_t2f_mou_8           142.4566     36.769      3.874      0.000      70.391     214.523\n",
       "std_og_t2c_mou_6          8.329e-06      0.000      0.020      0.984      -0.001       0.001\n",
       "std_og_t2c_mou_7         -7.681e-06      0.000     -0.021      0.983      -0.001       0.001\n",
       "std_og_t2c_mou_8          3.308e-06      0.000      0.021      0.983      -0.000       0.000\n",
       "std_og_mou_6              1.446e+04   2967.405      4.873      0.000    8644.702    2.03e+04\n",
       "std_og_mou_7              2.105e+04   3104.376      6.782      0.000     1.5e+04    2.71e+04\n",
       "std_og_mou_8              7815.2301   2768.567      2.823      0.005    2388.938    1.32e+04\n",
       "isd_og_mou_6               -51.5643     29.694     -1.737      0.082    -109.763       6.634\n",
       "isd_og_mou_7                94.2319     27.795      3.390      0.001      39.755     148.708\n",
       "isd_og_mou_8               320.5612     34.145      9.388      0.000     253.637     387.485\n",
       "spl_og_mou_6               -83.1563     47.794     -1.740      0.082    -176.830      10.518\n",
       "spl_og_mou_7               229.8647     67.736      3.394      0.001      97.106     362.624\n",
       "spl_og_mou_8               523.1523     55.607      9.408      0.000     414.164     632.140\n",
       "og_others_6                -10.0918      5.820     -1.734      0.083     -21.499       1.315\n",
       "og_others_7                 15.6445      4.906      3.189      0.001       6.030      25.259\n",
       "og_others_8              -6547.0967   3.24e+05     -0.020      0.984   -6.42e+05    6.29e+05\n",
       "total_og_mou_6            3406.4845   1972.111      1.727      0.084    -458.782    7271.751\n",
       "total_og_mou_7           -7829.6842   2307.849     -3.393      0.001   -1.24e+04   -3306.384\n",
       "total_og_mou_8           -1.894e+04   2012.488     -9.410      0.000   -2.29e+04    -1.5e+04\n",
       "loc_ic_t2t_mou_6          -471.9773    401.871     -1.174      0.240   -1259.630     315.676\n",
       "loc_ic_t2t_mou_7          2043.3877    441.331      4.630      0.000    1178.395    2908.381\n",
       "loc_ic_t2t_mou_8          6411.9575    417.817     15.346      0.000    5593.051    7230.864\n",
       "loc_ic_t2m_mou_6          -662.3488    564.062     -1.174      0.240   -1767.889     443.191\n",
       "loc_ic_t2m_mou_7          2751.4909    594.183      4.631      0.000    1586.914    3916.068\n",
       "loc_ic_t2m_mou_8          9239.7787    602.097     15.346      0.000    8059.691    1.04e+04\n",
       "loc_ic_t2f_mou_6          -130.8739    111.354     -1.175      0.240    -349.124      87.376\n",
       "loc_ic_t2f_mou_7           595.9804    128.752      4.629      0.000     343.632     848.329\n",
       "loc_ic_t2f_mou_8          1755.6353    114.422     15.344      0.000    1531.372    1979.898\n",
       "loc_ic_mou_6             -1472.8328   1057.008     -1.393      0.163   -3544.530     598.864\n",
       "loc_ic_mou_7             -2703.8485   1116.349     -2.422      0.015   -4891.852    -515.845\n",
       "loc_ic_mou_8              3460.9186   1136.546      3.045      0.002    1233.329    5688.508\n",
       "std_ic_t2t_mou_6         -2047.5720    316.718     -6.465      0.000   -2668.328   -1426.816\n",
       "std_ic_t2t_mou_7          -414.5423    317.630     -1.305      0.192   -1037.087     208.002\n",
       "std_ic_t2t_mou_8          -551.6220    227.125     -2.429      0.015    -996.778    -106.466\n",
       "std_ic_t2m_mou_6         -2117.6495    327.555     -6.465      0.000   -2759.645   -1475.654\n",
       "std_ic_t2m_mou_7          -425.3599    325.751     -1.306      0.192   -1063.821     213.101\n",
       "std_ic_t2m_mou_8          -844.6571    348.055     -2.427      0.015   -1526.831    -162.483\n",
       "std_ic_t2f_mou_6          -364.6832     56.423     -6.463      0.000    -475.271    -254.096\n",
       "std_ic_t2f_mou_7           -79.5937     61.118     -1.302      0.193    -199.383      40.196\n",
       "std_ic_t2f_mou_8          -138.8482     56.916     -2.440      0.015    -250.401     -27.295\n",
       "std_ic_t2o_mou_6         -4.293e-06      0.000     -0.020      0.984      -0.000       0.000\n",
       "std_ic_t2o_mou_7         -1.866e-06   9.51e-05     -0.020      0.984      -0.000       0.000\n",
       "std_ic_t2o_mou_8          -3.85e-07   2.83e-05     -0.014      0.989   -5.59e-05    5.51e-05\n",
       "std_ic_mou_6              1980.4874    602.843      3.285      0.001     798.936    3162.038\n",
       "std_ic_mou_7              1297.3752    611.897      2.120      0.034      98.079    2496.671\n",
       "std_ic_mou_8              8343.5527    569.391     14.653      0.000    7227.567    9459.538\n",
       "total_ic_mou_6            2863.3999    943.145      3.036      0.002    1014.869    4711.931\n",
       "total_ic_mou_7           -1538.9309   1008.449     -1.526      0.127   -3515.454     437.592\n",
       "total_ic_mou_8           -1.982e+04   1035.291    -19.148      0.000   -2.19e+04   -1.78e+04\n",
       "spl_ic_mou_6                -1.5370      0.563     -2.732      0.006      -2.640      -0.434\n",
       "spl_ic_mou_7                 0.5832      0.518      1.127      0.260      -0.431       1.598\n",
       "spl_ic_mou_8                 5.2079      0.295     17.667      0.000       4.630       5.786\n",
       "isd_ic_mou_6              -483.9996    159.379     -3.037      0.002    -796.376    -171.623\n",
       "isd_ic_mou_7               274.3301    179.708      1.527      0.127     -77.892     626.552\n",
       "isd_ic_mou_8              3507.8652    183.198     19.148      0.000    3148.803    3866.928\n",
       "ic_others_6                -81.0654     26.658     -3.041      0.002    -133.315     -28.816\n",
       "ic_others_7                 42.4586     27.841      1.525      0.127     -12.108      97.025\n",
       "ic_others_8                550.1211     28.779     19.115      0.000     493.716     606.527\n",
       "total_rech_num_6             0.0224      0.035      0.638      0.524      -0.046       0.091\n",
       "total_rech_num_7             0.0726      0.040      1.805      0.071      -0.006       0.151\n",
       "total_rech_num_8            -0.6403      0.041    -15.693      0.000      -0.720      -0.560\n",
       "total_rech_amt_6             0.6131      0.082      7.463      0.000       0.452       0.774\n",
       "total_rech_amt_7            -0.2171      0.080     -2.703      0.007      -0.374      -0.060\n",
       "total_rech_amt_8             0.2183      0.114      1.912      0.056      -0.005       0.442\n",
       "max_rech_amt_6              -0.2237      0.037     -6.050      0.000      -0.296      -0.151\n",
       "max_rech_amt_7              -0.0587      0.036     -1.644      0.100      -0.129       0.011\n",
       "max_rech_amt_8               0.1475      0.043      3.397      0.001       0.062       0.233\n",
       "last_day_rch_amt_6          -0.1756      0.029     -6.042      0.000      -0.233      -0.119\n",
       "last_day_rch_amt_7           0.0028      0.029      0.098      0.922      -0.054       0.059\n",
       "last_day_rch_amt_8          -0.5102      0.033    -15.442      0.000      -0.575      -0.445\n",
       "vol_2g_mb_6                  0.1398      0.030      4.719      0.000       0.082       0.198\n",
       "vol_2g_mb_7                  0.0299      0.032      0.926      0.355      -0.033       0.093\n",
       "vol_2g_mb_8                  0.0882      0.034      2.576      0.010       0.021       0.155\n",
       "vol_3g_mb_6                  0.3625      0.044      8.187      0.000       0.276       0.449\n",
       "vol_3g_mb_7                  0.4089      0.056      7.279      0.000       0.299       0.519\n",
       "vol_3g_mb_8                 -0.1838      0.068     -2.698      0.007      -0.317      -0.050\n",
       "monthly_2g_6                -0.6068      0.045    -13.501      0.000      -0.695      -0.519\n",
       "monthly_2g_7                -0.4095      0.042     -9.832      0.000      -0.491      -0.328\n",
       "monthly_2g_8                -0.6420      0.059    -10.903      0.000      -0.757      -0.527\n",
       "sachet_2g_6                 -0.0239      0.031     -0.773      0.440      -0.085       0.037\n",
       "sachet_2g_7                 -0.2143      0.033     -6.458      0.000      -0.279      -0.149\n",
       "sachet_2g_8                 -0.2391      0.032     -7.504      0.000      -0.302      -0.177\n",
       "monthly_3g_6                -0.3220      0.046     -6.991      0.000      -0.412      -0.232\n",
       "monthly_3g_7                -0.5808      0.052    -11.072      0.000      -0.684      -0.478\n",
       "monthly_3g_8                -0.8650      0.078    -11.054      0.000      -1.018      -0.712\n",
       "sachet_3g_6                 -0.0281      0.032     -0.870      0.384      -0.091       0.035\n",
       "sachet_3g_7                 -0.0829      0.042     -1.959      0.050      -0.166    3.57e-05\n",
       "sachet_3g_8                 -0.1553      0.048     -3.218      0.001      -0.250      -0.061\n",
       "aon                         -0.1564      0.022     -7.266      0.000      -0.199      -0.114\n",
       "aug_vbc_3g                  -0.1966      0.057     -3.432      0.001      -0.309      -0.084\n",
       "jul_vbc_3g                  -0.0522      0.047     -1.115      0.265      -0.144       0.040\n",
       "jun_vbc_3g                   0.2365      0.047      4.999      0.000       0.144       0.329\n",
       "decrease_mou_action         -0.4990      0.053     -9.460      0.000      -0.602      -0.396\n",
       "decrease_rech_num_action    -1.0229      0.048    -21.433      0.000      -1.116      -0.929\n",
       "decrease_rech_amt_action    -0.3065      0.065     -4.718      0.000      -0.434      -0.179\n",
       "decrease_arpu_action        -0.1797      0.067     -2.700      0.007      -0.310      -0.049\n",
       "decrease_vbc_action         -1.7538      0.130    -13.521      0.000      -2.008      -1.500\n",
       "============================================================================================\n",
       "\"\"\""
      ]
     },
     "execution_count": 165,
     "metadata": {},
     "output_type": "execute_result"
    }
   ],
   "source": [
    "# Summary\n",
    "log_no_pca"
   ]
  },
  {
   "cell_type": "markdown",
   "metadata": {
    "id": "03mtCEnindvk"
   },
   "source": [
    "***Model analysis***\n",
    "1. We can see that there are few features have positive coefficients and few have negative.\n",
    "2. Many features have higher p-values and hence became insignificant in the model.\n",
    "\n",
    "***Coarse tuning (Auto+Manual)***\n",
    "\n",
    "We'll first eliminate a few features using Recursive Feature Elimination (RFE), and once we have reached a small set of variables to work with, we can then use manual feature elimination (i.e. manually eliminating features based on observing the p-values and VIFs)."
   ]
  },
  {
   "cell_type": "markdown",
   "metadata": {
    "id": "TZAkyJfBndvk"
   },
   "source": [
    "### Feature Selection Using RFE"
   ]
  },
  {
   "cell_type": "code",
   "execution_count": 166,
   "metadata": {
    "id": "kZ-pMVp7ndvk"
   },
   "outputs": [],
   "source": [
    "# Importing logistic regression from sklearn\n",
    "from sklearn.linear_model import LogisticRegression\n",
    "# Intantiate the logistic regression\n",
    "logreg = LogisticRegression()"
   ]
  },
  {
   "cell_type": "markdown",
   "metadata": {
    "id": "ZrQA_lDsndvk"
   },
   "source": [
    "#### RFE with 15 columns"
   ]
  },
  {
   "cell_type": "code",
   "execution_count": 167,
   "metadata": {
    "id": "6hqvD4CEndvl"
   },
   "outputs": [],
   "source": [
    "# Importing RFE\n",
    "from sklearn.feature_selection import RFE\n",
    "\n",
    "# Intantiate RFE with 15 columns\n",
    "rfe = RFE(logreg, n_features_to_select=15)\n",
    "\n",
    "# Fit the rfe model with train set\n",
    "rfe = rfe.fit(X_train, y_train)"
   ]
  },
  {
   "cell_type": "code",
   "execution_count": 168,
   "metadata": {
    "colab": {
     "base_uri": "https://localhost:8080/"
    },
    "id": "sL9I_-Yzndvl",
    "outputId": "1920b30a-d1ee-40e7-d416-7dc08b02a0e5"
   },
   "outputs": [
    {
     "name": "stdout",
     "output_type": "stream",
     "text": [
      "Index(['offnet_mou_7', 'offnet_mou_8', 'roam_og_mou_8', 'std_og_t2m_mou_8',\n",
      "       'isd_og_mou_8', 'og_others_7', 'og_others_8', 'loc_ic_t2f_mou_8',\n",
      "       'loc_ic_mou_8', 'std_ic_t2f_mou_8', 'ic_others_8', 'total_rech_num_8',\n",
      "       'monthly_2g_8', 'monthly_3g_8', 'decrease_vbc_action'],\n",
      "      dtype='object')\n"
     ]
    }
   ],
   "source": [
    "# RFE selected columns\n",
    "rfe_cols = X_train.columns[rfe.support_]\n",
    "print(rfe_cols)"
   ]
  },
  {
   "cell_type": "markdown",
   "metadata": {
    "id": "Yy096FFcgOBS"
   },
   "source": [
    "**Model Building**\n"
   ]
  },
  {
   "cell_type": "markdown",
   "metadata": {
    "id": "632Qwnq1ndvl"
   },
   "source": [
    "### Model-1 with RFE selected columns"
   ]
  },
  {
   "cell_type": "code",
   "execution_count": 169,
   "metadata": {
    "colab": {
     "base_uri": "https://localhost:8080/",
     "height": 594
    },
    "id": "l4DCLC1qndvl",
    "outputId": "5d7e2922-60c0-410f-8cca-afd1b54bcaca"
   },
   "outputs": [
    {
     "data": {
      "text/html": [
       "<table class=\"simpletable\">\n",
       "<caption>Generalized Linear Model Regression Results</caption>\n",
       "<tr>\n",
       "  <th>Dep. Variable:</th>         <td>churn</td>      <th>  No. Observations:  </th>  <td> 42850</td> \n",
       "</tr>\n",
       "<tr>\n",
       "  <th>Model:</th>                  <td>GLM</td>       <th>  Df Residuals:      </th>  <td> 42834</td> \n",
       "</tr>\n",
       "<tr>\n",
       "  <th>Model Family:</th>        <td>Binomial</td>     <th>  Df Model:          </th>  <td>    15</td> \n",
       "</tr>\n",
       "<tr>\n",
       "  <th>Link Function:</th>         <td>Logit</td>      <th>  Scale:             </th> <td>  1.0000</td>\n",
       "</tr>\n",
       "<tr>\n",
       "  <th>Method:</th>                <td>IRLS</td>       <th>  Log-Likelihood:    </th> <td>     nan</td>\n",
       "</tr>\n",
       "<tr>\n",
       "  <th>Date:</th>            <td>Sat, 30 Mar 2024</td> <th>  Deviance:          </th> <td>  30008.</td>\n",
       "</tr>\n",
       "<tr>\n",
       "  <th>Time:</th>                <td>11:15:51</td>     <th>  Pearson chi2:      </th> <td>4.49e+06</td>\n",
       "</tr>\n",
       "<tr>\n",
       "  <th>No. Iterations:</th>         <td>41</td>        <th>  Pseudo R-squ. (CS):</th>  <td>   nan</td> \n",
       "</tr>\n",
       "<tr>\n",
       "  <th>Covariance Type:</th>     <td>nonrobust</td>    <th>                     </th>     <td> </td>   \n",
       "</tr>\n",
       "</table>\n",
       "<table class=\"simpletable\">\n",
       "<tr>\n",
       "           <td></td>              <th>coef</th>     <th>std err</th>      <th>z</th>      <th>P>|z|</th>  <th>[0.025</th>    <th>0.975]</th>  \n",
       "</tr>\n",
       "<tr>\n",
       "  <th>const</th>               <td>  -53.0128</td> <td> 4235.111</td> <td>   -0.013</td> <td> 0.990</td> <td>-8353.678</td> <td> 8247.653</td>\n",
       "</tr>\n",
       "<tr>\n",
       "  <th>offnet_mou_7</th>        <td>    0.6096</td> <td>    0.026</td> <td>   23.449</td> <td> 0.000</td> <td>    0.559</td> <td>    0.661</td>\n",
       "</tr>\n",
       "<tr>\n",
       "  <th>offnet_mou_8</th>        <td>   -3.2532</td> <td>    0.106</td> <td>  -30.548</td> <td> 0.000</td> <td>   -3.462</td> <td>   -3.045</td>\n",
       "</tr>\n",
       "<tr>\n",
       "  <th>roam_og_mou_8</th>       <td>    1.2482</td> <td>    0.032</td> <td>   39.496</td> <td> 0.000</td> <td>    1.186</td> <td>    1.310</td>\n",
       "</tr>\n",
       "<tr>\n",
       "  <th>std_og_t2m_mou_8</th>    <td>    2.4408</td> <td>    0.094</td> <td>   26.101</td> <td> 0.000</td> <td>    2.258</td> <td>    2.624</td>\n",
       "</tr>\n",
       "<tr>\n",
       "  <th>isd_og_mou_8</th>        <td>   -1.0212</td> <td>    0.194</td> <td>   -5.271</td> <td> 0.000</td> <td>   -1.401</td> <td>   -0.641</td>\n",
       "</tr>\n",
       "<tr>\n",
       "  <th>og_others_7</th>         <td>   -1.1915</td> <td>    0.862</td> <td>   -1.382</td> <td> 0.167</td> <td>   -2.881</td> <td>    0.498</td>\n",
       "</tr>\n",
       "<tr>\n",
       "  <th>og_others_8</th>         <td>-3780.7240</td> <td> 3.08e+05</td> <td>   -0.012</td> <td> 0.990</td> <td>-6.08e+05</td> <td> 6.01e+05</td>\n",
       "</tr>\n",
       "<tr>\n",
       "  <th>loc_ic_t2f_mou_8</th>    <td>   -0.7547</td> <td>    0.072</td> <td>  -10.487</td> <td> 0.000</td> <td>   -0.896</td> <td>   -0.614</td>\n",
       "</tr>\n",
       "<tr>\n",
       "  <th>loc_ic_mou_8</th>        <td>   -1.9744</td> <td>    0.066</td> <td>  -30.078</td> <td> 0.000</td> <td>   -2.103</td> <td>   -1.846</td>\n",
       "</tr>\n",
       "<tr>\n",
       "  <th>std_ic_t2f_mou_8</th>    <td>   -0.7922</td> <td>    0.075</td> <td>  -10.607</td> <td> 0.000</td> <td>   -0.939</td> <td>   -0.646</td>\n",
       "</tr>\n",
       "<tr>\n",
       "  <th>ic_others_8</th>         <td>   -1.4913</td> <td>    0.132</td> <td>  -11.305</td> <td> 0.000</td> <td>   -1.750</td> <td>   -1.233</td>\n",
       "</tr>\n",
       "<tr>\n",
       "  <th>total_rech_num_8</th>    <td>   -0.4840</td> <td>    0.018</td> <td>  -26.977</td> <td> 0.000</td> <td>   -0.519</td> <td>   -0.449</td>\n",
       "</tr>\n",
       "<tr>\n",
       "  <th>monthly_2g_8</th>        <td>   -0.9031</td> <td>    0.043</td> <td>  -20.851</td> <td> 0.000</td> <td>   -0.988</td> <td>   -0.818</td>\n",
       "</tr>\n",
       "<tr>\n",
       "  <th>monthly_3g_8</th>        <td>   -0.9871</td> <td>    0.043</td> <td>  -22.711</td> <td> 0.000</td> <td>   -1.072</td> <td>   -0.902</td>\n",
       "</tr>\n",
       "<tr>\n",
       "  <th>decrease_vbc_action</th> <td>   -1.3078</td> <td>    0.073</td> <td>  -17.956</td> <td> 0.000</td> <td>   -1.451</td> <td>   -1.165</td>\n",
       "</tr>\n",
       "</table>"
      ],
      "text/plain": [
       "<class 'statsmodels.iolib.summary.Summary'>\n",
       "\"\"\"\n",
       "                 Generalized Linear Model Regression Results                  \n",
       "==============================================================================\n",
       "Dep. Variable:                  churn   No. Observations:                42850\n",
       "Model:                            GLM   Df Residuals:                    42834\n",
       "Model Family:                Binomial   Df Model:                           15\n",
       "Link Function:                  Logit   Scale:                          1.0000\n",
       "Method:                          IRLS   Log-Likelihood:                    nan\n",
       "Date:                Sat, 30 Mar 2024   Deviance:                       30008.\n",
       "Time:                        11:15:51   Pearson chi2:                 4.49e+06\n",
       "No. Iterations:                    41   Pseudo R-squ. (CS):                nan\n",
       "Covariance Type:            nonrobust                                         \n",
       "=======================================================================================\n",
       "                          coef    std err          z      P>|z|      [0.025      0.975]\n",
       "---------------------------------------------------------------------------------------\n",
       "const                 -53.0128   4235.111     -0.013      0.990   -8353.678    8247.653\n",
       "offnet_mou_7            0.6096      0.026     23.449      0.000       0.559       0.661\n",
       "offnet_mou_8           -3.2532      0.106    -30.548      0.000      -3.462      -3.045\n",
       "roam_og_mou_8           1.2482      0.032     39.496      0.000       1.186       1.310\n",
       "std_og_t2m_mou_8        2.4408      0.094     26.101      0.000       2.258       2.624\n",
       "isd_og_mou_8           -1.0212      0.194     -5.271      0.000      -1.401      -0.641\n",
       "og_others_7            -1.1915      0.862     -1.382      0.167      -2.881       0.498\n",
       "og_others_8         -3780.7240   3.08e+05     -0.012      0.990   -6.08e+05    6.01e+05\n",
       "loc_ic_t2f_mou_8       -0.7547      0.072    -10.487      0.000      -0.896      -0.614\n",
       "loc_ic_mou_8           -1.9744      0.066    -30.078      0.000      -2.103      -1.846\n",
       "std_ic_t2f_mou_8       -0.7922      0.075    -10.607      0.000      -0.939      -0.646\n",
       "ic_others_8            -1.4913      0.132    -11.305      0.000      -1.750      -1.233\n",
       "total_rech_num_8       -0.4840      0.018    -26.977      0.000      -0.519      -0.449\n",
       "monthly_2g_8           -0.9031      0.043    -20.851      0.000      -0.988      -0.818\n",
       "monthly_3g_8           -0.9871      0.043    -22.711      0.000      -1.072      -0.902\n",
       "decrease_vbc_action    -1.3078      0.073    -17.956      0.000      -1.451      -1.165\n",
       "=======================================================================================\n",
       "\"\"\""
      ]
     },
     "execution_count": 169,
     "metadata": {},
     "output_type": "execute_result"
    }
   ],
   "source": [
    "# Adding constant to X_train\n",
    "X_train_sm_1 = sm.add_constant(X_train[rfe_cols])\n",
    "\n",
    "#Instantiate the model\n",
    "log_no_pca_1 = sm.GLM(y_train, X_train_sm_1, family=sm.families.Binomial())\n",
    "\n",
    "# Fit the model\n",
    "log_no_pca_1 = log_no_pca_1.fit()\n",
    "\n",
    "log_no_pca_1.summary()"
   ]
  },
  {
   "cell_type": "markdown",
   "metadata": {
    "id": "Nkhk5lc1ndvl"
   },
   "source": [
    "#### Checking VIFs"
   ]
  },
  {
   "cell_type": "code",
   "execution_count": 170,
   "metadata": {
    "id": "IjbvhqX0ndvl"
   },
   "outputs": [],
   "source": [
    "# Check for the VIF values of the feature variables. \n",
    "from statsmodels.stats.outliers_influence import variance_inflation_factor"
   ]
  },
  {
   "cell_type": "code",
   "execution_count": 171,
   "metadata": {
    "colab": {
     "base_uri": "https://localhost:8080/",
     "height": 520
    },
    "id": "eNAE3XUNndvl",
    "outputId": "4532c65a-47fa-4d19-c2fb-976212640773"
   },
   "outputs": [
    {
     "data": {
      "text/html": [
       "<div>\n",
       "<style scoped>\n",
       "    .dataframe tbody tr th:only-of-type {\n",
       "        vertical-align: middle;\n",
       "    }\n",
       "\n",
       "    .dataframe tbody tr th {\n",
       "        vertical-align: top;\n",
       "    }\n",
       "\n",
       "    .dataframe thead th {\n",
       "        text-align: right;\n",
       "    }\n",
       "</style>\n",
       "<table border=\"1\" class=\"dataframe\">\n",
       "  <thead>\n",
       "    <tr style=\"text-align: right;\">\n",
       "      <th></th>\n",
       "      <th>Features</th>\n",
       "      <th>VIF</th>\n",
       "    </tr>\n",
       "  </thead>\n",
       "  <tbody>\n",
       "    <tr>\n",
       "      <th>1</th>\n",
       "      <td>offnet_mou_8</td>\n",
       "      <td>7.45</td>\n",
       "    </tr>\n",
       "    <tr>\n",
       "      <th>3</th>\n",
       "      <td>std_og_t2m_mou_8</td>\n",
       "      <td>6.27</td>\n",
       "    </tr>\n",
       "    <tr>\n",
       "      <th>0</th>\n",
       "      <td>offnet_mou_7</td>\n",
       "      <td>1.92</td>\n",
       "    </tr>\n",
       "    <tr>\n",
       "      <th>8</th>\n",
       "      <td>loc_ic_mou_8</td>\n",
       "      <td>1.68</td>\n",
       "    </tr>\n",
       "    <tr>\n",
       "      <th>7</th>\n",
       "      <td>loc_ic_t2f_mou_8</td>\n",
       "      <td>1.21</td>\n",
       "    </tr>\n",
       "    <tr>\n",
       "      <th>11</th>\n",
       "      <td>total_rech_num_8</td>\n",
       "      <td>1.19</td>\n",
       "    </tr>\n",
       "    <tr>\n",
       "      <th>2</th>\n",
       "      <td>roam_og_mou_8</td>\n",
       "      <td>1.16</td>\n",
       "    </tr>\n",
       "    <tr>\n",
       "      <th>14</th>\n",
       "      <td>decrease_vbc_action</td>\n",
       "      <td>1.08</td>\n",
       "    </tr>\n",
       "    <tr>\n",
       "      <th>13</th>\n",
       "      <td>monthly_3g_8</td>\n",
       "      <td>1.06</td>\n",
       "    </tr>\n",
       "    <tr>\n",
       "      <th>6</th>\n",
       "      <td>og_others_8</td>\n",
       "      <td>1.05</td>\n",
       "    </tr>\n",
       "    <tr>\n",
       "      <th>12</th>\n",
       "      <td>monthly_2g_8</td>\n",
       "      <td>1.05</td>\n",
       "    </tr>\n",
       "    <tr>\n",
       "      <th>5</th>\n",
       "      <td>og_others_7</td>\n",
       "      <td>1.04</td>\n",
       "    </tr>\n",
       "    <tr>\n",
       "      <th>9</th>\n",
       "      <td>std_ic_t2f_mou_8</td>\n",
       "      <td>1.02</td>\n",
       "    </tr>\n",
       "    <tr>\n",
       "      <th>10</th>\n",
       "      <td>ic_others_8</td>\n",
       "      <td>1.02</td>\n",
       "    </tr>\n",
       "    <tr>\n",
       "      <th>4</th>\n",
       "      <td>isd_og_mou_8</td>\n",
       "      <td>1.01</td>\n",
       "    </tr>\n",
       "  </tbody>\n",
       "</table>\n",
       "</div>"
      ],
      "text/plain": [
       "               Features   VIF\n",
       "1          offnet_mou_8  7.45\n",
       "3      std_og_t2m_mou_8  6.27\n",
       "0          offnet_mou_7  1.92\n",
       "8          loc_ic_mou_8  1.68\n",
       "7      loc_ic_t2f_mou_8  1.21\n",
       "11     total_rech_num_8  1.19\n",
       "2         roam_og_mou_8  1.16\n",
       "14  decrease_vbc_action  1.08\n",
       "13         monthly_3g_8  1.06\n",
       "6           og_others_8  1.05\n",
       "12         monthly_2g_8  1.05\n",
       "5           og_others_7  1.04\n",
       "9      std_ic_t2f_mou_8  1.02\n",
       "10          ic_others_8  1.02\n",
       "4          isd_og_mou_8  1.01"
      ]
     },
     "execution_count": 171,
     "metadata": {},
     "output_type": "execute_result"
    }
   ],
   "source": [
    "# Create a dataframe that will contain the names of all the feature variables and their respective VIFs\n",
    "vif = pd.DataFrame()\n",
    "vif['Features'] = X_train[rfe_cols].columns\n",
    "vif['VIF'] = [variance_inflation_factor(X_train[rfe_cols].values, i) for i in range(X_train[rfe_cols].shape[1])]\n",
    "vif['VIF'] = round(vif['VIF'], 2)\n",
    "vif = vif.sort_values(by = \"VIF\", ascending = False)\n",
    "vif"
   ]
  },
  {
   "cell_type": "markdown",
   "metadata": {
    "id": "yHlTXO7gndvl"
   },
   "source": [
    "##### Removing column og_others_8, which is insignificatnt as it has the highest p-value 1"
   ]
  },
  {
   "cell_type": "code",
   "execution_count": 172,
   "metadata": {
    "colab": {
     "base_uri": "https://localhost:8080/"
    },
    "id": "gmEDnIIgndvl",
    "outputId": "f41ad5bd-40fd-4a1f-8d48-3cc0dfd29db0"
   },
   "outputs": [
    {
     "name": "stdout",
     "output_type": "stream",
     "text": [
      "['offnet_mou_7', 'offnet_mou_8', 'roam_og_mou_8', 'std_og_t2m_mou_8', 'isd_og_mou_8', 'og_others_7', 'loc_ic_t2f_mou_8', 'loc_ic_mou_8', 'std_ic_t2f_mou_8', 'ic_others_8', 'total_rech_num_8', 'monthly_2g_8', 'monthly_3g_8', 'decrease_vbc_action']\n"
     ]
    }
   ],
   "source": [
    "# Removing monthly_2g_7 column \n",
    "log_cols = rfe_cols.to_list()\n",
    "log_cols.remove('og_others_8')\n",
    "print(log_cols)"
   ]
  },
  {
   "cell_type": "markdown",
   "metadata": {
    "id": "d7-PQ7candvm"
   },
   "source": [
    "### Model-2\n",
    "Building the model after removing og_others_8 variable."
   ]
  },
  {
   "cell_type": "code",
   "execution_count": 173,
   "metadata": {
    "colab": {
     "base_uri": "https://localhost:8080/",
     "height": 572
    },
    "id": "NUtDV1xpndvm",
    "outputId": "1c9f2bb8-789f-445e-a307-7a84116c9026"
   },
   "outputs": [
    {
     "data": {
      "text/html": [
       "<table class=\"simpletable\">\n",
       "<caption>Generalized Linear Model Regression Results</caption>\n",
       "<tr>\n",
       "  <th>Dep. Variable:</th>         <td>churn</td>      <th>  No. Observations:  </th>  <td> 42850</td> \n",
       "</tr>\n",
       "<tr>\n",
       "  <th>Model:</th>                  <td>GLM</td>       <th>  Df Residuals:      </th>  <td> 42835</td> \n",
       "</tr>\n",
       "<tr>\n",
       "  <th>Model Family:</th>        <td>Binomial</td>     <th>  Df Model:          </th>  <td>    14</td> \n",
       "</tr>\n",
       "<tr>\n",
       "  <th>Link Function:</th>         <td>Logit</td>      <th>  Scale:             </th> <td>  1.0000</td>\n",
       "</tr>\n",
       "<tr>\n",
       "  <th>Method:</th>                <td>IRLS</td>       <th>  Log-Likelihood:    </th> <td> -15034.</td>\n",
       "</tr>\n",
       "<tr>\n",
       "  <th>Date:</th>            <td>Sat, 30 Mar 2024</td> <th>  Deviance:          </th> <td>  30068.</td>\n",
       "</tr>\n",
       "<tr>\n",
       "  <th>Time:</th>                <td>11:15:52</td>     <th>  Pearson chi2:      </th> <td>4.51e+06</td>\n",
       "</tr>\n",
       "<tr>\n",
       "  <th>No. Iterations:</th>         <td>11</td>        <th>  Pseudo R-squ. (CS):</th>  <td>0.4957</td> \n",
       "</tr>\n",
       "<tr>\n",
       "  <th>Covariance Type:</th>     <td>nonrobust</td>    <th>                     </th>     <td> </td>   \n",
       "</tr>\n",
       "</table>\n",
       "<table class=\"simpletable\">\n",
       "<tr>\n",
       "           <td></td>              <th>coef</th>     <th>std err</th>      <th>z</th>      <th>P>|z|</th>  <th>[0.025</th>    <th>0.975]</th>  \n",
       "</tr>\n",
       "<tr>\n",
       "  <th>const</th>               <td>   -1.1052</td> <td>    0.031</td> <td>  -35.342</td> <td> 0.000</td> <td>   -1.167</td> <td>   -1.044</td>\n",
       "</tr>\n",
       "<tr>\n",
       "  <th>offnet_mou_7</th>        <td>    0.6081</td> <td>    0.026</td> <td>   23.427</td> <td> 0.000</td> <td>    0.557</td> <td>    0.659</td>\n",
       "</tr>\n",
       "<tr>\n",
       "  <th>offnet_mou_8</th>        <td>   -3.2557</td> <td>    0.106</td> <td>  -30.603</td> <td> 0.000</td> <td>   -3.464</td> <td>   -3.047</td>\n",
       "</tr>\n",
       "<tr>\n",
       "  <th>roam_og_mou_8</th>       <td>    1.2491</td> <td>    0.031</td> <td>   39.747</td> <td> 0.000</td> <td>    1.188</td> <td>    1.311</td>\n",
       "</tr>\n",
       "<tr>\n",
       "  <th>std_og_t2m_mou_8</th>    <td>    2.4428</td> <td>    0.093</td> <td>   26.146</td> <td> 0.000</td> <td>    2.260</td> <td>    2.626</td>\n",
       "</tr>\n",
       "<tr>\n",
       "  <th>isd_og_mou_8</th>        <td>   -1.0982</td> <td>    0.196</td> <td>   -5.590</td> <td> 0.000</td> <td>   -1.483</td> <td>   -0.713</td>\n",
       "</tr>\n",
       "<tr>\n",
       "  <th>og_others_7</th>         <td>   -1.8793</td> <td>    0.818</td> <td>   -2.299</td> <td> 0.022</td> <td>   -3.482</td> <td>   -0.277</td>\n",
       "</tr>\n",
       "<tr>\n",
       "  <th>loc_ic_t2f_mou_8</th>    <td>   -0.7548</td> <td>    0.072</td> <td>  -10.491</td> <td> 0.000</td> <td>   -0.896</td> <td>   -0.614</td>\n",
       "</tr>\n",
       "<tr>\n",
       "  <th>loc_ic_mou_8</th>        <td>   -1.9714</td> <td>    0.066</td> <td>  -30.058</td> <td> 0.000</td> <td>   -2.100</td> <td>   -1.843</td>\n",
       "</tr>\n",
       "<tr>\n",
       "  <th>std_ic_t2f_mou_8</th>    <td>   -0.8020</td> <td>    0.075</td> <td>  -10.727</td> <td> 0.000</td> <td>   -0.949</td> <td>   -0.655</td>\n",
       "</tr>\n",
       "<tr>\n",
       "  <th>ic_others_8</th>         <td>   -1.4871</td> <td>    0.132</td> <td>  -11.278</td> <td> 0.000</td> <td>   -1.746</td> <td>   -1.229</td>\n",
       "</tr>\n",
       "<tr>\n",
       "  <th>total_rech_num_8</th>    <td>   -0.4864</td> <td>    0.018</td> <td>  -27.146</td> <td> 0.000</td> <td>   -0.522</td> <td>   -0.451</td>\n",
       "</tr>\n",
       "<tr>\n",
       "  <th>monthly_2g_8</th>        <td>   -0.9066</td> <td>    0.043</td> <td>  -20.866</td> <td> 0.000</td> <td>   -0.992</td> <td>   -0.821</td>\n",
       "</tr>\n",
       "<tr>\n",
       "  <th>monthly_3g_8</th>        <td>   -0.9862</td> <td>    0.043</td> <td>  -22.700</td> <td> 0.000</td> <td>   -1.071</td> <td>   -0.901</td>\n",
       "</tr>\n",
       "<tr>\n",
       "  <th>decrease_vbc_action</th> <td>   -1.3097</td> <td>    0.073</td> <td>  -17.994</td> <td> 0.000</td> <td>   -1.452</td> <td>   -1.167</td>\n",
       "</tr>\n",
       "</table>"
      ],
      "text/plain": [
       "<class 'statsmodels.iolib.summary.Summary'>\n",
       "\"\"\"\n",
       "                 Generalized Linear Model Regression Results                  \n",
       "==============================================================================\n",
       "Dep. Variable:                  churn   No. Observations:                42850\n",
       "Model:                            GLM   Df Residuals:                    42835\n",
       "Model Family:                Binomial   Df Model:                           14\n",
       "Link Function:                  Logit   Scale:                          1.0000\n",
       "Method:                          IRLS   Log-Likelihood:                -15034.\n",
       "Date:                Sat, 30 Mar 2024   Deviance:                       30068.\n",
       "Time:                        11:15:52   Pearson chi2:                 4.51e+06\n",
       "No. Iterations:                    11   Pseudo R-squ. (CS):             0.4957\n",
       "Covariance Type:            nonrobust                                         \n",
       "=======================================================================================\n",
       "                          coef    std err          z      P>|z|      [0.025      0.975]\n",
       "---------------------------------------------------------------------------------------\n",
       "const                  -1.1052      0.031    -35.342      0.000      -1.167      -1.044\n",
       "offnet_mou_7            0.6081      0.026     23.427      0.000       0.557       0.659\n",
       "offnet_mou_8           -3.2557      0.106    -30.603      0.000      -3.464      -3.047\n",
       "roam_og_mou_8           1.2491      0.031     39.747      0.000       1.188       1.311\n",
       "std_og_t2m_mou_8        2.4428      0.093     26.146      0.000       2.260       2.626\n",
       "isd_og_mou_8           -1.0982      0.196     -5.590      0.000      -1.483      -0.713\n",
       "og_others_7            -1.8793      0.818     -2.299      0.022      -3.482      -0.277\n",
       "loc_ic_t2f_mou_8       -0.7548      0.072    -10.491      0.000      -0.896      -0.614\n",
       "loc_ic_mou_8           -1.9714      0.066    -30.058      0.000      -2.100      -1.843\n",
       "std_ic_t2f_mou_8       -0.8020      0.075    -10.727      0.000      -0.949      -0.655\n",
       "ic_others_8            -1.4871      0.132    -11.278      0.000      -1.746      -1.229\n",
       "total_rech_num_8       -0.4864      0.018    -27.146      0.000      -0.522      -0.451\n",
       "monthly_2g_8           -0.9066      0.043    -20.866      0.000      -0.992      -0.821\n",
       "monthly_3g_8           -0.9862      0.043    -22.700      0.000      -1.071      -0.901\n",
       "decrease_vbc_action    -1.3097      0.073    -17.994      0.000      -1.452      -1.167\n",
       "=======================================================================================\n",
       "\"\"\""
      ]
     },
     "execution_count": 173,
     "metadata": {},
     "output_type": "execute_result"
    }
   ],
   "source": [
    "# Adding constant to X_train\n",
    "X_train_sm_2 = sm.add_constant(X_train[log_cols])\n",
    "\n",
    "#Instantiate the model\n",
    "log_no_pca_2 = sm.GLM(y_train, X_train_sm_2, family=sm.families.Binomial())\n",
    "\n",
    "# Fit the model\n",
    "log_no_pca_2 = log_no_pca_2.fit()\n",
    "\n",
    "log_no_pca_2.summary()"
   ]
  },
  {
   "cell_type": "markdown",
   "metadata": {
    "id": "ZTjxvBIHndvm"
   },
   "source": [
    "#### Checking VIF for Model-2"
   ]
  },
  {
   "cell_type": "code",
   "execution_count": 174,
   "metadata": {
    "colab": {
     "base_uri": "https://localhost:8080/",
     "height": 488
    },
    "id": "V2YMlGucndvm",
    "outputId": "7de8ef58-38f7-4312-a031-6432fa98b999"
   },
   "outputs": [
    {
     "data": {
      "text/html": [
       "<div>\n",
       "<style scoped>\n",
       "    .dataframe tbody tr th:only-of-type {\n",
       "        vertical-align: middle;\n",
       "    }\n",
       "\n",
       "    .dataframe tbody tr th {\n",
       "        vertical-align: top;\n",
       "    }\n",
       "\n",
       "    .dataframe thead th {\n",
       "        text-align: right;\n",
       "    }\n",
       "</style>\n",
       "<table border=\"1\" class=\"dataframe\">\n",
       "  <thead>\n",
       "    <tr style=\"text-align: right;\">\n",
       "      <th></th>\n",
       "      <th>Features</th>\n",
       "      <th>VIF</th>\n",
       "    </tr>\n",
       "  </thead>\n",
       "  <tbody>\n",
       "    <tr>\n",
       "      <th>1</th>\n",
       "      <td>offnet_mou_8</td>\n",
       "      <td>7.45</td>\n",
       "    </tr>\n",
       "    <tr>\n",
       "      <th>3</th>\n",
       "      <td>std_og_t2m_mou_8</td>\n",
       "      <td>6.27</td>\n",
       "    </tr>\n",
       "    <tr>\n",
       "      <th>0</th>\n",
       "      <td>offnet_mou_7</td>\n",
       "      <td>1.92</td>\n",
       "    </tr>\n",
       "    <tr>\n",
       "      <th>7</th>\n",
       "      <td>loc_ic_mou_8</td>\n",
       "      <td>1.68</td>\n",
       "    </tr>\n",
       "    <tr>\n",
       "      <th>6</th>\n",
       "      <td>loc_ic_t2f_mou_8</td>\n",
       "      <td>1.21</td>\n",
       "    </tr>\n",
       "    <tr>\n",
       "      <th>10</th>\n",
       "      <td>total_rech_num_8</td>\n",
       "      <td>1.19</td>\n",
       "    </tr>\n",
       "    <tr>\n",
       "      <th>2</th>\n",
       "      <td>roam_og_mou_8</td>\n",
       "      <td>1.16</td>\n",
       "    </tr>\n",
       "    <tr>\n",
       "      <th>13</th>\n",
       "      <td>decrease_vbc_action</td>\n",
       "      <td>1.08</td>\n",
       "    </tr>\n",
       "    <tr>\n",
       "      <th>12</th>\n",
       "      <td>monthly_3g_8</td>\n",
       "      <td>1.06</td>\n",
       "    </tr>\n",
       "    <tr>\n",
       "      <th>11</th>\n",
       "      <td>monthly_2g_8</td>\n",
       "      <td>1.05</td>\n",
       "    </tr>\n",
       "    <tr>\n",
       "      <th>8</th>\n",
       "      <td>std_ic_t2f_mou_8</td>\n",
       "      <td>1.02</td>\n",
       "    </tr>\n",
       "    <tr>\n",
       "      <th>4</th>\n",
       "      <td>isd_og_mou_8</td>\n",
       "      <td>1.01</td>\n",
       "    </tr>\n",
       "    <tr>\n",
       "      <th>9</th>\n",
       "      <td>ic_others_8</td>\n",
       "      <td>1.01</td>\n",
       "    </tr>\n",
       "    <tr>\n",
       "      <th>5</th>\n",
       "      <td>og_others_7</td>\n",
       "      <td>1.00</td>\n",
       "    </tr>\n",
       "  </tbody>\n",
       "</table>\n",
       "</div>"
      ],
      "text/plain": [
       "               Features   VIF\n",
       "1          offnet_mou_8  7.45\n",
       "3      std_og_t2m_mou_8  6.27\n",
       "0          offnet_mou_7  1.92\n",
       "7          loc_ic_mou_8  1.68\n",
       "6      loc_ic_t2f_mou_8  1.21\n",
       "10     total_rech_num_8  1.19\n",
       "2         roam_og_mou_8  1.16\n",
       "13  decrease_vbc_action  1.08\n",
       "12         monthly_3g_8  1.06\n",
       "11         monthly_2g_8  1.05\n",
       "8      std_ic_t2f_mou_8  1.02\n",
       "4          isd_og_mou_8  1.01\n",
       "9           ic_others_8  1.01\n",
       "5           og_others_7  1.00"
      ]
     },
     "execution_count": 174,
     "metadata": {},
     "output_type": "execute_result"
    }
   ],
   "source": [
    "# Create a dataframe that will contain the names of all the feature variables and their respective VIFs\n",
    "vif = pd.DataFrame()\n",
    "vif['Features'] = X_train[log_cols].columns\n",
    "vif['VIF'] = [variance_inflation_factor(X_train[log_cols].values, i) for i in range(X_train[log_cols].shape[1])]\n",
    "vif['VIF'] = round(vif['VIF'], 2)\n",
    "vif = vif.sort_values(by = \"VIF\", ascending = False)\n",
    "vif"
   ]
  },
  {
   "cell_type": "markdown",
   "metadata": {
    "id": "B8A743mcndvm"
   },
   "source": [
    "### Model-3\n"
   ]
  },
  {
   "cell_type": "code",
   "execution_count": 175,
   "metadata": {
    "colab": {
     "base_uri": "https://localhost:8080/",
     "height": 551
    },
    "id": "nmq9AoJ1ndvn",
    "outputId": "9ce77cb6-3391-4157-8895-efe8114ef721"
   },
   "outputs": [
    {
     "data": {
      "text/html": [
       "<table class=\"simpletable\">\n",
       "<caption>Generalized Linear Model Regression Results</caption>\n",
       "<tr>\n",
       "  <th>Dep. Variable:</th>         <td>churn</td>      <th>  No. Observations:  </th>  <td> 42850</td> \n",
       "</tr>\n",
       "<tr>\n",
       "  <th>Model:</th>                  <td>GLM</td>       <th>  Df Residuals:      </th>  <td> 42835</td> \n",
       "</tr>\n",
       "<tr>\n",
       "  <th>Model Family:</th>        <td>Binomial</td>     <th>  Df Model:          </th>  <td>    14</td> \n",
       "</tr>\n",
       "<tr>\n",
       "  <th>Link Function:</th>         <td>Logit</td>      <th>  Scale:             </th> <td>  1.0000</td>\n",
       "</tr>\n",
       "<tr>\n",
       "  <th>Method:</th>                <td>IRLS</td>       <th>  Log-Likelihood:    </th> <td> -15034.</td>\n",
       "</tr>\n",
       "<tr>\n",
       "  <th>Date:</th>            <td>Sat, 30 Mar 2024</td> <th>  Deviance:          </th> <td>  30068.</td>\n",
       "</tr>\n",
       "<tr>\n",
       "  <th>Time:</th>                <td>11:15:52</td>     <th>  Pearson chi2:      </th> <td>4.51e+06</td>\n",
       "</tr>\n",
       "<tr>\n",
       "  <th>No. Iterations:</th>         <td>11</td>        <th>  Pseudo R-squ. (CS):</th>  <td>0.4957</td> \n",
       "</tr>\n",
       "<tr>\n",
       "  <th>Covariance Type:</th>     <td>nonrobust</td>    <th>                     </th>     <td> </td>   \n",
       "</tr>\n",
       "</table>\n",
       "<table class=\"simpletable\">\n",
       "<tr>\n",
       "           <td></td>              <th>coef</th>     <th>std err</th>      <th>z</th>      <th>P>|z|</th>  <th>[0.025</th>    <th>0.975]</th>  \n",
       "</tr>\n",
       "<tr>\n",
       "  <th>const</th>               <td>   -1.1052</td> <td>    0.031</td> <td>  -35.342</td> <td> 0.000</td> <td>   -1.167</td> <td>   -1.044</td>\n",
       "</tr>\n",
       "<tr>\n",
       "  <th>offnet_mou_7</th>        <td>    0.6081</td> <td>    0.026</td> <td>   23.427</td> <td> 0.000</td> <td>    0.557</td> <td>    0.659</td>\n",
       "</tr>\n",
       "<tr>\n",
       "  <th>offnet_mou_8</th>        <td>   -3.2557</td> <td>    0.106</td> <td>  -30.603</td> <td> 0.000</td> <td>   -3.464</td> <td>   -3.047</td>\n",
       "</tr>\n",
       "<tr>\n",
       "  <th>roam_og_mou_8</th>       <td>    1.2491</td> <td>    0.031</td> <td>   39.747</td> <td> 0.000</td> <td>    1.188</td> <td>    1.311</td>\n",
       "</tr>\n",
       "<tr>\n",
       "  <th>std_og_t2m_mou_8</th>    <td>    2.4428</td> <td>    0.093</td> <td>   26.146</td> <td> 0.000</td> <td>    2.260</td> <td>    2.626</td>\n",
       "</tr>\n",
       "<tr>\n",
       "  <th>isd_og_mou_8</th>        <td>   -1.0982</td> <td>    0.196</td> <td>   -5.590</td> <td> 0.000</td> <td>   -1.483</td> <td>   -0.713</td>\n",
       "</tr>\n",
       "<tr>\n",
       "  <th>og_others_7</th>         <td>   -1.8793</td> <td>    0.818</td> <td>   -2.299</td> <td> 0.022</td> <td>   -3.482</td> <td>   -0.277</td>\n",
       "</tr>\n",
       "<tr>\n",
       "  <th>loc_ic_t2f_mou_8</th>    <td>   -0.7548</td> <td>    0.072</td> <td>  -10.491</td> <td> 0.000</td> <td>   -0.896</td> <td>   -0.614</td>\n",
       "</tr>\n",
       "<tr>\n",
       "  <th>loc_ic_mou_8</th>        <td>   -1.9714</td> <td>    0.066</td> <td>  -30.058</td> <td> 0.000</td> <td>   -2.100</td> <td>   -1.843</td>\n",
       "</tr>\n",
       "<tr>\n",
       "  <th>std_ic_t2f_mou_8</th>    <td>   -0.8020</td> <td>    0.075</td> <td>  -10.727</td> <td> 0.000</td> <td>   -0.949</td> <td>   -0.655</td>\n",
       "</tr>\n",
       "<tr>\n",
       "  <th>ic_others_8</th>         <td>   -1.4871</td> <td>    0.132</td> <td>  -11.278</td> <td> 0.000</td> <td>   -1.746</td> <td>   -1.229</td>\n",
       "</tr>\n",
       "<tr>\n",
       "  <th>total_rech_num_8</th>    <td>   -0.4864</td> <td>    0.018</td> <td>  -27.146</td> <td> 0.000</td> <td>   -0.522</td> <td>   -0.451</td>\n",
       "</tr>\n",
       "<tr>\n",
       "  <th>monthly_2g_8</th>        <td>   -0.9066</td> <td>    0.043</td> <td>  -20.866</td> <td> 0.000</td> <td>   -0.992</td> <td>   -0.821</td>\n",
       "</tr>\n",
       "<tr>\n",
       "  <th>monthly_3g_8</th>        <td>   -0.9862</td> <td>    0.043</td> <td>  -22.700</td> <td> 0.000</td> <td>   -1.071</td> <td>   -0.901</td>\n",
       "</tr>\n",
       "<tr>\n",
       "  <th>decrease_vbc_action</th> <td>   -1.3097</td> <td>    0.073</td> <td>  -17.994</td> <td> 0.000</td> <td>   -1.452</td> <td>   -1.167</td>\n",
       "</tr>\n",
       "</table>"
      ],
      "text/plain": [
       "<class 'statsmodels.iolib.summary.Summary'>\n",
       "\"\"\"\n",
       "                 Generalized Linear Model Regression Results                  \n",
       "==============================================================================\n",
       "Dep. Variable:                  churn   No. Observations:                42850\n",
       "Model:                            GLM   Df Residuals:                    42835\n",
       "Model Family:                Binomial   Df Model:                           14\n",
       "Link Function:                  Logit   Scale:                          1.0000\n",
       "Method:                          IRLS   Log-Likelihood:                -15034.\n",
       "Date:                Sat, 30 Mar 2024   Deviance:                       30068.\n",
       "Time:                        11:15:52   Pearson chi2:                 4.51e+06\n",
       "No. Iterations:                    11   Pseudo R-squ. (CS):             0.4957\n",
       "Covariance Type:            nonrobust                                         \n",
       "=======================================================================================\n",
       "                          coef    std err          z      P>|z|      [0.025      0.975]\n",
       "---------------------------------------------------------------------------------------\n",
       "const                  -1.1052      0.031    -35.342      0.000      -1.167      -1.044\n",
       "offnet_mou_7            0.6081      0.026     23.427      0.000       0.557       0.659\n",
       "offnet_mou_8           -3.2557      0.106    -30.603      0.000      -3.464      -3.047\n",
       "roam_og_mou_8           1.2491      0.031     39.747      0.000       1.188       1.311\n",
       "std_og_t2m_mou_8        2.4428      0.093     26.146      0.000       2.260       2.626\n",
       "isd_og_mou_8           -1.0982      0.196     -5.590      0.000      -1.483      -0.713\n",
       "og_others_7            -1.8793      0.818     -2.299      0.022      -3.482      -0.277\n",
       "loc_ic_t2f_mou_8       -0.7548      0.072    -10.491      0.000      -0.896      -0.614\n",
       "loc_ic_mou_8           -1.9714      0.066    -30.058      0.000      -2.100      -1.843\n",
       "std_ic_t2f_mou_8       -0.8020      0.075    -10.727      0.000      -0.949      -0.655\n",
       "ic_others_8            -1.4871      0.132    -11.278      0.000      -1.746      -1.229\n",
       "total_rech_num_8       -0.4864      0.018    -27.146      0.000      -0.522      -0.451\n",
       "monthly_2g_8           -0.9066      0.043    -20.866      0.000      -0.992      -0.821\n",
       "monthly_3g_8           -0.9862      0.043    -22.700      0.000      -1.071      -0.901\n",
       "decrease_vbc_action    -1.3097      0.073    -17.994      0.000      -1.452      -1.167\n",
       "=======================================================================================\n",
       "\"\"\""
      ]
     },
     "execution_count": 175,
     "metadata": {},
     "output_type": "execute_result"
    }
   ],
   "source": [
    "# Adding constant to X_train\n",
    "X_train_sm_3 = sm.add_constant(X_train[log_cols])\n",
    "\n",
    "#Instantiate the model\n",
    "log_no_pca_3 = sm.GLM(y_train, X_train_sm_3, family=sm.families.Binomial())\n",
    "\n",
    "# Fit the model\n",
    "log_no_pca_3 = log_no_pca_3.fit()\n",
    "\n",
    "log_no_pca_3.summary()"
   ]
  },
  {
   "cell_type": "markdown",
   "metadata": {
    "id": "IhUoWqS3ndvn"
   },
   "source": [
    "#### VIF Model-3"
   ]
  },
  {
   "cell_type": "code",
   "execution_count": 176,
   "metadata": {
    "colab": {
     "base_uri": "https://localhost:8080/",
     "height": 457
    },
    "id": "6fWoA7OMndvn",
    "outputId": "aee89b5d-114d-4061-983c-3039eb588a71"
   },
   "outputs": [
    {
     "data": {
      "text/html": [
       "<div>\n",
       "<style scoped>\n",
       "    .dataframe tbody tr th:only-of-type {\n",
       "        vertical-align: middle;\n",
       "    }\n",
       "\n",
       "    .dataframe tbody tr th {\n",
       "        vertical-align: top;\n",
       "    }\n",
       "\n",
       "    .dataframe thead th {\n",
       "        text-align: right;\n",
       "    }\n",
       "</style>\n",
       "<table border=\"1\" class=\"dataframe\">\n",
       "  <thead>\n",
       "    <tr style=\"text-align: right;\">\n",
       "      <th></th>\n",
       "      <th>Features</th>\n",
       "      <th>VIF</th>\n",
       "    </tr>\n",
       "  </thead>\n",
       "  <tbody>\n",
       "    <tr>\n",
       "      <th>1</th>\n",
       "      <td>offnet_mou_8</td>\n",
       "      <td>7.45</td>\n",
       "    </tr>\n",
       "    <tr>\n",
       "      <th>3</th>\n",
       "      <td>std_og_t2m_mou_8</td>\n",
       "      <td>6.27</td>\n",
       "    </tr>\n",
       "    <tr>\n",
       "      <th>0</th>\n",
       "      <td>offnet_mou_7</td>\n",
       "      <td>1.92</td>\n",
       "    </tr>\n",
       "    <tr>\n",
       "      <th>7</th>\n",
       "      <td>loc_ic_mou_8</td>\n",
       "      <td>1.68</td>\n",
       "    </tr>\n",
       "    <tr>\n",
       "      <th>6</th>\n",
       "      <td>loc_ic_t2f_mou_8</td>\n",
       "      <td>1.21</td>\n",
       "    </tr>\n",
       "    <tr>\n",
       "      <th>10</th>\n",
       "      <td>total_rech_num_8</td>\n",
       "      <td>1.19</td>\n",
       "    </tr>\n",
       "    <tr>\n",
       "      <th>2</th>\n",
       "      <td>roam_og_mou_8</td>\n",
       "      <td>1.16</td>\n",
       "    </tr>\n",
       "    <tr>\n",
       "      <th>13</th>\n",
       "      <td>decrease_vbc_action</td>\n",
       "      <td>1.08</td>\n",
       "    </tr>\n",
       "    <tr>\n",
       "      <th>12</th>\n",
       "      <td>monthly_3g_8</td>\n",
       "      <td>1.06</td>\n",
       "    </tr>\n",
       "    <tr>\n",
       "      <th>11</th>\n",
       "      <td>monthly_2g_8</td>\n",
       "      <td>1.05</td>\n",
       "    </tr>\n",
       "    <tr>\n",
       "      <th>8</th>\n",
       "      <td>std_ic_t2f_mou_8</td>\n",
       "      <td>1.02</td>\n",
       "    </tr>\n",
       "    <tr>\n",
       "      <th>4</th>\n",
       "      <td>isd_og_mou_8</td>\n",
       "      <td>1.01</td>\n",
       "    </tr>\n",
       "    <tr>\n",
       "      <th>9</th>\n",
       "      <td>ic_others_8</td>\n",
       "      <td>1.01</td>\n",
       "    </tr>\n",
       "    <tr>\n",
       "      <th>5</th>\n",
       "      <td>og_others_7</td>\n",
       "      <td>1.00</td>\n",
       "    </tr>\n",
       "  </tbody>\n",
       "</table>\n",
       "</div>"
      ],
      "text/plain": [
       "               Features   VIF\n",
       "1          offnet_mou_8  7.45\n",
       "3      std_og_t2m_mou_8  6.27\n",
       "0          offnet_mou_7  1.92\n",
       "7          loc_ic_mou_8  1.68\n",
       "6      loc_ic_t2f_mou_8  1.21\n",
       "10     total_rech_num_8  1.19\n",
       "2         roam_og_mou_8  1.16\n",
       "13  decrease_vbc_action  1.08\n",
       "12         monthly_3g_8  1.06\n",
       "11         monthly_2g_8  1.05\n",
       "8      std_ic_t2f_mou_8  1.02\n",
       "4          isd_og_mou_8  1.01\n",
       "9           ic_others_8  1.01\n",
       "5           og_others_7  1.00"
      ]
     },
     "execution_count": 176,
     "metadata": {},
     "output_type": "execute_result"
    }
   ],
   "source": [
    "vif = pd.DataFrame()\n",
    "vif['Features'] = X_train[log_cols].columns\n",
    "vif['VIF'] = [variance_inflation_factor(X_train[log_cols].values, i) for i in range(X_train[log_cols].shape[1])]\n",
    "vif['VIF'] = round(vif['VIF'], 2)\n",
    "vif = vif.sort_values(by = \"VIF\", ascending = False)\n",
    "vif"
   ]
  },
  {
   "cell_type": "markdown",
   "metadata": {
    "id": "G_QTqJkfjajN"
   },
   "source": [
    "From the model summary and the VIF list we can see that all the variables are significant and there is no multicollinearity among the variables.\n",
    "\n",
    "Hence, we can conclused that *Model-3 log_no_pca_3 will be the final model*."
   ]
  },
  {
   "cell_type": "markdown",
   "metadata": {
    "id": "jCxIBL8indvn"
   },
   "source": [
    "###  Model performance on the train set"
   ]
  },
  {
   "cell_type": "code",
   "execution_count": 177,
   "metadata": {
    "colab": {
     "base_uri": "https://localhost:8080/"
    },
    "id": "E3XERu_Pem_k",
    "outputId": "14e8f6b3-2e73-4b5e-c53e-22b4664870f7"
   },
   "outputs": [
    {
     "data": {
      "text/plain": [
       "0    2.320477e-01\n",
       "1    8.349416e-02\n",
       "2    4.156383e-02\n",
       "3    5.923915e-03\n",
       "4    2.416355e-19\n",
       "dtype: float64"
      ]
     },
     "execution_count": 177,
     "metadata": {},
     "output_type": "execute_result"
    }
   ],
   "source": [
    "# Getting the predicted value on the train set\n",
    "y_train_pred_no_pca = log_no_pca_3.predict(X_train_sm_3)\n",
    "y_train_pred_no_pca.head()"
   ]
  },
  {
   "cell_type": "markdown",
   "metadata": {
    "id": "7qyFCjHrndvn"
   },
   "source": [
    "##### Creating a dataframe with the actual churn and the predicted probabilities"
   ]
  },
  {
   "cell_type": "code",
   "execution_count": 178,
   "metadata": {
    "colab": {
     "base_uri": "https://localhost:8080/",
     "height": 206
    },
    "id": "K0hvP2bnndvn",
    "outputId": "5f6d37a0-1fee-4df5-dd1c-99279b4d2b2c"
   },
   "outputs": [
    {
     "data": {
      "text/html": [
       "<div>\n",
       "<style scoped>\n",
       "    .dataframe tbody tr th:only-of-type {\n",
       "        vertical-align: middle;\n",
       "    }\n",
       "\n",
       "    .dataframe tbody tr th {\n",
       "        vertical-align: top;\n",
       "    }\n",
       "\n",
       "    .dataframe thead th {\n",
       "        text-align: right;\n",
       "    }\n",
       "</style>\n",
       "<table border=\"1\" class=\"dataframe\">\n",
       "  <thead>\n",
       "    <tr style=\"text-align: right;\">\n",
       "      <th></th>\n",
       "      <th>churn</th>\n",
       "      <th>churn_prob</th>\n",
       "      <th>CustID</th>\n",
       "    </tr>\n",
       "  </thead>\n",
       "  <tbody>\n",
       "    <tr>\n",
       "      <th>0</th>\n",
       "      <td>0</td>\n",
       "      <td>2.320477e-01</td>\n",
       "      <td>0</td>\n",
       "    </tr>\n",
       "    <tr>\n",
       "      <th>1</th>\n",
       "      <td>0</td>\n",
       "      <td>8.349416e-02</td>\n",
       "      <td>1</td>\n",
       "    </tr>\n",
       "    <tr>\n",
       "      <th>2</th>\n",
       "      <td>0</td>\n",
       "      <td>4.156383e-02</td>\n",
       "      <td>2</td>\n",
       "    </tr>\n",
       "    <tr>\n",
       "      <th>3</th>\n",
       "      <td>0</td>\n",
       "      <td>5.923915e-03</td>\n",
       "      <td>3</td>\n",
       "    </tr>\n",
       "    <tr>\n",
       "      <th>4</th>\n",
       "      <td>0</td>\n",
       "      <td>2.416355e-19</td>\n",
       "      <td>4</td>\n",
       "    </tr>\n",
       "  </tbody>\n",
       "</table>\n",
       "</div>"
      ],
      "text/plain": [
       "   churn    churn_prob  CustID\n",
       "0      0  2.320477e-01       0\n",
       "1      0  8.349416e-02       1\n",
       "2      0  4.156383e-02       2\n",
       "3      0  5.923915e-03       3\n",
       "4      0  2.416355e-19       4"
      ]
     },
     "execution_count": 178,
     "metadata": {},
     "output_type": "execute_result"
    }
   ],
   "source": [
    "y_train_pred_final = pd.DataFrame({'churn':y_train.values, 'churn_prob':y_train_pred_no_pca.values})\n",
    "\n",
    "#Assigning Customer ID for each record for better readblity\n",
    "#CustID is the index of each record.\n",
    "y_train_pred_final['CustID'] = y_train_pred_final.index\n",
    "\n",
    "y_train_pred_final.head()"
   ]
  },
  {
   "cell_type": "markdown",
   "metadata": {
    "id": "Q9UuWAuMndvn"
   },
   "source": [
    "##### Finding Optimal Probability Cutoff Point"
   ]
  },
  {
   "cell_type": "code",
   "execution_count": 179,
   "metadata": {
    "colab": {
     "base_uri": "https://localhost:8080/",
     "height": 206
    },
    "id": "RT-VvvHjndvo",
    "outputId": "7652a597-61d9-47f9-923e-30005c765664",
    "scrolled": true
   },
   "outputs": [
    {
     "data": {
      "text/html": [
       "<div>\n",
       "<style scoped>\n",
       "    .dataframe tbody tr th:only-of-type {\n",
       "        vertical-align: middle;\n",
       "    }\n",
       "\n",
       "    .dataframe tbody tr th {\n",
       "        vertical-align: top;\n",
       "    }\n",
       "\n",
       "    .dataframe thead th {\n",
       "        text-align: right;\n",
       "    }\n",
       "</style>\n",
       "<table border=\"1\" class=\"dataframe\">\n",
       "  <thead>\n",
       "    <tr style=\"text-align: right;\">\n",
       "      <th></th>\n",
       "      <th>churn</th>\n",
       "      <th>churn_prob</th>\n",
       "      <th>CustID</th>\n",
       "      <th>0.0</th>\n",
       "      <th>0.1</th>\n",
       "      <th>0.2</th>\n",
       "      <th>0.3</th>\n",
       "      <th>0.4</th>\n",
       "      <th>0.5</th>\n",
       "      <th>0.6</th>\n",
       "      <th>0.7</th>\n",
       "      <th>0.8</th>\n",
       "      <th>0.9</th>\n",
       "    </tr>\n",
       "  </thead>\n",
       "  <tbody>\n",
       "    <tr>\n",
       "      <th>0</th>\n",
       "      <td>0</td>\n",
       "      <td>2.320477e-01</td>\n",
       "      <td>0</td>\n",
       "      <td>1</td>\n",
       "      <td>1</td>\n",
       "      <td>1</td>\n",
       "      <td>0</td>\n",
       "      <td>0</td>\n",
       "      <td>0</td>\n",
       "      <td>0</td>\n",
       "      <td>0</td>\n",
       "      <td>0</td>\n",
       "      <td>0</td>\n",
       "    </tr>\n",
       "    <tr>\n",
       "      <th>1</th>\n",
       "      <td>0</td>\n",
       "      <td>8.349416e-02</td>\n",
       "      <td>1</td>\n",
       "      <td>1</td>\n",
       "      <td>0</td>\n",
       "      <td>0</td>\n",
       "      <td>0</td>\n",
       "      <td>0</td>\n",
       "      <td>0</td>\n",
       "      <td>0</td>\n",
       "      <td>0</td>\n",
       "      <td>0</td>\n",
       "      <td>0</td>\n",
       "    </tr>\n",
       "    <tr>\n",
       "      <th>2</th>\n",
       "      <td>0</td>\n",
       "      <td>4.156383e-02</td>\n",
       "      <td>2</td>\n",
       "      <td>1</td>\n",
       "      <td>0</td>\n",
       "      <td>0</td>\n",
       "      <td>0</td>\n",
       "      <td>0</td>\n",
       "      <td>0</td>\n",
       "      <td>0</td>\n",
       "      <td>0</td>\n",
       "      <td>0</td>\n",
       "      <td>0</td>\n",
       "    </tr>\n",
       "    <tr>\n",
       "      <th>3</th>\n",
       "      <td>0</td>\n",
       "      <td>5.923915e-03</td>\n",
       "      <td>3</td>\n",
       "      <td>1</td>\n",
       "      <td>0</td>\n",
       "      <td>0</td>\n",
       "      <td>0</td>\n",
       "      <td>0</td>\n",
       "      <td>0</td>\n",
       "      <td>0</td>\n",
       "      <td>0</td>\n",
       "      <td>0</td>\n",
       "      <td>0</td>\n",
       "    </tr>\n",
       "    <tr>\n",
       "      <th>4</th>\n",
       "      <td>0</td>\n",
       "      <td>2.416355e-19</td>\n",
       "      <td>4</td>\n",
       "      <td>1</td>\n",
       "      <td>0</td>\n",
       "      <td>0</td>\n",
       "      <td>0</td>\n",
       "      <td>0</td>\n",
       "      <td>0</td>\n",
       "      <td>0</td>\n",
       "      <td>0</td>\n",
       "      <td>0</td>\n",
       "      <td>0</td>\n",
       "    </tr>\n",
       "  </tbody>\n",
       "</table>\n",
       "</div>"
      ],
      "text/plain": [
       "   churn    churn_prob  CustID  0.0  0.1  0.2  0.3  0.4  0.5  0.6  0.7  0.8  \\\n",
       "0      0  2.320477e-01       0    1    1    1    0    0    0    0    0    0   \n",
       "1      0  8.349416e-02       1    1    0    0    0    0    0    0    0    0   \n",
       "2      0  4.156383e-02       2    1    0    0    0    0    0    0    0    0   \n",
       "3      0  5.923915e-03       3    1    0    0    0    0    0    0    0    0   \n",
       "4      0  2.416355e-19       4    1    0    0    0    0    0    0    0    0   \n",
       "\n",
       "   0.9  \n",
       "0    0  \n",
       "1    0  \n",
       "2    0  \n",
       "3    0  \n",
       "4    0  "
      ]
     },
     "execution_count": 179,
     "metadata": {},
     "output_type": "execute_result"
    }
   ],
   "source": [
    "# Creating columns for different probablity cutoffs\n",
    "prob_cutoff = [float(p/10) for p in range(10)]\n",
    "\n",
    "for i in prob_cutoff:\n",
    "    y_train_pred_final[i] = y_train_pred_final['churn_prob'].map(lambda x : 1 if x > i else 0)\n",
    "    \n",
    "y_train_pred_final.head()"
   ]
  },
  {
   "cell_type": "markdown",
   "metadata": {
    "id": "W_HpNL_mndvo"
   },
   "source": [
    "##### Now let's calculate the accuracy sensitivity and specificity for various probability cutoffs."
   ]
  },
  {
   "cell_type": "code",
   "execution_count": 180,
   "metadata": {
    "colab": {
     "base_uri": "https://localhost:8080/"
    },
    "id": "pmtUSZElndvo",
    "outputId": "2756869e-e6ec-4848-b0c1-39239691c638"
   },
   "outputs": [
    {
     "name": "stdout",
     "output_type": "stream",
     "text": [
      "     probability  accuracy  sensitivity  specificity\n",
      "0.0          0.0  0.500000     1.000000     0.000000\n",
      "0.1          0.1  0.767095     0.985251     0.548938\n",
      "0.2          0.2  0.801704     0.967841     0.635566\n",
      "0.3          0.3  0.824924     0.949125     0.700723\n",
      "0.4          0.4  0.841937     0.929335     0.754539\n",
      "0.5          0.5  0.851739     0.898156     0.805321\n",
      "0.6          0.6  0.851505     0.847981     0.855029\n",
      "0.7          0.7  0.843057     0.780957     0.905158\n",
      "0.8          0.8  0.809918     0.671832     0.948005\n",
      "0.9          0.9  0.623291     0.266418     0.980163\n"
     ]
    }
   ],
   "source": [
    "# Creating a dataframe\n",
    "cutoff_df = pd.DataFrame(columns=['probability', 'accuracy', 'sensitivity', 'specificity'])\n",
    "\n",
    "for i in prob_cutoff:\n",
    "    cm1 = metrics.confusion_matrix(y_train_pred_final['churn'], y_train_pred_final[i] )\n",
    "    total1=sum(sum(cm1))\n",
    "    accuracy = (cm1[0,0]+cm1[1,1])/total1\n",
    "    \n",
    "    speci = cm1[0,0]/(cm1[0,0]+cm1[0,1])\n",
    "    sensi = cm1[1,1]/(cm1[1,0]+cm1[1,1])\n",
    "    cutoff_df.loc[i] =[ i ,accuracy,sensi,speci]\n",
    "print(cutoff_df)\n",
    "    "
   ]
  },
  {
   "cell_type": "code",
   "execution_count": 181,
   "metadata": {
    "colab": {
     "base_uri": "https://localhost:8080/",
     "height": 449
    },
    "id": "Ze1FnjEjndvo",
    "outputId": "eea9219c-70ac-4529-c3ad-4f661e093a0c"
   },
   "outputs": [
    {
     "data": {
      "image/png": "[encoded data removed]",
      "text/plain": [
       "<Figure size 432x288 with 1 Axes>"
      ]
     },
     "metadata": {
      "needs_background": "light"
     },
     "output_type": "display_data"
    }
   ],
   "source": [
    "# Plotting accuracy, sensitivity and specificity for different probabilities.\n",
    "cutoff_df.plot('probability', ['accuracy','sensitivity','specificity'])\n",
    "plt.show()"
   ]
  },
  {
   "cell_type": "markdown",
   "metadata": {
    "id": "qCRlINh4ndvo"
   },
   "source": [
    "##### Analysis of the above curve\n",
    "Accuracy - Becomes stable around 0.6\n",
    "\n",
    "Sensitivity - Decreases with the increased probability.\n",
    "\n",
    "Specificity - Increases with the increasing probability.\n",
    "\n",
    "At point 0.6 where the three parameters cut each other, we can see that there is a balance between sensitivity and specificity with a good accuracy.\n",
    "\n",
    "Here we are intended to achieve better sensitivity than accuracy and specificity. Though as per the above curve, we should take 0.6 as the optimum probability cutoff, we are taking 0.5 for achieving higher sensitivity, which is our main goal."
   ]
  },
  {
   "cell_type": "code",
   "execution_count": 182,
   "metadata": {
    "colab": {
     "base_uri": "https://localhost:8080/",
     "height": 206
    },
    "id": "SH_EEnWBndvo",
    "outputId": "130c4a0e-dc90-4833-f4b7-a558c01ccde5"
   },
   "outputs": [
    {
     "data": {
      "text/html": [
       "<div>\n",
       "<style scoped>\n",
       "    .dataframe tbody tr th:only-of-type {\n",
       "        vertical-align: middle;\n",
       "    }\n",
       "\n",
       "    .dataframe tbody tr th {\n",
       "        vertical-align: top;\n",
       "    }\n",
       "\n",
       "    .dataframe thead th {\n",
       "        text-align: right;\n",
       "    }\n",
       "</style>\n",
       "<table border=\"1\" class=\"dataframe\">\n",
       "  <thead>\n",
       "    <tr style=\"text-align: right;\">\n",
       "      <th></th>\n",
       "      <th>churn</th>\n",
       "      <th>churn_prob</th>\n",
       "      <th>CustID</th>\n",
       "      <th>0.0</th>\n",
       "      <th>0.1</th>\n",
       "      <th>0.2</th>\n",
       "      <th>0.3</th>\n",
       "      <th>0.4</th>\n",
       "      <th>0.5</th>\n",
       "      <th>0.6</th>\n",
       "      <th>0.7</th>\n",
       "      <th>0.8</th>\n",
       "      <th>0.9</th>\n",
       "      <th>predicted</th>\n",
       "    </tr>\n",
       "  </thead>\n",
       "  <tbody>\n",
       "    <tr>\n",
       "      <th>0</th>\n",
       "      <td>0</td>\n",
       "      <td>2.320477e-01</td>\n",
       "      <td>0</td>\n",
       "      <td>1</td>\n",
       "      <td>1</td>\n",
       "      <td>1</td>\n",
       "      <td>0</td>\n",
       "      <td>0</td>\n",
       "      <td>0</td>\n",
       "      <td>0</td>\n",
       "      <td>0</td>\n",
       "      <td>0</td>\n",
       "      <td>0</td>\n",
       "      <td>0</td>\n",
       "    </tr>\n",
       "    <tr>\n",
       "      <th>1</th>\n",
       "      <td>0</td>\n",
       "      <td>8.349416e-02</td>\n",
       "      <td>1</td>\n",
       "      <td>1</td>\n",
       "      <td>0</td>\n",
       "      <td>0</td>\n",
       "      <td>0</td>\n",
       "      <td>0</td>\n",
       "      <td>0</td>\n",
       "      <td>0</td>\n",
       "      <td>0</td>\n",
       "      <td>0</td>\n",
       "      <td>0</td>\n",
       "      <td>0</td>\n",
       "    </tr>\n",
       "    <tr>\n",
       "      <th>2</th>\n",
       "      <td>0</td>\n",
       "      <td>4.156383e-02</td>\n",
       "      <td>2</td>\n",
       "      <td>1</td>\n",
       "      <td>0</td>\n",
       "      <td>0</td>\n",
       "      <td>0</td>\n",
       "      <td>0</td>\n",
       "      <td>0</td>\n",
       "      <td>0</td>\n",
       "      <td>0</td>\n",
       "      <td>0</td>\n",
       "      <td>0</td>\n",
       "      <td>0</td>\n",
       "    </tr>\n",
       "    <tr>\n",
       "      <th>3</th>\n",
       "      <td>0</td>\n",
       "      <td>5.923915e-03</td>\n",
       "      <td>3</td>\n",
       "      <td>1</td>\n",
       "      <td>0</td>\n",
       "      <td>0</td>\n",
       "      <td>0</td>\n",
       "      <td>0</td>\n",
       "      <td>0</td>\n",
       "      <td>0</td>\n",
       "      <td>0</td>\n",
       "      <td>0</td>\n",
       "      <td>0</td>\n",
       "      <td>0</td>\n",
       "    </tr>\n",
       "    <tr>\n",
       "      <th>4</th>\n",
       "      <td>0</td>\n",
       "      <td>2.416355e-19</td>\n",
       "      <td>4</td>\n",
       "      <td>1</td>\n",
       "      <td>0</td>\n",
       "      <td>0</td>\n",
       "      <td>0</td>\n",
       "      <td>0</td>\n",
       "      <td>0</td>\n",
       "      <td>0</td>\n",
       "      <td>0</td>\n",
       "      <td>0</td>\n",
       "      <td>0</td>\n",
       "      <td>0</td>\n",
       "    </tr>\n",
       "  </tbody>\n",
       "</table>\n",
       "</div>"
      ],
      "text/plain": [
       "   churn    churn_prob  CustID  0.0  0.1  0.2  0.3  0.4  0.5  0.6  0.7  0.8  \\\n",
       "0      0  2.320477e-01       0    1    1    1    0    0    0    0    0    0   \n",
       "1      0  8.349416e-02       1    1    0    0    0    0    0    0    0    0   \n",
       "2      0  4.156383e-02       2    1    0    0    0    0    0    0    0    0   \n",
       "3      0  5.923915e-03       3    1    0    0    0    0    0    0    0    0   \n",
       "4      0  2.416355e-19       4    1    0    0    0    0    0    0    0    0   \n",
       "\n",
       "   0.9  predicted  \n",
       "0    0          0  \n",
       "1    0          0  \n",
       "2    0          0  \n",
       "3    0          0  \n",
       "4    0          0  "
      ]
     },
     "execution_count": 182,
     "metadata": {},
     "output_type": "execute_result"
    }
   ],
   "source": [
    "# Creating a column with name \"predicted\", which is the predicted value for 0.5 cutoff \n",
    "y_train_pred_final['predicted'] = y_train_pred_final['churn_prob'].map(lambda x: 1 if x > 0.5 else 0)\n",
    "y_train_pred_final.head()"
   ]
  },
  {
   "cell_type": "markdown",
   "metadata": {
    "id": "pKHdgqhtndvo"
   },
   "source": [
    "##### Metrics"
   ]
  },
  {
   "cell_type": "code",
   "execution_count": 183,
   "metadata": {
    "colab": {
     "base_uri": "https://localhost:8080/"
    },
    "id": "y3RmqsyOndvo",
    "outputId": "5bbff0e7-9c47-48d4-f964-6afb0946b507"
   },
   "outputs": [
    {
     "name": "stdout",
     "output_type": "stream",
     "text": [
      "[[17254  4171]\n",
      " [ 2182 19243]]\n"
     ]
    }
   ],
   "source": [
    "# Confusion metrics\n",
    "confusion = metrics.confusion_matrix(y_train_pred_final['churn'], y_train_pred_final['predicted'])\n",
    "print(confusion)"
   ]
  },
  {
   "cell_type": "code",
   "execution_count": 184,
   "metadata": {
    "id": "VgJuRqt3ndvp"
   },
   "outputs": [],
   "source": [
    "TP = confusion[1,1] # true positive \n",
    "TN = confusion[0,0] # true negatives\n",
    "FP = confusion[0,1] # false positives\n",
    "FN = confusion[1,0] # false negatives"
   ]
  },
  {
   "cell_type": "code",
   "execution_count": 185,
   "metadata": {
    "colab": {
     "base_uri": "https://localhost:8080/"
    },
    "id": "X9-KCIhHndvp",
    "outputId": "978a0342-5f65-4b6d-8209-4ad6ac4a1177"
   },
   "outputs": [
    {
     "name": "stdout",
     "output_type": "stream",
     "text": [
      "Accuracy:- 0.8517386231038506\n",
      "Sensitivity:- 0.8981563593932322\n",
      "Specificity:- 0.8053208868144691\n"
     ]
    }
   ],
   "source": [
    "# Accuracy\n",
    "print(\"Accuracy:-\",metrics.accuracy_score(y_train_pred_final['churn'], y_train_pred_final['predicted']))\n",
    "\n",
    "# Sensitivity\n",
    "print(\"Sensitivity:-\",TP / float(TP+FN))\n",
    "\n",
    "# Specificity\n",
    "print(\"Specificity:-\", TN / float(TN+FP))\n"
   ]
  },
  {
   "cell_type": "markdown",
   "metadata": {
    "id": "dISLecm0ndvp"
   },
   "source": [
    "We have got good accuracy, sensitivity and specificity on the train set prediction."
   ]
  },
  {
   "cell_type": "markdown",
   "metadata": {
    "id": "4Kjx98xLndvp"
   },
   "source": [
    "##### Plotting the ROC Curve (Trade off between sensitivity & specificity)"
   ]
  },
  {
   "cell_type": "code",
   "execution_count": 186,
   "metadata": {
    "id": "ckteJ3jxndvp"
   },
   "outputs": [],
   "source": [
    "# ROC Curve function\n",
    "\n",
    "def draw_roc( actual, probs ):\n",
    "    fpr, tpr, thresholds = metrics.roc_curve( actual, probs,\n",
    "                                              drop_intermediate = False )\n",
    "    auc_score = metrics.roc_auc_score( actual, probs )\n",
    "    plt.figure(figsize=(5, 5))\n",
    "    plt.plot( fpr, tpr, label='ROC curve (area = %0.2f)' % auc_score )\n",
    "    plt.plot([0, 1], [0, 1], 'k--')\n",
    "    plt.xlim([0.0, 1.0])\n",
    "    plt.ylim([0.0, 1.05])\n",
    "    plt.xlabel('False Positive Rate or [1 - True Negative Rate]')\n",
    "    plt.ylabel('True Positive Rate')\n",
    "    plt.title('Receiver operating characteristic example')\n",
    "    plt.legend(loc=\"lower right\")\n",
    "    plt.show()\n",
    "\n",
    "    return None"
   ]
  },
  {
   "cell_type": "code",
   "execution_count": 187,
   "metadata": {
    "colab": {
     "base_uri": "https://localhost:8080/",
     "height": 487
    },
    "id": "5ftwxsJAndvp",
    "outputId": "bcc0699c-41ec-4584-d13d-fad29509ef8e"
   },
   "outputs": [
    {
     "data": {
      "image/png": "[encoded data removed]",
      "text/plain": [
       "<Figure size 360x360 with 1 Axes>"
      ]
     },
     "metadata": {
      "needs_background": "light"
     },
     "output_type": "display_data"
    }
   ],
   "source": [
    "draw_roc(y_train_pred_final['churn'], y_train_pred_final['churn_prob'])"
   ]
  },
  {
   "cell_type": "markdown",
   "metadata": {
    "id": "2rMrHCiyndvp"
   },
   "source": [
    "We can see the area of the ROC curve is closer to 1, whic is the Gini of the model."
   ]
  },
  {
   "cell_type": "markdown",
   "metadata": {
    "id": "Y8o0Bfklndvp"
   },
   "source": [
    "### Testing the model on the test set"
   ]
  },
  {
   "cell_type": "code",
   "execution_count": 188,
   "metadata": {
    "id": "BtjTrP5Undvp"
   },
   "outputs": [],
   "source": [
    "# Taking a copy of the test set\n",
    "X_test_log = X_test.copy()"
   ]
  },
  {
   "cell_type": "code",
   "execution_count": 189,
   "metadata": {
    "id": "5Dw2q1cNndvq"
   },
   "outputs": [],
   "source": [
    "# Taking only the columns, which are selected in the train set after removing insignificant and multicollinear variables\n",
    "X_test_log = X_test_log[log_cols]"
   ]
  },
  {
   "cell_type": "code",
   "execution_count": 190,
   "metadata": {
    "id": "xsvZptN8ndvq"
   },
   "outputs": [],
   "source": [
    "# Adding constant on the test set\n",
    "X_test_sm = sm.add_constant(X_test_log)"
   ]
  },
  {
   "cell_type": "markdown",
   "metadata": {
    "id": "Mj-dd5hlndvq"
   },
   "source": [
    "##### Predictions on the test set with final model"
   ]
  },
  {
   "cell_type": "code",
   "execution_count": 191,
   "metadata": {
    "id": "w0a-v14Lndvq"
   },
   "outputs": [],
   "source": [
    "# Predict on the test set\n",
    "y_test_pred = log_no_pca_3.predict(X_test_sm)"
   ]
  },
  {
   "cell_type": "code",
   "execution_count": 192,
   "metadata": {
    "colab": {
     "base_uri": "https://localhost:8080/"
    },
    "id": "a3pCNwwdndvq",
    "outputId": "1c84ea6f-0d07-44c5-f6b2-27a4753e76d8"
   },
   "outputs": [
    {
     "data": {
      "text/plain": [
       "5704     0.043010\n",
       "64892    0.001211\n",
       "39613    0.004540\n",
       "93118    0.082659\n",
       "81235    0.047661\n",
       "dtype: float64"
      ]
     },
     "execution_count": 192,
     "metadata": {},
     "output_type": "execute_result"
    }
   ],
   "source": [
    "y_test_pred.head()"
   ]
  },
  {
   "cell_type": "code",
   "execution_count": 193,
   "metadata": {
    "colab": {
     "base_uri": "https://localhost:8080/",
     "height": 206
    },
    "id": "Az6Lz78dndvq",
    "outputId": "86b91cc2-9be1-4109-bed4-9e649b3f9eb0"
   },
   "outputs": [
    {
     "data": {
      "text/html": [
       "<div>\n",
       "<style scoped>\n",
       "    .dataframe tbody tr th:only-of-type {\n",
       "        vertical-align: middle;\n",
       "    }\n",
       "\n",
       "    .dataframe tbody tr th {\n",
       "        vertical-align: top;\n",
       "    }\n",
       "\n",
       "    .dataframe thead th {\n",
       "        text-align: right;\n",
       "    }\n",
       "</style>\n",
       "<table border=\"1\" class=\"dataframe\">\n",
       "  <thead>\n",
       "    <tr style=\"text-align: right;\">\n",
       "      <th></th>\n",
       "      <th>0</th>\n",
       "    </tr>\n",
       "  </thead>\n",
       "  <tbody>\n",
       "    <tr>\n",
       "      <th>5704</th>\n",
       "      <td>0.043010</td>\n",
       "    </tr>\n",
       "    <tr>\n",
       "      <th>64892</th>\n",
       "      <td>0.001211</td>\n",
       "    </tr>\n",
       "    <tr>\n",
       "      <th>39613</th>\n",
       "      <td>0.004540</td>\n",
       "    </tr>\n",
       "    <tr>\n",
       "      <th>93118</th>\n",
       "      <td>0.082659</td>\n",
       "    </tr>\n",
       "    <tr>\n",
       "      <th>81235</th>\n",
       "      <td>0.047661</td>\n",
       "    </tr>\n",
       "  </tbody>\n",
       "</table>\n",
       "</div>"
      ],
      "text/plain": [
       "              0\n",
       "5704   0.043010\n",
       "64892  0.001211\n",
       "39613  0.004540\n",
       "93118  0.082659\n",
       "81235  0.047661"
      ]
     },
     "execution_count": 193,
     "metadata": {},
     "output_type": "execute_result"
    }
   ],
   "source": [
    "# Converting y_test_pred to a dataframe because y_test_pred is an array\n",
    "y_pred_1 = pd.DataFrame(y_test_pred)\n",
    "y_pred_1.head()"
   ]
  },
  {
   "cell_type": "code",
   "execution_count": 194,
   "metadata": {
    "colab": {
     "base_uri": "https://localhost:8080/",
     "height": 206
    },
    "id": "-W-JRg1fndvq",
    "outputId": "18872784-d80e-4c9e-bf23-fbc27413866b"
   },
   "outputs": [
    {
     "data": {
      "text/html": [
       "<div>\n",
       "<style scoped>\n",
       "    .dataframe tbody tr th:only-of-type {\n",
       "        vertical-align: middle;\n",
       "    }\n",
       "\n",
       "    .dataframe tbody tr th {\n",
       "        vertical-align: top;\n",
       "    }\n",
       "\n",
       "    .dataframe thead th {\n",
       "        text-align: right;\n",
       "    }\n",
       "</style>\n",
       "<table border=\"1\" class=\"dataframe\">\n",
       "  <thead>\n",
       "    <tr style=\"text-align: right;\">\n",
       "      <th></th>\n",
       "      <th>churn</th>\n",
       "    </tr>\n",
       "  </thead>\n",
       "  <tbody>\n",
       "    <tr>\n",
       "      <th>5704</th>\n",
       "      <td>0</td>\n",
       "    </tr>\n",
       "    <tr>\n",
       "      <th>64892</th>\n",
       "      <td>0</td>\n",
       "    </tr>\n",
       "    <tr>\n",
       "      <th>39613</th>\n",
       "      <td>0</td>\n",
       "    </tr>\n",
       "    <tr>\n",
       "      <th>93118</th>\n",
       "      <td>0</td>\n",
       "    </tr>\n",
       "    <tr>\n",
       "      <th>81235</th>\n",
       "      <td>0</td>\n",
       "    </tr>\n",
       "  </tbody>\n",
       "</table>\n",
       "</div>"
      ],
      "text/plain": [
       "       churn\n",
       "5704       0\n",
       "64892      0\n",
       "39613      0\n",
       "93118      0\n",
       "81235      0"
      ]
     },
     "execution_count": 194,
     "metadata": {},
     "output_type": "execute_result"
    }
   ],
   "source": [
    "# Convetting y_test to a dataframe\n",
    "y_test_df = pd.DataFrame(y_test)\n",
    "y_test_df.head()"
   ]
  },
  {
   "cell_type": "code",
   "execution_count": 195,
   "metadata": {
    "id": "w69u778Mndvq"
   },
   "outputs": [],
   "source": [
    "# Putting index to Customer ID \n",
    "y_test_df['CustID'] = y_test_df.index"
   ]
  },
  {
   "cell_type": "code",
   "execution_count": 196,
   "metadata": {
    "id": "E11zE68Endvq"
   },
   "outputs": [],
   "source": [
    "# Removing index form the both dataframes for merging them side by side\n",
    "y_pred_1.reset_index(drop=True, inplace=True)\n",
    "y_test_df.reset_index(drop=True, inplace=True)"
   ]
  },
  {
   "cell_type": "code",
   "execution_count": 197,
   "metadata": {
    "id": "goPsdqvwndvq"
   },
   "outputs": [],
   "source": [
    "# Appending y_pred_1 and y_test_df\n",
    "y_test_pred_final = pd.concat([y_test_df, y_pred_1], axis=1)"
   ]
  },
  {
   "cell_type": "code",
   "execution_count": 198,
   "metadata": {
    "colab": {
     "base_uri": "https://localhost:8080/",
     "height": 206
    },
    "id": "kwNW-FrSndvr",
    "outputId": "51008395-44dd-480f-bef4-10328a4ab29a"
   },
   "outputs": [
    {
     "data": {
      "text/html": [
       "<div>\n",
       "<style scoped>\n",
       "    .dataframe tbody tr th:only-of-type {\n",
       "        vertical-align: middle;\n",
       "    }\n",
       "\n",
       "    .dataframe tbody tr th {\n",
       "        vertical-align: top;\n",
       "    }\n",
       "\n",
       "    .dataframe thead th {\n",
       "        text-align: right;\n",
       "    }\n",
       "</style>\n",
       "<table border=\"1\" class=\"dataframe\">\n",
       "  <thead>\n",
       "    <tr style=\"text-align: right;\">\n",
       "      <th></th>\n",
       "      <th>churn</th>\n",
       "      <th>CustID</th>\n",
       "      <th>0</th>\n",
       "    </tr>\n",
       "  </thead>\n",
       "  <tbody>\n",
       "    <tr>\n",
       "      <th>0</th>\n",
       "      <td>0</td>\n",
       "      <td>5704</td>\n",
       "      <td>0.043010</td>\n",
       "    </tr>\n",
       "    <tr>\n",
       "      <th>1</th>\n",
       "      <td>0</td>\n",
       "      <td>64892</td>\n",
       "      <td>0.001211</td>\n",
       "    </tr>\n",
       "    <tr>\n",
       "      <th>2</th>\n",
       "      <td>0</td>\n",
       "      <td>39613</td>\n",
       "      <td>0.004540</td>\n",
       "    </tr>\n",
       "    <tr>\n",
       "      <th>3</th>\n",
       "      <td>0</td>\n",
       "      <td>93118</td>\n",
       "      <td>0.082659</td>\n",
       "    </tr>\n",
       "    <tr>\n",
       "      <th>4</th>\n",
       "      <td>0</td>\n",
       "      <td>81235</td>\n",
       "      <td>0.047661</td>\n",
       "    </tr>\n",
       "  </tbody>\n",
       "</table>\n",
       "</div>"
      ],
      "text/plain": [
       "   churn  CustID         0\n",
       "0      0    5704  0.043010\n",
       "1      0   64892  0.001211\n",
       "2      0   39613  0.004540\n",
       "3      0   93118  0.082659\n",
       "4      0   81235  0.047661"
      ]
     },
     "execution_count": 198,
     "metadata": {},
     "output_type": "execute_result"
    }
   ],
   "source": [
    "y_test_pred_final.head()"
   ]
  },
  {
   "cell_type": "code",
   "execution_count": 199,
   "metadata": {
    "id": "SRKrRIP_ndvr"
   },
   "outputs": [],
   "source": [
    "# Renaming the '0' column as churn probablity\n",
    "y_test_pred_final = y_test_pred_final.rename(columns={0:'churn_prob'})"
   ]
  },
  {
   "cell_type": "code",
   "execution_count": 200,
   "metadata": {
    "id": "eH-vkHt7ndvr"
   },
   "outputs": [],
   "source": [
    "# Rearranging the columns\n",
    "y_test_pred_final = y_test_pred_final.reindex(['CustID','churn','churn_prob'], axis=1)"
   ]
  },
  {
   "cell_type": "code",
   "execution_count": 201,
   "metadata": {
    "colab": {
     "base_uri": "https://localhost:8080/",
     "height": 206
    },
    "id": "M7dQkmq3ndvr",
    "outputId": "5fc5e9bf-0fcc-4c2e-b24c-44a757eadbc2"
   },
   "outputs": [
    {
     "data": {
      "text/html": [
       "<div>\n",
       "<style scoped>\n",
       "    .dataframe tbody tr th:only-of-type {\n",
       "        vertical-align: middle;\n",
       "    }\n",
       "\n",
       "    .dataframe tbody tr th {\n",
       "        vertical-align: top;\n",
       "    }\n",
       "\n",
       "    .dataframe thead th {\n",
       "        text-align: right;\n",
       "    }\n",
       "</style>\n",
       "<table border=\"1\" class=\"dataframe\">\n",
       "  <thead>\n",
       "    <tr style=\"text-align: right;\">\n",
       "      <th></th>\n",
       "      <th>CustID</th>\n",
       "      <th>churn</th>\n",
       "      <th>churn_prob</th>\n",
       "    </tr>\n",
       "  </thead>\n",
       "  <tbody>\n",
       "    <tr>\n",
       "      <th>0</th>\n",
       "      <td>5704</td>\n",
       "      <td>0</td>\n",
       "      <td>0.043010</td>\n",
       "    </tr>\n",
       "    <tr>\n",
       "      <th>1</th>\n",
       "      <td>64892</td>\n",
       "      <td>0</td>\n",
       "      <td>0.001211</td>\n",
       "    </tr>\n",
       "    <tr>\n",
       "      <th>2</th>\n",
       "      <td>39613</td>\n",
       "      <td>0</td>\n",
       "      <td>0.004540</td>\n",
       "    </tr>\n",
       "    <tr>\n",
       "      <th>3</th>\n",
       "      <td>93118</td>\n",
       "      <td>0</td>\n",
       "      <td>0.082659</td>\n",
       "    </tr>\n",
       "    <tr>\n",
       "      <th>4</th>\n",
       "      <td>81235</td>\n",
       "      <td>0</td>\n",
       "      <td>0.047661</td>\n",
       "    </tr>\n",
       "  </tbody>\n",
       "</table>\n",
       "</div>"
      ],
      "text/plain": [
       "   CustID  churn  churn_prob\n",
       "0    5704      0    0.043010\n",
       "1   64892      0    0.001211\n",
       "2   39613      0    0.004540\n",
       "3   93118      0    0.082659\n",
       "4   81235      0    0.047661"
      ]
     },
     "execution_count": 201,
     "metadata": {},
     "output_type": "execute_result"
    }
   ],
   "source": [
    "y_test_pred_final.head()"
   ]
  },
  {
   "cell_type": "code",
   "execution_count": 202,
   "metadata": {
    "id": "QnrUhZ55ndvr"
   },
   "outputs": [],
   "source": [
    "# In the test set using probablity cutoff 0.5, what we got in the train set \n",
    "y_test_pred_final['test_predicted'] = y_test_pred_final['churn_prob'].map(lambda x: 1 if x > 0.5 else 0)"
   ]
  },
  {
   "cell_type": "code",
   "execution_count": 203,
   "metadata": {
    "colab": {
     "base_uri": "https://localhost:8080/",
     "height": 206
    },
    "id": "M3q6Bk93ndvr",
    "outputId": "6cab245d-3651-49d5-d2e1-1c4964881ff2"
   },
   "outputs": [
    {
     "data": {
      "text/html": [
       "<div>\n",
       "<style scoped>\n",
       "    .dataframe tbody tr th:only-of-type {\n",
       "        vertical-align: middle;\n",
       "    }\n",
       "\n",
       "    .dataframe tbody tr th {\n",
       "        vertical-align: top;\n",
       "    }\n",
       "\n",
       "    .dataframe thead th {\n",
       "        text-align: right;\n",
       "    }\n",
       "</style>\n",
       "<table border=\"1\" class=\"dataframe\">\n",
       "  <thead>\n",
       "    <tr style=\"text-align: right;\">\n",
       "      <th></th>\n",
       "      <th>CustID</th>\n",
       "      <th>churn</th>\n",
       "      <th>churn_prob</th>\n",
       "      <th>test_predicted</th>\n",
       "    </tr>\n",
       "  </thead>\n",
       "  <tbody>\n",
       "    <tr>\n",
       "      <th>0</th>\n",
       "      <td>5704</td>\n",
       "      <td>0</td>\n",
       "      <td>0.043010</td>\n",
       "      <td>0</td>\n",
       "    </tr>\n",
       "    <tr>\n",
       "      <th>1</th>\n",
       "      <td>64892</td>\n",
       "      <td>0</td>\n",
       "      <td>0.001211</td>\n",
       "      <td>0</td>\n",
       "    </tr>\n",
       "    <tr>\n",
       "      <th>2</th>\n",
       "      <td>39613</td>\n",
       "      <td>0</td>\n",
       "      <td>0.004540</td>\n",
       "      <td>0</td>\n",
       "    </tr>\n",
       "    <tr>\n",
       "      <th>3</th>\n",
       "      <td>93118</td>\n",
       "      <td>0</td>\n",
       "      <td>0.082659</td>\n",
       "      <td>0</td>\n",
       "    </tr>\n",
       "    <tr>\n",
       "      <th>4</th>\n",
       "      <td>81235</td>\n",
       "      <td>0</td>\n",
       "      <td>0.047661</td>\n",
       "      <td>0</td>\n",
       "    </tr>\n",
       "  </tbody>\n",
       "</table>\n",
       "</div>"
      ],
      "text/plain": [
       "   CustID  churn  churn_prob  test_predicted\n",
       "0    5704      0    0.043010               0\n",
       "1   64892      0    0.001211               0\n",
       "2   39613      0    0.004540               0\n",
       "3   93118      0    0.082659               0\n",
       "4   81235      0    0.047661               0"
      ]
     },
     "execution_count": 203,
     "metadata": {},
     "output_type": "execute_result"
    }
   ],
   "source": [
    "y_test_pred_final.head()"
   ]
  },
  {
   "cell_type": "markdown",
   "metadata": {
    "id": "lO3tlShwndvr"
   },
   "source": [
    "##### Metrics"
   ]
  },
  {
   "cell_type": "code",
   "execution_count": 204,
   "metadata": {
    "colab": {
     "base_uri": "https://localhost:8080/"
    },
    "id": "MAHPAykDndvr",
    "outputId": "c46b9ae3-e97f-43f6-b834-1d2e648fe93c"
   },
   "outputs": [
    {
     "name": "stdout",
     "output_type": "stream",
     "text": [
      "[[4271 1077]\n",
      " [  34  159]]\n"
     ]
    }
   ],
   "source": [
    "# Confusion matrix\n",
    "confusion = metrics.confusion_matrix(y_test_pred_final['churn'], y_test_pred_final['test_predicted'])\n",
    "print(confusion)"
   ]
  },
  {
   "cell_type": "code",
   "execution_count": 205,
   "metadata": {
    "id": "IohFlmkLndvr"
   },
   "outputs": [],
   "source": [
    "TP = confusion[1,1] # true positive \n",
    "TN = confusion[0,0] # true negatives\n",
    "FP = confusion[0,1] # false positives\n",
    "FN = confusion[1,0] # false negatives"
   ]
  },
  {
   "cell_type": "code",
   "execution_count": 206,
   "metadata": {
    "colab": {
     "base_uri": "https://localhost:8080/"
    },
    "id": "zVU6YOpDndvr",
    "outputId": "2e155379-07b1-4197-f869-55b675d2af58"
   },
   "outputs": [
    {
     "name": "stdout",
     "output_type": "stream",
     "text": [
      "Accuracy:- 0.7994946760512542\n",
      "Sensitivity:- 0.8238341968911918\n",
      "Specificity:- 0.7986163051608077\n"
     ]
    }
   ],
   "source": [
    "# Accuracy\n",
    "print(\"Accuracy:-\",metrics.accuracy_score(y_test_pred_final['churn'], y_test_pred_final['test_predicted']))\n",
    "\n",
    "# Sensitivity\n",
    "print(\"Sensitivity:-\",TP / float(TP+FN))\n",
    "\n",
    "# Specificity\n",
    "print(\"Specificity:-\", TN / float(TN+FP))\n"
   ]
  },
  {
   "cell_type": "markdown",
   "metadata": {
    "id": "h6FYAqGHndvs"
   },
   "source": [
    "***Model summary***\n",
    "\n",
    "- Train set\n",
    "    - Accuracy = 0.85\n",
    "    - Sensitivity = 0.89\n",
    "    - Specificity = 0.81\n",
    "- Test set\n",
    "    - Accuracy = 0.82\n",
    "    - Sensitivity = 0.83\n",
    "    - Specificity = 0.82\n",
    "    \n",
    "Overall, the model is performing well in the test set, what it had learnt from the train set."
   ]
  },
  {
   "cell_type": "markdown",
   "metadata": {
    "id": "j6sX9KhDndvs"
   },
   "source": [
    "#### Final conclusion with no PCA\n",
    "\n",
    "We can see that the logistic model with no PCA has good sensitivity and accuracy, which are comparable to the models with PCA. So, we can go for the more simplistic model such as logistic regression with PCA as it explains the important predictor variables as well as the significance of each variable. The model also helps us to identify the variables which should be act upon for making the decision of the to be churned customers. Hence, the model is more relevant in terms of explaining to the business."
   ]
  },
  {
   "cell_type": "markdown",
   "metadata": {
    "id": "PNPWZY7Vndvs"
   },
   "source": [
    "## Business recommendation"
   ]
  },
  {
   "cell_type": "markdown",
   "metadata": {
    "id": "8dMcRfRmndvs"
   },
   "source": [
    "#### Top predictors\n",
    "\n",
    "Below are few top variables selected in the logistic regression model.\n",
    "\n",
    "![image.png](data:image/png;base64,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)\n",
    "\n",
    "We can see most of the top variables have negative coefficients. That means, the variables are inversely correlated with the churn probability.\n",
    "\n",
    "E.g.:- \n",
    "\n",
    "If the total incoming minutes of usage (total_ic_mou_8) is lesser in the month of August than any other month, then there is a higher chance that the customer is likely to churn.\n",
    "\n",
    "***Recomendations***\n",
    "\n",
    "1. Target the customers, whose minutes of usage of the incoming local calls and outgoing ISD calls are less in the action phase (mostly in the month of August).\n",
    "2. Target the customers, whose outgoing others charge in July and incoming others on August are less.\n",
    "3. Also, the customers having value based cost in the action phase increased are more likely to churn than the other customers. Hence, these customers may be a good target to provide offer.\n",
    "4. Customers having decreasing local incoming minutes of usage for operators T to fixed lines of T for the month of August are more likely to churn.\n",
    "5. Customers decreasing monthly 3g usage for August are most probable to churn.\n",
    "6. Customers having decreasing incoming minutes of usage for operators T to fixed lines of T for August are more likely to churn.\n",
    "7. roam_og_mou_8 variables have positive coefficients (2.1247). That means for the customers, whose roaming outgoing minutes of usage is increasing are more likely to churn.\n"
   ]
  },
  {
   "cell_type": "markdown",
   "metadata": {
    "id": "XFT1yk4xndvs"
   },
   "source": [
    "#### Plots of important predictors for churn and non churn customers"
   ]
  },
  {
   "cell_type": "code",
   "execution_count": 207,
   "metadata": {
    "colab": {
     "base_uri": "https://localhost:8080/",
     "height": 542
    },
    "id": "ugo72gC4ndvs",
    "outputId": "b2ad690e-5bac-439c-e2d9-e6ee038a5c7b"
   },
   "outputs": [
    {
     "data": {
      "image/png": "[encoded data removed]",
      "text/plain": [
       "<Figure size 720x432 with 1 Axes>"
      ]
     },
     "metadata": {
      "needs_background": "light"
     },
     "output_type": "display_data"
    }
   ],
   "source": [
    "# Plotting loc_ic_mou_8 predictor for churn and not churn customers\n",
    "fig = plt.figure(figsize=(10,6))\n",
    "sns.distplot(data_churn['loc_ic_mou_8'],label='churn',hist=False)\n",
    "sns.distplot(data_non_churn['loc_ic_mou_8'],label='not churn',hist=False)\n",
    "plt.show()"
   ]
  },
  {
   "cell_type": "markdown",
   "metadata": {
    "id": "1ihqW5wendvs"
   },
   "source": [
    "We can see that for the churn customers the minutes of usage for the month of August is mostly populated on the lower side than the non churn customers."
   ]
  },
  {
   "cell_type": "code",
   "execution_count": 208,
   "metadata": {
    "colab": {
     "base_uri": "https://localhost:8080/",
     "height": 542
    },
    "id": "HMlgPB59ndvs",
    "outputId": "f45c67ea-56a8-4924-f28a-f2f312a1431b"
   },
   "outputs": [
    {
     "data": {
      "image/png": "[encoded data removed]",
      "text/plain": [
       "<Figure size 720x432 with 1 Axes>"
      ]
     },
     "metadata": {
      "needs_background": "light"
     },
     "output_type": "display_data"
    }
   ],
   "source": [
    "# Plotting isd_og_mou_8 predictor for churn and not churn customers\n",
    "fig = plt.figure(figsize=(10,6))\n",
    "sns.distplot(data_churn['isd_og_mou_8'],label='churn',hist=False)\n",
    "sns.distplot(data_non_churn['isd_og_mou_8'],label='not churn',hist=False)\n",
    "plt.show()"
   ]
  },
  {
   "cell_type": "markdown",
   "metadata": {
    "id": "yZ-OHhwcndvs"
   },
   "source": [
    "We can see that the ISD outgoing minutes of usage for the month of August for churn customers is densed approximately to zero. On the onther hand for the non churn customers it is little more than the churn customers."
   ]
  }
 ],
 "metadata": {
  "colab": {
   "provenance": []
  },
  "hide_input": false,
  "kernelspec": {
   "display_name": "Python 3 (ipykernel)",
   "language": "python",
   "name": "python3"
  },
  "language_info": {
   "codemirror_mode": {
    "name": "ipython",
    "version": 3
   },
   "file_extension": ".py",
   "mimetype": "text/x-python",
   "name": "python",
   "nbconvert_exporter": "python",
   "pygments_lexer": "ipython3",
   "version": "3.9.12"
  }
 },
 "nbformat": 4,
 "nbformat_minor": 1
}
